{
 "cells": [
  {
   "cell_type": "markdown",
   "metadata": {},
   "source": [
    "<div style=\"font-weight: bold; color:#5D8AA8\" align=\"center\">\n",
    "    <div style=\"font-size: xx-large\">Computación Numérica</div><br>\n",
    "    <div style=\"font-size: x-large; color:gray\">Práctica 1</div><br>\n",
    "    <div style=\"font-size: large\">María Barroso - Gloria del Valle</div><br></div><hr>\n",
    "</div>"
   ]
  },
  {
   "cell_type": "markdown",
   "metadata": {},
   "source": [
    "**Configuración inicial**"
   ]
  },
  {
   "cell_type": "code",
   "execution_count": 41,
   "metadata": {},
   "outputs": [
    {
     "data": {
      "text/html": [
       "<style>\n",
       "    .qst {background-color: #b1cee3; padding:10px; border-radius: 5px; border: solid 2px #5D8AA8;}\n",
       "    .qst:before {font-weight: bold; content:\"\"; display: block; margin: 0px 10px 10px 10px;}\n",
       "    h1, h2, h3 {color: #5D8AA8;}\n",
       "    .text_cell_render p {text-align: justify; text-justify: inter-word;}\n",
       "</style>\n"
      ],
      "text/plain": [
       "<IPython.core.display.HTML object>"
      ]
     },
     "metadata": {},
     "output_type": "display_data"
    }
   ],
   "source": [
    "%%html\n",
    "<style>\n",
    "    .qst {background-color: #b1cee3; padding:10px; border-radius: 5px; border: solid 2px #5D8AA8;}\n",
    "    .qst:before {font-weight: bold; content:\"\"; display: block; margin: 0px 10px 10px 10px;}\n",
    "    h1, h2, h3 {color: #5D8AA8;}\n",
    "    .text_cell_render p {text-align: justify; text-justify: inter-word;}\n",
    "</style>"
   ]
  },
  {
   "cell_type": "code",
   "execution_count": 42,
   "metadata": {},
   "outputs": [
    {
     "name": "stdout",
     "output_type": "stream",
     "text": [
      "The autoreload extension is already loaded. To reload it, use:\n",
      "  %reload_ext autoreload\n"
     ]
    }
   ],
   "source": [
    "%matplotlib inline\n",
    "%load_ext autoreload\n",
    "%autoreload 2"
   ]
  },
  {
   "cell_type": "markdown",
   "metadata": {},
   "source": [
    "Importamos los paquetes utilizados"
   ]
  },
  {
   "cell_type": "code",
   "execution_count": 43,
   "metadata": {},
   "outputs": [],
   "source": [
    "import matplotlib.pyplot as plt\n",
    "import numpy as np\n",
    "import sys"
   ]
  },
  {
   "cell_type": "markdown",
   "metadata": {
    "id": "jXmvpjVNK8VK"
   },
   "source": [
    "# Apartado 1. Errores"
   ]
  },
  {
   "cell_type": "markdown",
   "metadata": {},
   "source": [
    "## Cuestiones teóricas"
   ]
  },
  {
   "cell_type": "markdown",
   "metadata": {
    "id": "PabQpgaD5HYE"
   },
   "source": [
    "<div class=\"qst\">\n",
    "Dado que el redondeo en base 10 de la suma o producto de dos números es ∓0,5 ∗ $\\epsilon$, donde $\\epsilon$ es el valor la última cifra significativa y que el dígito eliminado es aleatorio ¿podemos suponer que el redondeo es una variable aleatoria uniforme?\n",
    "</div>\n",
    "\n",
    "Podemos suponer que el redondeo es una variable aleatoria uniforme ya que el dígito eliminado es aleatorio.\n",
    "\n",
    "<div class=\"qst\">\n",
    "Si dibujo la gráfica de función de densidad del error por redondeo ¿Como debería ser dicha gráfica?\n",
    "</div>\n",
    "\n",
    "La gráfica debería ser una nube de puntos alrededor de $\\{y=0\\}$ ya que el error puede ser por exceso y por defecto.\n",
    "\n",
    "<div class=\"qst\">\n",
    "    Si asumimos que el error de redondeo es una variable aleatoria uniforme entre −0,5 ∗ $\\epsilon$ y +0,5 ∗ $\\epsilon$ ¿Cuál debería ser error absoluto promedio de la suma (o el producto) de un número elevado de números en coma flotante?, da una respuesta razonada.\n",
    "</div>\n",
    "\n",
    "\n",
    "El error absoluto de la suma de dos números y el error absoluto del producto de dos números coincide y es igual a la suma de los errores absolutos de cada operando. Por otro lado, la esperanza de la suma de errores absolutos es igual a la suma de las esperanzas de cada error absoluto. Como el error absoluto esperado es igual a 0, concluimos que el error absoluto promedio buscado es igual a 0. \n",
    "\n"
   ]
  },
  {
   "cell_type": "markdown",
   "metadata": {
    "id": "mxQRkyB99pAy"
   },
   "source": [
    "##  Ejercicio 1"
   ]
  },
  {
   "cell_type": "markdown",
   "metadata": {},
   "source": [
    "Definimos una función que represente para cada $i$, cada valor $y_i=f(x_i)$."
   ]
  },
  {
   "cell_type": "code",
   "execution_count": 44,
   "metadata": {},
   "outputs": [],
   "source": [
    "def plot_ejercicio_1(i,y,xlim,ylim):\n",
    "    plt.plot(i,y,'b.')\n",
    "    plt.ylim(xlim,ylim)\n",
    "    plt.xlabel('x', fontsize=12)\n",
    "    plt.ylabel('f(x)', fontsize=12)\n",
    "    plt.show()"
   ]
  },
  {
   "cell_type": "markdown",
   "metadata": {
    "id": "M-aCJANA91aW"
   },
   "source": [
    "### Apartado a)\n",
    "\n",
    "En este apartado se evalúa la función $f(x) = \\frac{4x^4-59x^3+324x^2-751x+622}{x^4 - 14x^3 + 72x^2 - 151x +112}$ para $x=1.606 + 2^{-52}i$ con $i=\\{0,1,...800\\}$.\n",
    "\n",
    "*Observación:* los valores $x$ utilizados para evaluar la función son valores cercanos a $x\\approx1.606$ ya que el incremento utlizado $2^{-56}$ es el valor épsilon de nuestra máquina."
   ]
  },
  {
   "cell_type": "code",
   "execution_count": 45,
   "metadata": {
    "colab": {
     "base_uri": "https://localhost:8080/"
    },
    "id": "Pju5Y_oakQYd",
    "outputId": "ddef41d4-c9bf-4139-d7ad-c4f8389e1852"
   },
   "outputs": [
    {
     "name": "stdout",
     "output_type": "stream",
     "text": [
      "Incremento: 2.220446049250313e-16\n",
      "Épsilon: 2.220446049250313e-16\n"
     ]
    }
   ],
   "source": [
    "print('Incremento:',2**-52)\n",
    "print('Épsilon:', sys.float_info.epsilon)"
   ]
  },
  {
   "cell_type": "code",
   "execution_count": 46,
   "metadata": {
    "id": "Qa3fPQPW5HYG"
   },
   "outputs": [],
   "source": [
    "i = range(801)\n",
    "X = [1.606 + r*2**(-52) for r in i]"
   ]
  },
  {
   "cell_type": "code",
   "execution_count": 47,
   "metadata": {
    "colab": {
     "base_uri": "https://localhost:8080/",
     "height": 314
    },
    "id": "qdN7Cllz5HYG",
    "outputId": "150c1cf3-270e-4a20-e2ea-dbd30374ab69"
   },
   "outputs": [
    {
     "data": {
      "image/png": "[encoded data removed]",
      "text/plain": [
       "<Figure size 432x288 with 1 Axes>"
      ]
     },
     "metadata": {
      "needs_background": "light"
     },
     "output_type": "display_data"
    }
   ],
   "source": [
    "f_a = lambda x: (4*x**4-59*x**3+324*x**2-751*x+622)/(x**4-14*x**3+72*x**2-151*x+112)\n",
    "y_a = [f_a(x) for x in X]\n",
    "\n",
    "plot_ejercicio_1(i,y_a,8.7523765807784,8.7523765807786)"
   ]
  },
  {
   "cell_type": "markdown",
   "metadata": {
    "id": "fN9B5o9I_NEZ"
   },
   "source": [
    "<div class=\"qst\">\n",
    "¿Sale una figura continua? ¿Por qué? ¿Puedes explicar el patrón que sale? ¿Qué\n",
    "consecuencias puedes sacar sobre el redondeo?\n",
    "</div>\n",
    "\n",
    "\n",
    "A pesar de que debería salir una figura continua ya que la función es continua (el denominador no se anula en ningún punto), la figura que se muestra no es continua sino que tiene saltos discretos. Esto nos lleva a pensar que la distribución empírica del error por redondeo no es uniforme y parece que los errores se van acumulando generando grandes variaciones respecto al valor real de la función."
   ]
  },
  {
   "cell_type": "markdown",
   "metadata": {
    "id": "1CZWEawBBVi8"
   },
   "source": [
    "### Apartado b)\n",
    "\n",
    "En este apartado se evalúa la función $f(x) = \\frac{622 + x(-751 + x(324 +x(-59 +4x)))}{112 + x(-151 + x(72 + x(-14 + x)))}$ para los mismos valores de $x$ del apartado anterior.\n"
   ]
  },
  {
   "cell_type": "code",
   "execution_count": 48,
   "metadata": {
    "colab": {
     "base_uri": "https://localhost:8080/",
     "height": 314
    },
    "id": "aDrsxBOa5HYI",
    "outputId": "ab9af58c-d8cc-4dde-d327-23422ac6ae84"
   },
   "outputs": [
    {
     "data": {
      "image/png": "[encoded data removed]",
      "text/plain": [
       "<Figure size 432x288 with 1 Axes>"
      ]
     },
     "metadata": {
      "needs_background": "light"
     },
     "output_type": "display_data"
    }
   ],
   "source": [
    "f_b = lambda x : (622 + x * (-751 + x * (324 + x * (-59 + 4 * x))))/(112 + x * (-151 + x * (72 + x * (-14 + x))))\n",
    "y_b = [f_b(x) for x in X]\n",
    "\n",
    "plot_ejercicio_1(i,y_b,8.7523765807784,8.7523765807786)"
   ]
  },
  {
   "cell_type": "markdown",
   "metadata": {
    "id": "CYBJlgwACWv_"
   },
   "source": [
    "<div class=\"qst\">\n",
    "    \n",
    "¿Observas alguna diferencia con la gráfica anterior?\n",
    "    \n",
    "</div>\n",
    "\n",
    "En este caso el patrón es el mismo pero la varianza de la distribución del error por redondeo es menor. Esto se debe a que en esta función se realizan menos operaciones y por tanto, se acumula menos error de redondeo."
   ]
  },
  {
   "cell_type": "markdown",
   "metadata": {
    "id": "mBwZoWzrwvau"
   },
   "source": [
    "### Apartado c)\n",
    "\n",
    "En este apartado se evalúa la función $f(x) = 4- \\frac{3(x-2)[(x-5)^2 + 4]}{x + (x - 2)^2  [(x-5)^2 + 3]}$ para los mismo valores de $x$."
   ]
  },
  {
   "cell_type": "code",
   "execution_count": 49,
   "metadata": {
    "colab": {
     "base_uri": "https://localhost:8080/",
     "height": 314
    },
    "id": "K5oQFlvdw1CC",
    "outputId": "e99ff5dd-c173-4ddd-d19a-0772b10e0480"
   },
   "outputs": [
    {
     "data": {
      "image/png": "[encoded data removed]",
      "text/plain": [
       "<Figure size 432x288 with 1 Axes>"
      ]
     },
     "metadata": {
      "needs_background": "light"
     },
     "output_type": "display_data"
    }
   ],
   "source": [
    "f_c = lambda x: 4 - (3*(x-2)*((x-5)**2 + 4))/(x + (x - 2)**2 * ((x-5)**2 + 3))\n",
    "y_c = [f_c(x) for x in X]\n",
    "\n",
    "plot_ejercicio_1(i,y_c,8.7523765807784,8.7523765807786)"
   ]
  },
  {
   "cell_type": "markdown",
   "metadata": {
    "id": "Tl4WtVQbx-z9"
   },
   "source": [
    "<div class=\"qst\">\n",
    "¿Observas alguna diferencia con las gráficas anteriores?    \n",
    "</div>\n",
    "\n",
    "En este caso la varianza es aún menor. Los valores de la función se acumulan aproximadamente en una recta y ya no se aprecian las bandas diagonales de los demás apartados. \n"
   ]
  },
  {
   "cell_type": "markdown",
   "metadata": {},
   "source": [
    "## Cuestiones"
   ]
  },
  {
   "cell_type": "markdown",
   "metadata": {
    "id": "KXZBJCwQw1OF"
   },
   "source": [
    "<div class=\"qst\">\n",
    "    \n",
    "* ¿Las tres funciones que hemos pintado son la misma función, solo que escrita de diferente manera? Da una respuesta razonada.\n",
    "* ¿Podemos afirmar ahora que la distribución del error por redondeo es una variable aleatoria uniforme?\n",
    "* Comenta los resultados obtenidos.\n",
    "    \n",
    "</div>\n",
    "\n",
    "\n",
    "Si, las tres funciones son la misma función pero descrita de diferente manera al realizar distintos tipos de operaciones. Tiene sentido expresarla de manera distinta ya que el error por redondeo no sigue una distribución uniforme y por tanto, variando el número de operaciones en una misma función, el error varía.\n",
    "\n"
   ]
  },
  {
   "cell_type": "markdown",
   "metadata": {
    "id": "YZUrc7P9ehTE"
   },
   "source": [
    "## Ejercicio Opcional\n",
    "\n",
    "Se evalúan ahora las tres funciones anteriores tomando $x= 2,4 + 2^{-52}i$ con $i=\\{0,1,...,800\\}$."
   ]
  },
  {
   "cell_type": "code",
   "execution_count": 50,
   "metadata": {
    "id": "UwNmmD0uggiJ"
   },
   "outputs": [],
   "source": [
    "i = range(801)\n",
    "X = [2.4 + r*2**(-52) for r in i]"
   ]
  },
  {
   "cell_type": "code",
   "execution_count": 51,
   "metadata": {
    "colab": {
     "base_uri": "https://localhost:8080/",
     "height": 314
    },
    "id": "s-7PmVAGef_h",
    "outputId": "93a9fa0a-1b71-4361-c716-adfd72870ecc"
   },
   "outputs": [
    {
     "data": {
      "image/png": "[encoded data removed]",
      "text/plain": [
       "<Figure size 432x288 with 1 Axes>"
      ]
     },
     "metadata": {
      "needs_background": "light"
     },
     "output_type": "display_data"
    }
   ],
   "source": [
    "y_a = [f_a(x) for x in X]\n",
    "\n",
    "plot_ejercicio_1(i,y_a,.7407108239094,.74071082390965)"
   ]
  },
  {
   "cell_type": "code",
   "execution_count": 52,
   "metadata": {
    "colab": {
     "base_uri": "https://localhost:8080/",
     "height": 314
    },
    "id": "jakNg_yFgY9E",
    "outputId": "f1e940f6-bd83-4ab8-927b-83534b95bc16"
   },
   "outputs": [
    {
     "data": {
      "image/png": "[encoded data removed]",
      "text/plain": [
       "<Figure size 432x288 with 1 Axes>"
      ]
     },
     "metadata": {
      "needs_background": "light"
     },
     "output_type": "display_data"
    }
   ],
   "source": [
    "y_b = [f_b(x) for x in X]\n",
    "\n",
    "plot_ejercicio_1(i,y_b,.7407108239094,.74071082390965)"
   ]
  },
  {
   "cell_type": "code",
   "execution_count": 53,
   "metadata": {
    "colab": {
     "base_uri": "https://localhost:8080/",
     "height": 314
    },
    "id": "GqsnpswWgeXV",
    "outputId": "3c2d01d0-1db0-42a0-df4b-628e9cba0202"
   },
   "outputs": [
    {
     "data": {
      "image/png": "[encoded data removed]",
      "text/plain": [
       "<Figure size 432x288 with 1 Axes>"
      ]
     },
     "metadata": {
      "needs_background": "light"
     },
     "output_type": "display_data"
    }
   ],
   "source": [
    "y_c = [f_c(x) for x in X]\n",
    "\n",
    "plot_ejercicio_1(i,y_c,.7407108239094,.74071082390965)"
   ]
  },
  {
   "cell_type": "markdown",
   "metadata": {
    "id": "sJm66kWheqDt"
   },
   "source": [
    "<div class=\"qst\">\n",
    "    \n",
    "¿Qué cambio has observado? ¿Podrías explicar por qué ha cambiado la dirección del patrón?\n",
    "    \n",
    "</div>\n",
    "\n",
    "Para estos valores de $x$, el patrón es similar pero la dirección del mismo ha cambiado: la pendiente de las bandas es negativa. El error absoluto de una función es proporcional a la derivada de la misma y una posible explicación para el fenómeno observado es que estamos evaluando la función utilizando valores cercanos a un mínimo ($x\\approx2.4$) y por eso la pendiente es negativa y cercana a 0. Por el contrario, en el ejercicio anterior estábamos evaluando la función utilizando valores cercanos a un máximo ($x\\approx1.606$).\n",
    "\n"
   ]
  },
  {
   "cell_type": "markdown",
   "metadata": {},
   "source": [
    "# Apartado 2. Aproximación de funciones"
   ]
  },
  {
   "cell_type": "markdown",
   "metadata": {},
   "source": [
    "## Cuestiones teóricas"
   ]
  },
  {
   "cell_type": "markdown",
   "metadata": {},
   "source": [
    "<div class=\"qst\"> \n",
    "Dado un conjunto de n puntos, existe siempre un polinomio de grado $m < n-1$ que pase por dichos puntos?    \n",
    "</div>\n",
    "\n",
    "No. Si tomamos 3 puntos no alineados ($n=3$), no existe niguna recta ($m<2$) que interporle dichos puntos.\n",
    "\n",
    "<div class=\"qst\"> \n",
    "¿Se te ocurre una manera en la cual el cálculo de los valores singulares de una matriz permita calcular un polinomio de regresión adecuado?  \n",
    "</div>\n",
    "\n",
    "La matriz $A$ del polinomio de regresión $Aw=y$ puede descomponerse en valores singulares $A=USV$, de modo que $USVw=Y$. Operando sobre el sistema podríamos encontrar $w$ en términos de de los valores singulares. \n",
    "\n",
    "<div class=\"qst\"> \n",
    "    \n",
    "* ¿Como podrías transformar el problema de encontrar un polinomio de regresión en un problema de producto de matrices?\n",
    "* ¿Crees que, además, es posible calcular el error de regresión a partir de los valores singulares?\n",
    "\n",
    "</div>\n",
    "No se nos ocurre cómo.\n"
   ]
  },
  {
   "cell_type": "markdown",
   "metadata": {},
   "source": [
    "### Apartado 1\n",
    "\n",
    "En este apartado se busca encontrar un polinomio $P_2(x)=a_0 + a_1x + a_2x^2$, que pasa por los puntos $x_i=\\{0.0, 0.25, 0.5, 0.75, 1.0\\}$ e $y_i=\\{1, 1.2840, 1.6487, 2.1170, 2.7183\\}$, utilizando un problema de interpolación sobredimensionado\n",
    "\n",
    "Para ello se asume que el $P_2(x)$ pasa por todos los puntos $x_i,y_i$ y se reescribe el problema de la forma $Xa=y$, siendo $X$ matriz $5x3$, $a$ un vector $3x1$ e $y$ un vector $5x1$.\n",
    "\n",
    "\n"
   ]
  },
  {
   "cell_type": "code",
   "execution_count": 60,
   "metadata": {},
   "outputs": [
    {
     "name": "stdout",
     "output_type": "stream",
     "text": [
      "[[1.     0.     0.    ]\n",
      " [1.     0.25   0.0625]\n",
      " [1.     0.5    0.25  ]\n",
      " [1.     0.75   0.5625]\n",
      " [1.     1.     1.    ]]\n"
     ]
    }
   ],
   "source": [
    "# Declaramos X e y, siendo X la matriz de Vandermonde\n",
    "x = np.array([0.0, 0.25, 0.5, 0.75, 1.0])\n",
    "y = np.array([1, 1.2840, 1.6487, 2.1170, 2.7183]).reshape(5,1)\n",
    "X = np.vander(x, N=3, increasing=True)\n",
    "# Visualizamos la matriz de Vandermonde calculada\n",
    "print(X)"
   ]
  },
  {
   "cell_type": "code",
   "execution_count": 62,
   "metadata": {},
   "outputs": [
    {
     "name": "stdout",
     "output_type": "stream",
     "text": [
      "U:\n",
      " [[-0.29454913  0.63267484  0.63140925 -0.02576091 -0.33707876]\n",
      " [-0.346616    0.45500901 -0.21036331  0.28091869  0.74138797]\n",
      " [-0.41593037  0.19422733 -0.52439676 -0.68819061 -0.20169135]\n",
      " [-0.50249224 -0.14967019 -0.3106911   0.63666879 -0.47246617]\n",
      " [-0.60630161 -0.57668356  0.43075367 -0.20363596  0.26984831]]\n",
      "S:\n",
      " [2.71168512 0.93707467 0.16268803]\n",
      "V:\n",
      " [[-0.7987245  -0.4712162  -0.37415833]\n",
      " [ 0.59286357 -0.51017309 -0.62308604]\n",
      " [ 0.10272272 -0.71949893  0.68685467]]\n"
     ]
    }
   ],
   "source": [
    "# Descomponemos X en valores singulares y representamos la salida de numpy\n",
    "U, s, V = np.linalg.svd(X, full_matrices=True)\n",
    "print('U:\\n',U)\n",
    "print('S:\\n',s)\n",
    "print('V:\\n',V)"
   ]
  },
  {
   "cell_type": "code",
   "execution_count": 63,
   "metadata": {},
   "outputs": [
    {
     "name": "stdout",
     "output_type": "stream",
     "text": [
      "S:\n",
      " [[2.71168512 0.         0.        ]\n",
      " [0.         0.93707467 0.        ]\n",
      " [0.         0.         0.16268803]\n",
      " [0.         0.         0.        ]\n",
      " [0.         0.         0.        ]]\n"
     ]
    }
   ],
   "source": [
    "# Transformamos s en la matriz S real de dimensión 5x3\n",
    "S = np.zeros((5,3))\n",
    "np.fill_diagonal(S, s)\n",
    "print('S:\\n',S)"
   ]
  },
  {
   "cell_type": "code",
   "execution_count": 64,
   "metadata": {},
   "outputs": [
    {
     "name": "stdout",
     "output_type": "stream",
     "text": [
      "c:\n",
      " [[-4.1372342 ]\n",
      " [-0.3473217 ]\n",
      " [ 0.00991447]]\n",
      "z:\n",
      " [[-1.52570598]\n",
      " [-0.37064463]\n",
      " [ 0.06094163]]\n"
     ]
    }
   ],
   "source": [
    "# Operamos sobre U\n",
    "C = U.T@y\n",
    "c = C[:3].reshape(3,1)\n",
    "z = (c.T/s).reshape(3,1)\n",
    "print('c:\\n', c)\n",
    "print('z:\\n', z)"
   ]
  },
  {
   "cell_type": "markdown",
   "metadata": {},
   "source": [
    "### Apartado 2\n",
    "\n",
    "En este apartado se calcula $a$ como el producto $V^*z$."
   ]
  },
  {
   "cell_type": "code",
   "execution_count": 25,
   "metadata": {},
   "outputs": [
    {
     "name": "stdout",
     "output_type": "stream",
     "text": [
      "[[1.00513714]\n",
      " [0.86418286]\n",
      " [0.84365714]]\n"
     ]
    }
   ],
   "source": [
    "a = V.T@z\n",
    "print(a)"
   ]
  },
  {
   "cell_type": "markdown",
   "metadata": {},
   "source": [
    "### Apartado 3\n",
    "\n",
    "En este apartado se calcula el error cometido con la regresión obtenida $\\sqrt{c_4^2 + c_2^2}$ y se compara con el error manual $\\sqrt{\\sum_{i}P_2(x_i)-y_i}$."
   ]
  },
  {
   "cell_type": "code",
   "execution_count": 104,
   "metadata": {},
   "outputs": [
    {
     "name": "stdout",
     "output_type": "stream",
     "text": [
      "Error utilizando valores singulares = 0.016556949339433427\n",
      "Error manual = 0.01655694933943349\n",
      "Diferencia absoluta de ambos =  6.245004513516506e-17\n"
     ]
    }
   ],
   "source": [
    "e_svd = np.linalg.norm(C[3:])\n",
    "e_manual = np.linalg.norm(X@a-y)\n",
    "\n",
    "print('Error utilizando valores singulares =',e_svd)\n",
    "print('Error manual =',e_manual)\n",
    "\n",
    "print('Diferencia absoluta de ambos = ',np.abs(e_svd-e_manual))\n"
   ]
  },
  {
   "cell_type": "markdown",
   "metadata": {},
   "source": [
    "## Ejercicio Opcional"
   ]
  },
  {
   "cell_type": "markdown",
   "metadata": {},
   "source": [
    "<div class=\"qst\"> \n",
    "¿Qué obtenemos cuando aplicamos el método de los apartados 1 y 2 a la construcción\n",
    "de un polinomio de grado 4?</div>\n",
    "\n",
    "Definimos una función que utilice el método para encontrar $a$, el error de regresión y los valores de $y$ cuando se busca un polínomio de grado $m$ que pase por $x_i,y_i$ puntos.\n"
   ]
  },
  {
   "cell_type": "code",
   "execution_count": 105,
   "metadata": {},
   "outputs": [],
   "source": [
    "def svd_regression_a_e(x,y,degree):\n",
    "    n = degree + 1\n",
    "    m = x.shape[0]\n",
    "    X = np.vander(x, N=n, increasing=True)\n",
    "    U, s, V = np.linalg.svd(X, full_matrices=True)\n",
    "    S = np.zeros((m,n))\n",
    "    np.fill_diagonal(S, s)\n",
    "    C = U.T@y\n",
    "    c = C[:n].reshape(n,1)\n",
    "    z = (c.T/s).reshape(n,1)\n",
    "    a = V.T@z\n",
    "    e = np.linalg.norm(c[n:])\n",
    "    return a,e\n",
    "\n",
    "\n",
    "def svd_regression_y(x,a):\n",
    "    n = a.shape[0]\n",
    "    X = np.vander(x, N=n, increasing=True)\n",
    "    return X@a"
   ]
  },
  {
   "cell_type": "code",
   "execution_count": 108,
   "metadata": {},
   "outputs": [
    {
     "name": "stdout",
     "output_type": "stream",
     "text": [
      "Error de regresión = 0.0\n"
     ]
    },
    {
     "data": {
      "image/png": "[encoded data removed]",
      "text/plain": [
       "<Figure size 432x288 with 1 Axes>"
      ]
     },
     "metadata": {
      "needs_background": "light"
     },
     "output_type": "display_data"
    }
   ],
   "source": [
    "a_4,e_4 = svd_regression_a_e(x,y,4)\n",
    "y_4 = svd_regression_y(x,a)\n",
    "\n",
    "print('Error de regresión =', e_4)\n",
    "\n"
   ]
  },
  {
   "cell_type": "markdown",
   "metadata": {},
   "source": [
    "\n",
    "<div class=\"qst\"> \n",
    "Comprueba que, efectivamente el polinomio obtenido se corresponde en este caso a\n",
    "un polinomio de interpolación en lugar de a un polinomio de regresión.</div>\n",
    "\n",
    "Al utilizar un polinomio de grado 4, la matriz $X$ de vandermor es de $5x5$. Como los puntos $\\{x_0,...,x_5\\}$ elegidos no están alineados dos a dos, $Xa=y$ es un sistema determinado de 5 ecuaciones con 5 incognitas. Por tanto, X es invertible y podemos resolver el sistema utilizando $a=X^{-1}y$. Así, el polinomio resultante $p(x) = a_0 + a_1x + a_2x^2 + a_3x^3 + a_4x^4$ pasa por los puntos $x_0,...,x_5$"
   ]
  },
  {
   "cell_type": "code",
   "execution_count": null,
   "metadata": {},
   "outputs": [],
   "source": []
  }
 ],
 "metadata": {
  "colab": {
   "collapsed_sections": [],
   "name": "p1.ipynb",
   "provenance": []
  },
  "kernelspec": {
   "display_name": "Python 3 (ipykernel)",
   "language": "python",
   "name": "python3"
  },
  "language_info": {
   "codemirror_mode": {
    "name": "ipython",
    "version": 3
   },
   "file_extension": ".py",
   "mimetype": "text/x-python",
   "name": "python",
   "nbconvert_exporter": "python",
   "pygments_lexer": "ipython3",
   "version": "3.8.10"
  }
 },
 "nbformat": 4,
 "nbformat_minor": 1
}
