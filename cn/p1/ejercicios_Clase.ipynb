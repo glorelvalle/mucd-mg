{
 "cells": [
  {
   "cell_type": "code",
   "execution_count": 1,
   "metadata": {},
   "outputs": [],
   "source": [
    "# plotting libraries\n",
    "\n",
    "# for inline plots in jupyter\n",
    "if True:\n",
    "    %matplotlib inline\n",
    "else:\n",
    "    %matplotlib notebook\n",
    "    \n",
    "    \n",
    "# import matplotlib\n",
    "import matplotlib.pyplot as plt\n",
    "\n",
    "#import numpy\n",
    "import numpy as np\n",
    "\n",
    "#import scipy.stats\n",
    "import scipy.stats\n",
    "\n",
    "# for latex equations\n",
    "from IPython.display import Math, Latex\n",
    "\n",
    "# for displaying images\n",
    "from IPython.core.display import Image\n",
    "\n",
    "# import seaborn\n",
    "#import seaborn as sns\n",
    "\n",
    "# settings for seaborn plotting style\n",
    "#sns.set(color_codes=True)\n",
    "\n",
    "# settings for seaborn plot sizes\n",
    "#sns.set(rc={'figure.figsize':(5,5)})\n"
   ]
  },
  {
   "cell_type": "code",
   "execution_count": null,
   "metadata": {},
   "outputs": [],
   "source": []
  }
 ],
 "metadata": {
  "kernelspec": {
   "display_name": "Python 3",
   "language": "python",
   "name": "python3"
  },
  "language_info": {
   "codemirror_mode": {
    "name": "ipython",
    "version": 3
   },
   "file_extension": ".py",
   "mimetype": "text/x-python",
   "name": "python",
   "nbconvert_exporter": "python",
   "pygments_lexer": "ipython3",
   "version": "3.8.3"
  }
 },
 "nbformat": 4,
 "nbformat_minor": 4
}
