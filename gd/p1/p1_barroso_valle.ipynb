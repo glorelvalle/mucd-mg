{
 "cells": [
  {
   "cell_type": "markdown",
   "id": "88c90084",
   "metadata": {},
   "source": [
    "# ANÁLISIS DE UN DATASET REAL ANONIMIZADO\n",
    "\n",
    "Utilizando los datos recogidos en el fichero de datos abiertos de PDI de la UAM (https://www.universidata.es/datasets/uam-personal-pdi) correspondiente al año 2019, se realiza, para cada campo del fichero exceptuando aquellos cuyo nombre empieza por \"cod_\" \"lat_\" y \"lon_\", lo siguiente:\n",
    "* Inferir el valor más probable de cada campo para el caso del profesor Ortigosa\n",
    "* Calcular el nivel de certeza (%) de que cada valor inferido corresponda realmente al profesor Ortigosa\n",
    "* Una breve descripción del proceso de inferencia utilizado en cada caso\n",
    "\n",
    "\n",
    "Para ello, se asegura que:\n",
    "* El profesor Ortigosa estaba en 2019 en la UAM (=aparece en el fichero)\n",
    "* El profesor Ortigosa era de género masculino en 2019\n",
    "* El profesor Ortigosa pertenecía al Departamento de Ingeniería Informática en 2019\n",
    "\n",
    "\n",
    "Las fuentes externas utilizadas para inferir información sobre Ortigosa son:\n",
    "1. [https://portalcientifico.uam.es/ipublic/agent-personal/profile/iMarinaID/04-261195](https://portalcientifico.uam.es/ipublic/agent-personal/profile/iMarinaID/04-261195)\n",
    "2. [https://es.linkedin.com/in/alvaroortigosa](https://es.linkedin.com/in/alvaroortigosa)\n",
    "3. [https://ieeexplore.ieee.org/author/37668186700](https://ieeexplore.ieee.org/author/37668186700)\n",
    "4. [https://www.altmetric.com/details/59878968](https://www.altmetric.com/details/59878968)\n",
    "\n",
    "La información sobre el proceso de anonimización se encuentra disponible en:\n",
    "- https://dimetrical.atlassian.net/wiki/spaces/UNC/pages/515571713/Procesos+de+Anonimizaci+n#2.1.3-Ejemplo\n",
    "- https://dimetrical.atlassian.net/wiki/spaces/UNC/pages/490799108/Dataset+Personal+Docente+e+Investigador+PDI\n"
   ]
  },
  {
   "cell_type": "code",
   "execution_count": 1,
   "id": "03068c52",
   "metadata": {},
   "outputs": [],
   "source": [
    "import pandas as pd\n",
    "import numpy as np"
   ]
  },
  {
   "cell_type": "markdown",
   "id": "8d09f810",
   "metadata": {},
   "source": [
    "### Preprocesamiento del dataset"
   ]
  },
  {
   "cell_type": "code",
   "execution_count": 2,
   "id": "feaf3e10",
   "metadata": {},
   "outputs": [],
   "source": [
    "data_path = 'uam-personal-pdi-2019-anonimizado.csv'\n",
    "data = pd.read_csv(data_path)\n",
    "remove = ['cod_', 'lat_','lon_']\n",
    "index = [i for i in range(1, data.shape[1]) if data.columns[i][:4] not in remove]\n",
    "data = data.iloc[:,index]"
   ]
  },
  {
   "cell_type": "code",
   "execution_count": 3,
   "id": "865a6e4b",
   "metadata": {},
   "outputs": [
    {
     "data": {
      "text/html": [
       "<div>\n",
       "<style scoped>\n",
       "    .dataframe tbody tr th:only-of-type {\n",
       "        vertical-align: middle;\n",
       "    }\n",
       "\n",
       "    .dataframe tbody tr th {\n",
       "        vertical-align: top;\n",
       "    }\n",
       "\n",
       "    .dataframe thead th {\n",
       "        text-align: right;\n",
       "    }\n",
       "</style>\n",
       "<table border=\"1\" class=\"dataframe\">\n",
       "  <thead>\n",
       "    <tr style=\"text-align: right;\">\n",
       "      <th></th>\n",
       "      <th>des_universidad</th>\n",
       "      <th>anio</th>\n",
       "      <th>des_pais_nacionalidad</th>\n",
       "      <th>des_continente_nacionalidad</th>\n",
       "      <th>des_agregacion_paises_nacionalidad</th>\n",
       "      <th>des_comunidad_residencia</th>\n",
       "      <th>des_provincia_residencia</th>\n",
       "      <th>des_municipio_residencia</th>\n",
       "      <th>des_genero</th>\n",
       "      <th>anio_nacimiento</th>\n",
       "      <th>...</th>\n",
       "      <th>des_tipo_unidad_responsable</th>\n",
       "      <th>des_unidad_responsable</th>\n",
       "      <th>des_area_conocimiento</th>\n",
       "      <th>anio_incorporacion_ap</th>\n",
       "      <th>anio_incorpora_cuerpo_docente</th>\n",
       "      <th>num_trienios</th>\n",
       "      <th>num_quinquenios</th>\n",
       "      <th>num_sexenios</th>\n",
       "      <th>num_tesis</th>\n",
       "      <th>ind_investigador_principal</th>\n",
       "    </tr>\n",
       "  </thead>\n",
       "  <tbody>\n",
       "    <tr>\n",
       "      <th>0</th>\n",
       "      <td>Universidad Autónoma de Madrid</td>\n",
       "      <td>2019</td>\n",
       "      <td>España</td>\n",
       "      <td>Europa</td>\n",
       "      <td>Europa meridional</td>\n",
       "      <td>Madrid</td>\n",
       "      <td>Madrid</td>\n",
       "      <td>MADRID</td>\n",
       "      <td>Mujer</td>\n",
       "      <td>1963</td>\n",
       "      <td>...</td>\n",
       "      <td>Departamento</td>\n",
       "      <td>Departamento de Educación Física, Deporte y Mo...</td>\n",
       "      <td>Didáctica de la Expresión Corporal</td>\n",
       "      <td>1996.0</td>\n",
       "      <td>2003.0</td>\n",
       "      <td>7</td>\n",
       "      <td>4</td>\n",
       "      <td>2</td>\n",
       "      <td>NaN</td>\n",
       "      <td>N</td>\n",
       "    </tr>\n",
       "    <tr>\n",
       "      <th>1</th>\n",
       "      <td>Universidad Autónoma de Madrid</td>\n",
       "      <td>2019</td>\n",
       "      <td>España</td>\n",
       "      <td>Europa</td>\n",
       "      <td>Europa meridional</td>\n",
       "      <td>Madrid</td>\n",
       "      <td>Madrid</td>\n",
       "      <td>MADRID</td>\n",
       "      <td>Mujer</td>\n",
       "      <td>1988</td>\n",
       "      <td>...</td>\n",
       "      <td>Departamento</td>\n",
       "      <td>Departamento de Educación Física, Deporte y Mo...</td>\n",
       "      <td>Didáctica de la Expresión Corporal</td>\n",
       "      <td>NaN</td>\n",
       "      <td>NaN</td>\n",
       "      <td>1</td>\n",
       "      <td>0</td>\n",
       "      <td>0</td>\n",
       "      <td>NaN</td>\n",
       "      <td>N</td>\n",
       "    </tr>\n",
       "    <tr>\n",
       "      <th>2</th>\n",
       "      <td>Universidad Autónoma de Madrid</td>\n",
       "      <td>2019</td>\n",
       "      <td>España</td>\n",
       "      <td>Europa</td>\n",
       "      <td>Europa meridional</td>\n",
       "      <td>Madrid</td>\n",
       "      <td>Madrid</td>\n",
       "      <td>POZUELO DE ALARCÓN</td>\n",
       "      <td>Mujer</td>\n",
       "      <td>1991</td>\n",
       "      <td>...</td>\n",
       "      <td>Departamento</td>\n",
       "      <td>Departamento de Educación Física, Deporte y Mo...</td>\n",
       "      <td>Didáctica de la Expresión Corporal</td>\n",
       "      <td>NaN</td>\n",
       "      <td>NaN</td>\n",
       "      <td>0</td>\n",
       "      <td>0</td>\n",
       "      <td>0</td>\n",
       "      <td>NaN</td>\n",
       "      <td>N</td>\n",
       "    </tr>\n",
       "    <tr>\n",
       "      <th>3</th>\n",
       "      <td>Universidad Autónoma de Madrid</td>\n",
       "      <td>2019</td>\n",
       "      <td>España</td>\n",
       "      <td>Europa</td>\n",
       "      <td>Europa meridional</td>\n",
       "      <td>Madrid</td>\n",
       "      <td>Madrid</td>\n",
       "      <td>ALCOBENDAS</td>\n",
       "      <td>Mujer</td>\n",
       "      <td>1972</td>\n",
       "      <td>...</td>\n",
       "      <td>Departamento</td>\n",
       "      <td>Departamento de Educación Física, Deporte y Mo...</td>\n",
       "      <td>Didáctica de la Expresión Corporal</td>\n",
       "      <td>NaN</td>\n",
       "      <td>NaN</td>\n",
       "      <td>6</td>\n",
       "      <td>3</td>\n",
       "      <td>0</td>\n",
       "      <td>NaN</td>\n",
       "      <td>N</td>\n",
       "    </tr>\n",
       "    <tr>\n",
       "      <th>4</th>\n",
       "      <td>Universidad Autónoma de Madrid</td>\n",
       "      <td>2019</td>\n",
       "      <td>España</td>\n",
       "      <td>Europa</td>\n",
       "      <td>Europa meridional</td>\n",
       "      <td>Madrid</td>\n",
       "      <td>Madrid</td>\n",
       "      <td>MADRID</td>\n",
       "      <td>Mujer</td>\n",
       "      <td>1987</td>\n",
       "      <td>...</td>\n",
       "      <td>Departamento</td>\n",
       "      <td>Departamento de Educación Física, Deporte y Mo...</td>\n",
       "      <td>Didáctica de la Expresión Corporal</td>\n",
       "      <td>NaN</td>\n",
       "      <td>NaN</td>\n",
       "      <td>0</td>\n",
       "      <td>0</td>\n",
       "      <td>0</td>\n",
       "      <td>NaN</td>\n",
       "      <td>N</td>\n",
       "    </tr>\n",
       "  </tbody>\n",
       "</table>\n",
       "<p>5 rows × 35 columns</p>\n",
       "</div>"
      ],
      "text/plain": [
       "                  des_universidad  anio des_pais_nacionalidad  \\\n",
       "0  Universidad Autónoma de Madrid  2019                España   \n",
       "1  Universidad Autónoma de Madrid  2019                España   \n",
       "2  Universidad Autónoma de Madrid  2019                España   \n",
       "3  Universidad Autónoma de Madrid  2019                España   \n",
       "4  Universidad Autónoma de Madrid  2019                España   \n",
       "\n",
       "  des_continente_nacionalidad des_agregacion_paises_nacionalidad  \\\n",
       "0                      Europa                  Europa meridional   \n",
       "1                      Europa                  Europa meridional   \n",
       "2                      Europa                  Europa meridional   \n",
       "3                      Europa                  Europa meridional   \n",
       "4                      Europa                  Europa meridional   \n",
       "\n",
       "  des_comunidad_residencia des_provincia_residencia des_municipio_residencia  \\\n",
       "0                   Madrid                   Madrid                   MADRID   \n",
       "1                   Madrid                   Madrid                   MADRID   \n",
       "2                   Madrid                   Madrid       POZUELO DE ALARCÓN   \n",
       "3                   Madrid                   Madrid               ALCOBENDAS   \n",
       "4                   Madrid                   Madrid                   MADRID   \n",
       "\n",
       "  des_genero  anio_nacimiento  ... des_tipo_unidad_responsable  \\\n",
       "0      Mujer             1963  ...                Departamento   \n",
       "1      Mujer             1988  ...                Departamento   \n",
       "2      Mujer             1991  ...                Departamento   \n",
       "3      Mujer             1972  ...                Departamento   \n",
       "4      Mujer             1987  ...                Departamento   \n",
       "\n",
       "                              des_unidad_responsable  \\\n",
       "0  Departamento de Educación Física, Deporte y Mo...   \n",
       "1  Departamento de Educación Física, Deporte y Mo...   \n",
       "2  Departamento de Educación Física, Deporte y Mo...   \n",
       "3  Departamento de Educación Física, Deporte y Mo...   \n",
       "4  Departamento de Educación Física, Deporte y Mo...   \n",
       "\n",
       "                des_area_conocimiento anio_incorporacion_ap  \\\n",
       "0  Didáctica de la Expresión Corporal                1996.0   \n",
       "1  Didáctica de la Expresión Corporal                   NaN   \n",
       "2  Didáctica de la Expresión Corporal                   NaN   \n",
       "3  Didáctica de la Expresión Corporal                   NaN   \n",
       "4  Didáctica de la Expresión Corporal                   NaN   \n",
       "\n",
       "   anio_incorpora_cuerpo_docente num_trienios num_quinquenios num_sexenios  \\\n",
       "0                         2003.0            7               4            2   \n",
       "1                            NaN            1               0            0   \n",
       "2                            NaN            0               0            0   \n",
       "3                            NaN            6               3            0   \n",
       "4                            NaN            0               0            0   \n",
       "\n",
       "  num_tesis ind_investigador_principal  \n",
       "0       NaN                          N  \n",
       "1       NaN                          N  \n",
       "2       NaN                          N  \n",
       "3       NaN                          N  \n",
       "4       NaN                          N  \n",
       "\n",
       "[5 rows x 35 columns]"
      ]
     },
     "execution_count": 3,
     "metadata": {},
     "output_type": "execute_result"
    }
   ],
   "source": [
    "data.head()"
   ]
  },
  {
   "cell_type": "markdown",
   "id": "97bd7614",
   "metadata": {},
   "source": [
    "Dado que los campos pivote son *des_unidad_responsable* y *des_genero* y conocemos los valores de Ortigosa para ambos campos, esto es,\n",
    "* Departamento de Ingeniería Informática\n",
    "* Hombre\n",
    "\n",
    "seleccionamos aquellas filas para las que se cumplan las anteriores restricciones sin tener pérdida de información."
   ]
  },
  {
   "cell_type": "code",
   "execution_count": 4,
   "id": "9f1f80df",
   "metadata": {},
   "outputs": [
    {
     "data": {
      "text/html": [
       "<div>\n",
       "<style scoped>\n",
       "    .dataframe tbody tr th:only-of-type {\n",
       "        vertical-align: middle;\n",
       "    }\n",
       "\n",
       "    .dataframe tbody tr th {\n",
       "        vertical-align: top;\n",
       "    }\n",
       "\n",
       "    .dataframe thead th {\n",
       "        text-align: right;\n",
       "    }\n",
       "</style>\n",
       "<table border=\"1\" class=\"dataframe\">\n",
       "  <thead>\n",
       "    <tr style=\"text-align: right;\">\n",
       "      <th></th>\n",
       "      <th>des_universidad</th>\n",
       "      <th>anio</th>\n",
       "      <th>des_pais_nacionalidad</th>\n",
       "      <th>des_continente_nacionalidad</th>\n",
       "      <th>des_agregacion_paises_nacionalidad</th>\n",
       "      <th>des_comunidad_residencia</th>\n",
       "      <th>des_provincia_residencia</th>\n",
       "      <th>des_municipio_residencia</th>\n",
       "      <th>des_genero</th>\n",
       "      <th>anio_nacimiento</th>\n",
       "      <th>...</th>\n",
       "      <th>des_tipo_unidad_responsable</th>\n",
       "      <th>des_unidad_responsable</th>\n",
       "      <th>des_area_conocimiento</th>\n",
       "      <th>anio_incorporacion_ap</th>\n",
       "      <th>anio_incorpora_cuerpo_docente</th>\n",
       "      <th>num_trienios</th>\n",
       "      <th>num_quinquenios</th>\n",
       "      <th>num_sexenios</th>\n",
       "      <th>num_tesis</th>\n",
       "      <th>ind_investigador_principal</th>\n",
       "    </tr>\n",
       "  </thead>\n",
       "  <tbody>\n",
       "    <tr>\n",
       "      <th>149</th>\n",
       "      <td>Universidad Autónoma de Madrid</td>\n",
       "      <td>2019</td>\n",
       "      <td>España</td>\n",
       "      <td>Europa</td>\n",
       "      <td>Europa meridional</td>\n",
       "      <td>Madrid</td>\n",
       "      <td>Madrid</td>\n",
       "      <td>COLMENAR VIEJO</td>\n",
       "      <td>Hombre</td>\n",
       "      <td>1972</td>\n",
       "      <td>...</td>\n",
       "      <td>Departamento</td>\n",
       "      <td>Departamento de Ingeniería Informática</td>\n",
       "      <td>Lenguajes y Sistemas Informáticos</td>\n",
       "      <td>NaN</td>\n",
       "      <td>NaN</td>\n",
       "      <td>6</td>\n",
       "      <td>3</td>\n",
       "      <td>0</td>\n",
       "      <td>1.0</td>\n",
       "      <td>N</td>\n",
       "    </tr>\n",
       "    <tr>\n",
       "      <th>150</th>\n",
       "      <td>Universidad Autónoma de Madrid</td>\n",
       "      <td>2019</td>\n",
       "      <td>España</td>\n",
       "      <td>Europa</td>\n",
       "      <td>Europa meridional</td>\n",
       "      <td>Madrid</td>\n",
       "      <td>Madrid</td>\n",
       "      <td>BOALO, EL</td>\n",
       "      <td>Hombre</td>\n",
       "      <td>1967</td>\n",
       "      <td>...</td>\n",
       "      <td>Departamento</td>\n",
       "      <td>Departamento de Ingeniería Informática</td>\n",
       "      <td>Ciencia de la Computación e Inteligencia Artif...</td>\n",
       "      <td>1995.0</td>\n",
       "      <td>2002.0</td>\n",
       "      <td>7</td>\n",
       "      <td>5</td>\n",
       "      <td>5</td>\n",
       "      <td>NaN</td>\n",
       "      <td>N</td>\n",
       "    </tr>\n",
       "    <tr>\n",
       "      <th>151</th>\n",
       "      <td>Universidad Autónoma de Madrid</td>\n",
       "      <td>2019</td>\n",
       "      <td>España</td>\n",
       "      <td>Europa</td>\n",
       "      <td>Europa meridional</td>\n",
       "      <td>Madrid</td>\n",
       "      <td>Madrid</td>\n",
       "      <td>COLMENAR VIEJO</td>\n",
       "      <td>Hombre</td>\n",
       "      <td>1967</td>\n",
       "      <td>...</td>\n",
       "      <td>Departamento</td>\n",
       "      <td>Departamento de Ingeniería Informática</td>\n",
       "      <td>Ciencia de la Computación e Inteligencia Artif...</td>\n",
       "      <td>1982.0</td>\n",
       "      <td>1985.0</td>\n",
       "      <td>12</td>\n",
       "      <td>6</td>\n",
       "      <td>6</td>\n",
       "      <td>NaN</td>\n",
       "      <td>N</td>\n",
       "    </tr>\n",
       "    <tr>\n",
       "      <th>152</th>\n",
       "      <td>Universidad Autónoma de Madrid</td>\n",
       "      <td>2019</td>\n",
       "      <td>España</td>\n",
       "      <td>Europa</td>\n",
       "      <td>Europa meridional</td>\n",
       "      <td>Madrid</td>\n",
       "      <td>Madrid</td>\n",
       "      <td>ALCOBENDAS</td>\n",
       "      <td>Hombre</td>\n",
       "      <td>1985</td>\n",
       "      <td>...</td>\n",
       "      <td>Departamento</td>\n",
       "      <td>Departamento de Ingeniería Informática</td>\n",
       "      <td>Ciencia de la Computación e Inteligencia Artif...</td>\n",
       "      <td>NaN</td>\n",
       "      <td>NaN</td>\n",
       "      <td>2</td>\n",
       "      <td>0</td>\n",
       "      <td>0</td>\n",
       "      <td>NaN</td>\n",
       "      <td>N</td>\n",
       "    </tr>\n",
       "    <tr>\n",
       "      <th>153</th>\n",
       "      <td>Universidad Autónoma de Madrid</td>\n",
       "      <td>2019</td>\n",
       "      <td>España</td>\n",
       "      <td>Europa</td>\n",
       "      <td>Europa meridional</td>\n",
       "      <td>Madrid</td>\n",
       "      <td>Madrid</td>\n",
       "      <td>LEGANÉS</td>\n",
       "      <td>Hombre</td>\n",
       "      <td>1965</td>\n",
       "      <td>...</td>\n",
       "      <td>Departamento</td>\n",
       "      <td>Departamento de Ingeniería Informática</td>\n",
       "      <td>Lenguajes y Sistemas Informáticos</td>\n",
       "      <td>NaN</td>\n",
       "      <td>NaN</td>\n",
       "      <td>8</td>\n",
       "      <td>4</td>\n",
       "      <td>2</td>\n",
       "      <td>NaN</td>\n",
       "      <td>N</td>\n",
       "    </tr>\n",
       "  </tbody>\n",
       "</table>\n",
       "<p>5 rows × 35 columns</p>\n",
       "</div>"
      ],
      "text/plain": [
       "                    des_universidad  anio des_pais_nacionalidad  \\\n",
       "149  Universidad Autónoma de Madrid  2019                España   \n",
       "150  Universidad Autónoma de Madrid  2019                España   \n",
       "151  Universidad Autónoma de Madrid  2019                España   \n",
       "152  Universidad Autónoma de Madrid  2019                España   \n",
       "153  Universidad Autónoma de Madrid  2019                España   \n",
       "\n",
       "    des_continente_nacionalidad des_agregacion_paises_nacionalidad  \\\n",
       "149                      Europa                  Europa meridional   \n",
       "150                      Europa                  Europa meridional   \n",
       "151                      Europa                  Europa meridional   \n",
       "152                      Europa                  Europa meridional   \n",
       "153                      Europa                  Europa meridional   \n",
       "\n",
       "    des_comunidad_residencia des_provincia_residencia  \\\n",
       "149                   Madrid                   Madrid   \n",
       "150                   Madrid                   Madrid   \n",
       "151                   Madrid                   Madrid   \n",
       "152                   Madrid                   Madrid   \n",
       "153                   Madrid                   Madrid   \n",
       "\n",
       "    des_municipio_residencia des_genero  anio_nacimiento  ...  \\\n",
       "149           COLMENAR VIEJO     Hombre             1972  ...   \n",
       "150                BOALO, EL     Hombre             1967  ...   \n",
       "151           COLMENAR VIEJO     Hombre             1967  ...   \n",
       "152               ALCOBENDAS     Hombre             1985  ...   \n",
       "153                  LEGANÉS     Hombre             1965  ...   \n",
       "\n",
       "    des_tipo_unidad_responsable                  des_unidad_responsable  \\\n",
       "149                Departamento  Departamento de Ingeniería Informática   \n",
       "150                Departamento  Departamento de Ingeniería Informática   \n",
       "151                Departamento  Departamento de Ingeniería Informática   \n",
       "152                Departamento  Departamento de Ingeniería Informática   \n",
       "153                Departamento  Departamento de Ingeniería Informática   \n",
       "\n",
       "                                 des_area_conocimiento anio_incorporacion_ap  \\\n",
       "149                  Lenguajes y Sistemas Informáticos                   NaN   \n",
       "150  Ciencia de la Computación e Inteligencia Artif...                1995.0   \n",
       "151  Ciencia de la Computación e Inteligencia Artif...                1982.0   \n",
       "152  Ciencia de la Computación e Inteligencia Artif...                   NaN   \n",
       "153                  Lenguajes y Sistemas Informáticos                   NaN   \n",
       "\n",
       "     anio_incorpora_cuerpo_docente num_trienios num_quinquenios num_sexenios  \\\n",
       "149                            NaN            6               3            0   \n",
       "150                         2002.0            7               5            5   \n",
       "151                         1985.0           12               6            6   \n",
       "152                            NaN            2               0            0   \n",
       "153                            NaN            8               4            2   \n",
       "\n",
       "    num_tesis ind_investigador_principal  \n",
       "149       1.0                          N  \n",
       "150       NaN                          N  \n",
       "151       NaN                          N  \n",
       "152       NaN                          N  \n",
       "153       NaN                          N  \n",
       "\n",
       "[5 rows x 35 columns]"
      ]
     },
     "execution_count": 4,
     "metadata": {},
     "output_type": "execute_result"
    }
   ],
   "source": [
    "data_ortigosa = data.loc[(data['des_unidad_responsable'] == 'Departamento de Ingeniería Informática') & (data['des_genero']=='Hombre')]\n",
    "data_ortigosa.head()"
   ]
  },
  {
   "cell_type": "markdown",
   "id": "04ae8b44",
   "metadata": {},
   "source": [
    "A continuación, se inferirá el valor más probable de cada campo utilizando información del propio dataset y utilizando distintas fuentes externas. Dado que las permutaciones en el proceso de anonimización se mantienen para cada bloque, la confianza de inferir el valorm más probable dependerá del resto de campos que pertenezcan al mismo bloque."
   ]
  },
  {
   "cell_type": "code",
   "execution_count": 5,
   "id": "c46a9962",
   "metadata": {},
   "outputs": [],
   "source": [
    "bloques = {1:['des_universidad','anio'],\n",
    "           2:['des_pais_nacionalidad','des_continente_nacionalidad', 'des_agregacion_paises_nacionalidad'],\n",
    "           3:['des_comunidad_residencia','des_provincia_residencia', 'des_municipio_residencia'],\n",
    "           4:['anio_nacimiento'],\n",
    "           5:['des_tipo_personal', 'des_categoria_cuerpo_escala', 'des_tipo_contrato', 'des_dedicacion', 'num_horas_semanales_tiempo_parcial', 'des_situacion_administrativa'],\n",
    "           6:['ind_cargo_remunerado'],\n",
    "           7:['des_titulo_doctorado', 'des_pais_doctorado', 'des_continente_doctorado', 'des_agregacion_paises_doctorado', 'des_universidad_doctorado', 'anio_lectura_tesis', 'anio_expedicion_titulo_doctor', 'des_mencion_europea'],\n",
    "           8:['des_tipo_unidad_responsable', 'des_area_conocimiento'],\n",
    "           9:['anio_incorporacion_ap', 'anio_incorpora_cuerpo_docente', 'num_trienios', 'num_quinquenios', 'num_sexenios'],\n",
    "          10:['num_tesis'],\n",
    "          11:['ind_investigador_principal']}\n"
   ]
  },
  {
   "cell_type": "markdown",
   "id": "3d13605e",
   "metadata": {},
   "source": [
    "**Bloque 1**. En un principio conocemos esta información ya que hemos descargado el dataset que contiene los datos detallados sobre el personal Docente e Investigador de la Universidad Autónoma de Madrid en el año 2019. Aún así, haremos inferencia sobre el dataset para ver si coincide."
   ]
  },
  {
   "cell_type": "code",
   "execution_count": 6,
   "id": "1fbe5a0c",
   "metadata": {},
   "outputs": [
    {
     "data": {
      "text/html": [
       "<div>\n",
       "<style scoped>\n",
       "    .dataframe tbody tr th:only-of-type {\n",
       "        vertical-align: middle;\n",
       "    }\n",
       "\n",
       "    .dataframe tbody tr th {\n",
       "        vertical-align: top;\n",
       "    }\n",
       "\n",
       "    .dataframe thead th {\n",
       "        text-align: right;\n",
       "    }\n",
       "</style>\n",
       "<table border=\"1\" class=\"dataframe\">\n",
       "  <thead>\n",
       "    <tr style=\"text-align: right;\">\n",
       "      <th></th>\n",
       "      <th>des_universidad</th>\n",
       "      <th>anio</th>\n",
       "    </tr>\n",
       "  </thead>\n",
       "  <tbody>\n",
       "    <tr>\n",
       "      <th>149</th>\n",
       "      <td>Universidad Autónoma de Madrid</td>\n",
       "      <td>2019</td>\n",
       "    </tr>\n",
       "    <tr>\n",
       "      <th>150</th>\n",
       "      <td>Universidad Autónoma de Madrid</td>\n",
       "      <td>2019</td>\n",
       "    </tr>\n",
       "    <tr>\n",
       "      <th>151</th>\n",
       "      <td>Universidad Autónoma de Madrid</td>\n",
       "      <td>2019</td>\n",
       "    </tr>\n",
       "    <tr>\n",
       "      <th>152</th>\n",
       "      <td>Universidad Autónoma de Madrid</td>\n",
       "      <td>2019</td>\n",
       "    </tr>\n",
       "    <tr>\n",
       "      <th>153</th>\n",
       "      <td>Universidad Autónoma de Madrid</td>\n",
       "      <td>2019</td>\n",
       "    </tr>\n",
       "  </tbody>\n",
       "</table>\n",
       "</div>"
      ],
      "text/plain": [
       "                    des_universidad  anio\n",
       "149  Universidad Autónoma de Madrid  2019\n",
       "150  Universidad Autónoma de Madrid  2019\n",
       "151  Universidad Autónoma de Madrid  2019\n",
       "152  Universidad Autónoma de Madrid  2019\n",
       "153  Universidad Autónoma de Madrid  2019"
      ]
     },
     "execution_count": 6,
     "metadata": {},
     "output_type": "execute_result"
    }
   ],
   "source": [
    "bloque_1 = data_ortigosa[bloques[1]]\n",
    "bloque_1.head()"
   ]
  },
  {
   "cell_type": "code",
   "execution_count": 7,
   "id": "2ab57883",
   "metadata": {},
   "outputs": [
    {
     "data": {
      "text/plain": [
       "des_universidad                 anio\n",
       "Universidad Autónoma de Madrid  2019    1.0\n",
       "dtype: float64"
      ]
     },
     "execution_count": 7,
     "metadata": {},
     "output_type": "execute_result"
    }
   ],
   "source": [
    "bloque_1.value_counts(normalize=True, dropna=False)"
   ]
  },
  {
   "cell_type": "markdown",
   "id": "2dcd5593",
   "metadata": {},
   "source": [
    "En la celda anterior se calculan las probabilidades de obtener cada par de valores (probabilidad conjunta) de los campos que pertenecen al primer bloque. De esta manera, los campos más probables para este bloque serán lo que maximicen la probabilidad conjunta.\n",
    "\n",
    "Como esperábamos, solo existe una posibilidad para la que se obtiene una probabilidad del 100%. Por tanto, inferimos con una confianza del 100% que el profesor Ortigosa era docente en la Universidad Autónoma de Madrid en el año 2019."
   ]
  },
  {
   "cell_type": "markdown",
   "id": "2ed19873",
   "metadata": {},
   "source": [
    "**Bloque 2**"
   ]
  },
  {
   "cell_type": "code",
   "execution_count": 8,
   "id": "38e28976",
   "metadata": {},
   "outputs": [
    {
     "data": {
      "text/html": [
       "<div>\n",
       "<style scoped>\n",
       "    .dataframe tbody tr th:only-of-type {\n",
       "        vertical-align: middle;\n",
       "    }\n",
       "\n",
       "    .dataframe tbody tr th {\n",
       "        vertical-align: top;\n",
       "    }\n",
       "\n",
       "    .dataframe thead th {\n",
       "        text-align: right;\n",
       "    }\n",
       "</style>\n",
       "<table border=\"1\" class=\"dataframe\">\n",
       "  <thead>\n",
       "    <tr style=\"text-align: right;\">\n",
       "      <th></th>\n",
       "      <th>des_pais_nacionalidad</th>\n",
       "      <th>des_continente_nacionalidad</th>\n",
       "      <th>des_agregacion_paises_nacionalidad</th>\n",
       "    </tr>\n",
       "  </thead>\n",
       "  <tbody>\n",
       "    <tr>\n",
       "      <th>149</th>\n",
       "      <td>España</td>\n",
       "      <td>Europa</td>\n",
       "      <td>Europa meridional</td>\n",
       "    </tr>\n",
       "    <tr>\n",
       "      <th>150</th>\n",
       "      <td>España</td>\n",
       "      <td>Europa</td>\n",
       "      <td>Europa meridional</td>\n",
       "    </tr>\n",
       "    <tr>\n",
       "      <th>151</th>\n",
       "      <td>España</td>\n",
       "      <td>Europa</td>\n",
       "      <td>Europa meridional</td>\n",
       "    </tr>\n",
       "    <tr>\n",
       "      <th>152</th>\n",
       "      <td>España</td>\n",
       "      <td>Europa</td>\n",
       "      <td>Europa meridional</td>\n",
       "    </tr>\n",
       "    <tr>\n",
       "      <th>153</th>\n",
       "      <td>España</td>\n",
       "      <td>Europa</td>\n",
       "      <td>Europa meridional</td>\n",
       "    </tr>\n",
       "  </tbody>\n",
       "</table>\n",
       "</div>"
      ],
      "text/plain": [
       "    des_pais_nacionalidad des_continente_nacionalidad  \\\n",
       "149                España                      Europa   \n",
       "150                España                      Europa   \n",
       "151                España                      Europa   \n",
       "152                España                      Europa   \n",
       "153                España                      Europa   \n",
       "\n",
       "    des_agregacion_paises_nacionalidad  \n",
       "149                  Europa meridional  \n",
       "150                  Europa meridional  \n",
       "151                  Europa meridional  \n",
       "152                  Europa meridional  \n",
       "153                  Europa meridional  "
      ]
     },
     "execution_count": 8,
     "metadata": {},
     "output_type": "execute_result"
    }
   ],
   "source": [
    "bloque_2 = data_ortigosa[bloques[2]]\n",
    "bloque_2.head()"
   ]
  },
  {
   "cell_type": "code",
   "execution_count": 9,
   "id": "415aecf5",
   "metadata": {},
   "outputs": [
    {
     "data": {
      "text/plain": [
       "des_pais_nacionalidad  des_continente_nacionalidad  des_agregacion_paises_nacionalidad\n",
       "España                 Europa                       Europa meridional                     0.982143\n",
       "Italia                 Europa                       Europa meridional                     0.017857\n",
       "dtype: float64"
      ]
     },
     "execution_count": 9,
     "metadata": {},
     "output_type": "execute_result"
    }
   ],
   "source": [
    "bloque_2.value_counts(normalize=True, dropna=False)"
   ]
  },
  {
   "cell_type": "markdown",
   "id": "5130c506",
   "metadata": {},
   "source": [
    "A la vista de los resultados obtenidos, inferimos con una confianza del 100% que Álvaro Ortigosa tiene una nacionalidad Europea de la Europa meridional. Respecto al país particular, las dos únicas posibilidades son que tenga nacionalidad Española o Italiana. Dado que lo más probable es que tenga nacionalidad española, concluimos con una confianza del 98.21% que tiene nacionalidad española. \n",
    "\n",
    "Además, en su perfil de Linkedin [[2]](https://es.linkedin.com/in/alvaroortigosa) no aparece ninguna relación con Italia."
   ]
  },
  {
   "cell_type": "markdown",
   "id": "17f44ed0",
   "metadata": {},
   "source": [
    "**Bloque 3**"
   ]
  },
  {
   "cell_type": "code",
   "execution_count": 10,
   "id": "f5116dab",
   "metadata": {},
   "outputs": [
    {
     "data": {
      "text/html": [
       "<div>\n",
       "<style scoped>\n",
       "    .dataframe tbody tr th:only-of-type {\n",
       "        vertical-align: middle;\n",
       "    }\n",
       "\n",
       "    .dataframe tbody tr th {\n",
       "        vertical-align: top;\n",
       "    }\n",
       "\n",
       "    .dataframe thead th {\n",
       "        text-align: right;\n",
       "    }\n",
       "</style>\n",
       "<table border=\"1\" class=\"dataframe\">\n",
       "  <thead>\n",
       "    <tr style=\"text-align: right;\">\n",
       "      <th></th>\n",
       "      <th>des_comunidad_residencia</th>\n",
       "      <th>des_provincia_residencia</th>\n",
       "      <th>des_municipio_residencia</th>\n",
       "    </tr>\n",
       "  </thead>\n",
       "  <tbody>\n",
       "    <tr>\n",
       "      <th>149</th>\n",
       "      <td>Madrid</td>\n",
       "      <td>Madrid</td>\n",
       "      <td>COLMENAR VIEJO</td>\n",
       "    </tr>\n",
       "    <tr>\n",
       "      <th>150</th>\n",
       "      <td>Madrid</td>\n",
       "      <td>Madrid</td>\n",
       "      <td>BOALO, EL</td>\n",
       "    </tr>\n",
       "    <tr>\n",
       "      <th>151</th>\n",
       "      <td>Madrid</td>\n",
       "      <td>Madrid</td>\n",
       "      <td>COLMENAR VIEJO</td>\n",
       "    </tr>\n",
       "    <tr>\n",
       "      <th>152</th>\n",
       "      <td>Madrid</td>\n",
       "      <td>Madrid</td>\n",
       "      <td>ALCOBENDAS</td>\n",
       "    </tr>\n",
       "    <tr>\n",
       "      <th>153</th>\n",
       "      <td>Madrid</td>\n",
       "      <td>Madrid</td>\n",
       "      <td>LEGANÉS</td>\n",
       "    </tr>\n",
       "  </tbody>\n",
       "</table>\n",
       "</div>"
      ],
      "text/plain": [
       "    des_comunidad_residencia des_provincia_residencia des_municipio_residencia\n",
       "149                   Madrid                   Madrid           COLMENAR VIEJO\n",
       "150                   Madrid                   Madrid                BOALO, EL\n",
       "151                   Madrid                   Madrid           COLMENAR VIEJO\n",
       "152                   Madrid                   Madrid               ALCOBENDAS\n",
       "153                   Madrid                   Madrid                  LEGANÉS"
      ]
     },
     "execution_count": 10,
     "metadata": {},
     "output_type": "execute_result"
    }
   ],
   "source": [
    "bloque_3 =  data_ortigosa[bloques[3]]\n",
    "bloque_3.head()"
   ]
  },
  {
   "cell_type": "code",
   "execution_count": 11,
   "id": "32d0379f",
   "metadata": {},
   "outputs": [
    {
     "data": {
      "text/plain": [
       "des_comunidad_residencia  des_provincia_residencia  des_municipio_residencia  \n",
       "Madrid                    Madrid                    MADRID                        0.517857\n",
       "                                                    COLMENAR VIEJO                0.107143\n",
       "                                                    ALCOBENDAS                    0.089286\n",
       "                                                    SAN SEBASTIÁN DE LOS REYES    0.089286\n",
       "                                                    ALCALÁ DE HENARES             0.017857\n",
       "                                                    ALCORCÓN                      0.017857\n",
       "                                                    ALGETE                        0.017857\n",
       "                                                    BOALO, EL                     0.017857\n",
       "                                                    COLMENAREJO                   0.017857\n",
       "                                                    GALAPAGAR                     0.017857\n",
       "                                                    HOYO DE MANZANARES            0.017857\n",
       "                                                    LEGANÉS                       0.017857\n",
       "                                                    MORALZARZAL                   0.017857\n",
       "                                                    POZUELO DE ALARCÓN            0.017857\n",
       "                                                    TRES CANTOS                   0.017857\n",
       "dtype: float64"
      ]
     },
     "execution_count": 11,
     "metadata": {},
     "output_type": "execute_result"
    }
   ],
   "source": [
    "bloque_3.value_counts(normalize=True, dropna=False)"
   ]
  },
  {
   "cell_type": "markdown",
   "id": "c6261d50",
   "metadata": {},
   "source": [
    "Inferimos con una probabilidad del 100% que Ortigosa reside en la Comunidad de Madrid. Respecto al municipio, con una confianza del 51.7% podríamos concluir que Ortigosa pertenece a Madrid o con una confianza del 48.3% que reside en uno de estos municipios (COLMENAR VIEJO, ALCOBENDAS, SAN SEBASTIÁN DE LOS REYES...)."
   ]
  },
  {
   "cell_type": "markdown",
   "id": "67f80aed",
   "metadata": {},
   "source": [
    "**Bloque 4**. Leyendo la bibliografía de Álvaro en [[3]](https://ieeexplore.ieee.org/author/37668186700), concluimos con una confianza del 100% que Ortigosa que nació en 1968."
   ]
  },
  {
   "cell_type": "code",
   "execution_count": 12,
   "id": "8d03436f",
   "metadata": {},
   "outputs": [
    {
     "data": {
      "text/html": [
       "<div>\n",
       "<style scoped>\n",
       "    .dataframe tbody tr th:only-of-type {\n",
       "        vertical-align: middle;\n",
       "    }\n",
       "\n",
       "    .dataframe tbody tr th {\n",
       "        vertical-align: top;\n",
       "    }\n",
       "\n",
       "    .dataframe thead th {\n",
       "        text-align: right;\n",
       "    }\n",
       "</style>\n",
       "<table border=\"1\" class=\"dataframe\">\n",
       "  <thead>\n",
       "    <tr style=\"text-align: right;\">\n",
       "      <th></th>\n",
       "      <th>anio_nacimiento</th>\n",
       "    </tr>\n",
       "  </thead>\n",
       "  <tbody>\n",
       "    <tr>\n",
       "      <th>183</th>\n",
       "      <td>1968</td>\n",
       "    </tr>\n",
       "    <tr>\n",
       "      <th>184</th>\n",
       "      <td>1968</td>\n",
       "    </tr>\n",
       "    <tr>\n",
       "      <th>193</th>\n",
       "      <td>1968</td>\n",
       "    </tr>\n",
       "  </tbody>\n",
       "</table>\n",
       "</div>"
      ],
      "text/plain": [
       "     anio_nacimiento\n",
       "183             1968\n",
       "184             1968\n",
       "193             1968"
      ]
     },
     "execution_count": 12,
     "metadata": {},
     "output_type": "execute_result"
    }
   ],
   "source": [
    "bloque_4 = data_ortigosa[bloques[4]].loc[data_ortigosa.anio_nacimiento == 1968]\n",
    "bloque_4.head()"
   ]
  },
  {
   "cell_type": "markdown",
   "id": "eb379867",
   "metadata": {},
   "source": [
    "Existen 3 profesores que nacieron en 1968. Como este bloque sólo contiene un campo,  no podemos inferir ninguna conclusión más."
   ]
  },
  {
   "cell_type": "markdown",
   "id": "ca219541",
   "metadata": {},
   "source": [
    "**Bloque 5**. En Linkedin [[2]](https://es.linkedin.com/in/alvaroortigosa), y en el portal científico de la Autónoma [[1]](https://portalcientifico.uam.es/ipublic/agent-personal/profile/iMarinaID/04-261195) Ortigosa figuraba como profesor asociado en 2019."
   ]
  },
  {
   "cell_type": "code",
   "execution_count": 13,
   "id": "6612a46e",
   "metadata": {},
   "outputs": [
    {
     "data": {
      "text/html": [
       "<div>\n",
       "<style scoped>\n",
       "    .dataframe tbody tr th:only-of-type {\n",
       "        vertical-align: middle;\n",
       "    }\n",
       "\n",
       "    .dataframe tbody tr th {\n",
       "        vertical-align: top;\n",
       "    }\n",
       "\n",
       "    .dataframe thead th {\n",
       "        text-align: right;\n",
       "    }\n",
       "</style>\n",
       "<table border=\"1\" class=\"dataframe\">\n",
       "  <thead>\n",
       "    <tr style=\"text-align: right;\">\n",
       "      <th></th>\n",
       "      <th>des_tipo_personal</th>\n",
       "      <th>des_categoria_cuerpo_escala</th>\n",
       "      <th>des_tipo_contrato</th>\n",
       "      <th>des_dedicacion</th>\n",
       "      <th>num_horas_semanales_tiempo_parcial</th>\n",
       "      <th>des_situacion_administrativa</th>\n",
       "    </tr>\n",
       "  </thead>\n",
       "  <tbody>\n",
       "    <tr>\n",
       "      <th>155</th>\n",
       "      <td>Personal laboral</td>\n",
       "      <td>Profesor Asociado</td>\n",
       "      <td>Contrato de Duración Determinada</td>\n",
       "      <td>Dedicación a Tiempo Parcial</td>\n",
       "      <td>8.0</td>\n",
       "      <td>Servicio Activo</td>\n",
       "    </tr>\n",
       "    <tr>\n",
       "      <th>158</th>\n",
       "      <td>Personal laboral</td>\n",
       "      <td>Profesor Asociado</td>\n",
       "      <td>Contrato de Duración Determinada</td>\n",
       "      <td>Dedicación a Tiempo Parcial</td>\n",
       "      <td>8.0</td>\n",
       "      <td>Servicio Activo</td>\n",
       "    </tr>\n",
       "    <tr>\n",
       "      <th>159</th>\n",
       "      <td>Personal laboral</td>\n",
       "      <td>Profesor Asociado</td>\n",
       "      <td>Contrato de Duración Determinada</td>\n",
       "      <td>Dedicación a Tiempo Parcial</td>\n",
       "      <td>12.0</td>\n",
       "      <td>Servicio Activo</td>\n",
       "    </tr>\n",
       "    <tr>\n",
       "      <th>163</th>\n",
       "      <td>Personal laboral</td>\n",
       "      <td>Profesor Asociado</td>\n",
       "      <td>Contrato de Duración Determinada</td>\n",
       "      <td>Dedicación a Tiempo Parcial</td>\n",
       "      <td>8.0</td>\n",
       "      <td>Servicio Activo</td>\n",
       "    </tr>\n",
       "    <tr>\n",
       "      <th>164</th>\n",
       "      <td>Personal laboral</td>\n",
       "      <td>Profesor Asociado</td>\n",
       "      <td>Contrato de Duración Determinada</td>\n",
       "      <td>Dedicación a Tiempo Parcial</td>\n",
       "      <td>8.0</td>\n",
       "      <td>Servicio Activo</td>\n",
       "    </tr>\n",
       "  </tbody>\n",
       "</table>\n",
       "</div>"
      ],
      "text/plain": [
       "    des_tipo_personal des_categoria_cuerpo_escala  \\\n",
       "155  Personal laboral           Profesor Asociado   \n",
       "158  Personal laboral           Profesor Asociado   \n",
       "159  Personal laboral           Profesor Asociado   \n",
       "163  Personal laboral           Profesor Asociado   \n",
       "164  Personal laboral           Profesor Asociado   \n",
       "\n",
       "                    des_tipo_contrato               des_dedicacion  \\\n",
       "155  Contrato de Duración Determinada  Dedicación a Tiempo Parcial   \n",
       "158  Contrato de Duración Determinada  Dedicación a Tiempo Parcial   \n",
       "159  Contrato de Duración Determinada  Dedicación a Tiempo Parcial   \n",
       "163  Contrato de Duración Determinada  Dedicación a Tiempo Parcial   \n",
       "164  Contrato de Duración Determinada  Dedicación a Tiempo Parcial   \n",
       "\n",
       "     num_horas_semanales_tiempo_parcial des_situacion_administrativa  \n",
       "155                                 8.0              Servicio Activo  \n",
       "158                                 8.0              Servicio Activo  \n",
       "159                                12.0              Servicio Activo  \n",
       "163                                 8.0              Servicio Activo  \n",
       "164                                 8.0              Servicio Activo  "
      ]
     },
     "execution_count": 13,
     "metadata": {},
     "output_type": "execute_result"
    }
   ],
   "source": [
    "bloque_5 = data_ortigosa[bloques[5]].loc[data_ortigosa.des_categoria_cuerpo_escala == 'Profesor Asociado']\n",
    "bloque_5.head()"
   ]
  },
  {
   "cell_type": "code",
   "execution_count": 14,
   "id": "aac1c9df",
   "metadata": {},
   "outputs": [
    {
     "data": {
      "text/plain": [
       "des_tipo_personal  des_categoria_cuerpo_escala  des_tipo_contrato                 des_dedicacion               num_horas_semanales_tiempo_parcial  des_situacion_administrativa\n",
       "Personal laboral   Profesor Asociado            Contrato de Duración Determinada  Dedicación a Tiempo Parcial  8.0                                 Servicio Activo                 0.909091\n",
       "                                                                                                               12.0                                Servicio Activo                 0.090909\n",
       "dtype: float64"
      ]
     },
     "execution_count": 14,
     "metadata": {},
     "output_type": "execute_result"
    }
   ],
   "source": [
    "bloque_5.value_counts(normalize=True, dropna=False)"
   ]
  },
  {
   "cell_type": "markdown",
   "id": "ffe2f942",
   "metadata": {},
   "source": [
    "Con una probabilidad del 90.9% inferimos de los datos que Ortigosa en 2019 era personal laboral, profesor asociado, con un contrato de Duración Determinada y una dedicación a Tiempo Parcial de 8.0 horas semanales y un servicio activo."
   ]
  },
  {
   "cell_type": "markdown",
   "id": "c9dd2aaf",
   "metadata": {},
   "source": [
    "**Bloque 6**. En el portal científico de la Autónoma [[1]](https://portalcientifico.uam.es/ipublic/agent-personal/profile/iMarinaID/04-261195) figuraba en 2019 como Director del INST. CIENCIAS FORENSES Y DE LA SEGURIDAD. Por tanto, concluimos que si ocupa un cargo unipersonal con una confianza del 100%."
   ]
  },
  {
   "cell_type": "code",
   "execution_count": 15,
   "id": "b12e8d4b",
   "metadata": {},
   "outputs": [
    {
     "data": {
      "text/html": [
       "<div>\n",
       "<style scoped>\n",
       "    .dataframe tbody tr th:only-of-type {\n",
       "        vertical-align: middle;\n",
       "    }\n",
       "\n",
       "    .dataframe tbody tr th {\n",
       "        vertical-align: top;\n",
       "    }\n",
       "\n",
       "    .dataframe thead th {\n",
       "        text-align: right;\n",
       "    }\n",
       "</style>\n",
       "<table border=\"1\" class=\"dataframe\">\n",
       "  <thead>\n",
       "    <tr style=\"text-align: right;\">\n",
       "      <th></th>\n",
       "      <th>ind_cargo_remunerado</th>\n",
       "    </tr>\n",
       "  </thead>\n",
       "  <tbody>\n",
       "    <tr>\n",
       "      <th>155</th>\n",
       "      <td>S</td>\n",
       "    </tr>\n",
       "    <tr>\n",
       "      <th>159</th>\n",
       "      <td>S</td>\n",
       "    </tr>\n",
       "    <tr>\n",
       "      <th>161</th>\n",
       "      <td>S</td>\n",
       "    </tr>\n",
       "    <tr>\n",
       "      <th>165</th>\n",
       "      <td>S</td>\n",
       "    </tr>\n",
       "    <tr>\n",
       "      <th>168</th>\n",
       "      <td>S</td>\n",
       "    </tr>\n",
       "  </tbody>\n",
       "</table>\n",
       "</div>"
      ],
      "text/plain": [
       "    ind_cargo_remunerado\n",
       "155                    S\n",
       "159                    S\n",
       "161                    S\n",
       "165                    S\n",
       "168                    S"
      ]
     },
     "execution_count": 15,
     "metadata": {},
     "output_type": "execute_result"
    }
   ],
   "source": [
    "bloque_6 = data_ortigosa[bloques[6]].loc[data_ortigosa.ind_cargo_remunerado == 'S']\n",
    "bloque_6.head()"
   ]
  },
  {
   "cell_type": "code",
   "execution_count": 16,
   "id": "adac1311",
   "metadata": {},
   "outputs": [
    {
     "data": {
      "text/plain": [
       "ind_cargo_remunerado\n",
       "S                       1.0\n",
       "dtype: float64"
      ]
     },
     "execution_count": 16,
     "metadata": {},
     "output_type": "execute_result"
    }
   ],
   "source": [
    "bloque_6.value_counts(normalize=True, dropna=False)"
   ]
  },
  {
   "cell_type": "markdown",
   "id": "df5030de",
   "metadata": {},
   "source": [
    "**Bloque 7**. De la fuente [[1]](https://portalcientifico.uam.es/ipublic/agent-personal/profile/iMarinaID/04-261195) sabemos que realizó el Doctorado en España en la Universidad Autónoma de Madrid en Enero de 1997 y que lo terminó en Enero del 2000. Además, en la misma fuente indica que lo realizó en Ingeniería Informática y su tesis doctoral se titula: Método para la aplicación de documentación inteligente de frameworks orientados a objetos."
   ]
  },
  {
   "cell_type": "code",
   "execution_count": 17,
   "id": "577509ae",
   "metadata": {},
   "outputs": [
    {
     "data": {
      "text/html": [
       "<div>\n",
       "<style scoped>\n",
       "    .dataframe tbody tr th:only-of-type {\n",
       "        vertical-align: middle;\n",
       "    }\n",
       "\n",
       "    .dataframe tbody tr th {\n",
       "        vertical-align: top;\n",
       "    }\n",
       "\n",
       "    .dataframe thead th {\n",
       "        text-align: right;\n",
       "    }\n",
       "</style>\n",
       "<table border=\"1\" class=\"dataframe\">\n",
       "  <thead>\n",
       "    <tr style=\"text-align: right;\">\n",
       "      <th></th>\n",
       "      <th>des_titulo_doctorado</th>\n",
       "      <th>des_pais_doctorado</th>\n",
       "      <th>des_continente_doctorado</th>\n",
       "      <th>des_agregacion_paises_doctorado</th>\n",
       "      <th>des_universidad_doctorado</th>\n",
       "      <th>anio_lectura_tesis</th>\n",
       "      <th>anio_expedicion_titulo_doctor</th>\n",
       "      <th>des_mencion_europea</th>\n",
       "    </tr>\n",
       "  </thead>\n",
       "  <tbody>\n",
       "    <tr>\n",
       "      <th>171</th>\n",
       "      <td>Uno</td>\n",
       "      <td>España</td>\n",
       "      <td>Europa</td>\n",
       "      <td>Europa meridional</td>\n",
       "      <td>Universidad Autónoma de Madrid</td>\n",
       "      <td>2000.0</td>\n",
       "      <td>2000.0</td>\n",
       "      <td>No</td>\n",
       "    </tr>\n",
       "    <tr>\n",
       "      <th>185</th>\n",
       "      <td>Uno</td>\n",
       "      <td>España</td>\n",
       "      <td>Europa</td>\n",
       "      <td>Europa meridional</td>\n",
       "      <td>Universidad Autónoma de Madrid</td>\n",
       "      <td>2000.0</td>\n",
       "      <td>2000.0</td>\n",
       "      <td>No</td>\n",
       "    </tr>\n",
       "  </tbody>\n",
       "</table>\n",
       "</div>"
      ],
      "text/plain": [
       "    des_titulo_doctorado des_pais_doctorado des_continente_doctorado  \\\n",
       "171                  Uno             España                   Europa   \n",
       "185                  Uno             España                   Europa   \n",
       "\n",
       "    des_agregacion_paises_doctorado       des_universidad_doctorado  \\\n",
       "171               Europa meridional  Universidad Autónoma de Madrid   \n",
       "185               Europa meridional  Universidad Autónoma de Madrid   \n",
       "\n",
       "     anio_lectura_tesis  anio_expedicion_titulo_doctor des_mencion_europea  \n",
       "171              2000.0                         2000.0                  No  \n",
       "185              2000.0                         2000.0                  No  "
      ]
     },
     "execution_count": 17,
     "metadata": {},
     "output_type": "execute_result"
    }
   ],
   "source": [
    "bloque_7 = data_ortigosa[bloques[7]].loc[(data_ortigosa.des_titulo_doctorado == \"Uno\") &\n",
    "            (data_ortigosa.anio_lectura_tesis == 2000) &\n",
    "            (data_ortigosa.des_universidad_doctorado == \"Universidad Autónoma de Madrid\")]\n",
    "bloque_7.head()"
   ]
  },
  {
   "cell_type": "code",
   "execution_count": 18,
   "id": "df002526",
   "metadata": {},
   "outputs": [
    {
     "data": {
      "text/plain": [
       "des_titulo_doctorado  des_pais_doctorado  des_continente_doctorado  des_agregacion_paises_doctorado  des_universidad_doctorado       anio_lectura_tesis  anio_expedicion_titulo_doctor  des_mencion_europea\n",
       "Uno                   España              Europa                    Europa meridional                Universidad Autónoma de Madrid  2000.0              2000.0                         No                     1.0\n",
       "dtype: float64"
      ]
     },
     "execution_count": 18,
     "metadata": {},
     "output_type": "execute_result"
    }
   ],
   "source": [
    "bloque_7.value_counts(normalize=True, dropna=False)"
   ]
  },
  {
   "cell_type": "markdown",
   "id": "8b540053",
   "metadata": {},
   "source": [
    "El resto de campos podemos inferirlos de los datos: Ortigosa expidió en título en el 2000 y no consiguió mención europea con una confianza del 100%."
   ]
  },
  {
   "cell_type": "markdown",
   "id": "7cfb4ddf",
   "metadata": {},
   "source": [
    "**Grupo 8**."
   ]
  },
  {
   "cell_type": "code",
   "execution_count": 19,
   "id": "425af0f8",
   "metadata": {},
   "outputs": [
    {
     "data": {
      "text/html": [
       "<div>\n",
       "<style scoped>\n",
       "    .dataframe tbody tr th:only-of-type {\n",
       "        vertical-align: middle;\n",
       "    }\n",
       "\n",
       "    .dataframe tbody tr th {\n",
       "        vertical-align: top;\n",
       "    }\n",
       "\n",
       "    .dataframe thead th {\n",
       "        text-align: right;\n",
       "    }\n",
       "</style>\n",
       "<table border=\"1\" class=\"dataframe\">\n",
       "  <thead>\n",
       "    <tr style=\"text-align: right;\">\n",
       "      <th></th>\n",
       "      <th>des_tipo_unidad_responsable</th>\n",
       "      <th>des_area_conocimiento</th>\n",
       "    </tr>\n",
       "  </thead>\n",
       "  <tbody>\n",
       "    <tr>\n",
       "      <th>149</th>\n",
       "      <td>Departamento</td>\n",
       "      <td>Lenguajes y Sistemas Informáticos</td>\n",
       "    </tr>\n",
       "    <tr>\n",
       "      <th>150</th>\n",
       "      <td>Departamento</td>\n",
       "      <td>Ciencia de la Computación e Inteligencia Artif...</td>\n",
       "    </tr>\n",
       "    <tr>\n",
       "      <th>151</th>\n",
       "      <td>Departamento</td>\n",
       "      <td>Ciencia de la Computación e Inteligencia Artif...</td>\n",
       "    </tr>\n",
       "    <tr>\n",
       "      <th>152</th>\n",
       "      <td>Departamento</td>\n",
       "      <td>Ciencia de la Computación e Inteligencia Artif...</td>\n",
       "    </tr>\n",
       "    <tr>\n",
       "      <th>153</th>\n",
       "      <td>Departamento</td>\n",
       "      <td>Lenguajes y Sistemas Informáticos</td>\n",
       "    </tr>\n",
       "  </tbody>\n",
       "</table>\n",
       "</div>"
      ],
      "text/plain": [
       "    des_tipo_unidad_responsable  \\\n",
       "149                Departamento   \n",
       "150                Departamento   \n",
       "151                Departamento   \n",
       "152                Departamento   \n",
       "153                Departamento   \n",
       "\n",
       "                                 des_area_conocimiento  \n",
       "149                  Lenguajes y Sistemas Informáticos  \n",
       "150  Ciencia de la Computación e Inteligencia Artif...  \n",
       "151  Ciencia de la Computación e Inteligencia Artif...  \n",
       "152  Ciencia de la Computación e Inteligencia Artif...  \n",
       "153                  Lenguajes y Sistemas Informáticos  "
      ]
     },
     "execution_count": 19,
     "metadata": {},
     "output_type": "execute_result"
    }
   ],
   "source": [
    "bloque_8 = data_ortigosa[bloques[8]]\n",
    "bloque_8.head()"
   ]
  },
  {
   "cell_type": "code",
   "execution_count": 20,
   "id": "759cccbe",
   "metadata": {},
   "outputs": [
    {
     "data": {
      "text/plain": [
       "des_tipo_unidad_responsable  des_area_conocimiento                              \n",
       "Departamento                 Ciencia de la Computación e Inteligencia Artificial    0.535714\n",
       "                             Lenguajes y Sistemas Informáticos                      0.464286\n",
       "dtype: float64"
      ]
     },
     "execution_count": 20,
     "metadata": {},
     "output_type": "execute_result"
    }
   ],
   "source": [
    "bloque_8.value_counts(normalize=True, dropna=False)"
   ]
  },
  {
   "cell_type": "markdown",
   "id": "8bccc3fd",
   "metadata": {},
   "source": [
    "En [[1]](https://portalcientifico.uam.es/ipublic/agent-personal/profile/iMarinaID/04-261195), figura que su área de conocimiento es Lenguajes y Sistemas Informáticos. Sin embargo, no sabemos si en 2019 pertenecía a un área distinta. Los resultados son uniformes, así que no podemos concluir ninguna de las dos posibles opciones."
   ]
  },
  {
   "cell_type": "markdown",
   "id": "795b5d62",
   "metadata": {},
   "source": [
    "**Bloque 9**. En [[1]](https://portalcientifico.uam.es/ipublic/agent-personal/profile/iMarinaID/04-261195)  figura que Ortigosa tenía en 2016 un total de 3 quinquenios y que en 2017 tenía 4 sexenios."
   ]
  },
  {
   "cell_type": "code",
   "execution_count": 21,
   "id": "72246206",
   "metadata": {},
   "outputs": [
    {
     "data": {
      "text/html": [
       "<div>\n",
       "<style scoped>\n",
       "    .dataframe tbody tr th:only-of-type {\n",
       "        vertical-align: middle;\n",
       "    }\n",
       "\n",
       "    .dataframe tbody tr th {\n",
       "        vertical-align: top;\n",
       "    }\n",
       "\n",
       "    .dataframe thead th {\n",
       "        text-align: right;\n",
       "    }\n",
       "</style>\n",
       "<table border=\"1\" class=\"dataframe\">\n",
       "  <thead>\n",
       "    <tr style=\"text-align: right;\">\n",
       "      <th></th>\n",
       "      <th>anio_incorporacion_ap</th>\n",
       "      <th>anio_incorpora_cuerpo_docente</th>\n",
       "      <th>num_trienios</th>\n",
       "      <th>num_quinquenios</th>\n",
       "      <th>num_sexenios</th>\n",
       "    </tr>\n",
       "  </thead>\n",
       "  <tbody>\n",
       "    <tr>\n",
       "      <th>169</th>\n",
       "      <td>NaN</td>\n",
       "      <td>NaN</td>\n",
       "      <td>5</td>\n",
       "      <td>3</td>\n",
       "      <td>4</td>\n",
       "    </tr>\n",
       "    <tr>\n",
       "      <th>187</th>\n",
       "      <td>NaN</td>\n",
       "      <td>NaN</td>\n",
       "      <td>7</td>\n",
       "      <td>3</td>\n",
       "      <td>4</td>\n",
       "    </tr>\n",
       "    <tr>\n",
       "      <th>204</th>\n",
       "      <td>NaN</td>\n",
       "      <td>NaN</td>\n",
       "      <td>6</td>\n",
       "      <td>3</td>\n",
       "      <td>4</td>\n",
       "    </tr>\n",
       "  </tbody>\n",
       "</table>\n",
       "</div>"
      ],
      "text/plain": [
       "     anio_incorporacion_ap  anio_incorpora_cuerpo_docente  num_trienios  \\\n",
       "169                    NaN                            NaN             5   \n",
       "187                    NaN                            NaN             7   \n",
       "204                    NaN                            NaN             6   \n",
       "\n",
       "     num_quinquenios  num_sexenios  \n",
       "169                3             4  \n",
       "187                3             4  \n",
       "204                3             4  "
      ]
     },
     "execution_count": 21,
     "metadata": {},
     "output_type": "execute_result"
    }
   ],
   "source": [
    "bloque_9 = data_ortigosa[bloques[9]].loc[(data_ortigosa.num_sexenios == 4) &\n",
    "            (data_ortigosa.num_quinquenios == 3)]\n",
    "bloque_9.head()"
   ]
  },
  {
   "cell_type": "code",
   "execution_count": 22,
   "id": "14d403a5",
   "metadata": {},
   "outputs": [
    {
     "data": {
      "text/plain": [
       "anio_incorporacion_ap  anio_incorpora_cuerpo_docente  num_trienios  num_quinquenios  num_sexenios\n",
       "NaN                    NaN                            5             3                4               0.333333\n",
       "                                                      6             3                4               0.333333\n",
       "                                                      7             3                4               0.333333\n",
       "dtype: float64"
      ]
     },
     "execution_count": 22,
     "metadata": {},
     "output_type": "execute_result"
    }
   ],
   "source": [
    "bloque_9.value_counts(normalize=True, dropna=False)"
   ]
  },
  {
   "cell_type": "markdown",
   "id": "6614d7af",
   "metadata": {},
   "source": [
    "No tenemos evidencia estadística del número de trienios ni del año de incorporación al cuerpo docente y a la administración pública, ya que todos lo posibles valores tienen una probabilidad uniforme. "
   ]
  },
  {
   "cell_type": "markdown",
   "id": "46fa923e",
   "metadata": {},
   "source": [
    "**Bloque 10**"
   ]
  },
  {
   "cell_type": "code",
   "execution_count": 23,
   "id": "79b4fcad",
   "metadata": {},
   "outputs": [
    {
     "data": {
      "text/html": [
       "<div>\n",
       "<style scoped>\n",
       "    .dataframe tbody tr th:only-of-type {\n",
       "        vertical-align: middle;\n",
       "    }\n",
       "\n",
       "    .dataframe tbody tr th {\n",
       "        vertical-align: top;\n",
       "    }\n",
       "\n",
       "    .dataframe thead th {\n",
       "        text-align: right;\n",
       "    }\n",
       "</style>\n",
       "<table border=\"1\" class=\"dataframe\">\n",
       "  <thead>\n",
       "    <tr style=\"text-align: right;\">\n",
       "      <th></th>\n",
       "      <th>num_tesis</th>\n",
       "    </tr>\n",
       "  </thead>\n",
       "  <tbody>\n",
       "    <tr>\n",
       "      <th>149</th>\n",
       "      <td>1.0</td>\n",
       "    </tr>\n",
       "    <tr>\n",
       "      <th>150</th>\n",
       "      <td>NaN</td>\n",
       "    </tr>\n",
       "    <tr>\n",
       "      <th>151</th>\n",
       "      <td>NaN</td>\n",
       "    </tr>\n",
       "    <tr>\n",
       "      <th>152</th>\n",
       "      <td>NaN</td>\n",
       "    </tr>\n",
       "    <tr>\n",
       "      <th>153</th>\n",
       "      <td>NaN</td>\n",
       "    </tr>\n",
       "  </tbody>\n",
       "</table>\n",
       "</div>"
      ],
      "text/plain": [
       "     num_tesis\n",
       "149        1.0\n",
       "150        NaN\n",
       "151        NaN\n",
       "152        NaN\n",
       "153        NaN"
      ]
     },
     "execution_count": 23,
     "metadata": {},
     "output_type": "execute_result"
    }
   ],
   "source": [
    "bloque_10 = data_ortigosa[bloques[10]]\n",
    "bloque_10.head()"
   ]
  },
  {
   "cell_type": "code",
   "execution_count": 24,
   "id": "1ced33d5",
   "metadata": {},
   "outputs": [
    {
     "data": {
      "text/plain": [
       "num_tesis\n",
       "NaN          0.875000\n",
       "1.0          0.089286\n",
       "2.0          0.035714\n",
       "dtype: float64"
      ]
     },
     "execution_count": 24,
     "metadata": {},
     "output_type": "execute_result"
    }
   ],
   "source": [
    "bloque_10.value_counts(normalize=True, dropna=False)"
   ]
  },
  {
   "cell_type": "markdown",
   "id": "51d29c15",
   "metadata": {},
   "source": [
    "En [[1]](https://portalcientifico.uam.es/ipublic/agent-personal/profile/iMarinaID/04-261195), aparece que Ortigosa ha dirigido 3 tesis pero no encontramos cuantas dirigió en 2019. Por tanto, suponiendo que Nan significa que no ha dirigido ninguna tesis, inferimos con una confianza del 87.5% que Álvaro no dirigió ninguna tesis en 2019."
   ]
  },
  {
   "cell_type": "markdown",
   "id": "b6b8161e",
   "metadata": {},
   "source": [
    "**Bloque 11**. En [[4]](https://www.altmetric.com/details/59878968) se muestra que Ortigosa desarrolló este proyecto como investigador principal en 2019."
   ]
  },
  {
   "cell_type": "code",
   "execution_count": 25,
   "id": "7f377401",
   "metadata": {},
   "outputs": [
    {
     "data": {
      "text/html": [
       "<div>\n",
       "<style scoped>\n",
       "    .dataframe tbody tr th:only-of-type {\n",
       "        vertical-align: middle;\n",
       "    }\n",
       "\n",
       "    .dataframe tbody tr th {\n",
       "        vertical-align: top;\n",
       "    }\n",
       "\n",
       "    .dataframe thead th {\n",
       "        text-align: right;\n",
       "    }\n",
       "</style>\n",
       "<table border=\"1\" class=\"dataframe\">\n",
       "  <thead>\n",
       "    <tr style=\"text-align: right;\">\n",
       "      <th></th>\n",
       "      <th>ind_investigador_principal</th>\n",
       "    </tr>\n",
       "  </thead>\n",
       "  <tbody>\n",
       "    <tr>\n",
       "      <th>156</th>\n",
       "      <td>S</td>\n",
       "    </tr>\n",
       "    <tr>\n",
       "      <th>157</th>\n",
       "      <td>S</td>\n",
       "    </tr>\n",
       "    <tr>\n",
       "      <th>161</th>\n",
       "      <td>S</td>\n",
       "    </tr>\n",
       "    <tr>\n",
       "      <th>163</th>\n",
       "      <td>S</td>\n",
       "    </tr>\n",
       "    <tr>\n",
       "      <th>165</th>\n",
       "      <td>S</td>\n",
       "    </tr>\n",
       "  </tbody>\n",
       "</table>\n",
       "</div>"
      ],
      "text/plain": [
       "    ind_investigador_principal\n",
       "156                          S\n",
       "157                          S\n",
       "161                          S\n",
       "163                          S\n",
       "165                          S"
      ]
     },
     "execution_count": 25,
     "metadata": {},
     "output_type": "execute_result"
    }
   ],
   "source": [
    "bloque_11 = data_ortigosa[bloques[11]].loc[data_ortigosa.ind_investigador_principal=='S']\n",
    "bloque_11.head()"
   ]
  },
  {
   "cell_type": "code",
   "execution_count": 26,
   "id": "2eda017f",
   "metadata": {},
   "outputs": [
    {
     "data": {
      "text/plain": [
       "ind_investigador_principal\n",
       "S                             1.0\n",
       "dtype: float64"
      ]
     },
     "execution_count": 26,
     "metadata": {},
     "output_type": "execute_result"
    }
   ],
   "source": [
    "bloque_11.value_counts(normalize=True, dropna=False)"
   ]
  },
  {
   "cell_type": "markdown",
   "id": "902cf698",
   "metadata": {},
   "source": [
    "Como no hay más campos en este bloque no podemos inferir más información."
   ]
  },
  {
   "cell_type": "markdown",
   "id": "1bcdd473",
   "metadata": {},
   "source": [
    "### Conclusión\n",
    "\n",
    "Finalmente, se muestra la información recogida de Ortigosa junto con la confianza que tenemos. "
   ]
  },
  {
   "cell_type": "markdown",
   "id": "12d9d2a9",
   "metadata": {},
   "source": [
    "| des_universidad | anio | des_pais_nacionalidad | des_continente_nacionalidad | des_agregacion_paises_nacionalidad | des_comunidad_residencia | des_provincia_residencia | des_municipio_residencia | anio_nacimiento | des_tipo_personal | des_categoria_cuerpo_escala | des_tipo_contrato | des_dedicacion | num_horas_semanales_tiempo_parcial | des_situacion_administrativa | ind_cargo_remunerado | des_titulo_doctorado | des_pais_doctorado | des_continente_doctorado| des_agregacion_paises_doctorado | des_universidad_doctorado | anio_lectura_tesis | anio_expedicion_titulo_doctor | des_mencion_europea | des_tipo_unidad_responsable | des_area_conocimiento | anio_incorporacion_ap | anio_incorpora_cuerpo_docente | num_trienios | num_quinquenios | num_sexenios | num_tesis | ind_investigador_principal\n",
    "| --- | --- | --- | --- | --- | --- | --- | --- | --- | --- | --- | --- | --- | --- | --- | --- | --- | --- | --- | --- | --- | --- | --- | --- | --- | --- | --- | --- | --- | --- | --- | --- | --- |\n",
    "| Universidad Autónoma de Madrid | 2019 | España | Europa | Europa meridional | Madrid | Madrid | MADRID | 1968 | Personal laboral | Profesor Asociado |Contrato de Duración Determinada  |Dedicación a Tiempo Parcial|8.0 |Servicio Activo | S | Uno|España|Europa|Europa meridional|Universidad Autónoma de Madrid|2000.0|2000.0|No|Departamento| - | -|-|-|3|4|0|S|\n",
    "| 100% | 100% | 98.21% | 100% | 100% | 100% | 100% | 51.78% | 100% | 90.9% |100% |90.9% |90.9% |90.9% |90.9% | 100% | 100% | 100% | 100% | 100% |100%| 100% |100%|100% |100% |-|-|-|-|100%|100%| 87.5% |100%|\n"
   ]
  }
 ],
 "metadata": {
  "kernelspec": {
   "display_name": "Python 3 (ipykernel)",
   "language": "python",
   "name": "python3"
  },
  "language_info": {
   "codemirror_mode": {
    "name": "ipython",
    "version": 3
   },
   "file_extension": ".py",
   "mimetype": "text/x-python",
   "name": "python",
   "nbconvert_exporter": "python",
   "pygments_lexer": "ipython3",
   "version": "3.8.10"
  }
 },
 "nbformat": 4,
 "nbformat_minor": 5
}
