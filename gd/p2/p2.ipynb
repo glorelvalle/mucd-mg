{
 "cells": [
  {
   "cell_type": "code",
   "execution_count": 1,
   "id": "6e270dc2",
   "metadata": {},
   "outputs": [],
   "source": [
    "import pandas as pd\n",
    "from datetime import datetime\n",
    "import os"
   ]
  },
  {
   "cell_type": "markdown",
   "id": "be327ccc",
   "metadata": {},
   "source": [
    "## Procesamiento y Tratamiento de datos\n",
    "\n",
    "Vamos a suponer que los datos llegan todos los días a las 3:00 AM al bucket **gd-ld-p2**, donde gd hace referencia a la unidad de negocio, ld hace referencia a la capa de landing donde se depositan los datos en crudo y p2 hace referencia al proyecto. La ruta donde se depositan los ficheros *movies.csv* y *ratings.csv* es la siguiente:\n",
    "\n",
    "- gd-ld-p2/movielens/year={YYYY}/month={MM}/day={DD}/movies.csv\n",
    "- gd-ld-p2/movielens/year={YYYY}/month={MM}/day={DD}/ratings.csv\n",
    "\n",
    "Tras el proceso de limpieza y transformación de los mismos, los datos finales serán depositados en el bucket de staging **gd-st-p2**, bajo la ruta:\n",
    "\n",
    "- gd-st-p2/movielens/year={YYYY}/month={MM}/day={DD}/movies.csv\n",
    "\n",
    "- gd-st-p2/movielens/year={YYYY}/month={MM}/day={DD}/ratings.csv\n",
    "\n",
    "Finalmente, la transformación de los datos se depositará en el bucket de bussines, denominado **gd-bu-p2**, bajo la ruta:\n",
    "\n",
    "- gd-bu-p2/movielens/year={YYYY}/month={MM}/day={DD}/datos_procesados.csv\n",
    "\n",
    "\n",
    "Se asume que landing es la capa donde se cargan los datos en crudo y staging es la capa donde se depositan los datos limpios sin missing values ni outliers y bussines en la capa donde se cargan los datos transformados para poder calcular de manera óptima la consulta pedida. \n",
    "\n",
    "La partición de la ruta por origen y año, mes y día permite una mejor organización de los mismos, y facilita la creación de un historial y las posibles búsquedas de logs.\n",
    "\n",
    "\n",
    "Además, vamos a suponer que estamos a día 21 de noviembre de 2019 para poder seleccionar los géneros con mejores puntuaciones de la última semana, ya que solo se disponen datos hasta ese día.\n",
    "\n",
    "También vamos a suponer que tenemos activado un sistema de notificaciones en 'movielens/movies' y 'movielens/ratings', de manera que cuando los datos en crudo se cargen en el bucket de landing en las rutas anteriores, se llame de manera automática a la función **landing_to_staging** que se encarga de tratar los valores perdidos, normalizar los valores necesarios y limpiar los outliers. De igual manera, suponemos que tenemos activado un sistema de notificaciones en el bucket de staging para que cuando se carguen los datos limpios se llame a la función **staging_to_business** que realice la transformación requerida y guarde los datos en el fichero datos_procesados.csv."
   ]
  },
  {
   "cell_type": "markdown",
   "id": "c47b6593",
   "metadata": {},
   "source": [
    "Antes de comenzar a programar nuestras funciones que serán llamadas de manera automática, vamos a analizar los datos para ver que tipo de preprocesado es necesario llevar a cabo.\n",
    "\n",
    "## Tratamiento de valores perdidos\n",
    "\n",
    "**Movies.csv**"
   ]
  },
  {
   "cell_type": "code",
   "execution_count": 2,
   "id": "23b73888",
   "metadata": {},
   "outputs": [
    {
     "name": "stdout",
     "output_type": "stream",
     "text": [
      "Total of Nan values in movies:\n",
      " movieId    0\n",
      "title      0\n",
      "genres     0\n",
      "dtype: int64\n",
      "\n",
      "Total of empty strings in movies:\n",
      " movieId    0\n",
      "title      0\n",
      "genres     0\n",
      "dtype: int64\n",
      "\n",
      "Datatype infered by pandas:\n",
      " movieId     int64\n",
      "title      object\n",
      "genres     object\n",
      "dtype: object\n",
      "\n",
      "Conteo de géneros:\n",
      " Drama                                   9056\n",
      "Comedy                                  5674\n",
      "(no genres listed)                      5062\n",
      "Documentary                             4731\n",
      "Comedy|Drama                            2386\n",
      "                                        ... \n",
      "Animation|Children|Comedy|Horror           1\n",
      "Action|Adventure|Drama|Fantasy|IMAX        1\n",
      "Action|Crime|Drama|Thriller|IMAX           1\n",
      "Animation|Fantasy|Musical                  1\n",
      "Comedy|Horror|Mystery|Sci-Fi|Western       1\n",
      "Name: genres, Length: 1662, dtype: int64\n"
     ]
    }
   ],
   "source": [
    "movies_path = 'gd-ld-p2/movielens/year=2019/month=11/day=21/movies.csv'\n",
    "movies = pd.read_csv(movies_path)\n",
    "total_na = movies.isna().sum()\n",
    "empty_strings = movies[movies == ''].notna().sum()\n",
    "print('Total of Nan values in movies:\\n',total_na)\n",
    "print('\\nTotal of empty strings in movies:\\n',empty_strings)\n",
    "print('\\nDatatype infered by pandas:\\n',movies.dtypes)\n",
    "print('\\nConteo de géneros:\\n', movies.genres.value_counts())"
   ]
  },
  {
   "cell_type": "markdown",
   "id": "64b4c562",
   "metadata": {},
   "source": [
    "Observamos que no existen valores nulos, pero que existe un tipo de género denominado **(no genres listed)**. Este tipo de valor es importante mantenerlo en nuestro dataset ya que nos puede ayudar a detectar películas que son muy votadas y no tengan asignado un género, y así poder añadírselo. \n",
    "\n",
    "Concluimos que el conjunto de datos movies.csv no contiene valores perdidos y puede ser procesado sin tratamiento."
   ]
  },
  {
   "cell_type": "markdown",
   "id": "2a01c639",
   "metadata": {},
   "source": [
    "**ratings.csv**"
   ]
  },
  {
   "cell_type": "code",
   "execution_count": null,
   "id": "2e0b8b2b",
   "metadata": {},
   "outputs": [],
   "source": [
    "ratings_path = 'gd-ld-p2/movielens/year=2019/month=11/day=21/ratings.csv'\n",
    "ratings = pd.read_csv(ratings_path)\n",
    "total_na = ratings.isna().sum()\n",
    "empty_strings = ratings[ratings == ''].notna().sum()\n",
    "print('\\nTotal of Nan values in ratings:\\n',total_na)\n",
    "print('\\nTotal of empty strings in ratings:\\n',empty_strings)\n",
    "print('\\nDatatype infered by pandas:\\n',movies.dtypes)"
   ]
  },
  {
   "cell_type": "markdown",
   "id": "1c69aa28",
   "metadata": {},
   "source": [
    "En este caso encontramos un total de 495115 Nan values en las votaciones. Vamos a comprobar cuántas votaciones del total son Nan values y si el resto tienen valores que pertenezcan al conjunto de valores posibles: float (0.5 a 5)"
   ]
  },
  {
   "cell_type": "code",
   "execution_count": null,
   "id": "205f67d7",
   "metadata": {},
   "outputs": [],
   "source": [
    "total_na.rating/ratings.shape[0]*100"
   ]
  },
  {
   "cell_type": "markdown",
   "id": "dbdd8483",
   "metadata": {},
   "source": [
    "Es decir, existen un total de 1.98% de votaciones perdidas."
   ]
  },
  {
   "cell_type": "markdown",
   "id": "162eaa88",
   "metadata": {},
   "source": [
    "Finalmente eliminamos del conjunto de datos las filas que contengan valores perdidos."
   ]
  },
  {
   "cell_type": "code",
   "execution_count": null,
   "id": "6f581a04",
   "metadata": {},
   "outputs": [],
   "source": [
    "ratings.dropna(axis=\"index\", subset=[\"rating\"], inplace=True)"
   ]
  },
  {
   "cell_type": "markdown",
   "id": "d8bba020",
   "metadata": {},
   "source": [
    "## Normalización\n",
    "\n",
    "Respecto al proceso de normalización, para este proyecto no se ve necesario realizar ningún tipo de normalización ya que el ojetivo es realizar un promedio de las puntuaciones, y para dicho fin no es necesario normalizar los datos. "
   ]
  },
  {
   "cell_type": "markdown",
   "id": "5443a86f",
   "metadata": {},
   "source": [
    "## Limpieza de outliers\n",
    "\n",
    "Para la limpieza de outliers, dado que el único dato numérico con el que trabajamos son las puntuaciones 'ratings', vamos a comprobar que los valores que toma esa columna están en el rango establecido $[0.5,5]$ con incrementos de $0.5$. En primer lugar, echaremos un vistazo a los valores que contiene el dataset."
   ]
  },
  {
   "cell_type": "code",
   "execution_count": null,
   "id": "8276b432",
   "metadata": {},
   "outputs": [],
   "source": [
    "ratings.rating.value_counts()"
   ]
  },
  {
   "cell_type": "markdown",
   "id": "243b20e4",
   "metadata": {},
   "source": [
    "Vemos que existen puntuaciones negativas y puntuaciones superiores a 5, lo cual viola las restricciones anteriores. Por tanto, el siguiente paso será eliminar del conjunto de datos, las filas que contengan puntuaciones que estén fuera de los límites establecidos."
   ]
  },
  {
   "cell_type": "code",
   "execution_count": null,
   "id": "d24c8ccd",
   "metadata": {},
   "outputs": [],
   "source": [
    "ratings = ratings[(0.5 <= ratings.rating) & (ratings.rating <= 5)]\n",
    "ratings.rating.value_counts()"
   ]
  },
  {
   "cell_type": "markdown",
   "id": "e9aa20b9",
   "metadata": {},
   "source": [
    "Ahora podemos observar con mayor claridad la existencia de puntuaciones cuyos decimales pertenecen al rango $(0.5,0)$. Para este tipo de puntuaciones, en lugar de eliminarlas, se realizará un redondeo al múltiplo de 5 más cercano."
   ]
  },
  {
   "cell_type": "code",
   "execution_count": null,
   "id": "78d2d0cc",
   "metadata": {},
   "outputs": [],
   "source": [
    "ratings.rating = (ratings.rating*2).round()/2\n",
    "ratings.rating.value_counts()"
   ]
  },
  {
   "cell_type": "markdown",
   "id": "c539d092",
   "metadata": {},
   "source": [
    "### Automatizándolo\n",
    "\n",
    "A continuación, se definen las funciones encargadas de preprocesar los datos limpiando los valores perdidos para ambos ficheros y tratando los outliers del campo ratings, realizando las mismas operaciones que arriba y guardando los datos resultante en la capa de staging bajo las ruta:\n",
    "\n",
    "- gd-st-p2/movielens/year={YYYY}/month={MM}/day={DD}/movies.csv\n",
    "- gd-st-p2/movielens/year={YYYY}/month={MM}/day={DD}/ratings.csv"
   ]
  },
  {
   "cell_type": "code",
   "execution_count": null,
   "id": "0cb5df39",
   "metadata": {},
   "outputs": [],
   "source": [
    "def preprocess(df, is_rating=False):\n",
    "    # clean missing values\n",
    "    columns = df.columns[df.isna().any()].tolist()\n",
    "    df.dropna(axis=\"index\", subset=columns, inplace=True)\n",
    "    \n",
    "    # clean rating outliers\n",
    "    if is_rating:\n",
    "        df = df[(0.5 <= df.rating) & (df.rating <= 5)]\n",
    "        df.rating = (df.rating*2).round()/2\n",
    "    \n",
    "    return df\n",
    "\n",
    "def landing_to_staging(event):\n",
    "    ld_bucket = event['bucket']\n",
    "    movies_key = event['movies']\n",
    "    ratings_key = event['ratings']\n",
    "    \n",
    "    ld_movies_path = ld_bucket +'/'+ movies_key\n",
    "    ld_ratings_path = ld_bucket +'/'+ ratings_key\n",
    "    \n",
    "    print('Reading movies data from landing...')\n",
    "    df_movies = pd.read_csv(ld_movies_path)\n",
    "    print('Reading ratings data from landing...')\n",
    "    df_ratings = pd.read_csv(ld_ratings_path)\n",
    "    \n",
    "    print('Preprocessing movies data...')\n",
    "    df_movies = preprocess(df_movies)\n",
    "    print('Preprocessing ratings data...')\n",
    "    df_ratings = preprocess(df_ratings, is_rating=True)\n",
    "     \n",
    "    bucket_split = ld_bucket.split('-')\n",
    "    st_bucket = f'{bucket_split[0]}-st-{bucket_split[-1]}'\n",
    "    st_movies_path = f'{st_bucket}/{movies_key}'\n",
    "    st_ratings_path = f'{st_bucket}/{ratings_key}'\n",
    "    \n",
    "    folder = '/'.join(st_ratings_path.split('/')[:-1])\n",
    "    if not os.path.exists(folder):\n",
    "        os.makedirs(folder)\n",
    "    print('Writing movies data in staging...')\n",
    "    df_movies.to_csv(st_movies_path)\n",
    "    print('Writing ratings data in staging...')\n",
    "    df_ratings.to_csv(st_ratings_path)"
   ]
  },
  {
   "cell_type": "code",
   "execution_count": null,
   "id": "8d848021",
   "metadata": {},
   "outputs": [],
   "source": [
    "event = {\n",
    "    'bucket': 'gd-ld-p2',\n",
    "    'movies': 'movielens/year=2019/month=11/day=21/movies.csv',\n",
    "    'ratings': 'movielens/year=2019/month=11/day=21/ratings.csv'\n",
    "}\n",
    "landing_to_staging(event)"
   ]
  },
  {
   "cell_type": "markdown",
   "id": "c7723bd9",
   "metadata": {},
   "source": [
    "## Transformación de datos\n",
    "\n",
    "A continuación, se define el proceso de transformación de los conjuntos anteriores para poder disponibilizar el conjunto de datos que contenga la información correcta y estructurada de tal forma que permita realizar la consulta (lista de géneros ordenados por promedio de puntuación que se han obtenido en la última semana) de forma eficiente.\n",
    "\n",
    "La automatización de este proceso será llevado a cabo por la función **staging_to_business** que será ejecutada cuando se reciba una notificación de que tanto los ficheros rating como movies han sido preprocesados con éxito."
   ]
  },
  {
   "cell_type": "code",
   "execution_count": null,
   "id": "a69663b2",
   "metadata": {},
   "outputs": [],
   "source": [
    "col_movies = ['movieId', 'genres']\n",
    "movies = pd.read_csv('gd-st-p2/movielens/year=2019/month=11/day=21/movies.csv', usecols=col_movies)\n",
    "col_ratings = ['movieId', 'rating', 'timestamp']\n",
    "ratings = pd.read_csv('gd-st-p2/movielens/year=2019/month=11/day=21/ratings.csv', usecols=col_ratings)"
   ]
  },
  {
   "cell_type": "markdown",
   "id": "080ea30d",
   "metadata": {},
   "source": [
    "A continuación, se desglosan los distintos géneros para cada película y se realiza un join con los datos de rating, para poder realizar la consulta solicitada."
   ]
  },
  {
   "cell_type": "code",
   "execution_count": null,
   "id": "61426d3c",
   "metadata": {},
   "outputs": [],
   "source": [
    "movies = movies.assign(genres=movies.genres.str.split('|')).explode('genres')\n",
    "movies.head()"
   ]
  },
  {
   "cell_type": "code",
   "execution_count": null,
   "id": "b01f25e2",
   "metadata": {},
   "outputs": [],
   "source": [
    "ratings_movies = ratings.merge(movies, on=\"movieId\", how=\"left\")\n",
    "ratings_movies.head()"
   ]
  },
  {
   "cell_type": "markdown",
   "id": "545981f0",
   "metadata": {},
   "source": [
    "Se seleccionan aquellas películas cuyas votaciones tengan menos de 7 días."
   ]
  },
  {
   "cell_type": "code",
   "execution_count": null,
   "id": "62041260",
   "metadata": {},
   "outputs": [],
   "source": [
    "today = datetime.timestamp(datetime(2019, 11, 21, 0, 0))\n",
    "last7 = today - 7*86400\n",
    "ratings_movies = ratings_movies[(ratings_movies['timestamp'] > last7) & (ratings_movies['timestamp'] <= today)]"
   ]
  },
  {
   "cell_type": "code",
   "execution_count": null,
   "id": "7302689f",
   "metadata": {},
   "outputs": [],
   "source": [
    "ratings_movies = ratings_movies.drop(columns=['movieId'])\n",
    "ratings_movies.head()"
   ]
  },
  {
   "cell_type": "markdown",
   "id": "3ca10de7",
   "metadata": {},
   "source": [
    "Se realiza la consulta solicitada: géneros cinematrográficos más votados de los últimos 7 días."
   ]
  },
  {
   "cell_type": "code",
   "execution_count": null,
   "id": "6dc46659",
   "metadata": {},
   "outputs": [],
   "source": [
    "ratings_movies.groupby(['genres']).mean().sort_values(by=['rating'], ascending=False)"
   ]
  },
  {
   "cell_type": "markdown",
   "id": "898bc570",
   "metadata": {},
   "source": [
    "### Automatizándolo\n",
    "\n",
    "A continuación, se define la función que se encarga de transformar los datos utilizando las mismas operaciones que arriba, y de depositar los datos resultantes en la ruta\n",
    "\n",
    "- gd-st-p2/movielens/year={YYYY}/month={MM}/day={DD}/datos_procesados.csv"
   ]
  },
  {
   "cell_type": "code",
   "execution_count": null,
   "id": "6bc4a16b",
   "metadata": {},
   "outputs": [],
   "source": [
    "def staging_to_business(event):\n",
    "    st_bucket = event['bucket']\n",
    "    movies_key = event['movies']\n",
    "    ratings_key = event['ratings']\n",
    "    \n",
    "    st_movies_path = st_bucket +'/'+ movies_key\n",
    "    st_ratings_path = st_bucket +'/'+ ratings_key\n",
    "    \n",
    "    print('Reading movies data from staging...')\n",
    "    col_movies = ['movieId', 'genres']\n",
    "    df_movies = pd.read_csv(st_movies_path, usecols=col_movies)\n",
    "    \n",
    "    print('Reading ratings data from staging...')\n",
    "    col_ratings = ['movieId', 'rating', 'timestamp']\n",
    "    df_ratings = pd.read_csv(st_ratings_path, usecols=col_ratings)\n",
    "    \n",
    "    print('Transform data...')\n",
    "    df_movies = df_movies.assign(genres=df_movies.genres.str.split('|')).explode('genres')\n",
    "    df_ratings_movies = df_ratings.merge(df_movies, on=\"movieId\", how=\"left\")\n",
    "    today = datetime.timestamp(datetime(2019, 11, 21, 0, 0))\n",
    "    last7 = today - 7*86400\n",
    "    df_ratings_movies = df_ratings_movies[(df_ratings_movies['timestamp'] > last7) & (df_ratings_movies['timestamp'] <= today)]\n",
    "    df_ratings_movies = df_ratings_movies.drop(columns=['movieId'])\n",
    "    \n",
    "    bucket_split = st_bucket.split('-')\n",
    "    bu_bucket = f'{bucket_split[0]}-bu-{bucket_split[-1]}'\n",
    "    ratings_movies_key = '/'.join(ratings_key.split('/')[:-1])+'/datos_procesados.csv'\n",
    "    bu_ratings_movies_path = f'{bu_bucket}/{ratings_movies_key}'\n",
    "    \n",
    "    print('Writing preprocess data in business...')\n",
    "    folder = '/'.join(bu_ratings_movies_path.split('/')[:-1])\n",
    "    if not os.path.exists(folder):\n",
    "        os.makedirs(folder)\n",
    "    df_ratings_movies.to_csv(bu_ratings_movies_path)"
   ]
  },
  {
   "cell_type": "code",
   "execution_count": null,
   "id": "e6678815",
   "metadata": {},
   "outputs": [],
   "source": [
    "event = {\n",
    "    'bucket': 'gd-st-p2',\n",
    "    'movies': 'movielens/year=2019/month=11/day=21/movies.csv',\n",
    "    'ratings': 'movielens/year=2019/month=11/day=21/ratings.csv'\n",
    "}\n",
    "staging_to_business(event)"
   ]
  },
  {
   "cell_type": "code",
   "execution_count": null,
   "id": "f7829e6f",
   "metadata": {},
   "outputs": [],
   "source": []
  }
 ],
 "metadata": {
  "kernelspec": {
   "display_name": "Python 3 (ipykernel)",
   "language": "python",
   "name": "python3"
  },
  "language_info": {
   "codemirror_mode": {
    "name": "ipython",
    "version": 3
   },
   "file_extension": ".py",
   "mimetype": "text/x-python",
   "name": "python",
   "nbconvert_exporter": "python",
   "pygments_lexer": "ipython3",
   "version": "3.8.10"
  }
 },
 "nbformat": 4,
 "nbformat_minor": 5
}
