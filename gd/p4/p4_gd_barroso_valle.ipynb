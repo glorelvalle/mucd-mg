{
 "cells": [
  {
   "cell_type": "markdown",
   "metadata": {},
   "source": [
    "<center style=\"font-size:30px;padding-bottom:10px;color:DarkBlue;\">Gestión de Datos</center>\n",
    "<center> _____________________________________________________________________________________________ </center>\n",
    "<p>&nbsp;</p>\n",
    "<center style=\"font-size:25px;padding-bottom:10px;color:CornFlowerBlue;\">Práctica 4</center>\n",
    "<center style=\"font-size:20px;padding-bottom:10px;color:LightCoral;\">Ejercicio sobre Analítica y Visualización de Datos con Power BI </center>\n",
    "<center style=\"font-size:15px;\">María Barroso Honrubia</center>\n",
    "<center style=\"font-size:15px;\">Gloria del Valle Cano</center>\n",
    "<center style=\"font-size:12px;\">17 de diciembre 2021</center>\n"
   ]
  },
  {
   "cell_type": "code",
   "execution_count": 10,
   "metadata": {},
   "outputs": [],
   "source": [
    "import pandas as pd\n",
    "import requests\n",
    "import re\n",
    "from bs4 import BeautifulSoup"
   ]
  },
  {
   "cell_type": "code",
   "execution_count": 11,
   "metadata": {},
   "outputs": [
    {
     "data": {
      "text/html": [
       "<div>\n",
       "<style scoped>\n",
       "    .dataframe tbody tr th:only-of-type {\n",
       "        vertical-align: middle;\n",
       "    }\n",
       "\n",
       "    .dataframe tbody tr th {\n",
       "        vertical-align: top;\n",
       "    }\n",
       "\n",
       "    .dataframe thead th {\n",
       "        text-align: right;\n",
       "    }\n",
       "</style>\n",
       "<table border=\"1\" class=\"dataframe\">\n",
       "  <thead>\n",
       "    <tr style=\"text-align: right;\">\n",
       "      <th></th>\n",
       "      <th>ccaa_iso</th>\n",
       "      <th>fecha</th>\n",
       "      <th>num_casos</th>\n",
       "      <th>num_casos_prueba_pcr</th>\n",
       "      <th>num_casos_prueba_test_ac</th>\n",
       "      <th>num_casos_prueba_ag</th>\n",
       "      <th>num_casos_prueba_elisa</th>\n",
       "      <th>num_casos_prueba_desconocida</th>\n",
       "    </tr>\n",
       "  </thead>\n",
       "  <tbody>\n",
       "    <tr>\n",
       "      <th>0</th>\n",
       "      <td>AN</td>\n",
       "      <td>2020-01-01</td>\n",
       "      <td>0</td>\n",
       "      <td>0</td>\n",
       "      <td>0</td>\n",
       "      <td>0</td>\n",
       "      <td>0</td>\n",
       "      <td>0</td>\n",
       "    </tr>\n",
       "    <tr>\n",
       "      <th>1</th>\n",
       "      <td>AR</td>\n",
       "      <td>2020-01-01</td>\n",
       "      <td>0</td>\n",
       "      <td>0</td>\n",
       "      <td>0</td>\n",
       "      <td>0</td>\n",
       "      <td>0</td>\n",
       "      <td>0</td>\n",
       "    </tr>\n",
       "    <tr>\n",
       "      <th>2</th>\n",
       "      <td>AS</td>\n",
       "      <td>2020-01-01</td>\n",
       "      <td>0</td>\n",
       "      <td>0</td>\n",
       "      <td>0</td>\n",
       "      <td>0</td>\n",
       "      <td>0</td>\n",
       "      <td>0</td>\n",
       "    </tr>\n",
       "    <tr>\n",
       "      <th>3</th>\n",
       "      <td>CB</td>\n",
       "      <td>2020-01-01</td>\n",
       "      <td>0</td>\n",
       "      <td>0</td>\n",
       "      <td>0</td>\n",
       "      <td>0</td>\n",
       "      <td>0</td>\n",
       "      <td>0</td>\n",
       "    </tr>\n",
       "    <tr>\n",
       "      <th>4</th>\n",
       "      <td>CE</td>\n",
       "      <td>2020-01-01</td>\n",
       "      <td>1</td>\n",
       "      <td>0</td>\n",
       "      <td>0</td>\n",
       "      <td>1</td>\n",
       "      <td>0</td>\n",
       "      <td>0</td>\n",
       "    </tr>\n",
       "  </tbody>\n",
       "</table>\n",
       "</div>"
      ],
      "text/plain": [
       "  ccaa_iso       fecha  num_casos  num_casos_prueba_pcr  \\\n",
       "0       AN  2020-01-01          0                     0   \n",
       "1       AR  2020-01-01          0                     0   \n",
       "2       AS  2020-01-01          0                     0   \n",
       "3       CB  2020-01-01          0                     0   \n",
       "4       CE  2020-01-01          1                     0   \n",
       "\n",
       "   num_casos_prueba_test_ac  num_casos_prueba_ag  num_casos_prueba_elisa  \\\n",
       "0                         0                    0                       0   \n",
       "1                         0                    0                       0   \n",
       "2                         0                    0                       0   \n",
       "3                         0                    0                       0   \n",
       "4                         0                    1                       0   \n",
       "\n",
       "   num_casos_prueba_desconocida  \n",
       "0                             0  \n",
       "1                             0  \n",
       "2                             0  \n",
       "3                             0  \n",
       "4                             0  "
      ]
     },
     "execution_count": 11,
     "metadata": {},
     "output_type": "execute_result"
    }
   ],
   "source": [
    "# Observamos los datos descargados\n",
    "df = pd.read_csv('casos_diagnostico_ccaa.csv')\n",
    "df.head()"
   ]
  },
  {
   "cell_type": "code",
   "execution_count": 12,
   "metadata": {},
   "outputs": [
    {
     "data": {
      "text/plain": [
       "['AN',\n",
       " 'AR',\n",
       " 'AS',\n",
       " 'CB',\n",
       " 'CE',\n",
       " 'CL',\n",
       " 'CM',\n",
       " 'CN',\n",
       " 'CT',\n",
       " 'EX',\n",
       " 'GA',\n",
       " 'IB',\n",
       " 'MC',\n",
       " 'MD',\n",
       " 'ML',\n",
       " 'NC',\n",
       " 'PV',\n",
       " 'RI',\n",
       " 'VC']"
      ]
     },
     "execution_count": 12,
     "metadata": {},
     "output_type": "execute_result"
    }
   ],
   "source": [
    "# Vemos la información de la primera columna\n",
    "isos = sorted(list(set(list(df.ccaa_iso))))\n",
    "isos"
   ]
  },
  {
   "cell_type": "code",
   "execution_count": 5,
   "metadata": {},
   "outputs": [],
   "source": [
    "# Buscamos la ISO oficial asociada a la comunidad autónoma\n",
    "r = requests.get(\"https://es.wikipedia.org/wiki/ISO_3166-2:ES#cite_note-newsletter-1\")\n",
    "soup = BeautifulSoup(r.text, 'html.parser')\n",
    "\n",
    "# Encontramos la primera tabla de Wikipedia\n",
    "table = soup.find_all('table')[0]\n",
    "\n",
    "# Obtenemos las filas en HTML\n",
    "rows = table.findAll(lambda tag: tag.name=='tr')\n",
    "\n",
    "# Obtenemos el contenido de la tabla\n",
    "ccaa = [list(filter(lambda item: item, rows[iso].text.strip().split('\\n'))) for iso, _ in enumerate(rows)][1:]\n",
    "\n",
    "# Limpiamos los strings de la ISO y de los nombres\n",
    "new_isos = [i.split('ES-')[1] for i in [ccaa[i][0].split(',')[0].split('(')[0].split('/')[0].strip() for i in range(len(ccaa[1:]))]]\n",
    "nombres = [ccaa[i][1].split(',')[0].split('(')[0].split('/')[0].strip() for i in range(len(ccaa[1:]))]\n",
    "\n",
    "# Guardamos en un diccionario los nombres con su correspondiente ISO\n",
    "dicc = {k:v for k,v in zip(new_isos, sorted(nombres))}"
   ]
  },
  {
   "cell_type": "code",
   "execution_count": 6,
   "metadata": {},
   "outputs": [
    {
     "data": {
      "text/plain": [
       "{'CE', 'ML', 'VC'}"
      ]
     },
     "execution_count": 6,
     "metadata": {},
     "output_type": "execute_result"
    }
   ],
   "source": [
    "# Vemos que faltan 3 datos\n",
    "set(isos) - set(new_isos)"
   ]
  },
  {
   "cell_type": "code",
   "execution_count": 7,
   "metadata": {},
   "outputs": [
    {
     "data": {
      "text/plain": [
       "{'AN': 'Andalucía',\n",
       " 'AR': 'Aragón',\n",
       " 'AS': 'Asturias',\n",
       " 'CN': 'Canarias',\n",
       " 'CB': 'Cantabria',\n",
       " 'CM': 'Castilla y León',\n",
       " 'CL': 'Castilla-La Mancha',\n",
       " 'CT': 'Catalunya',\n",
       " 'EX': 'Extremadura',\n",
       " 'GA': 'Galicia',\n",
       " 'IB': 'Illes Balears',\n",
       " 'RI': 'La Rioja',\n",
       " 'MD': 'Madrid',\n",
       " 'MC': 'Murcia',\n",
       " 'NC': 'Navarra',\n",
       " 'PV': 'País Vasco',\n",
       " 'VC': 'Comunidad Valenciana',\n",
       " 'CE': 'Ceuta',\n",
       " 'ML': 'Melilla'}"
      ]
     },
     "execution_count": 7,
     "metadata": {},
     "output_type": "execute_result"
    }
   ],
   "source": [
    "# Los añadimos a mano\n",
    "dicc['VC'] = 'Comunidad Valenciana'\n",
    "dicc['CE'] = 'Ceuta'\n",
    "dicc['ML'] = 'Melilla'\n",
    "dicc"
   ]
  },
  {
   "cell_type": "code",
   "execution_count": 13,
   "metadata": {},
   "outputs": [],
   "source": [
    "# Cambiamos el identificador de la comunidad autónoma\n",
    "df.ccaa_iso = df.ccaa_iso.map(dicc)\n",
    "\n",
    "# Cambiamos el nombre de las columnas del csv\n",
    "df.columns = ['Comunidad Autonoma', \n",
    "              'Fecha', \n",
    "              'Casos confirmados', \n",
    "              'Casos con test PCR', \n",
    "              'Casos con anticuerpos',\n",
    "              'Casos con test antigenos',\n",
    "              'Casos con test Elisa',\n",
    "              'Casos con otra prueba']"
   ]
  },
  {
   "cell_type": "code",
   "execution_count": 14,
   "metadata": {},
   "outputs": [
    {
     "data": {
      "text/html": [
       "<div>\n",
       "<style scoped>\n",
       "    .dataframe tbody tr th:only-of-type {\n",
       "        vertical-align: middle;\n",
       "    }\n",
       "\n",
       "    .dataframe tbody tr th {\n",
       "        vertical-align: top;\n",
       "    }\n",
       "\n",
       "    .dataframe thead th {\n",
       "        text-align: right;\n",
       "    }\n",
       "</style>\n",
       "<table border=\"1\" class=\"dataframe\">\n",
       "  <thead>\n",
       "    <tr style=\"text-align: right;\">\n",
       "      <th></th>\n",
       "      <th>Comunidad Autonoma</th>\n",
       "      <th>Fecha</th>\n",
       "      <th>Casos confirmados</th>\n",
       "      <th>Casos con test PCR</th>\n",
       "      <th>Casos con anticuerpos</th>\n",
       "      <th>Casos con test antigenos</th>\n",
       "      <th>Casos con test Elisa</th>\n",
       "      <th>Casos con otra prueba</th>\n",
       "    </tr>\n",
       "  </thead>\n",
       "  <tbody>\n",
       "    <tr>\n",
       "      <th>0</th>\n",
       "      <td>Andalucía</td>\n",
       "      <td>2020-01-01</td>\n",
       "      <td>0</td>\n",
       "      <td>0</td>\n",
       "      <td>0</td>\n",
       "      <td>0</td>\n",
       "      <td>0</td>\n",
       "      <td>0</td>\n",
       "    </tr>\n",
       "    <tr>\n",
       "      <th>1</th>\n",
       "      <td>Aragón</td>\n",
       "      <td>2020-01-01</td>\n",
       "      <td>0</td>\n",
       "      <td>0</td>\n",
       "      <td>0</td>\n",
       "      <td>0</td>\n",
       "      <td>0</td>\n",
       "      <td>0</td>\n",
       "    </tr>\n",
       "    <tr>\n",
       "      <th>2</th>\n",
       "      <td>Asturias</td>\n",
       "      <td>2020-01-01</td>\n",
       "      <td>0</td>\n",
       "      <td>0</td>\n",
       "      <td>0</td>\n",
       "      <td>0</td>\n",
       "      <td>0</td>\n",
       "      <td>0</td>\n",
       "    </tr>\n",
       "    <tr>\n",
       "      <th>3</th>\n",
       "      <td>Cantabria</td>\n",
       "      <td>2020-01-01</td>\n",
       "      <td>0</td>\n",
       "      <td>0</td>\n",
       "      <td>0</td>\n",
       "      <td>0</td>\n",
       "      <td>0</td>\n",
       "      <td>0</td>\n",
       "    </tr>\n",
       "    <tr>\n",
       "      <th>4</th>\n",
       "      <td>Ceuta</td>\n",
       "      <td>2020-01-01</td>\n",
       "      <td>1</td>\n",
       "      <td>0</td>\n",
       "      <td>0</td>\n",
       "      <td>1</td>\n",
       "      <td>0</td>\n",
       "      <td>0</td>\n",
       "    </tr>\n",
       "  </tbody>\n",
       "</table>\n",
       "</div>"
      ],
      "text/plain": [
       "  Comunidad Autonoma       Fecha  Casos confirmados  Casos con test PCR  \\\n",
       "0          Andalucía  2020-01-01                  0                   0   \n",
       "1             Aragón  2020-01-01                  0                   0   \n",
       "2           Asturias  2020-01-01                  0                   0   \n",
       "3          Cantabria  2020-01-01                  0                   0   \n",
       "4              Ceuta  2020-01-01                  1                   0   \n",
       "\n",
       "   Casos con anticuerpos  Casos con test antigenos  Casos con test Elisa  \\\n",
       "0                      0                         0                     0   \n",
       "1                      0                         0                     0   \n",
       "2                      0                         0                     0   \n",
       "3                      0                         0                     0   \n",
       "4                      0                         1                     0   \n",
       "\n",
       "   Casos con otra prueba  \n",
       "0                      0  \n",
       "1                      0  \n",
       "2                      0  \n",
       "3                      0  \n",
       "4                      0  "
      ]
     },
     "execution_count": 14,
     "metadata": {},
     "output_type": "execute_result"
    }
   ],
   "source": [
    "# Vemos como ha quedado\n",
    "df.head()"
   ]
  },
  {
   "cell_type": "code",
   "execution_count": 18,
   "metadata": {},
   "outputs": [
    {
     "data": {
      "text/plain": [
       "False"
      ]
     },
     "execution_count": 18,
     "metadata": {},
     "output_type": "execute_result"
    }
   ],
   "source": [
    "# Revisamos que no hay duplicados\n",
    "df.duplicated().any()"
   ]
  },
  {
   "cell_type": "code",
   "execution_count": 17,
   "metadata": {},
   "outputs": [
    {
     "data": {
      "text/plain": [
       "Comunidad Autonoma          False\n",
       "Fecha                       False\n",
       "Casos confirmados           False\n",
       "Casos con test PCR          False\n",
       "Casos con anticuerpos       False\n",
       "Casos con test antigenos    False\n",
       "Casos con test Elisa        False\n",
       "Casos con otra prueba       False\n",
       "dtype: bool"
      ]
     },
     "execution_count": 17,
     "metadata": {},
     "output_type": "execute_result"
    }
   ],
   "source": [
    "# Revisamos que no hayan valores NaN\n",
    "df.isna().any()"
   ]
  },
  {
   "cell_type": "code",
   "execution_count": 19,
   "metadata": {},
   "outputs": [],
   "source": [
    "# Guardamos el nuevo dataset\n",
    "df.to_csv('covid_processed_data.csv', index=False)"
   ]
  },
  {
   "cell_type": "code",
   "execution_count": 20,
   "metadata": {},
   "outputs": [],
   "source": [
    "# Tambien en formato excel\n",
    "df.to_excel('covid_processed_data.xlsx', engine='xlsxwriter')"
   ]
  },
  {
   "cell_type": "code",
   "execution_count": null,
   "metadata": {},
   "outputs": [],
   "source": []
  }
 ],
 "metadata": {
  "interpreter": {
   "hash": "783a82df1077204cfca341a65992758a52c4c6d1f81a5d1532917402838d8b8d"
  },
  "kernelspec": {
   "display_name": "Python 3.9.7 64-bit ('base': conda)",
   "language": "python",
   "name": "python3"
  },
  "language_info": {
   "codemirror_mode": {
    "name": "ipython",
    "version": 3
   },
   "file_extension": ".py",
   "mimetype": "text/x-python",
   "name": "python",
   "nbconvert_exporter": "python",
   "pygments_lexer": "ipython3",
   "version": "3.9.7"
  },
  "orig_nbformat": 4
 },
 "nbformat": 4,
 "nbformat_minor": 2
}
