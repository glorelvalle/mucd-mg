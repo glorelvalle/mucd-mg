{
 "cells": [
  {
   "cell_type": "markdown",
   "id": "0b008db7",
   "metadata": {},
   "source": [
    "# Gradient Boosting"
   ]
  },
  {
   "cell_type": "code",
   "execution_count": 1,
   "id": "f0222751",
   "metadata": {},
   "outputs": [],
   "source": [
    "%matplotlib inline\n",
    "import numpy as np\n",
    "import scipy as sp\n",
    "from scipy import stats\n",
    "import matplotlib.pyplot as plt\n",
    "import pandas as pd \n",
    "from sklearn.model_selection import train_test_split\n",
    "from sklearn.preprocessing import LabelBinarizer\n",
    "from sklearn.ensemble import GradientBoostingClassifier,GradientBoostingRegressor\n",
    "from sklearn.metrics import r2_score\n",
    "from sklearn import datasets\n",
    "from sklearn.tree import DecisionTreeRegressor\n",
    "import timeit"
   ]
  },
  {
   "cell_type": "code",
   "execution_count": 2,
   "id": "c05abdf2",
   "metadata": {},
   "outputs": [],
   "source": [
    "def createDataSet(n,model,ymargin,noise=None,output_boundary=False):\n",
    "    x = np.random.rand(n,1)*2.0*np.pi\n",
    "    xbnd = np.linspace(0,2.0*np.pi,100)\n",
    "\n",
    "    if model == 'sine':\n",
    "        y = (np.random.rand(n,1) - 0.5)*2.2\n",
    "        c = y > np.sin(x)\n",
    "        ybnd = np.sin(xbnd)\n",
    "    elif model == 'linear':\n",
    "        y = np.random.rand(n,1)*2.0*np.pi\n",
    "        c = y > x\n",
    "        ybnd = xbnd\n",
    "    elif model == 'square':\n",
    "        y = np.random.rand(n,1)*4.0*np.pi*np.pi\n",
    "        c = y > x*x\n",
    "        ybnd = xbnd*xbnd\n",
    "    else:\n",
    "        y = np.random.rand(n,1)*2.0*np.pi\n",
    "        c = y > x\n",
    "        ybnd = xbnd\n",
    "    \n",
    "    y[c == True] = y[c == True] + ymargin\n",
    "    y[c == False] = y[c == False] - ymargin\n",
    "    \n",
    "    if noise is not None:\n",
    "        y = y + noise * np.random.randn(n,1)\n",
    "        x = x + noise * np.random.randn(n,1)\n",
    "\n",
    "    if output_boundary == True:\n",
    "        return x, y, (c*1).ravel(), xbnd, ybnd\n",
    "    else:\n",
    "        return x, y, (c*1).ravel()\n",
    "    \n",
    "def plotModel(x,y,clase,clf,title=\"\"):\n",
    "    from matplotlib.colors import ListedColormap\n",
    "    \n",
    "    x_min, x_max = x.min() - .2, x.max() + .2\n",
    "    y_min, y_max = y.min() - .2, y.max() + .2\n",
    "    hx = (x_max - x_min)/100.\n",
    "    hy = (y_max - y_min)/100.\n",
    "    xx, yy = np.meshgrid(np.arange(x_min, x_max, hx), np.arange(y_min, y_max, hy))\n",
    "\n",
    "    if hasattr(clf, \"decision_function\"):\n",
    "        z = clf.decision_function(np.c_[xx.ravel(), yy.ravel()])\n",
    "    elif hasattr(clf, \"predict_proba\"):\n",
    "        z = clf.predict_proba(np.c_[xx.ravel(), yy.ravel()])[:, 1]\n",
    "    else:\n",
    "        z = clf.predict(np.c_[xx.ravel(), yy.ravel()])\n",
    "\n",
    "    z = z.reshape(xx.shape)\n",
    "    cm = plt.cm.RdBu\n",
    "    cm_bright = ListedColormap(['#FF0000', '#0000FF'])\n",
    "    \n",
    "    plt.contourf(xx, yy, z, cmap=cm, alpha=.8)\n",
    "    plt.contour(xx, yy, z, [0.5], linewidths=[2], colors=['k'])\n",
    "\n",
    "    if clase is not None:\n",
    "        plt.scatter(x[clase==0], y[clase==0], c='#FF0000')\n",
    "        plt.scatter(x[clase==1], y[clase==1], c='#0000FF')\n",
    "    else:\n",
    "        plt.plot(x,y,'g', linewidth=3)\n",
    "        \n",
    "    plt.gca().set_xlim(xx.min(), xx.max())\n",
    "    plt.gca().set_ylim(yy.min(), yy.max())\n",
    "    plt.grid(True)\n",
    "    plt.xlabel(\"X\")\n",
    "    plt.ylabel(\"Y\")\n",
    "    plt.title(title)\n",
    "\n",
    "def plotData(x,y,c,style0,style1,title=''):\n",
    "    plt.scatter(x[c==0],y[c==0],**style0)\n",
    "    plt.scatter(x[c==1],y[c==1],**style1)\n",
    "    plt.grid(True)\n",
    "    plt.axis([x.min()-0.2, x.max()+0.2, y.min()-0.2, y.max()+0.2])\n",
    "    plt.xlabel(\"X\")\n",
    "    plt.ylabel(\"Y\")\n",
    "    plt.title(title)"
   ]
  },
  {
   "cell_type": "markdown",
   "id": "046ebe14",
   "metadata": {},
   "source": [
    "### Implementación"
   ]
  },
  {
   "cell_type": "code",
   "execution_count": 3,
   "id": "eabea9b5",
   "metadata": {},
   "outputs": [],
   "source": [
    "class SquaredErrorLoss:\n",
    "    \"\"\" Clase que define elementos para la función cuadrática de perdida \n",
    "        para regresión \"\"\"\n",
    "    \n",
    "    def F0(_, X, y):\n",
    "        \"\"\" Calcula el valor constate que minimiza la salida 'y' \"\"\"\n",
    "        return np.mean(y)\n",
    "\n",
    "    def residuos(_, y, F):\n",
    "        \"\"\" Calcula los residuos para un objetivo 'y' y \n",
    "            una salida del modelo F \"\"\"\n",
    "        return y - F\n",
    "\n",
    "    def paso_newton_hoja(_, y, residuos, valor):\n",
    "        \"\"\" Función para actualizar la salida de una hoja del árbol\n",
    "        \n",
    "           Recibe información sobre los ejemplos de una hoja dada. En concreto\n",
    "           para los ejemplos que caen en una hoja:\n",
    "              * El vector de valores a predecir (y)\n",
    "              * Los pseudo-residuos (residuos) sobre los que se ha\n",
    "                entrenado al arbol regresor ht\n",
    "           Además recibe el valor actual de salida de la hoja\n",
    "              \n",
    "            Debe devolver el valor actualizado\n",
    "        \"\"\"\n",
    "        # Los multiplicadores son 1, luego el valor de la hoja no se actualiza\n",
    "        return valor\n",
    "    \n",
    "    def predict(_, y):\n",
    "        return y\n",
    "    \n",
    "    def __call__(self, y, F):\n",
    "        \"\"\" Devuelve el valor de la función de pérdida para un objetivo 'y' y \n",
    "            una salida del modelo F \"\"\"\n",
    "        return 0.5*(y-F)**2\n",
    "    \n",
    "class LogLoss:\n",
    "    \"\"\" Clase que define elementos para la función logística de perdida \n",
    "        para clasificación de dos clases {-1, +1} \"\"\"\n",
    "    \n",
    "    def F0(_, X, y):\n",
    "        \"\"\" Calcula el valor constate que minimiza la salida 'y' \"\"\"\n",
    "        y_mean = np.mean(y)\n",
    "        return 0.5*np.log((1.0+y_mean)/(1.0-y_mean))\n",
    "\n",
    "    def residuos(_, y, F):\n",
    "        \"\"\" Calcula los residuos para un objetivo 'y' y \n",
    "            una salida del modelo F \"\"\"\n",
    "        return 2.0*y/(1+np.exp(2.0*y*F))\n",
    "\n",
    "    def paso_newton_hoja(_, y, residuos, valor):\n",
    "        \"\"\" Función para actualizar la salida de una hoja el árbol\n",
    "        \n",
    "           Recibe información sobre los ejemplos de una hoja dada. En concreto\n",
    "           para los ejemplos que caen en una hoja:\n",
    "              * El vector de valores a predecir (y)\n",
    "              * Los pseudo-residuos (residuos) sobre los que se ha\n",
    "                entrenado alarbol regresor ht\n",
    "           Además recine el valor actual de salida de la hoja\n",
    "              \n",
    "            Debe devolver el valor actualizado\n",
    "        \"\"\"\n",
    "        residuos_abs = np.abs(residuos)\n",
    "        try:\n",
    "            return np.sum(residuos)/np.sum(residuos_abs*(2.0-residuos_abs))\n",
    "        except ZeroDivisionError:\n",
    "            return 0.0\n",
    "    \n",
    "    def predict(_, y):\n",
    "        return 2*((1.0/(1.0 + np.exp(-2 * y))) >= 0.5) - 1\n",
    "        \n",
    "\n",
    "    def __call__(self,y, F):\n",
    "        \"\"\" Devuelve el valor de la función de pérdida para un objetivo 'y' y \n",
    "            una salida del modelo F \"\"\"\n",
    "        return np.log(1+np.exp(-2.0*y*F))\n",
    "    \n",
    "class GBCasero:\n",
    "    def __init__(self, n_estimators=101, loss=SquaredErrorLoss(), eta=0.1, depth=3):\n",
    "        self.n_estimators = n_estimators\n",
    "        self._estimators  = []\n",
    "        self.depth        = depth\n",
    "        self.eta          = eta\n",
    "        # La implementación de loss se usará en fit para crear el algoritmo\n",
    "        # GB de forma genérica.\n",
    "        self.loss         = loss\n",
    "    \n",
    "    def fit(self,X,y):\n",
    "        \"\"\"\n",
    "          Inicializa GB \n",
    "        \"\"\"\n",
    "        class F0:\n",
    "            predict = lambda x: self.loss.F0(X, y)\n",
    "        self._estimators.append(F0)\n",
    "        \n",
    "        for i in range(self.n_estimators):\n",
    "            tree = DecisionTreeRegressor(max_depth = self.depth)\n",
    "            \"\"\"\n",
    "              Rellenar esta parte para implementar GB \n",
    "              Se debe utilizar la función paso_newton de abajo\n",
    "            \"\"\"\n",
    "            residuos = self.loss.residuos(y, self.predict(X))\n",
    "            tree = tree.fit(X, residuos)\n",
    "            self.paso_newton_general(tree, X, y, residuos)\n",
    "            self._estimators.append(tree)\n",
    "            \n",
    "    def predict(self,X):\n",
    "        \"\"\" Combinamos los valores de pesos y hs para obtener la 'salida', y:\n",
    "               * Para regresión se devuelve 'salida'\n",
    "               * Para clasificación de 2 clases se calcula la probabilidad\n",
    "                  con una sigmoidal (1 / (1 + np.exp(-2*salida))) y se \n",
    "                  devuelve la clase más probable \"\"\"\n",
    "        \n",
    "        salida = sum(i.predict(X)*self.eta for i in self._estimators)\n",
    "        return self.loss.predict(salida)   \n",
    "            \n",
    "    def paso_newton_general(self, tree, X, y, residuos):\n",
    "        \"\"\" Esta función actualiza todas las hojas de salida\n",
    "            del árbol 'tree' utilizado la función paso_newton_hoja\n",
    "            de las clases de funcion de pérdida \"\"\"\n",
    "        TREE_LEAF = -1\n",
    "        tree = tree.tree_\n",
    "        self.leaf_indices = tree.apply(np.array(X,dtype=np.float32))\n",
    "        for leaf in np.where(tree.children_left == TREE_LEAF)[0]:\n",
    "            ii = self.leaf_indices==leaf\n",
    "            tree.value[leaf,0,0] = self.loss.paso_newton_hoja(y[ii],\n",
    "                                                              residuos[ii],\n",
    "                                                              tree.value[leaf,0,0])\n",
    "\n"
   ]
  },
  {
   "cell_type": "markdown",
   "id": "4341887a",
   "metadata": {},
   "source": [
    "### Análisis de Gradient Boosting\n",
    "\n",
    "#### Datos utilizados\n",
    "\n",
    "Para realizar las pruebas se utilizarán como conjuntos de datos\n",
    "- Para regresión: **diabetes** de Sklearn\n",
    "- Para clasificación: **magic04.csv** y el siguiente conjunto de datos generado a partir de una sinusoidal:"
   ]
  },
  {
   "cell_type": "code",
   "execution_count": 4,
   "id": "0f1c1ac3",
   "metadata": {},
   "outputs": [
    {
     "data": {
      "image/png": "[encoded data removed]",
      "text/plain": [
       "<Figure size 432x288 with 1 Axes>"
      ]
     },
     "metadata": {
      "needs_background": "light"
     },
     "output_type": "display_data"
    }
   ],
   "source": [
    "# Problem data:\n",
    "np.random.seed(11)\n",
    "n = 300\n",
    "model = 'sine'\n",
    "ymargin = 0.\n",
    "noise = 0.3 \n",
    "x1, x2, y_train, xbnd, ybnd = createDataSet(n, model, ymargin, noise, True)\n",
    "x1test, x2test, y_test = createDataSet(n*10, model, ymargin, noise)\n",
    "plotData(x1,x2,y_train,{'c':'#FF0000'},{'c':'#0000FF'})\n",
    "X_train = np.concatenate((x1, x2), axis = 1)\n",
    "X_test = np.concatenate((x1test, x2test), axis = 1)"
   ]
  },
  {
   "cell_type": "markdown",
   "id": "c8b92660",
   "metadata": {},
   "source": [
    "### Gradient Boosting para clasificación\n",
    "\n",
    "A continuación, se calcula la precisión obtenida al clasificar los conjuntos de datos obtenidos a partir de una sinoidal y de 'magic04.csv' utilizando nuestro modelo Gradient Boosting y el modelo implementado en Sklearn, utilizando los mismos parámetros en ambos modelos.\n",
    "\n",
    "Además, para el caso de los datos generados mediante una sinoidal, se ilustra la frontera de decisión. Para el conjunto de datos de 'magic04.csv' se ilustran los tiempos aproximados de entrenamiento y clasificación para ambos modelos. "
   ]
  },
  {
   "cell_type": "markdown",
   "id": "3a672968",
   "metadata": {},
   "source": [
    "#### Utilizando Sine Data"
   ]
  },
  {
   "cell_type": "code",
   "execution_count": 5,
   "id": "77ceda02",
   "metadata": {},
   "outputs": [
    {
     "name": "stdout",
     "output_type": "stream",
     "text": [
      "Accuracy in Sine dataset with GBCasero = 0.8536666666666667\n"
     ]
    },
    {
     "data": {
      "image/png": "[encoded data removed]",
      "text/plain": [
       "<Figure size 432x288 with 1 Axes>"
      ]
     },
     "metadata": {
      "needs_background": "light"
     },
     "output_type": "display_data"
    }
   ],
   "source": [
    "# Basic example\n",
    "lb     = LabelBinarizer(pos_label = 1, neg_label = -1)\n",
    "y_train = lb.fit_transform(y_train).ravel()\n",
    "y_test  = lb.transform(y_test).ravel()\n",
    "\n",
    "gb = GBCasero(loss=LogLoss())\n",
    "gb.fit(X_train, y_train)\n",
    "acc = np.sum(gb.predict(X_test)==y_test)/len(y_test)\n",
    "\n",
    "print(\"Accuracy in Sine dataset with GBCasero =\",acc)\n",
    "plotModel(x1,x2,y_train,gb,\"Acc=\"+str(acc))"
   ]
  },
  {
   "cell_type": "code",
   "execution_count": 6,
   "id": "dec39fb2",
   "metadata": {},
   "outputs": [
    {
     "name": "stdout",
     "output_type": "stream",
     "text": [
      "Accuracy in Sine dataset with GradientBoostingClassifier = 0.8556666666666667\n"
     ]
    },
    {
     "data": {
      "image/png": "[encoded data removed]",
      "text/plain": [
       "<Figure size 432x288 with 1 Axes>"
      ]
     },
     "metadata": {
      "needs_background": "light"
     },
     "output_type": "display_data"
    }
   ],
   "source": [
    "clf = GradientBoostingClassifier(n_estimators=101, learning_rate=0.1,max_depth=3)\n",
    "clf.fit(X_train, y_train)\n",
    "acc = np.sum(clf.predict(X_test)==y_test)/len(y_test)\n",
    "print(\"Accuracy in Sine dataset with GradientBoostingClassifier =\",acc)\n",
    "plotModel(x1,x2,y_train,clf,\"Acc=\"+str(acc))"
   ]
  },
  {
   "cell_type": "markdown",
   "id": "82ddeb59",
   "metadata": {},
   "source": [
    "#### Utilizando Magic04.csv"
   ]
  },
  {
   "cell_type": "code",
   "execution_count": 7,
   "id": "9cd9c736",
   "metadata": {},
   "outputs": [
    {
     "name": "stdout",
     "output_type": "stream",
     "text": [
      "GBCasero\n",
      "- Tiempo de entrenamiento con 7608 ejemplos: 30.91 s.\n",
      "- Tiempo de clasificar 11412 ejemplos: 0.8194 s.\n",
      "- Accuracy in Magic04 = 0.8533999298983526\n",
      "\n",
      "GradientBoostingClassifier\n",
      "- Tiempo de entrenamiento con 7608 ejemplos: 2.645 s.\n",
      "- Tiempo de clasificar 11412 ejemplos: 0.02726 s.\n",
      "- Accuracy in Magic04 = 0.8671573781983877\n"
     ]
    }
   ],
   "source": [
    "fP = 'magic04.csv'\n",
    "dfP = pd.read_csv(fP, sep=',')\n",
    "\n",
    "X_train, X_test, y_train, y_test = train_test_split(dfP.values[:,:-1], dfP.values[:,-1], \n",
    "                                          test_size=0.6, random_state=1)\n",
    "lb   = LabelBinarizer(pos_label = 1, neg_label = -1)\n",
    "y_train = lb.fit_transform(y_train).ravel()\n",
    "y_test = lb.transform(y_test).ravel()\n",
    "\n",
    "print('GBCasero')\n",
    "gb = GBCasero(loss=LogLoss())\n",
    "tic = timeit.default_timer()\n",
    "gb.fit(X_train, y_train)\n",
    "toc = timeit.default_timer()\n",
    "print(\"- Tiempo de entrenamiento con {} ejemplos: {:.4g} s.\".format(len(X_train),(toc - tic)))\n",
    "tic = timeit.default_timer()\n",
    "acc =np.sum(gb.predict(X_test)==y_test)/len(y_test)\n",
    "toc = timeit.default_timer()\n",
    "print(\"- Tiempo de clasificar {:g} ejemplos: {:.4g} s.\".format(len(X_test), (toc - tic)))\n",
    "print(\"- Accuracy in Magic04 =\",acc)\n",
    "\n",
    "\n",
    "print('\\nGradientBoostingClassifier')\n",
    "clf = GradientBoostingClassifier(n_estimators=101, learning_rate=0.1,max_depth=3)\n",
    "tic = timeit.default_timer()\n",
    "clf.fit(X_train, y_train)\n",
    "toc = timeit.default_timer()\n",
    "print(\"- Tiempo de entrenamiento con {} ejemplos: {:.4g} s.\".format(len(X_train),(toc - tic)))\n",
    "tic = timeit.default_timer()\n",
    "acc = clf.score(X_test, y_test)\n",
    "toc = timeit.default_timer()\n",
    "print(\"- Tiempo de clasificar {:g} ejemplos: {:.4g} s.\".format(len(X_test), (toc - tic)))\n",
    "print(\"- Accuracy in Magic04 =\",acc)"
   ]
  },
  {
   "cell_type": "markdown",
   "id": "cee1c813",
   "metadata": {},
   "source": [
    "### Gradient Boosting para regresión\n",
    "\n",
    "A continuación, se calcula el coeficiente de determinación $R^2$ obtenido para las predicciones de los datos de diabetes de la librería sklearn utilizando nuestro modelo Gradient Boosting y el modelo implementado en Sklearn, utilizando los mismos parámetros en ambos modelos. Además, se ilustran los tiempos aproximados de entrenamiento y predicción para ambos modelos."
   ]
  },
  {
   "cell_type": "code",
   "execution_count": 8,
   "id": "e556ff0a",
   "metadata": {},
   "outputs": [
    {
     "name": "stdout",
     "output_type": "stream",
     "text": [
      "GBCasero\n",
      "- Tiempo de entrenamiento con 309 ejemplos: 0.4918 s.\n",
      "- Tiempo de predecir 133 ejemplos: 0.008044 s.\n",
      "- Score in diabetes = 0.45456744177826525\n",
      "\n",
      "GradientBoostingRegressor\n",
      "- Tiempo de entrenamiento con 309 ejemplos: 0.07763 s.\n",
      "- Tiempo de predecir 133 ejemplos: 0.001221 s.\n",
      "- Score in diabetes = 0.4427130005422424\n"
     ]
    }
   ],
   "source": [
    "diabetes = datasets.load_diabetes()\n",
    "X, y = diabetes.data, diabetes.target\n",
    "X_train, X_test, y_train, y_test = train_test_split(X, y, test_size=0.3, random_state=13)\n",
    "\n",
    "print('GBCasero')\n",
    "gb = GBCasero(loss=SquaredErrorLoss())\n",
    "tic = timeit.default_timer()\n",
    "gb.fit(X_train, y_train)\n",
    "toc = timeit.default_timer()\n",
    "print(\"- Tiempo de entrenamiento con {} ejemplos: {:.4g} s.\".format(len(X_train),(toc - tic)))\n",
    "tic = timeit.default_timer()\n",
    "mse = r2_score(y_test, gb.predict(X_test))\n",
    "toc = timeit.default_timer()\n",
    "factor = 100.\n",
    "print(\"- Tiempo de predecir {:g} ejemplos: {:.4g} s.\".format(len(X_test), (toc - tic)))\n",
    "print(\"- Score in diabetes =\",mse)\n",
    "\n",
    "print('\\nGradientBoostingRegressor')\n",
    "clf = GradientBoostingRegressor(loss=\"ls\",n_estimators=101, learning_rate=0.1,max_depth=3)\n",
    "tic = timeit.default_timer()\n",
    "clf.fit(X_train, y_train)\n",
    "toc = timeit.default_timer()\n",
    "print(\"- Tiempo de entrenamiento con {} ejemplos: {:.4g} s.\".format(len(X_train),(toc - tic)))\n",
    "tic = timeit.default_timer()\n",
    "mse = clf.score(X_test, y_test)\n",
    "toc = timeit.default_timer()\n",
    "print(\"- Tiempo de predecir {:g} ejemplos: {:.4g} s.\".format(len(X_test), (toc - tic)))\n",
    "print(\"- Score in diabetes =\",mse)"
   ]
  },
  {
   "cell_type": "markdown",
   "id": "7abc7e83",
   "metadata": {},
   "source": [
    "### Conclusiones\n",
    "\n",
    "A la vista de los resultados obtenidos, podemos concluir que nuestro clasificador y regresor GBCasero obtiene un score competitivo con respecto al obtenido por SKlearn, ya que apenas difiere la precisión y el coeficiente de determinación $R^2$.\n",
    "\n",
    "Sin embargo, el tiempo de cómputo que necesita nuestro modelo para entrenar el conjunto de datos de entrenamiento es mayor ($\\sim 12.6$ veces superior para clasificación y $\\sim 6.5$ veces superior para regresión) que el tiempo de cómputo del modelo de Sklearn. Esto puede deberse a que la implentación de Sklearn es mucho más eficiente que la nuestra. "
   ]
  }
 ],
 "metadata": {
  "kernelspec": {
   "display_name": "Python 3 (ipykernel)",
   "language": "python",
   "name": "python3"
  },
  "language_info": {
   "codemirror_mode": {
    "name": "ipython",
    "version": 3
   },
   "file_extension": ".py",
   "mimetype": "text/x-python",
   "name": "python",
   "nbconvert_exporter": "python",
   "pygments_lexer": "ipython3",
   "version": "3.8.10"
  }
 },
 "nbformat": 4,
 "nbformat_minor": 5
}
