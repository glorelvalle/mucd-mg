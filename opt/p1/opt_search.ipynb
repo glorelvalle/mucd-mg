{
 "cells": [
  {
   "cell_type": "code",
   "execution_count": 1,
   "id": "a6edaaea",
   "metadata": {},
   "outputs": [],
   "source": [
    "from opt_search import dichotomic_search, golden_search"
   ]
  },
  {
   "cell_type": "markdown",
   "id": "e10951be",
   "metadata": {},
   "source": [
    "### Búsqueda Dicotómica"
   ]
  },
  {
   "cell_type": "code",
   "execution_count": 2,
   "id": "cc6e5af9",
   "metadata": {},
   "outputs": [
    {
     "name": "stdout",
     "output_type": "stream",
     "text": [
      "Minimum value at (-0.0001, 0.0008)\n"
     ]
    }
   ],
   "source": [
    "def f(theta): return 3*theta**2 - 1\n",
    "\n",
    "a, b = -3, 3\n",
    "interval_length = 0.001\n",
    "epsilon = 0.0001\n",
    "\n",
    "lower_bound, upper_bound = dichotomic_search(f, a, b, interval_length, epsilon)\n",
    "print(f'Minimum value at ({lower_bound:.4f}, {upper_bound:.4f})')"
   ]
  },
  {
   "cell_type": "markdown",
   "id": "1f96e57a",
   "metadata": {},
   "source": [
    "### Búsqueda Sección Áurea"
   ]
  },
  {
   "cell_type": "code",
   "execution_count": 3,
   "id": "84797295",
   "metadata": {},
   "outputs": [
    {
     "name": "stdout",
     "output_type": "stream",
     "text": [
      "Minimum value at (-0.0003, 0.0004)\n"
     ]
    }
   ],
   "source": [
    "def f(theta): return 3*theta**2 - 1\n",
    "\n",
    "a, b = -3, 3\n",
    "interval_length = 0.001\n",
    "\n",
    "lower_bound, upper_bound = golden_search(f, a, b, interval_length)\n",
    "print(f'Minimum value at ({lower_bound:.4f}, {upper_bound:.4f})')"
   ]
  },
  {
   "cell_type": "code",
   "execution_count": null,
   "id": "2f390dcb",
   "metadata": {},
   "outputs": [],
   "source": []
  },
  {
   "cell_type": "code",
   "execution_count": null,
   "id": "ad043787",
   "metadata": {},
   "outputs": [],
   "source": []
  }
 ],
 "metadata": {
  "kernelspec": {
   "display_name": "Python 3 (ipykernel)",
   "language": "python",
   "name": "python3"
  },
  "language_info": {
   "codemirror_mode": {
    "name": "ipython",
    "version": 3
   },
   "file_extension": ".py",
   "mimetype": "text/x-python",
   "name": "python",
   "nbconvert_exporter": "python",
   "pygments_lexer": "ipython3",
   "version": "3.8.10"
  }
 },
 "nbformat": 4,
 "nbformat_minor": 5
}
