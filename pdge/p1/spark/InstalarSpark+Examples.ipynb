{
  "nbformat": 4,
  "nbformat_minor": 0,
  "metadata": {
    "colab": {
      "name": "InstalarSpark+Examples.ipynb",
      "provenance": []
    },
    "kernelspec": {
      "name": "python3",
      "display_name": "Python 3"
    },
    "language_info": {
      "name": "python"
    }
  },
  "cells": [
    {
      "cell_type": "markdown",
      "metadata": {
        "id": "6aD1ALMdAy6O"
      },
      "source": [
        "# PySpark en Google Colab\n",
        "\n",
        "Instalacion Octubre/2021\n",
        "\n",
        "1.   Instalacion Java\n",
        "2.   Instalacion de Spark\n",
        "3.   Instalar PySpark\n",
        "\n",
        "## De forma General para usar pyspark en Colab (2021) siga los siguientes pasos en una celda en Colab:"
      ]
    },
    {
      "cell_type": "code",
      "metadata": {
        "id": "8JuWZdteAmvv"
      },
      "source": [
        "# instalar Java\n",
        "!apt-get install openjdk-8-jdk-headless -qq > /dev/null\n"
      ],
      "execution_count": 2,
      "outputs": []
    },
    {
      "cell_type": "code",
      "metadata": {
        "id": "SoApfKfpRunp"
      },
      "source": [
        "# Descargar la ultima versión de java ( comprobar que existen los path de descarga)\n",
        "# Download latest release. Update if necessary\n",
        "\n",
        "!wget -q https://downloads.apache.org/spark/spark-3.1.2/spark-3.1.2-bin-hadoop2.7.tgz"
      ],
      "execution_count": 3,
      "outputs": []
    },
    {
      "cell_type": "code",
      "metadata": {
        "id": "PzHJ0bpuN-od"
      },
      "source": [
        "%ls -la /content/\n",
        "\n"
      ],
      "execution_count": null,
      "outputs": []
    },
    {
      "cell_type": "code",
      "metadata": {
        "id": "uXpriDwJLP1I"
      },
      "source": [
        "!tar xf spark-3.1.2-bin-hadoop2.7.tgz"
      ],
      "execution_count": 5,
      "outputs": []
    },
    {
      "cell_type": "code",
      "metadata": {
        "id": "aRYGR8EsycZ1"
      },
      "source": [
        "%ls -la"
      ],
      "execution_count": null,
      "outputs": []
    },
    {
      "cell_type": "markdown",
      "metadata": {
        "id": "7Qih8Kt1MJla"
      },
      "source": [
        ""
      ]
    },
    {
      "cell_type": "code",
      "metadata": {
        "id": "gKlOUyKuMEr7"
      },
      "source": [
        "# instalar pyspark\n",
        "!pip install -q pyspark"
      ],
      "execution_count": null,
      "outputs": []
    },
    {
      "cell_type": "markdown",
      "metadata": {
        "id": "EzkJ4JKkCgno"
      },
      "source": [
        "# Variables de entorno"
      ]
    },
    {
      "cell_type": "code",
      "metadata": {
        "id": "WVEIOATyCYc6"
      },
      "source": [
        "import os # libreria de manejo del sistema operativo\n",
        "os.environ[\"JAVA_HOME\"] = \"/usr/lib/jvm/java-8-openjdk-amd64\"\n",
        "os.environ[\"SPARK_HOME\"] = \"/content/spark-3.1.2-bin-hadoop2.7\""
      ],
      "execution_count": 8,
      "outputs": []
    },
    {
      "cell_type": "markdown",
      "metadata": {
        "id": "9UCH8MwWGA-Q"
      },
      "source": [
        "# Cargar pyspark en el sistema"
      ]
    },
    {
      "cell_type": "code",
      "metadata": {
        "id": "38_3RcUSCiwb"
      },
      "source": [
        "from pyspark.sql import SparkSession\n",
        "\n",
        "APP_NAME = \"PDGE-tutorialSpark1\"\n",
        "SPARK_URL = \"local[*]\"\n",
        "spark = SparkSession.builder.appName(APP_NAME).master(SPARK_URL).getOrCreate()\n",
        "spark"
      ],
      "execution_count": null,
      "outputs": []
    },
    {
      "cell_type": "markdown",
      "metadata": {
        "id": "TX-3Z9fcy5bB"
      },
      "source": [
        "Pruebas\n"
      ]
    },
    {
      "cell_type": "code",
      "metadata": {
        "colab": {
          "base_uri": "https://localhost:8080/",
          "height": 196
        },
        "id": "zRK16gv0zAnN",
        "outputId": "dd4a473b-daf1-49ce-9de6-6dd2141876f7"
      },
      "source": [
        "sc = spark.sparkContext\n",
        "#obtener el contexto de ejecución de Spark del Driver.\n",
        "sc"
      ],
      "execution_count": 11,
      "outputs": [
        {
          "output_type": "execute_result",
          "data": {
            "text/html": [
              "\n",
              "        <div>\n",
              "            <p><b>SparkContext</b></p>\n",
              "\n",
              "            <p><a href=\"http://46545187f4aa:4040\">Spark UI</a></p>\n",
              "\n",
              "            <dl>\n",
              "              <dt>Version</dt>\n",
              "                <dd><code>v3.1.2</code></dd>\n",
              "              <dt>Master</dt>\n",
              "                <dd><code>local[*]</code></dd>\n",
              "              <dt>AppName</dt>\n",
              "                <dd><code>PDGE-tutorialSpark1</code></dd>\n",
              "            </dl>\n",
              "        </div>\n",
              "        "
            ],
            "text/plain": [
              "<SparkContext master=local[*] appName=PDGE-tutorialSpark1>"
            ]
          },
          "metadata": {},
          "execution_count": 11
        }
      ]
    },
    {
      "cell_type": "code",
      "metadata": {
        "id": "DoAGmb4GY829"
      },
      "source": [
        "array = sc.parallelize([1,2,3,4,5,6,7,8,9,10], 2)\n",
        "array"
      ],
      "execution_count": null,
      "outputs": []
    },
    {
      "cell_type": "code",
      "metadata": {
        "id": "eOLHf13HZ2h1"
      },
      "source": [
        "print(array.collect())"
      ],
      "execution_count": null,
      "outputs": []
    },
    {
      "cell_type": "code",
      "metadata": {
        "id": "iuZ5GDGqVwrS"
      },
      "source": [
        "print(array.count())\n"
      ],
      "execution_count": null,
      "outputs": []
    },
    {
      "cell_type": "code",
      "metadata": {
        "id": "gy-anBhZ4f0-"
      },
      "source": [
        "num3 = array.map(lambda elemento: 3*elemento)"
      ],
      "execution_count": 15,
      "outputs": []
    },
    {
      "cell_type": "code",
      "metadata": {
        "id": "MKCuCvPI4sgZ"
      },
      "source": [
        "print(num3.collect())"
      ],
      "execution_count": null,
      "outputs": []
    },
    {
      "cell_type": "markdown",
      "metadata": {
        "id": "ogJwPyVjZWcd"
      },
      "source": [
        "# Ejemplos de operaciones con RDDs de Spark"
      ]
    },
    {
      "cell_type": "code",
      "metadata": {
        "id": "h_sTML7yZzuH"
      },
      "source": [
        "numeros = sc.parallelize([1,2,3,4,5,6,7,8,9,10],2)\n",
        "\n",
        "print(numeros.reduce(lambda e1,e2: e1+e2))"
      ],
      "execution_count": null,
      "outputs": []
    },
    {
      "cell_type": "code",
      "metadata": {
        "id": "7PjaW8UhaPoj"
      },
      "source": [
        "pnumeros = sc.parallelize([1,2,3,4,5,6,7,8,9,10])\n",
        "\n",
        "rdd = pnumeros.map(lambda e: 2*e)\n",
        "\n",
        "print(rdd.collect())\n"
      ],
      "execution_count": null,
      "outputs": []
    },
    {
      "cell_type": "markdown",
      "metadata": {
        "id": "7EObylHIaZKC"
      },
      "source": [
        "## Pregunta TS1.1 ¿Cómo hacer para obtener una lista de los elementos al cuadrado?"
      ]
    },
    {
      "cell_type": "code",
      "metadata": {
        "id": "320brSCvaj9N"
      },
      "source": [
        ""
      ],
      "execution_count": null,
      "outputs": []
    },
    {
      "cell_type": "code",
      "metadata": {
        "id": "IpED25-ga6MX"
      },
      "source": [
        "numeros = sc.parallelize([1,2,3,4,5,6,7,8,9,10])\n",
        "\n",
        "rdd = numeros.filter(lambda elemento: elemento%2==0)\n",
        "\n",
        "print (rdd.collect())"
      ],
      "execution_count": null,
      "outputs": []
    },
    {
      "cell_type": "markdown",
      "metadata": {
        "id": "2LtU6J3ia8Hw"
      },
      "source": [
        "## Pregunta TS1.2 ¿Cómo filtrar los impares?"
      ]
    },
    {
      "cell_type": "code",
      "metadata": {
        "id": "r5pQG0VDZzkY"
      },
      "source": [
        "rddi = numeros.filter (lambda e: e%2==1)\n",
        "print (rddi.collect())"
      ],
      "execution_count": null,
      "outputs": []
    },
    {
      "cell_type": "markdown",
      "metadata": {
        "id": "qc_udeL9kDXu"
      },
      "source": [
        "#Operaciones con números"
      ]
    },
    {
      "cell_type": "markdown",
      "metadata": {
        "id": "RsbMVChlP5r0"
      },
      "source": [
        "Sumar n numeros"
      ]
    },
    {
      "cell_type": "code",
      "metadata": {
        "id": "ial-4tcjjMUj"
      },
      "source": [
        "rddnum=sc.range(1000000)\n",
        "rddnum.reduce(lambda a,b: a+b)"
      ],
      "execution_count": null,
      "outputs": []
    },
    {
      "cell_type": "code",
      "metadata": {
        "id": "EYsRY4yMoB3C"
      },
      "source": [
        "numeros = sc.parallelize([1,1,2,2,5])\n",
        "\n",
        "unicos = numeros.distinct()\n",
        "\n",
        "print (unicos.collect())"
      ],
      "execution_count": null,
      "outputs": []
    },
    {
      "cell_type": "code",
      "metadata": {
        "id": "5uRY-KHycVim"
      },
      "source": [
        "numeros = sc.parallelize([1,2,3,4,5])\n",
        "\n",
        "rdd = numeros.flatMap(lambda elemento: [elemento, 10*elemento])\n",
        "\n",
        "print (rdd.collect())"
      ],
      "execution_count": null,
      "outputs": []
    },
    {
      "cell_type": "markdown",
      "metadata": {
        "id": "2Iz55urM7Kl3"
      },
      "source": [
        "Muestreo"
      ]
    },
    {
      "cell_type": "code",
      "metadata": {
        "id": "4m70js9d7N8x"
      },
      "source": [
        "numeros = sc.parallelize([1,2,3,4,5,6,7,8,9,10])\n",
        "\n",
        "rdd = numeros.sample(True, 1.0)\n",
        "# True = sin reemplazar\n",
        "# 1.0 = fracción de elementos = 100%\n",
        "print (rdd.collect())"
      ],
      "execution_count": null,
      "outputs": []
    },
    {
      "cell_type": "markdown",
      "metadata": {
        "id": "6MlNG4--Pns0"
      },
      "source": [
        "Union "
      ]
    },
    {
      "cell_type": "code",
      "metadata": {
        "id": "Nib7-OKadSEn"
      },
      "source": [
        "pares = sc.parallelize([2,4,6,8,10])\n",
        "impares = sc.parallelize([1,3,5,7,9])\n",
        "\n",
        "numeros = pares.union(impares)\n",
        "\n",
        "print (numeros.collect())"
      ],
      "execution_count": null,
      "outputs": []
    },
    {
      "cell_type": "markdown",
      "metadata": {
        "id": "YexhndIY7ikM"
      },
      "source": [
        "reducción\n"
      ]
    },
    {
      "cell_type": "code",
      "metadata": {
        "id": "x3R31PVc7k_L"
      },
      "source": [
        "numeros = sc.parallelize([1,2,3,4,5])\n",
        "# operación asociativa y conmutativa\n",
        "# orden no está definido\n",
        "print (numeros.reduce(lambda elem1,elem2: elem2+elem1))"
      ],
      "execution_count": null,
      "outputs": []
    },
    {
      "cell_type": "markdown",
      "metadata": {
        "id": "Z-KQK9fj78uU"
      },
      "source": [
        "## Pregunta TS1.3 ¿Tiene sentido esta operación? ¿Si se repite se obtiene siempre el mismo resultado?"
      ]
    },
    {
      "cell_type": "code",
      "metadata": {
        "id": "Gvr3unXn8NOO"
      },
      "source": [
        "#Tiene sentido esta operación?\n",
        "numeros = sc.parallelize([1,2,3,4,5])\n",
        "\n",
        "print (numeros.reduce(lambda elem1,elem2: elem1-elem2))"
      ],
      "execution_count": null,
      "outputs": []
    },
    {
      "cell_type": "code",
      "metadata": {
        "id": "A6c147To8T4s"
      },
      "source": [
        "#Tiene sentido esta operación?\n",
        "numeros = sc.parallelize([1,2,4,3,5])\n",
        "\n",
        "print (numeros.reduce(lambda elem1,elem2: elem1-elem2))"
      ],
      "execution_count": null,
      "outputs": []
    },
    {
      "cell_type": "markdown",
      "metadata": {
        "id": "c9iVsHyW8lBj"
      },
      "source": [
        "#Acciones"
      ]
    },
    {
      "cell_type": "code",
      "metadata": {
        "id": "vNyMypQj8o__"
      },
      "source": [
        "numeros = sc.parallelize([5,3,2,1,4])\n",
        "\n",
        "print (numeros.take(3))\n",
        "#¿Qué sucede si ponemos 30 en vez de 3 elementos?"
      ],
      "execution_count": null,
      "outputs": []
    },
    {
      "cell_type": "code",
      "metadata": {
        "id": "RRuJczUX8kSv"
      },
      "source": [
        "numeros = sc.parallelize([3,2,1,4,5])\n",
        "# \n",
        "print (numeros.takeOrdered(3, lambda elem: -elem))\n",
        "# La función lambda se está utilizando para crear el índice de la lista de ordenación "
      ],
      "execution_count": null,
      "outputs": []
    },
    {
      "cell_type": "markdown",
      "metadata": {
        "id": "ltQB9md2ME1l"
      },
      "source": [
        "## Pregunta TS1.4 ¿Cómo lo ordenarías para que primero aparezcan los impares y luego los pares?"
      ]
    },
    {
      "cell_type": "code",
      "metadata": {
        "id": "BIaKzQy1M98H"
      },
      "source": [
        ""
      ],
      "execution_count": null,
      "outputs": []
    },
    {
      "cell_type": "markdown",
      "metadata": {
        "id": "ctm29gO0ZIbZ"
      },
      "source": [
        "# RDDs con string"
      ]
    },
    {
      "cell_type": "code",
      "metadata": {
        "id": "wzdO64iKaC1q"
      },
      "source": [
        "palabras = sc.parallelize(['HOLA', 'Que', 'TAL', 'Bien'])\n",
        "\n",
        "pal_minus = palabras.map(lambda elemento: elemento.lower())\n",
        "\n",
        "print (pal_minus.collect())"
      ],
      "execution_count": null,
      "outputs": []
    },
    {
      "cell_type": "code",
      "metadata": {
        "id": "_7Pn8FjtakNG"
      },
      "source": [
        "palabras = sc.parallelize(['HOLA', 'Que', 'TAL', 'Bien'])\n",
        "\n",
        "pal_long = palabras.map(lambda elemento: len(elemento))\n",
        "\n",
        "print (pal_long.collect())"
      ],
      "execution_count": null,
      "outputs": []
    },
    {
      "cell_type": "code",
      "metadata": {
        "id": "rmZwI0MGbAOS"
      },
      "source": [
        "log = sc.parallelize(['E: e21', 'W: w12', 'W: w13', 'E: e45'])\n",
        "\n",
        "errors = log.filter(lambda elemento: elemento[0]=='E')\n",
        "\n",
        "print (errors.collect())"
      ],
      "execution_count": null,
      "outputs": []
    },
    {
      "cell_type": "code",
      "metadata": {
        "id": "KKDB9UzIcbau"
      },
      "source": [
        "lineas = sc.parallelize(['', 'a', 'a b', 'a b c'])\n",
        "\n",
        "palabras = lineas.flatMap(lambda elemento: elemento.split())\n",
        "\n",
        "print (palabras.collect())"
      ],
      "execution_count": null,
      "outputs": []
    },
    {
      "cell_type": "code",
      "metadata": {
        "id": "ZpM4oMF_cnW4"
      },
      "source": [
        "lineas = sc.parallelize(['', 'a', 'a b', 'a b c'])\n",
        "\n",
        "palabras_flat = lineas.flatMap(lambda elemento: elemento.split())\n",
        "palabras_map = lineas.map(lambda elemento: elemento.split())\n",
        "\n",
        "print (palabras_flat.collect())\n",
        "print (palabras_map.collect())\n"
      ],
      "execution_count": null,
      "outputs": []
    },
    {
      "cell_type": "markdown",
      "metadata": {
        "id": "saVy72uncpMC"
      },
      "source": [
        "## Pregunta TS1.5 ¿Cuántos elementos tiene cada rdd? ¿Cuál tiene más?\n"
      ]
    },
    {
      "cell_type": "code",
      "metadata": {
        "id": "pfLDcQrV3e7j"
      },
      "source": [
        ""
      ],
      "execution_count": null,
      "outputs": []
    },
    {
      "cell_type": "markdown",
      "metadata": {
        "id": "cDgvc1iU3MA2"
      },
      "source": [
        "## Pregunta TS1.6 ¿De qué tipo son los elementos del rdd palabras_map? ¿Por qué palabras_map tiene el primer elemento vacío?"
      ]
    },
    {
      "cell_type": "code",
      "metadata": {
        "id": "_bDH0EwE3Kdi"
      },
      "source": [
        ""
      ],
      "execution_count": null,
      "outputs": []
    },
    {
      "cell_type": "code",
      "metadata": {
        "id": "zsa9OFbhc0-i"
      },
      "source": [
        "palabras_flat.take(1)"
      ],
      "execution_count": null,
      "outputs": []
    },
    {
      "cell_type": "code",
      "metadata": {
        "id": "Gwn33hfO0XoJ"
      },
      "source": [
        "palabras_map\n"
      ],
      "execution_count": null,
      "outputs": []
    },
    {
      "cell_type": "markdown",
      "metadata": {
        "id": "1Lv-KrP0dNdE"
      },
      "source": [
        "## Pregunta TS1.7. Prueba la transformación distinct si lo aplicamos a cadenas."
      ]
    },
    {
      "cell_type": "code",
      "metadata": {
        "id": "6oyxAO8KdIWH"
      },
      "source": [
        ""
      ],
      "execution_count": null,
      "outputs": []
    },
    {
      "cell_type": "code",
      "metadata": {
        "id": "Y2NdOdomdoHP"
      },
      "source": [
        "log = sc.parallelize(['E: e21', 'I: i11', 'W: w12', 'I: i11', 'W: w13', 'E: e45'])\n",
        "\n",
        "infos = log.filter(lambda elemento: elemento[0]=='I')\n",
        "errors = log.filter(lambda elemento: elemento[0]=='E')\n",
        "\n",
        "inferr = infos.union(errors)\n",
        "\n",
        "print (inferr.collect())"
      ],
      "execution_count": null,
      "outputs": []
    },
    {
      "cell_type": "markdown",
      "metadata": {
        "id": "mjuin2jgcqCo"
      },
      "source": [
        "## Pregunta TS1.8 ¿Cómo se podría obtener la misma salida pero utilizando una sola transformación y sin realizar la unión?"
      ]
    },
    {
      "cell_type": "code",
      "metadata": {
        "id": "mv4rsT2Fd_1p"
      },
      "source": [
        "numeros = sc.parallelize([1,2,3,4,5])\n",
        "\n",
        "print (numeros.reduce(lambda elem1,elem2: elem2+elem1))"
      ],
      "execution_count": null,
      "outputs": []
    },
    {
      "cell_type": "code",
      "metadata": {
        "id": "Ej3-MXZDeFmy"
      },
      "source": [
        "#Tiene sentido esta operación?\n",
        "numeros = sc.parallelize([1,2,3,4,5])\n",
        "\n",
        "print (numeros.reduce(lambda elem1,elem2: elem1-elem2))"
      ],
      "execution_count": null,
      "outputs": []
    },
    {
      "cell_type": "code",
      "metadata": {
        "id": "jgXmpVzveNaW"
      },
      "source": [
        "palabras = sc.parallelize(['HOLA', 'Que', 'TAL', 'Bien'])\n",
        "\n",
        "pal_minus = palabras.map(lambda elemento: elemento.lower())\n",
        "\n",
        "print (pal_minus.reduce(lambda elem1,elem2: elem1+\"-\"+elem2))\n",
        "#y esta tiene sentido esta operación?\n",
        "# Qué pasa si ponemos elem2+\"-\"+elem1"
      ],
      "execution_count": null,
      "outputs": []
    },
    {
      "cell_type": "code",
      "metadata": {
        "id": "1lzjZV5xeVze"
      },
      "source": [
        "r = sc.parallelize([('A', 1),('C', 4),('A', 1),('B', 1),('B', 4)])\n",
        "rr = r.reduceByKey(lambda v1,v2:v1+v2)\n",
        "print (rr.collect())"
      ],
      "execution_count": null,
      "outputs": []
    },
    {
      "cell_type": "code",
      "metadata": {
        "id": "EZ3sOeL5ebOw"
      },
      "source": [
        "r = sc.parallelize([('A', 1),('C', 4),('A', 1),('B', 1),('B', 4)])\n",
        "rr1 = r.reduceByKey(lambda v1,v2:v1+v2)\n",
        "print (rr1.collect())\n",
        "rr2 = rr1.reduceByKey(lambda v1,v2:v1)\n",
        "print (rr2.collect())\n"
      ],
      "execution_count": null,
      "outputs": []
    },
    {
      "cell_type": "markdown",
      "metadata": {
        "id": "LLPvqqELz-Pt"
      },
      "source": [
        "## Pregunta TS1.9 ¿Cómo explica el funcionamiento de las celdas anteriores?"
      ]
    },
    {
      "cell_type": "code",
      "metadata": {
        "id": "fR2ruD-TeeK2"
      },
      "source": [
        "r = sc.parallelize([('A', 1),('C', 4),('A', 1),('B', 1),('B', 4)])\n",
        "rr1 = r.reduceByKey(lambda v1,v2:'hola')\n",
        "print (rr1.collect())\n",
        "rr2 = rr1.reduceByKey(lambda v1,v2:'hola')\n",
        "print (rr2.collect())"
      ],
      "execution_count": null,
      "outputs": []
    },
    {
      "cell_type": "code",
      "metadata": {
        "id": "gKbP8VKzeitK"
      },
      "source": [
        "r = sc.parallelize([('A', 1),('C', 2),('A', 3),('B', 4),('B', 5)])\n",
        "rr = r.groupByKey()\n",
        "res= rr.collect()\n",
        "for k,v in res:\n",
        "    print (k, list(v))\n",
        "# Que operación realizar al RDD rr para que la operacion sea como un reduceByKey\n",
        "#¿Y simular un group con un reduceByKey y un map?"
      ],
      "execution_count": null,
      "outputs": []
    },
    {
      "cell_type": "code",
      "metadata": {
        "id": "1UBMxjgi19V8"
      },
      "source": [
        "rdd1 = sc.parallelize([('A',1),('B',2),('C',3)])\n",
        "rdd2 = sc.parallelize([('A',4),('B',5),('C',6)])\n",
        "\n",
        "rddjoin = rdd1.join(rdd2)\n",
        "\n",
        "print (rddjoin.collect())\n",
        "# Prueba a cambiar las claves del rdd1 y rdd2 para ver cuántos elementos se crean"
      ],
      "execution_count": null,
      "outputs": []
    },
    {
      "cell_type": "code",
      "metadata": {
        "id": "XXVC6hoC2Kw-"
      },
      "source": [
        "rdd1 = sc.parallelize([('A',1),('B',2),('C',3)])\n",
        "rdd2 = sc.parallelize([('A',4),('A',5),('B',6),('D',7)])\n",
        "\n",
        "rddjoin = rdd1.join(rdd2)\n",
        "\n",
        "print (rddjoin.collect())\n",
        "#Modifica join por leftOuterJoin, rightOuterJoin y fullOuterJoin ¿Qué sucede? \n"
      ],
      "execution_count": null,
      "outputs": []
    },
    {
      "cell_type": "code",
      "metadata": {
        "id": "quNvzEdK2gv5"
      },
      "source": [
        "rdd = sc.parallelize([('A',1),('B',2),('C',3),('A',4),('A',5),('B',6)])\n",
        "\n",
        "res = rdd.sortByKey(False)\n",
        "\n",
        "print (res.collect())"
      ],
      "execution_count": null,
      "outputs": []
    },
    {
      "cell_type": "markdown",
      "metadata": {
        "id": "zOir6ry549KP"
      },
      "source": [
        "# Utilización de ficheros"
      ]
    },
    {
      "cell_type": "code",
      "metadata": {
        "id": "0HSk78ba3DTv"
      },
      "source": [
        "\n",
        "# Crea una lista de 1000 números y la guarda.\n",
        "# Da error si 'salida' existe, descomenta la linea de borrar en ese caso.\n",
        "%rm -rf salida\n",
        "numeros = sc.parallelize(range(0,1000))\n",
        "numeros.saveAsTextFile('salida')\n"
      ],
      "execution_count": 43,
      "outputs": []
    },
    {
      "cell_type": "code",
      "metadata": {
        "id": "r1oOMj9U3azd"
      },
      "source": [
        "ls -la"
      ],
      "execution_count": null,
      "outputs": []
    },
    {
      "cell_type": "code",
      "metadata": {
        "id": "y3T8t98g3koT"
      },
      "source": [
        "%ls -la salida/*\n"
      ],
      "execution_count": null,
      "outputs": []
    },
    {
      "cell_type": "code",
      "metadata": {
        "id": "2yWrIYA83q_c"
      },
      "source": [
        "%cat salida/part-00000"
      ],
      "execution_count": null,
      "outputs": []
    },
    {
      "cell_type": "code",
      "metadata": {
        "id": "D6_KGg9w3Rqm"
      },
      "source": [
        "# Recupera el fichero guardado y realiza la suma\n",
        "n2 = sc.textFile('salida').map(lambda a:int(a))\n",
        "print(n2.reduce(lambda v1,v2: v1 + v2))\n",
        "\n",
        "# Prueba este código y mira qué genera?\n",
        "# Borra la salida y cambia las particiones en parallelize ¿Qué sucede? \n",
        "#    (pe c.parallelize(xrange(0,1000),8))\n"
      ],
      "execution_count": null,
      "outputs": []
    },
    {
      "cell_type": "markdown",
      "metadata": {
        "id": "33FiLTWp6LQ2"
      },
      "source": [
        "## Pregunta TS1.10 Borra la salida y cambia las particiones en parallelize ¿Qué sucede? \n",
        "  (pe c.parallelize(xrange(0,1000),8))\n"
      ]
    },
    {
      "cell_type": "code",
      "metadata": {
        "id": "H4lLsBhy4Yxq"
      },
      "source": [
        "%rm -rf salida\n",
        "%ls -la\n"
      ],
      "execution_count": null,
      "outputs": []
    },
    {
      "cell_type": "markdown",
      "metadata": {
        "id": "SyfefweJenb8"
      },
      "source": [
        "# El quijote"
      ]
    },
    {
      "cell_type": "markdown",
      "metadata": {
        "id": "xcxH-o_ZQSje"
      },
      "source": [
        "Montar el directorio de trabajo utilizando Google Drive\n",
        "Loading Your Data into Google Colaboratory.\n",
        "1. First of all, Upload your Data to your Google Drive.\n",
        "2. Run the following script in colab shell.\n",
        "3. Copy the authorization code of your account.\n",
        "4. Paste the authorization code into the output shell.\n",
        "5. Congrats! Now your Google Drive is mounted to this location /content/gdrive/MyDrive/\n",
        "\n",
        "\n"
      ]
    },
    {
      "cell_type": "markdown",
      "metadata": {
        "id": "5aS_Xvk2_kSN"
      },
      "source": [
        ""
      ]
    },
    {
      "cell_type": "code",
      "metadata": {
        "id": "Vl0Fq5nChoYj"
      },
      "source": [
        "from google.colab import drive\n",
        "#drive.flush_and_unmount()\n",
        "drive.mount('/content/gdrive')"
      ],
      "execution_count": null,
      "outputs": []
    },
    {
      "cell_type": "code",
      "metadata": {
        "id": "jL-wqZOCZzrL"
      },
      "source": [
        "%ls /content/gdrive/MyDrive/"
      ],
      "execution_count": null,
      "outputs": []
    },
    {
      "cell_type": "code",
      "metadata": {
        "id": "YpBiHwBjauJk"
      },
      "source": [
        "!cp \"/content/gdrive/My Drive/elquijote.txt\" ."
      ],
      "execution_count": 54,
      "outputs": []
    },
    {
      "cell_type": "code",
      "metadata": {
        "id": "TmlBII6cbiIt"
      },
      "source": [
        "%ls -la"
      ],
      "execution_count": null,
      "outputs": []
    },
    {
      "cell_type": "code",
      "metadata": {
        "colab": {
          "base_uri": "https://localhost:8080/",
          "height": 35
        },
        "id": "OgqJUkLqb5ZG",
        "outputId": "c0121fe0-2789-4838-bc10-92cabdc8c9fd"
      },
      "source": [
        "%pwd"
      ],
      "execution_count": 10,
      "outputs": [
        {
          "output_type": "execute_result",
          "data": {
            "application/vnd.google.colaboratory.intrinsic+json": {
              "type": "string"
            },
            "text/plain": [
              "'/content'"
            ]
          },
          "metadata": {},
          "execution_count": 10
        }
      ]
    },
    {
      "cell_type": "markdown",
      "metadata": {
        "id": "y9E6_qc-a7GE"
      },
      "source": [
        "# Procesando el QUIJOTE"
      ]
    },
    {
      "cell_type": "code",
      "metadata": {
        "id": "_Li3mX8ebMSi"
      },
      "source": [
        "quijote = sc.textFile(\"elquijote.txt\")\n",
        "quijote.take(10)"
      ],
      "execution_count": null,
      "outputs": []
    },
    {
      "cell_type": "markdown",
      "metadata": {
        "id": "GDVSZOrYbrEt"
      },
      "source": [
        "Transformaciones"
      ]
    },
    {
      "cell_type": "code",
      "metadata": {
        "id": "ITsCl47JbfM_"
      },
      "source": [
        "charsPerLine = quijote.map(lambda s: len(s))\n",
        "allWords = quijote.flatMap(lambda s: s.split())\n",
        "allWordsNoArticles = allWords.filter(lambda a: a.lower() not in [\"el\", \"la\"])\n",
        "allWordsUnique = allWords.map(lambda s: s.lower()).distinct()\n",
        "sampleWords = allWords.sample(withReplacement=True, fraction=0.2, seed=666)\n",
        "weirdSampling = sampleWords.union(allWordsNoArticles.sample(False, fraction=0.3))\n",
        "# cómo funciona cada transformación"
      ],
      "execution_count": 63,
      "outputs": []
    },
    {
      "cell_type": "code",
      "metadata": {
        "id": "4kpZSOS7cAYr"
      },
      "source": [
        "allWordsUnique.take(10)"
      ],
      "execution_count": null,
      "outputs": []
    },
    {
      "cell_type": "markdown",
      "metadata": {
        "id": "PpAuT-AkcRyf"
      },
      "source": [
        "## Pregunta TS2.1 Explica la utilidad de cada transformación y detalle para cada una de ellas si cambia el número de elementos en el RDD resultante. Es decir si el RDD de partida tiene N elementos, y el de salida M elementos, indica si N>M, N=M o N<M."
      ]
    },
    {
      "cell_type": "markdown",
      "metadata": {
        "id": "-0Xj_MR9eVCf"
      },
      "source": [
        "* map\n",
        "* flatmap\n",
        "* filter\n",
        "* distinct\n",
        "* sample\n",
        "* union\n"
      ]
    },
    {
      "cell_type": "code",
      "metadata": {
        "id": "PWJlgOUDcQhc"
      },
      "source": [
        "numLines = quijote.count()\n",
        "numChars = charsPerLine.reduce(lambda a,b: a+b) # also charsPerLine.sum()\n",
        "sortedWordsByLength = allWordsNoArticles.takeOrdered(20, key=lambda x: -len(x))\n",
        "numLines, numChars, sortedWordsByLength"
      ],
      "execution_count": null,
      "outputs": []
    },
    {
      "cell_type": "code",
      "metadata": {
        "id": "A33tgNqLePMn"
      },
      "source": [
        ""
      ],
      "execution_count": null,
      "outputs": []
    },
    {
      "cell_type": "markdown",
      "metadata": {
        "id": "hIpuogySgB4N"
      },
      "source": [
        "## Pregunta TS2.2 Explica el funcionamiento de cada acción anterior \n",
        "\n",
        "Implementa la opción count de otra manera:\n",
        "\n",
        "\n",
        "*   utilizando transformaciones map y reduce\n",
        "*   utilizando solo reduce en caso de que sea posible.\n",
        "\n"
      ]
    },
    {
      "cell_type": "markdown",
      "metadata": {
        "id": "PkXwuhGuhrQD"
      },
      "source": [
        "# Operaciones K-V (Clave Valor)"
      ]
    },
    {
      "cell_type": "code",
      "metadata": {
        "id": "5JAWu58dhpWk"
      },
      "source": [
        "import requests\n",
        "import re\n",
        "allWords = allWords.flatMap(lambda w: re.sub(\"\"\";|:|\\.|,|-|–|\"|'|\\s\"\"\",\" \", w.lower()).split(\" \")).filter(lambda a: len(a)>0)\n",
        "allWords2 = sc.parallelize(requests.get(\"https://gist.githubusercontent.com/jsdario/9d871ed773c81bf217f57d1db2d2503f/raw/585de69b0631c805dabc6280506717943b82ba4a/el_quijote_ii.txt\").iter_lines())\n",
        "allWords2 = allWords2.flatMap(lambda w: re.sub(\"\"\";|:|\\.|,|-|–|\"|'|\\s\"\"\",\" \", w.decode(\"utf8\").lower()).split(\" \")).filter(lambda a: len(a)>0)"
      ],
      "execution_count": 68,
      "outputs": []
    },
    {
      "cell_type": "code",
      "metadata": {
        "id": "NCsub2OPjCyD"
      },
      "source": [
        "allWords.take(10)"
      ],
      "execution_count": null,
      "outputs": []
    },
    {
      "cell_type": "code",
      "metadata": {
        "id": "1W2pNxR1jKib"
      },
      "source": [
        "allWords2.take(10)"
      ],
      "execution_count": null,
      "outputs": []
    },
    {
      "cell_type": "code",
      "metadata": {
        "id": "L61OV1NHkBLZ"
      },
      "source": [
        "words = allWords.map(lambda e: (e,1))\n",
        "words2 = allWords2.map(lambda e: (e,1))\n",
        "\n",
        "words.take(10)"
      ],
      "execution_count": null,
      "outputs": []
    },
    {
      "cell_type": "code",
      "metadata": {
        "id": "wqtEo2j9kPuk"
      },
      "source": [
        "frequencies = words.reduceByKey(lambda a,b: a+b)\n",
        "frequencies2 = words2.reduceByKey(lambda a,b: a+b)\n",
        "frequencies.takeOrdered(10, key=lambda a: -a[1])"
      ],
      "execution_count": null,
      "outputs": []
    },
    {
      "cell_type": "code",
      "metadata": {
        "id": "CtlQosYPk3M7"
      },
      "source": [
        "res = words.groupByKey().takeOrdered(10, key=lambda a: -len(a))\n",
        "res # To see the content, res[i][1].data"
      ],
      "execution_count": null,
      "outputs": []
    },
    {
      "cell_type": "code",
      "metadata": {
        "id": "7nmgk3ZmlFlW"
      },
      "source": [
        "joinFreq = frequencies.join(frequencies2)\n",
        "joinFreq.take(10)"
      ],
      "execution_count": null,
      "outputs": []
    },
    {
      "cell_type": "code",
      "metadata": {
        "id": "UOY-R88Fl1vq"
      },
      "source": [
        "joinFreq.map(lambda e: (e[0], (e[1][0] - e[1][1])/(e[1][0] + e[1][1]))).takeOrdered(10, lambda v: -v[1]), joinFreq.map(lambda e: (e[0], (e[1][0] - e[1][1])/(e[1][0] + e[1][1]))).takeOrdered(10, lambda v: +v[1])"
      ],
      "execution_count": null,
      "outputs": []
    },
    {
      "cell_type": "markdown",
      "metadata": {
        "id": "Xzt9cj-RmLta"
      },
      "source": [
        "## Pregunta TS2.3 Explica el proposito de cada una de las operaciones anteriores"
      ]
    },
    {
      "cell_type": "markdown",
      "metadata": {
        "id": "I9Hx1bZ2mc-V"
      },
      "source": [
        "## Pregunta TS2.4 ¿Cómo puede implementarse la frecuencia con groupByKey y transformaciones?"
      ]
    },
    {
      "cell_type": "code",
      "metadata": {
        "id": "HiuL6clvl-JS"
      },
      "source": [
        ""
      ],
      "execution_count": null,
      "outputs": []
    },
    {
      "cell_type": "markdown",
      "metadata": {
        "id": "BiZwz7sOnBvF"
      },
      "source": [
        "# Optimizaciones\n"
      ]
    },
    {
      "cell_type": "markdown",
      "metadata": {
        "id": "avupEVWQnIL5"
      },
      "source": [
        "## Pregunta TS2.5 ¿Cuál de las dos siguientes celdas es más eficiente? Justifique la respuesta."
      ]
    },
    {
      "cell_type": "code",
      "metadata": {
        "id": "I0_XRWcOndr6"
      },
      "source": [
        "joinFreq.map(lambda e: (e[0], (e[1][0] - e[1][1])/(e[1][0] + e[1][1]))).takeOrdered(10, lambda v: -v[1]), joinFreq.map(lambda e: (e[0], (e[1][0] - e[1][1])/(e[1][0] + e[1][1]))).takeOrdered(10, lambda v: +v[1])"
      ],
      "execution_count": null,
      "outputs": []
    },
    {
      "cell_type": "code",
      "metadata": {
        "id": "XKw7IizNnaKA"
      },
      "source": [
        "result = joinFreq.map(lambda e: (e[0], (e[1][0] - e[1][1])/(e[1][0] + e[1][1])))\n",
        "result.cache()\n",
        "result.takeOrdered(10, lambda v: -v[1]), result.takeOrdered(10, lambda v: +v[1])"
      ],
      "execution_count": null,
      "outputs": []
    },
    {
      "cell_type": "code",
      "metadata": {
        "colab": {
          "base_uri": "https://localhost:8080/"
        },
        "id": "Nq0ME9-NqJ2w",
        "outputId": "f2b3d4b2-cc3e-4726-a28d-7ca6b5a74f3e"
      },
      "source": [
        "result.coalesce(numPartitions=2) # Avoids the data movement, so it tries to balance inside each machine\n",
        "result.repartition(numPartitions=2) # We don't care about data movement, this balance the whole thing to ensure all machines are used"
      ],
      "execution_count": 89,
      "outputs": [
        {
          "output_type": "execute_result",
          "data": {
            "text/plain": [
              "MapPartitionsRDD[182] at coalesce at NativeMethodAccessorImpl.java:0"
            ]
          },
          "metadata": {},
          "execution_count": 89
        }
      ]
    },
    {
      "cell_type": "code",
      "metadata": {
        "id": "79DLzM3WqaEF"
      },
      "source": [
        "result.take(10)\n",
        "allWords.cache() # allWords RDD must  stay in memory after computation, we made a checkpoint (well, it's a best effort, so must might be too strong)\n",
        "result.take(10)"
      ],
      "execution_count": null,
      "outputs": []
    },
    {
      "cell_type": "code",
      "metadata": {
        "id": "NmdxjbAAqjIC"
      },
      "source": [
        "from pyspark import StorageLevel\n",
        "# https://spark.apache.org/docs/2.2.0/rdd-programming-guide.html#rdd-persistence\n",
        "allWords2.persist(StorageLevel.MEMORY_AND_DISK) # Now it will be preserved on disk also"
      ],
      "execution_count": null,
      "outputs": []
    },
    {
      "cell_type": "code",
      "metadata": {
        "id": "lPbqq1tYqo5H"
      },
      "source": [
        "!rm -rf palabras_parte2\n",
        "allWords2.saveAsTextFile(\"palabras_parte2\")"
      ],
      "execution_count": 92,
      "outputs": []
    },
    {
      "cell_type": "markdown",
      "metadata": {
        "id": "nW3ELXvSqtdn"
      },
      "source": [
        "## Pregunta TS2.6 Antes de guardar el fichero, utilice coalesce con diferente valores ¿Cuál es la diferencia?"
      ]
    },
    {
      "cell_type": "code",
      "metadata": {
        "id": "wjBusUNgrMdB"
      },
      "source": [
        ""
      ],
      "execution_count": null,
      "outputs": []
    },
    {
      "cell_type": "markdown",
      "metadata": {
        "id": "Rrlv7SpGrOvA"
      },
      "source": [
        "Variables Globales"
      ]
    },
    {
      "cell_type": "code",
      "metadata": {
        "id": "QhsyqMMXrVZ9"
      },
      "source": [
        "articles = sc.broadcast([\"el\", \"la\"])\n",
        "articles.value"
      ],
      "execution_count": null,
      "outputs": []
    },
    {
      "cell_type": "code",
      "metadata": {
        "id": "Z51vqUrasDqz"
      },
      "source": [
        "acc = sc.accumulator(0)\n",
        "def incrementar(x):\n",
        "  global acc\n",
        "  acc += x\n",
        "\n",
        "allWords.map(lambda l:1).foreach(incrementar)\n",
        "acc"
      ],
      "execution_count": null,
      "outputs": []
    },
    {
      "cell_type": "code",
      "metadata": {
        "id": "N2CkixrL7Ams"
      },
      "source": [
        "print (rdd.getStorageLevel())\n",
        "rdd = sc.textFile('elquijote.txt')\n",
        "%time print (rdd.count())\n",
        "%time print (rdd.count())\n",
        "rdd.cache()\n",
        "%time print (rdd.count())\n",
        "%time print (rdd.count())\n"
      ],
      "execution_count": null,
      "outputs": []
    },
    {
      "cell_type": "code",
      "metadata": {
        "id": "bYVHFmzs7Ow3"
      },
      "source": [
        "pals_a_eliminar = ['a', 'ante', 'bajo', 'segun', 'que', 'de']\n",
        "\n",
        "def elimPalabras(p):\n",
        "    global pals_a_eliminar\n",
        "    return p not in pals_a_eliminar\n",
        "\n",
        "lineas = sc.textFile('elquijote.txt', 8)\n",
        "pals = (lineas.flatMap(lambda linea: linea.lower().split())\n",
        "              .filter(elimPalabras)\n",
        "              .map(lambda pal: (pal, 1))\n",
        "              .reduceByKey(lambda elem1,elem2: elem1 + elem2))\n",
        "\n",
        "print (pals.takeOrdered(15, key=lambda a:-a[1]))"
      ],
      "execution_count": null,
      "outputs": []
    },
    {
      "cell_type": "code",
      "metadata": {
        "id": "SBPm64s-7wsO"
      },
      "source": [
        "counter = sc.accumulator(0)\n",
        "\n",
        "rdd = sc.textFile('elquijote.txt')\n",
        "\n",
        "def increment_counter(x):\n",
        "    global counter\n",
        "    counter += x\n",
        "    \n",
        "rdd.map(lambda l:len(l)).foreach(increment_counter)\n",
        "\n",
        "print (\"Counter value: %d\" % counter.value)"
      ],
      "execution_count": null,
      "outputs": []
    }
  ]
}