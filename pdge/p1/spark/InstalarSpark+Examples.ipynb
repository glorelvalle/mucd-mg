{
  "nbformat": 4,
  "nbformat_minor": 0,
  "metadata": {
    "colab": {
      "name": "InstalarSpark+Examples.ipynb",
      "provenance": [],
      "collapsed_sections": [
        "hIpuogySgB4N",
        "Xzt9cj-RmLta"
      ]
    },
    "kernelspec": {
      "name": "python3",
      "display_name": "Python 3"
    },
    "language_info": {
      "name": "python"
    }
  },
  "cells": [
    {
      "cell_type": "markdown",
      "metadata": {
        "id": "6aD1ALMdAy6O"
      },
      "source": [
        "# PySpark en Google Colab\n",
        "\n",
        "Instalacion Octubre/2021\n",
        "\n",
        "1.   Instalacion Java\n",
        "2.   Instalacion de Spark\n",
        "3.   Instalar PySpark\n",
        "\n",
        "## De forma General para usar pyspark en Colab (2021) siga los siguientes pasos en una celda en Colab:"
      ]
    },
    {
      "cell_type": "code",
      "metadata": {
        "id": "8JuWZdteAmvv"
      },
      "source": [
        "# instalar Java\n",
        "!apt-get install openjdk-8-jdk-headless -qq > /dev/null\n"
      ],
      "execution_count": null,
      "outputs": []
    },
    {
      "cell_type": "code",
      "metadata": {
        "id": "SoApfKfpRunp"
      },
      "source": [
        "# Descargar la ultima versión de java ( comprobar que existen los path de descarga)\n",
        "# Download latest release. Update if necessary\n",
        "\n",
        "!wget -q https://downloads.apache.org/spark/spark-3.1.2/spark-3.1.2-bin-hadoop2.7.tgz"
      ],
      "execution_count": null,
      "outputs": []
    },
    {
      "cell_type": "code",
      "metadata": {
        "id": "PzHJ0bpuN-od",
        "colab": {
          "base_uri": "https://localhost:8080/"
        },
        "outputId": "2c31f657-d153-4ec1-d081-c7d45cf39e65"
      },
      "source": [
        "%ls -la /content/\n",
        "\n"
      ],
      "execution_count": null,
      "outputs": [
        {
          "output_type": "stream",
          "name": "stdout",
          "text": [
            "total 219204\n",
            "drwxr-xr-x 1 root root      4096 Oct  5 11:07 \u001b[0m\u001b[01;34m.\u001b[0m/\n",
            "drwxr-xr-x 1 root root      4096 Oct  5 10:59 \u001b[01;34m..\u001b[0m/\n",
            "drwxr-xr-x 4 root root      4096 Sep 30 17:11 \u001b[01;34m.config\u001b[0m/\n",
            "drwxr-xr-x 1 root root      4096 Sep 30 17:12 \u001b[01;34msample_data\u001b[0m/\n",
            "-rw-r--r-- 1 root root 224445805 May 24 05:01 spark-3.1.2-bin-hadoop2.7.tgz\n"
          ]
        }
      ]
    },
    {
      "cell_type": "code",
      "metadata": {
        "id": "uXpriDwJLP1I"
      },
      "source": [
        "!tar xf spark-3.1.2-bin-hadoop2.7.tgz"
      ],
      "execution_count": null,
      "outputs": []
    },
    {
      "cell_type": "code",
      "metadata": {
        "id": "aRYGR8EsycZ1",
        "colab": {
          "base_uri": "https://localhost:8080/"
        },
        "outputId": "dccd7548-d2b5-4178-9f1a-56fec73cb21d"
      },
      "source": [
        "%ls -la"
      ],
      "execution_count": null,
      "outputs": [
        {
          "output_type": "stream",
          "name": "stdout",
          "text": [
            "total 219208\n",
            "drwxr-xr-x  1 root root      4096 Oct  5 11:08 \u001b[0m\u001b[01;34m.\u001b[0m/\n",
            "drwxr-xr-x  1 root root      4096 Oct  5 10:59 \u001b[01;34m..\u001b[0m/\n",
            "drwxr-xr-x  4 root root      4096 Sep 30 17:11 \u001b[01;34m.config\u001b[0m/\n",
            "drwxr-xr-x  1 root root      4096 Sep 30 17:12 \u001b[01;34msample_data\u001b[0m/\n",
            "drwxr-xr-x 13 1000 1000      4096 May 24 05:00 \u001b[01;34mspark-3.1.2-bin-hadoop2.7\u001b[0m/\n",
            "-rw-r--r--  1 root root 224445805 May 24 05:01 spark-3.1.2-bin-hadoop2.7.tgz\n"
          ]
        }
      ]
    },
    {
      "cell_type": "markdown",
      "metadata": {
        "id": "7Qih8Kt1MJla"
      },
      "source": [
        ""
      ]
    },
    {
      "cell_type": "code",
      "metadata": {
        "id": "gKlOUyKuMEr7",
        "colab": {
          "base_uri": "https://localhost:8080/"
        },
        "outputId": "3e3437ef-9fd2-4fac-b3b5-2aa14da7a015"
      },
      "source": [
        "# instalar pyspark\n",
        "!pip install -q pyspark"
      ],
      "execution_count": null,
      "outputs": [
        {
          "output_type": "stream",
          "name": "stdout",
          "text": [
            "\u001b[K     |████████████████████████████████| 212.4 MB 57 kB/s \n",
            "\u001b[K     |████████████████████████████████| 198 kB 61.3 MB/s \n",
            "\u001b[?25h  Building wheel for pyspark (setup.py) ... \u001b[?25l\u001b[?25hdone\n"
          ]
        }
      ]
    },
    {
      "cell_type": "markdown",
      "metadata": {
        "id": "EzkJ4JKkCgno"
      },
      "source": [
        "# Variables de entorno"
      ]
    },
    {
      "cell_type": "code",
      "metadata": {
        "id": "WVEIOATyCYc6"
      },
      "source": [
        "import os # libreria de manejo del sistema operativo\n",
        "os.environ[\"JAVA_HOME\"] = \"/usr/lib/jvm/java-8-openjdk-amd64\"\n",
        "os.environ[\"SPARK_HOME\"] = \"/content/spark-3.1.2-bin-hadoop2.7\""
      ],
      "execution_count": null,
      "outputs": []
    },
    {
      "cell_type": "markdown",
      "metadata": {
        "id": "9UCH8MwWGA-Q"
      },
      "source": [
        "# Cargar pyspark en el sistema"
      ]
    },
    {
      "cell_type": "code",
      "metadata": {
        "id": "38_3RcUSCiwb",
        "colab": {
          "base_uri": "https://localhost:8080/",
          "height": 216
        },
        "outputId": "329e8e75-c466-48f7-8d1c-979e5f393272"
      },
      "source": [
        "from pyspark.sql import SparkSession\n",
        "\n",
        "APP_NAME = \"PDGE-tutorialSpark1\"\n",
        "SPARK_URL = \"local[*]\"\n",
        "spark = SparkSession.builder.appName(APP_NAME).master(SPARK_URL).getOrCreate()\n",
        "spark"
      ],
      "execution_count": null,
      "outputs": [
        {
          "output_type": "execute_result",
          "data": {
            "text/html": [
              "\n",
              "            <div>\n",
              "                <p><b>SparkSession - in-memory</b></p>\n",
              "                \n",
              "        <div>\n",
              "            <p><b>SparkContext</b></p>\n",
              "\n",
              "            <p><a href=\"http://797bef4fe4d2:4040\">Spark UI</a></p>\n",
              "\n",
              "            <dl>\n",
              "              <dt>Version</dt>\n",
              "                <dd><code>v3.1.2</code></dd>\n",
              "              <dt>Master</dt>\n",
              "                <dd><code>local[*]</code></dd>\n",
              "              <dt>AppName</dt>\n",
              "                <dd><code>PDGE-tutorialSpark1</code></dd>\n",
              "            </dl>\n",
              "        </div>\n",
              "        \n",
              "            </div>\n",
              "        "
            ],
            "text/plain": [
              "<pyspark.sql.session.SparkSession at 0x7f4ae2f368d0>"
            ]
          },
          "metadata": {},
          "execution_count": 8
        }
      ]
    },
    {
      "cell_type": "markdown",
      "metadata": {
        "id": "TX-3Z9fcy5bB"
      },
      "source": [
        "Pruebas\n"
      ]
    },
    {
      "cell_type": "code",
      "metadata": {
        "colab": {
          "base_uri": "https://localhost:8080/",
          "height": 193
        },
        "id": "zRK16gv0zAnN",
        "outputId": "501bcd19-321c-4a0c-ed34-4256fcc11816"
      },
      "source": [
        "sc = spark.sparkContext\n",
        "#obtener el contexto de ejecución de Spark del Driver.\n",
        "sc"
      ],
      "execution_count": null,
      "outputs": [
        {
          "output_type": "execute_result",
          "data": {
            "text/html": [
              "\n",
              "        <div>\n",
              "            <p><b>SparkContext</b></p>\n",
              "\n",
              "            <p><a href=\"http://797bef4fe4d2:4040\">Spark UI</a></p>\n",
              "\n",
              "            <dl>\n",
              "              <dt>Version</dt>\n",
              "                <dd><code>v3.1.2</code></dd>\n",
              "              <dt>Master</dt>\n",
              "                <dd><code>local[*]</code></dd>\n",
              "              <dt>AppName</dt>\n",
              "                <dd><code>PDGE-tutorialSpark1</code></dd>\n",
              "            </dl>\n",
              "        </div>\n",
              "        "
            ],
            "text/plain": [
              "<SparkContext master=local[*] appName=PDGE-tutorialSpark1>"
            ]
          },
          "metadata": {},
          "execution_count": 9
        }
      ]
    },
    {
      "cell_type": "code",
      "metadata": {
        "id": "DoAGmb4GY829",
        "colab": {
          "base_uri": "https://localhost:8080/"
        },
        "outputId": "19cfbcc1-6b06-41e5-8a8f-c2b6eedec040"
      },
      "source": [
        "array = sc.parallelize([1,2,3,4,5,6,7,8,9,10], 2)\n",
        "array"
      ],
      "execution_count": null,
      "outputs": [
        {
          "output_type": "execute_result",
          "data": {
            "text/plain": [
              "ParallelCollectionRDD[0] at readRDDFromFile at PythonRDD.scala:274"
            ]
          },
          "metadata": {},
          "execution_count": 10
        }
      ]
    },
    {
      "cell_type": "code",
      "metadata": {
        "id": "eOLHf13HZ2h1",
        "colab": {
          "base_uri": "https://localhost:8080/"
        },
        "outputId": "12b52e5d-6ac4-481e-df73-685dbf283fbb"
      },
      "source": [
        "print(array.collect())"
      ],
      "execution_count": null,
      "outputs": [
        {
          "output_type": "stream",
          "name": "stdout",
          "text": [
            "[1, 2, 3, 4, 5, 6, 7, 8, 9, 10]\n"
          ]
        }
      ]
    },
    {
      "cell_type": "code",
      "metadata": {
        "id": "iuZ5GDGqVwrS",
        "colab": {
          "base_uri": "https://localhost:8080/"
        },
        "outputId": "1a38b804-97e2-4777-f147-9bbfef56929e"
      },
      "source": [
        "print(array.count())\n"
      ],
      "execution_count": null,
      "outputs": [
        {
          "output_type": "stream",
          "name": "stdout",
          "text": [
            "10\n"
          ]
        }
      ]
    },
    {
      "cell_type": "code",
      "metadata": {
        "id": "gy-anBhZ4f0-"
      },
      "source": [
        "num3 = array.map(lambda elemento: 3*elemento)"
      ],
      "execution_count": null,
      "outputs": []
    },
    {
      "cell_type": "code",
      "metadata": {
        "id": "MKCuCvPI4sgZ",
        "colab": {
          "base_uri": "https://localhost:8080/"
        },
        "outputId": "b4d8c902-afa4-4df6-c812-b6cf4eccf6c3"
      },
      "source": [
        "print(num3.collect())"
      ],
      "execution_count": null,
      "outputs": [
        {
          "output_type": "stream",
          "name": "stdout",
          "text": [
            "[3, 6, 9, 12, 15, 18, 21, 24, 27, 30]\n"
          ]
        }
      ]
    },
    {
      "cell_type": "markdown",
      "metadata": {
        "id": "ogJwPyVjZWcd"
      },
      "source": [
        "# Ejemplos de operaciones con RDDs de Spark"
      ]
    },
    {
      "cell_type": "code",
      "metadata": {
        "id": "h_sTML7yZzuH",
        "colab": {
          "base_uri": "https://localhost:8080/"
        },
        "outputId": "4ff1c2e1-d251-4a94-f337-312d08c54b80"
      },
      "source": [
        "numeros = sc.parallelize([1,2,3,4,5,6,7,8,9,10],2)\n",
        "\n",
        "print(numeros.reduce(lambda e1,e2: e1+e2))"
      ],
      "execution_count": null,
      "outputs": [
        {
          "output_type": "stream",
          "name": "stdout",
          "text": [
            "55\n"
          ]
        }
      ]
    },
    {
      "cell_type": "code",
      "metadata": {
        "id": "7PjaW8UhaPoj",
        "colab": {
          "base_uri": "https://localhost:8080/"
        },
        "outputId": "9b18513a-4a85-41b9-f878-da7ef5d08c1d"
      },
      "source": [
        "pnumeros = sc.parallelize([1,2,3,4,5,6,7,8,9,10])\n",
        "\n",
        "rdd = pnumeros.map(lambda e: 2*e)\n",
        "\n",
        "print(rdd.collect())\n"
      ],
      "execution_count": null,
      "outputs": [
        {
          "output_type": "stream",
          "name": "stdout",
          "text": [
            "[2, 4, 6, 8, 10, 12, 14, 16, 18, 20]\n"
          ]
        }
      ]
    },
    {
      "cell_type": "markdown",
      "metadata": {
        "id": "7EObylHIaZKC"
      },
      "source": [
        "## Pregunta TS1.1 ¿Cómo hacer para obtener una lista de los elementos al cuadrado?"
      ]
    },
    {
      "cell_type": "code",
      "metadata": {
        "id": "320brSCvaj9N",
        "colab": {
          "base_uri": "https://localhost:8080/"
        },
        "outputId": "3eeaf0af-6788-4c91-f52f-4787ff25eff9"
      },
      "source": [
        "array = sc.parallelize([1,2,3,4,5,6,7,8,9,10], 2)\n",
        "rdd = pnumeros.map(lambda e: 2*e)\n",
        "print(rdd.collect())"
      ],
      "execution_count": 90,
      "outputs": [
        {
          "output_type": "stream",
          "name": "stdout",
          "text": [
            "[2, 4, 6, 8, 10, 12, 14, 16, 18, 20]\n"
          ]
        }
      ]
    },
    {
      "cell_type": "code",
      "metadata": {
        "id": "IpED25-ga6MX",
        "colab": {
          "base_uri": "https://localhost:8080/"
        },
        "outputId": "c1b50dd7-17bd-4cca-e11a-e5d28583e090"
      },
      "source": [
        "numeros = sc.parallelize([1,2,3,4,5,6,7,8,9,10])\n",
        "\n",
        "rdd = numeros.filter(lambda elemento: elemento%2==0)\n",
        "\n",
        "print (rdd.collect())"
      ],
      "execution_count": null,
      "outputs": [
        {
          "output_type": "stream",
          "name": "stdout",
          "text": [
            "[2, 4, 6, 8, 10]\n"
          ]
        }
      ]
    },
    {
      "cell_type": "markdown",
      "metadata": {
        "id": "2LtU6J3ia8Hw"
      },
      "source": [
        "## Pregunta TS1.2 ¿Cómo filtrar los impares?"
      ]
    },
    {
      "cell_type": "code",
      "metadata": {
        "id": "r5pQG0VDZzkY",
        "colab": {
          "base_uri": "https://localhost:8080/"
        },
        "outputId": "f06f73ea-72a3-4a87-c32b-b2b32f729416"
      },
      "source": [
        "rddi = numeros.filter (lambda e: e%2==1)\n",
        "print (rddi.collect())"
      ],
      "execution_count": null,
      "outputs": [
        {
          "output_type": "stream",
          "name": "stdout",
          "text": [
            "[1, 3, 5, 7, 9]\n"
          ]
        }
      ]
    },
    {
      "cell_type": "markdown",
      "metadata": {
        "id": "qc_udeL9kDXu"
      },
      "source": [
        "#Operaciones con números"
      ]
    },
    {
      "cell_type": "markdown",
      "metadata": {
        "id": "RsbMVChlP5r0"
      },
      "source": [
        "Sumar n numeros"
      ]
    },
    {
      "cell_type": "code",
      "metadata": {
        "id": "ial-4tcjjMUj",
        "colab": {
          "base_uri": "https://localhost:8080/"
        },
        "outputId": "8319b975-6e51-4764-bdc8-0d4e787de5be"
      },
      "source": [
        "rddnum=sc.range(1000000)\n",
        "rddnum.reduce(lambda a,b: a+b)"
      ],
      "execution_count": null,
      "outputs": [
        {
          "output_type": "execute_result",
          "data": {
            "text/plain": [
              "499999500000"
            ]
          },
          "metadata": {},
          "execution_count": 20
        }
      ]
    },
    {
      "cell_type": "code",
      "metadata": {
        "id": "EYsRY4yMoB3C",
        "colab": {
          "base_uri": "https://localhost:8080/"
        },
        "outputId": "4606e5c2-217b-4455-a72f-f91c9afd144f"
      },
      "source": [
        "numeros = sc.parallelize([1,1,2,2,5])\n",
        "\n",
        "unicos = numeros.distinct()\n",
        "\n",
        "print (unicos.collect())"
      ],
      "execution_count": null,
      "outputs": [
        {
          "output_type": "stream",
          "name": "stdout",
          "text": [
            "[2, 1, 5]\n"
          ]
        }
      ]
    },
    {
      "cell_type": "code",
      "metadata": {
        "id": "5uRY-KHycVim",
        "colab": {
          "base_uri": "https://localhost:8080/"
        },
        "outputId": "e0e48548-99a7-4379-e74f-352975ba5bc9"
      },
      "source": [
        "numeros = sc.parallelize([1,2,3,4,5])\n",
        "\n",
        "rdd = numeros.flatMap(lambda elemento: [elemento, 10*elemento])\n",
        "\n",
        "print (rdd.collect())"
      ],
      "execution_count": null,
      "outputs": [
        {
          "output_type": "stream",
          "name": "stdout",
          "text": [
            "[1, 10, 2, 20, 3, 30, 4, 40, 5, 50]\n"
          ]
        }
      ]
    },
    {
      "cell_type": "markdown",
      "metadata": {
        "id": "2Iz55urM7Kl3"
      },
      "source": [
        "Muestreo"
      ]
    },
    {
      "cell_type": "code",
      "metadata": {
        "id": "4m70js9d7N8x",
        "colab": {
          "base_uri": "https://localhost:8080/"
        },
        "outputId": "8048559f-58f5-4b85-b0b4-a3fa4b165566"
      },
      "source": [
        "numeros = sc.parallelize([1,2,3,4,5,6,7,8,9,10])\n",
        "\n",
        "rdd = numeros.sample(True, 1.0)\n",
        "# True = sin reemplazar\n",
        "# 1.0 = fracción de elementos = 100%\n",
        "print (rdd.collect())"
      ],
      "execution_count": null,
      "outputs": [
        {
          "output_type": "stream",
          "name": "stdout",
          "text": [
            "[1, 2, 2, 4, 4, 4, 6, 6, 10]\n"
          ]
        }
      ]
    },
    {
      "cell_type": "markdown",
      "metadata": {
        "id": "6MlNG4--Pns0"
      },
      "source": [
        "Union "
      ]
    },
    {
      "cell_type": "code",
      "metadata": {
        "id": "Nib7-OKadSEn",
        "colab": {
          "base_uri": "https://localhost:8080/"
        },
        "outputId": "9621fe68-6d5d-4bd6-8981-fee88801612e"
      },
      "source": [
        "pares = sc.parallelize([2,4,6,8,10])\n",
        "impares = sc.parallelize([1,3,5,7,9])\n",
        "\n",
        "numeros = pares.union(impares)\n",
        "\n",
        "print (numeros.collect())"
      ],
      "execution_count": null,
      "outputs": [
        {
          "output_type": "stream",
          "name": "stdout",
          "text": [
            "[2, 4, 6, 8, 10, 1, 3, 5, 7, 9]\n"
          ]
        }
      ]
    },
    {
      "cell_type": "markdown",
      "metadata": {
        "id": "YexhndIY7ikM"
      },
      "source": [
        "reducción\n"
      ]
    },
    {
      "cell_type": "code",
      "metadata": {
        "id": "x3R31PVc7k_L",
        "colab": {
          "base_uri": "https://localhost:8080/"
        },
        "outputId": "fb488ec7-5167-4fdd-eab2-e90466553c4d"
      },
      "source": [
        "numeros = sc.parallelize([1,2,3,4,5])\n",
        "# operación asociativa y conmutativa\n",
        "# orden no está definido\n",
        "print (numeros.reduce(lambda elem1,elem2: elem2+elem1))"
      ],
      "execution_count": null,
      "outputs": [
        {
          "output_type": "stream",
          "name": "stdout",
          "text": [
            "15\n"
          ]
        }
      ]
    },
    {
      "cell_type": "markdown",
      "metadata": {
        "id": "Z-KQK9fj78uU"
      },
      "source": [
        "## Pregunta TS1.3 ¿Tiene sentido esta operación? ¿Si se repite se obtiene siempre el mismo resultado?"
      ]
    },
    {
      "cell_type": "code",
      "metadata": {
        "id": "Gvr3unXn8NOO",
        "colab": {
          "base_uri": "https://localhost:8080/"
        },
        "outputId": "04ebb47c-5c14-4410-a588-cebb0722d1dd"
      },
      "source": [
        "#Tiene sentido esta operación?\n",
        "numeros = sc.parallelize([1,2,3,4,5])\n",
        "\n",
        "print (numeros.reduce(lambda elem1,elem2: elem1-elem2))"
      ],
      "execution_count": null,
      "outputs": [
        {
          "output_type": "stream",
          "name": "stdout",
          "text": [
            "5\n"
          ]
        }
      ]
    },
    {
      "cell_type": "code",
      "metadata": {
        "id": "A6c147To8T4s",
        "colab": {
          "base_uri": "https://localhost:8080/"
        },
        "outputId": "492cc266-47b6-4227-9344-4bc7201a107d"
      },
      "source": [
        "#Tiene sentido esta operación?\n",
        "numeros = sc.parallelize([1,2,4,3,5])\n",
        "\n",
        "print (numeros.reduce(lambda elem1,elem2: elem1-elem2))"
      ],
      "execution_count": null,
      "outputs": [
        {
          "output_type": "stream",
          "name": "stdout",
          "text": [
            "3\n"
          ]
        }
      ]
    },
    {
      "cell_type": "markdown",
      "metadata": {
        "id": "c9iVsHyW8lBj"
      },
      "source": [
        "#Acciones"
      ]
    },
    {
      "cell_type": "code",
      "metadata": {
        "id": "vNyMypQj8o__",
        "colab": {
          "base_uri": "https://localhost:8080/"
        },
        "outputId": "eb257102-8952-4eb5-f287-5045b9b9c975"
      },
      "source": [
        "numeros = sc.parallelize([5,3,2,1,4])\n",
        "\n",
        "print (numeros.take(3))\n",
        "#¿Qué sucede si ponemos 30 en vez de 3 elementos?"
      ],
      "execution_count": null,
      "outputs": [
        {
          "output_type": "stream",
          "name": "stdout",
          "text": [
            "[5, 3, 2]\n"
          ]
        }
      ]
    },
    {
      "cell_type": "code",
      "metadata": {
        "id": "RRuJczUX8kSv",
        "colab": {
          "base_uri": "https://localhost:8080/"
        },
        "outputId": "c68dbe17-0706-47a6-cbe5-01050e786501"
      },
      "source": [
        "numeros = sc.parallelize([3,2,1,4,5])\n",
        "# \n",
        "print (numeros.takeOrdered(3, lambda elem: -elem))\n",
        "# La función lambda se está utilizando para crear el índice de la lista de ordenación "
      ],
      "execution_count": null,
      "outputs": [
        {
          "output_type": "stream",
          "name": "stdout",
          "text": [
            "[5, 4, 3]\n"
          ]
        }
      ]
    },
    {
      "cell_type": "markdown",
      "metadata": {
        "id": "ltQB9md2ME1l"
      },
      "source": [
        "## Pregunta TS1.4 ¿Cómo lo ordenarías para que primero aparezcan los impares y luego los pares?"
      ]
    },
    {
      "cell_type": "code",
      "metadata": {
        "id": "BIaKzQy1M98H",
        "colab": {
          "base_uri": "https://localhost:8080/"
        },
        "outputId": "1a0b79b4-d6e8-4492-a2bf-9417ba724fc4"
      },
      "source": [
        "#####\n",
        "numeros = sc.parallelize([5,3,2,1,4])\n",
        "rdd = numeros.filter(lambda e: e%2==1).union(numeros.filter(lambda e: e%2==0))\n",
        "rdd.collect()"
      ],
      "execution_count": null,
      "outputs": [
        {
          "output_type": "execute_result",
          "data": {
            "text/plain": [
              "[5, 3, 1, 2, 4]"
            ]
          },
          "metadata": {},
          "execution_count": 30
        }
      ]
    },
    {
      "cell_type": "code",
      "metadata": {
        "id": "RixVNY9X5LR6"
      },
      "source": [
        "##### no sé si dice ordenados también"
      ],
      "execution_count": null,
      "outputs": []
    },
    {
      "cell_type": "markdown",
      "metadata": {
        "id": "ctm29gO0ZIbZ"
      },
      "source": [
        "# RDDs con string"
      ]
    },
    {
      "cell_type": "code",
      "metadata": {
        "id": "wzdO64iKaC1q",
        "colab": {
          "base_uri": "https://localhost:8080/"
        },
        "outputId": "513ab608-45dd-4f5f-b7d9-924d366f1b20"
      },
      "source": [
        "palabras = sc.parallelize(['HOLA', 'Que', 'TAL', 'Bien'])\n",
        "\n",
        "pal_minus = palabras.map(lambda elemento: elemento.lower())\n",
        "\n",
        "print (pal_minus.collect())\n",
        "print (\"RDD size: \", pal_minus.count())"
      ],
      "execution_count": 94,
      "outputs": [
        {
          "output_type": "stream",
          "name": "stdout",
          "text": [
            "['hola', 'que', 'tal', 'bien']\n",
            "RDD size:  4\n"
          ]
        }
      ]
    },
    {
      "cell_type": "code",
      "metadata": {
        "colab": {
          "base_uri": "https://localhost:8080/"
        },
        "id": "P5wFlx1CWXeC",
        "outputId": "4a261050-7409-4840-8628-e099e8808622"
      },
      "source": [
        "pal_minus.count()"
      ],
      "execution_count": 91,
      "outputs": [
        {
          "output_type": "execute_result",
          "data": {
            "text/plain": [
              "4"
            ]
          },
          "metadata": {},
          "execution_count": 91
        }
      ]
    },
    {
      "cell_type": "code",
      "metadata": {
        "id": "_7Pn8FjtakNG",
        "colab": {
          "base_uri": "https://localhost:8080/"
        },
        "outputId": "970d8050-d75b-4413-f5bb-db6b50cea3f7"
      },
      "source": [
        "palabras = sc.parallelize(['HOLA', 'Que', 'TAL', 'Bien'])\n",
        "\n",
        "pal_long = palabras.map(lambda elemento: len(elemento))\n",
        "\n",
        "print (pal_long.collect())\n",
        "print (\"RDD size: \", pal_long.count())"
      ],
      "execution_count": 95,
      "outputs": [
        {
          "output_type": "stream",
          "name": "stdout",
          "text": [
            "[4, 3, 3, 4]\n",
            "RDD size:  4\n"
          ]
        }
      ]
    },
    {
      "cell_type": "code",
      "metadata": {
        "id": "rmZwI0MGbAOS",
        "colab": {
          "base_uri": "https://localhost:8080/"
        },
        "outputId": "2b955530-85be-42d4-bb31-8d2031e11037"
      },
      "source": [
        "log = sc.parallelize(['E: e21', 'W: w12', 'W: w13', 'E: e45'])\n",
        "\n",
        "errors = log.filter(lambda elemento: elemento[0]=='E')\n",
        "\n",
        "print (errors.collect())\n",
        "print (\"RDD size: \", errors.count())"
      ],
      "execution_count": 96,
      "outputs": [
        {
          "output_type": "stream",
          "name": "stdout",
          "text": [
            "['E: e21', 'E: e45']\n",
            "RDD size:  2\n"
          ]
        }
      ]
    },
    {
      "cell_type": "code",
      "metadata": {
        "id": "KKDB9UzIcbau",
        "colab": {
          "base_uri": "https://localhost:8080/"
        },
        "outputId": "36b2b13d-025f-4116-f16c-6923a56e7a44"
      },
      "source": [
        "lineas = sc.parallelize(['', 'a', 'a b', 'a b c'])\n",
        "\n",
        "palabras = lineas.flatMap(lambda elemento: elemento.split())\n",
        "\n",
        "print (palabras.collect())\n",
        "print (\"RDD size: \", palabras.count())"
      ],
      "execution_count": 97,
      "outputs": [
        {
          "output_type": "stream",
          "name": "stdout",
          "text": [
            "['a', 'a', 'b', 'a', 'b', 'c']\n",
            "RDD size:  6\n"
          ]
        }
      ]
    },
    {
      "cell_type": "code",
      "metadata": {
        "id": "ZpM4oMF_cnW4",
        "colab": {
          "base_uri": "https://localhost:8080/"
        },
        "outputId": "1de380d9-b3c7-445f-9a1f-35d2b68417d4"
      },
      "source": [
        "lineas = sc.parallelize(['', 'a', 'a b', 'a b c'])\n",
        "\n",
        "palabras_flat = lineas.flatMap(lambda elemento: elemento.split())\n",
        "palabras_map = lineas.map(lambda elemento: elemento.split())\n",
        "\n",
        "print (palabras_flat.collect())\n",
        "print (palabras_map.collect())\n",
        "print (\"RDD size 1: \", palabras_flat.count())\n",
        "print (\"RDD size 2: \", palabras_map.count())\n",
        "print(type(palabras_map.collect()))\n"
      ],
      "execution_count": 100,
      "outputs": [
        {
          "output_type": "stream",
          "name": "stdout",
          "text": [
            "['a', 'a', 'b', 'a', 'b', 'c']\n",
            "[[], ['a'], ['a', 'b'], ['a', 'b', 'c']]\n",
            "RDD size 1:  6\n",
            "RDD size 2:  4\n",
            "<class 'list'>\n"
          ]
        }
      ]
    },
    {
      "cell_type": "markdown",
      "metadata": {
        "id": "saVy72uncpMC"
      },
      "source": [
        "## Pregunta TS1.5 ¿Cuántos elementos tiene cada rdd? ¿Cuál tiene más?\n"
      ]
    },
    {
      "cell_type": "code",
      "metadata": {
        "id": "pfLDcQrV3e7j",
        "colab": {
          "base_uri": "https://localhost:8080/"
        },
        "outputId": "240667cd-96f2-4595-b4e5-bb120b3cbba3"
      },
      "source": [
        "lineas.count()\n",
        "# duda de cual de todos"
      ],
      "execution_count": null,
      "outputs": [
        {
          "output_type": "execute_result",
          "data": {
            "text/plain": [
              "4"
            ]
          },
          "metadata": {},
          "execution_count": 37
        }
      ]
    },
    {
      "cell_type": "code",
      "metadata": {
        "id": "_bDH0EwE3Kdi",
        "colab": {
          "base_uri": "https://localhost:8080/"
        },
        "outputId": "84860d4c-63ff-4785-d163-10eb0a140d97"
      },
      "source": [
        "print(palabras.count(),palabras_flat.count(), palabras_map.count())"
      ],
      "execution_count": null,
      "outputs": [
        {
          "output_type": "stream",
          "name": "stdout",
          "text": [
            "6 6 4\n"
          ]
        }
      ]
    },
    {
      "cell_type": "markdown",
      "metadata": {
        "id": "cDgvc1iU3MA2"
      },
      "source": [
        "## Pregunta TS1.6 ¿De qué tipo son los elementos del rdd palabras_map? ¿Por qué palabras_map tiene el primer elemento vacío?"
      ]
    },
    {
      "cell_type": "code",
      "metadata": {
        "id": "zsa9OFbhc0-i",
        "colab": {
          "base_uri": "https://localhost:8080/"
        },
        "outputId": "c7cfee31-f750-4f43-d40e-d3454aafcbf8"
      },
      "source": [
        "palabras_flat.take(1)"
      ],
      "execution_count": null,
      "outputs": [
        {
          "output_type": "execute_result",
          "data": {
            "text/plain": [
              "['a']"
            ]
          },
          "metadata": {},
          "execution_count": 39
        }
      ]
    },
    {
      "cell_type": "code",
      "metadata": {
        "id": "Gwn33hfO0XoJ",
        "colab": {
          "base_uri": "https://localhost:8080/"
        },
        "outputId": "c8d15ee6-c92b-4d5b-b4ff-d47b199b05c6"
      },
      "source": [
        "palabras_map\n"
      ],
      "execution_count": null,
      "outputs": [
        {
          "output_type": "execute_result",
          "data": {
            "text/plain": [
              "PythonRDD[52] at collect at <ipython-input-36-9e9e885b2c3e>:7"
            ]
          },
          "metadata": {},
          "execution_count": 40
        }
      ]
    },
    {
      "cell_type": "markdown",
      "metadata": {
        "id": "1Lv-KrP0dNdE"
      },
      "source": [
        "## Pregunta TS1.7. Prueba la transformación distinct si lo aplicamos a cadenas."
      ]
    },
    {
      "cell_type": "code",
      "metadata": {
        "colab": {
          "base_uri": "https://localhost:8080/"
        },
        "id": "5dwlTkKUPOOF",
        "outputId": "bf3372c9-1f0b-43af-ed77-e4efbb703470"
      },
      "source": [
        "log = sc.parallelize(['E: e21', 'I: i11', 'W: w12', 'I: i11', 'W: w13', 'E: e45'])\n",
        "\n",
        "infos = log.distinct()\n",
        "\n",
        "print (infos.collect())"
      ],
      "execution_count": null,
      "outputs": [
        {
          "output_type": "stream",
          "name": "stdout",
          "text": [
            "['I: i11', 'W: w12', 'W: w13', 'E: e45', 'E: e21']\n"
          ]
        }
      ]
    },
    {
      "cell_type": "code",
      "metadata": {
        "id": "Y2NdOdomdoHP",
        "colab": {
          "base_uri": "https://localhost:8080/"
        },
        "outputId": "ec42ac26-5652-4024-b1f2-409fcf2fb057"
      },
      "source": [
        "log = sc.parallelize(['E: e21', 'I: i11', 'W: w12', 'I: i11', 'W: w13', 'E: e45'])\n",
        "\n",
        "infos = log.filter(lambda elemento: elemento[0]=='I')\n",
        "errors = log.filter(lambda elemento: elemento[0]=='E')\n",
        "\n",
        "inferr = infos.union(errors)\n",
        "\n",
        "print (inferr.collect())"
      ],
      "execution_count": null,
      "outputs": [
        {
          "output_type": "stream",
          "name": "stdout",
          "text": [
            "['I: i11', 'I: i11', 'E: e21', 'E: e45']\n"
          ]
        }
      ]
    },
    {
      "cell_type": "code",
      "metadata": {
        "colab": {
          "base_uri": "https://localhost:8080/"
        },
        "id": "Z1YHQmxPb-ZY",
        "outputId": "91651fbf-fac6-44f8-f59d-01e01e49e571"
      },
      "source": [
        "log = sc.parallelize(['E: e21', 'I: i11', 'W: w12', 'I: i11', 'W: w13', 'E: e45'])\n",
        "\n",
        "infos = log.filter(lambda elemento: (elemento[0]=='I' or elemento[0]== 'E'))\n",
        "\n",
        "print (infos.collect())"
      ],
      "execution_count": 107,
      "outputs": [
        {
          "output_type": "stream",
          "name": "stdout",
          "text": [
            "['E: e21', 'I: i11', 'I: i11', 'E: e45']\n"
          ]
        }
      ]
    },
    {
      "cell_type": "markdown",
      "metadata": {
        "id": "mjuin2jgcqCo"
      },
      "source": [
        "## Pregunta TS1.8 ¿Cómo se podría obtener la misma salida pero utilizando una sola transformación y sin realizar la unión?"
      ]
    },
    {
      "cell_type": "code",
      "metadata": {
        "id": "mv4rsT2Fd_1p",
        "colab": {
          "base_uri": "https://localhost:8080/"
        },
        "outputId": "b65b0518-dc8d-4504-e9e3-04d2bc89ebb3"
      },
      "source": [
        "numeros = sc.parallelize([1,2,3,4,5])\n",
        "\n",
        "print (numeros.reduce(lambda elem1,elem2: elem2+elem1))"
      ],
      "execution_count": null,
      "outputs": [
        {
          "output_type": "stream",
          "name": "stdout",
          "text": [
            "15\n"
          ]
        }
      ]
    },
    {
      "cell_type": "code",
      "metadata": {
        "id": "Ej3-MXZDeFmy",
        "colab": {
          "base_uri": "https://localhost:8080/"
        },
        "outputId": "dadec1a3-6e2b-4744-ccb6-28781f090bb2"
      },
      "source": [
        "#Tiene sentido esta operación?\n",
        "numeros = sc.parallelize([1,2,3,4,5])\n",
        "\n",
        "print (numeros.reduce(lambda elem1,elem2: elem1-elem2))"
      ],
      "execution_count": null,
      "outputs": [
        {
          "output_type": "stream",
          "name": "stdout",
          "text": [
            "5\n"
          ]
        }
      ]
    },
    {
      "cell_type": "code",
      "metadata": {
        "id": "jgXmpVzveNaW",
        "colab": {
          "base_uri": "https://localhost:8080/"
        },
        "outputId": "6e924dcb-499b-4250-c875-f26c967e2ae3"
      },
      "source": [
        "palabras = sc.parallelize(['HOLA', 'Que', 'TAL', 'Bien'])\n",
        "\n",
        "pal_minus = palabras.map(lambda elemento: elemento.lower())\n",
        "\n",
        "print (pal_minus.reduce(lambda elem1,elem2: elem1+\"-\"+elem2))\n",
        "#y esta tiene sentido esta operación?\n",
        "# Qué pasa si ponemos elem2+\"-\"+elem1"
      ],
      "execution_count": null,
      "outputs": [
        {
          "output_type": "stream",
          "name": "stdout",
          "text": [
            "hola-que-tal-bien\n"
          ]
        }
      ]
    },
    {
      "cell_type": "code",
      "metadata": {
        "id": "1lzjZV5xeVze",
        "colab": {
          "base_uri": "https://localhost:8080/"
        },
        "outputId": "a6e99052-8982-4386-bd03-d140f9dfff2f"
      },
      "source": [
        "r = sc.parallelize([('A', 1),('C', 4),('A', 1),('B', 1),('B', 4)])\n",
        "rr = r.reduceByKey(lambda v1,v2:v1+v2)\n",
        "print (rr.collect())"
      ],
      "execution_count": null,
      "outputs": [
        {
          "output_type": "stream",
          "name": "stdout",
          "text": [
            "[('C', 4), ('A', 2), ('B', 5)]\n"
          ]
        }
      ]
    },
    {
      "cell_type": "code",
      "metadata": {
        "id": "EZ3sOeL5ebOw",
        "colab": {
          "base_uri": "https://localhost:8080/"
        },
        "outputId": "e642433e-a92e-4bd0-8e65-28d769a64ffd"
      },
      "source": [
        "r = sc.parallelize([('A', 1),('C', 4),('A', 1),('B', 1),('B', 4)])\n",
        "rr1 = r.reduceByKey(lambda v1,v2:v1+v2)\n",
        "print (rr1.collect())\n",
        "rr2 = rr1.reduceByKey(lambda v1,v2:v1)\n",
        "print (rr2.collect())\n"
      ],
      "execution_count": null,
      "outputs": [
        {
          "output_type": "stream",
          "name": "stdout",
          "text": [
            "[('C', 4), ('A', 2), ('B', 5)]\n",
            "[('C', 4), ('A', 2), ('B', 5)]\n"
          ]
        }
      ]
    },
    {
      "cell_type": "markdown",
      "metadata": {
        "id": "LLPvqqELz-Pt"
      },
      "source": [
        "## Pregunta TS1.9 ¿Cómo explica el funcionamiento de las celdas anteriores?"
      ]
    },
    {
      "cell_type": "code",
      "metadata": {
        "id": "fR2ruD-TeeK2",
        "colab": {
          "base_uri": "https://localhost:8080/"
        },
        "outputId": "f65e6c44-fbe9-4d1a-97eb-16289f7fb002"
      },
      "source": [
        "r = sc.parallelize([('A', 1),('C', 4),('A', 1),('B', 1),('B', 4)])\n",
        "rr1 = r.reduceByKey(lambda v1,v2:'hola')\n",
        "print (rr1.collect())\n",
        "rr2 = rr1.reduceByKey(lambda v1,v2:'hola')\n",
        "print (rr2.collect())"
      ],
      "execution_count": null,
      "outputs": [
        {
          "output_type": "stream",
          "name": "stdout",
          "text": [
            "[('C', 4), ('A', 'hola'), ('B', 'hola')]\n",
            "[('C', 4), ('A', 'hola'), ('B', 'hola')]\n"
          ]
        }
      ]
    },
    {
      "cell_type": "code",
      "metadata": {
        "id": "gKbP8VKzeitK",
        "colab": {
          "base_uri": "https://localhost:8080/"
        },
        "outputId": "a45189f4-fdf3-49a3-c14a-6d303147526b"
      },
      "source": [
        "r = sc.parallelize([('A', 1),('C', 2),('A', 3),('B', 4),('B', 5)])\n",
        "rr = r.groupByKey()\n",
        "res= rr.collect()\n",
        "for k,v in res:\n",
        "    print (k, list(v))\n",
        "# Que operación realizar al RDD rr para que la operacion sea como un reduceByKey\n",
        "#¿Y simular un group con un reduceByKey y un map?"
      ],
      "execution_count": null,
      "outputs": [
        {
          "output_type": "stream",
          "name": "stdout",
          "text": [
            "C [2]\n",
            "A [1, 3]\n",
            "B [4, 5]\n"
          ]
        }
      ]
    },
    {
      "cell_type": "code",
      "metadata": {
        "id": "1UBMxjgi19V8",
        "colab": {
          "base_uri": "https://localhost:8080/"
        },
        "outputId": "ed33632a-34dc-4726-f68a-39a787c00242"
      },
      "source": [
        "rdd1 = sc.parallelize([('A',1),('B',2),('C',3)])\n",
        "rdd2 = sc.parallelize([('A',4),('B',5),('C',6)])\n",
        "\n",
        "rddjoin = rdd1.join(rdd2)\n",
        "\n",
        "print (rddjoin.collect())\n",
        "# Prueba a cambiar las claves del rdd1 y rdd2 para ver cuántos elementos se crean"
      ],
      "execution_count": null,
      "outputs": [
        {
          "output_type": "stream",
          "name": "stdout",
          "text": [
            "[('A', (1, 4)), ('B', (2, 5)), ('C', (3, 6))]\n"
          ]
        }
      ]
    },
    {
      "cell_type": "code",
      "metadata": {
        "id": "XXVC6hoC2Kw-",
        "colab": {
          "base_uri": "https://localhost:8080/"
        },
        "outputId": "3aea855e-b7ad-4b14-bdea-c00abf40f330"
      },
      "source": [
        "rdd1 = sc.parallelize([('A',1),('B',2),('C',3)])\n",
        "rdd2 = sc.parallelize([('A',4),('A',5),('B',6),('D',7)])\n",
        "\n",
        "rddjoin = rdd1.join(rdd2)\n",
        "\n",
        "print (rddjoin.collect())\n",
        "#Modifica join por leftOuterJoin, rightOuterJoin y fullOuterJoin ¿Qué sucede? \n"
      ],
      "execution_count": null,
      "outputs": [
        {
          "output_type": "stream",
          "name": "stdout",
          "text": [
            "[('A', (1, 4)), ('A', (1, 5)), ('B', (2, 6))]\n"
          ]
        }
      ]
    },
    {
      "cell_type": "code",
      "metadata": {
        "id": "quNvzEdK2gv5",
        "colab": {
          "base_uri": "https://localhost:8080/"
        },
        "outputId": "f8d3db10-710f-4cab-ba2a-516596fca9bb"
      },
      "source": [
        "rdd = sc.parallelize([('A',1),('B',2),('C',3),('A',4),('A',5),('B',6)])\n",
        "\n",
        "res = rdd.sortByKey(False)\n",
        "\n",
        "print (res.collect())"
      ],
      "execution_count": null,
      "outputs": [
        {
          "output_type": "stream",
          "name": "stdout",
          "text": [
            "[('C', 3), ('B', 2), ('B', 6), ('A', 1), ('A', 4), ('A', 5)]\n"
          ]
        }
      ]
    },
    {
      "cell_type": "markdown",
      "metadata": {
        "id": "zOir6ry549KP"
      },
      "source": [
        "# Utilización de ficheros"
      ]
    },
    {
      "cell_type": "code",
      "metadata": {
        "id": "0HSk78ba3DTv"
      },
      "source": [
        "\n",
        "# Crea una lista de 1000 números y la guarda.\n",
        "# Da error si 'salida' existe, descomenta la linea de borrar en ese caso.\n",
        "%rm -rf salida\n",
        "numeros = sc.parallelize(range(0,1000))\n",
        "numeros.saveAsTextFile('salida')\n"
      ],
      "execution_count": null,
      "outputs": []
    },
    {
      "cell_type": "code",
      "metadata": {
        "id": "r1oOMj9U3azd",
        "colab": {
          "base_uri": "https://localhost:8080/"
        },
        "outputId": "ada15950-1ad2-4583-dfad-a20edf0cd61c"
      },
      "source": [
        "ls -la"
      ],
      "execution_count": null,
      "outputs": [
        {
          "output_type": "stream",
          "name": "stdout",
          "text": [
            "total 219212\n",
            "drwxr-xr-x  1 root root      4096 Oct  5 11:09 \u001b[0m\u001b[01;34m.\u001b[0m/\n",
            "drwxr-xr-x  1 root root      4096 Oct  5 10:59 \u001b[01;34m..\u001b[0m/\n",
            "drwxr-xr-x  4 root root      4096 Sep 30 17:11 \u001b[01;34m.config\u001b[0m/\n",
            "drwxr-xr-x  2 root root      4096 Oct  5 11:09 \u001b[01;34msalida\u001b[0m/\n",
            "drwxr-xr-x  1 root root      4096 Sep 30 17:12 \u001b[01;34msample_data\u001b[0m/\n",
            "drwxr-xr-x 13 1000 1000      4096 May 24 05:00 \u001b[01;34mspark-3.1.2-bin-hadoop2.7\u001b[0m/\n",
            "-rw-r--r--  1 root root 224445805 May 24 05:01 spark-3.1.2-bin-hadoop2.7.tgz\n"
          ]
        }
      ]
    },
    {
      "cell_type": "code",
      "metadata": {
        "id": "y3T8t98g3koT",
        "colab": {
          "base_uri": "https://localhost:8080/"
        },
        "outputId": "41140692-ba67-4f04-e8e4-274a21fe7f5f"
      },
      "source": [
        "%ls -la salida/*\n"
      ],
      "execution_count": null,
      "outputs": [
        {
          "output_type": "stream",
          "name": "stdout",
          "text": [
            "-rw-r--r-- 1 root root 1890 Oct  5 11:09 salida/part-00000\n",
            "-rw-r--r-- 1 root root 2000 Oct  5 11:09 salida/part-00001\n",
            "-rw-r--r-- 1 root root    0 Oct  5 11:09 salida/_SUCCESS\n"
          ]
        }
      ]
    },
    {
      "cell_type": "code",
      "metadata": {
        "id": "2yWrIYA83q_c",
        "colab": {
          "base_uri": "https://localhost:8080/"
        },
        "outputId": "4f91998d-97b9-401b-855a-be710834e5e8"
      },
      "source": [
        "%cat salida/part-00000"
      ],
      "execution_count": null,
      "outputs": [
        {
          "output_type": "stream",
          "name": "stdout",
          "text": [
            "0\n",
            "1\n",
            "2\n",
            "3\n",
            "4\n",
            "5\n",
            "6\n",
            "7\n",
            "8\n",
            "9\n",
            "10\n",
            "11\n",
            "12\n",
            "13\n",
            "14\n",
            "15\n",
            "16\n",
            "17\n",
            "18\n",
            "19\n",
            "20\n",
            "21\n",
            "22\n",
            "23\n",
            "24\n",
            "25\n",
            "26\n",
            "27\n",
            "28\n",
            "29\n",
            "30\n",
            "31\n",
            "32\n",
            "33\n",
            "34\n",
            "35\n",
            "36\n",
            "37\n",
            "38\n",
            "39\n",
            "40\n",
            "41\n",
            "42\n",
            "43\n",
            "44\n",
            "45\n",
            "46\n",
            "47\n",
            "48\n",
            "49\n",
            "50\n",
            "51\n",
            "52\n",
            "53\n",
            "54\n",
            "55\n",
            "56\n",
            "57\n",
            "58\n",
            "59\n",
            "60\n",
            "61\n",
            "62\n",
            "63\n",
            "64\n",
            "65\n",
            "66\n",
            "67\n",
            "68\n",
            "69\n",
            "70\n",
            "71\n",
            "72\n",
            "73\n",
            "74\n",
            "75\n",
            "76\n",
            "77\n",
            "78\n",
            "79\n",
            "80\n",
            "81\n",
            "82\n",
            "83\n",
            "84\n",
            "85\n",
            "86\n",
            "87\n",
            "88\n",
            "89\n",
            "90\n",
            "91\n",
            "92\n",
            "93\n",
            "94\n",
            "95\n",
            "96\n",
            "97\n",
            "98\n",
            "99\n",
            "100\n",
            "101\n",
            "102\n",
            "103\n",
            "104\n",
            "105\n",
            "106\n",
            "107\n",
            "108\n",
            "109\n",
            "110\n",
            "111\n",
            "112\n",
            "113\n",
            "114\n",
            "115\n",
            "116\n",
            "117\n",
            "118\n",
            "119\n",
            "120\n",
            "121\n",
            "122\n",
            "123\n",
            "124\n",
            "125\n",
            "126\n",
            "127\n",
            "128\n",
            "129\n",
            "130\n",
            "131\n",
            "132\n",
            "133\n",
            "134\n",
            "135\n",
            "136\n",
            "137\n",
            "138\n",
            "139\n",
            "140\n",
            "141\n",
            "142\n",
            "143\n",
            "144\n",
            "145\n",
            "146\n",
            "147\n",
            "148\n",
            "149\n",
            "150\n",
            "151\n",
            "152\n",
            "153\n",
            "154\n",
            "155\n",
            "156\n",
            "157\n",
            "158\n",
            "159\n",
            "160\n",
            "161\n",
            "162\n",
            "163\n",
            "164\n",
            "165\n",
            "166\n",
            "167\n",
            "168\n",
            "169\n",
            "170\n",
            "171\n",
            "172\n",
            "173\n",
            "174\n",
            "175\n",
            "176\n",
            "177\n",
            "178\n",
            "179\n",
            "180\n",
            "181\n",
            "182\n",
            "183\n",
            "184\n",
            "185\n",
            "186\n",
            "187\n",
            "188\n",
            "189\n",
            "190\n",
            "191\n",
            "192\n",
            "193\n",
            "194\n",
            "195\n",
            "196\n",
            "197\n",
            "198\n",
            "199\n",
            "200\n",
            "201\n",
            "202\n",
            "203\n",
            "204\n",
            "205\n",
            "206\n",
            "207\n",
            "208\n",
            "209\n",
            "210\n",
            "211\n",
            "212\n",
            "213\n",
            "214\n",
            "215\n",
            "216\n",
            "217\n",
            "218\n",
            "219\n",
            "220\n",
            "221\n",
            "222\n",
            "223\n",
            "224\n",
            "225\n",
            "226\n",
            "227\n",
            "228\n",
            "229\n",
            "230\n",
            "231\n",
            "232\n",
            "233\n",
            "234\n",
            "235\n",
            "236\n",
            "237\n",
            "238\n",
            "239\n",
            "240\n",
            "241\n",
            "242\n",
            "243\n",
            "244\n",
            "245\n",
            "246\n",
            "247\n",
            "248\n",
            "249\n",
            "250\n",
            "251\n",
            "252\n",
            "253\n",
            "254\n",
            "255\n",
            "256\n",
            "257\n",
            "258\n",
            "259\n",
            "260\n",
            "261\n",
            "262\n",
            "263\n",
            "264\n",
            "265\n",
            "266\n",
            "267\n",
            "268\n",
            "269\n",
            "270\n",
            "271\n",
            "272\n",
            "273\n",
            "274\n",
            "275\n",
            "276\n",
            "277\n",
            "278\n",
            "279\n",
            "280\n",
            "281\n",
            "282\n",
            "283\n",
            "284\n",
            "285\n",
            "286\n",
            "287\n",
            "288\n",
            "289\n",
            "290\n",
            "291\n",
            "292\n",
            "293\n",
            "294\n",
            "295\n",
            "296\n",
            "297\n",
            "298\n",
            "299\n",
            "300\n",
            "301\n",
            "302\n",
            "303\n",
            "304\n",
            "305\n",
            "306\n",
            "307\n",
            "308\n",
            "309\n",
            "310\n",
            "311\n",
            "312\n",
            "313\n",
            "314\n",
            "315\n",
            "316\n",
            "317\n",
            "318\n",
            "319\n",
            "320\n",
            "321\n",
            "322\n",
            "323\n",
            "324\n",
            "325\n",
            "326\n",
            "327\n",
            "328\n",
            "329\n",
            "330\n",
            "331\n",
            "332\n",
            "333\n",
            "334\n",
            "335\n",
            "336\n",
            "337\n",
            "338\n",
            "339\n",
            "340\n",
            "341\n",
            "342\n",
            "343\n",
            "344\n",
            "345\n",
            "346\n",
            "347\n",
            "348\n",
            "349\n",
            "350\n",
            "351\n",
            "352\n",
            "353\n",
            "354\n",
            "355\n",
            "356\n",
            "357\n",
            "358\n",
            "359\n",
            "360\n",
            "361\n",
            "362\n",
            "363\n",
            "364\n",
            "365\n",
            "366\n",
            "367\n",
            "368\n",
            "369\n",
            "370\n",
            "371\n",
            "372\n",
            "373\n",
            "374\n",
            "375\n",
            "376\n",
            "377\n",
            "378\n",
            "379\n",
            "380\n",
            "381\n",
            "382\n",
            "383\n",
            "384\n",
            "385\n",
            "386\n",
            "387\n",
            "388\n",
            "389\n",
            "390\n",
            "391\n",
            "392\n",
            "393\n",
            "394\n",
            "395\n",
            "396\n",
            "397\n",
            "398\n",
            "399\n",
            "400\n",
            "401\n",
            "402\n",
            "403\n",
            "404\n",
            "405\n",
            "406\n",
            "407\n",
            "408\n",
            "409\n",
            "410\n",
            "411\n",
            "412\n",
            "413\n",
            "414\n",
            "415\n",
            "416\n",
            "417\n",
            "418\n",
            "419\n",
            "420\n",
            "421\n",
            "422\n",
            "423\n",
            "424\n",
            "425\n",
            "426\n",
            "427\n",
            "428\n",
            "429\n",
            "430\n",
            "431\n",
            "432\n",
            "433\n",
            "434\n",
            "435\n",
            "436\n",
            "437\n",
            "438\n",
            "439\n",
            "440\n",
            "441\n",
            "442\n",
            "443\n",
            "444\n",
            "445\n",
            "446\n",
            "447\n",
            "448\n",
            "449\n",
            "450\n",
            "451\n",
            "452\n",
            "453\n",
            "454\n",
            "455\n",
            "456\n",
            "457\n",
            "458\n",
            "459\n",
            "460\n",
            "461\n",
            "462\n",
            "463\n",
            "464\n",
            "465\n",
            "466\n",
            "467\n",
            "468\n",
            "469\n",
            "470\n",
            "471\n",
            "472\n",
            "473\n",
            "474\n",
            "475\n",
            "476\n",
            "477\n",
            "478\n",
            "479\n",
            "480\n",
            "481\n",
            "482\n",
            "483\n",
            "484\n",
            "485\n",
            "486\n",
            "487\n",
            "488\n",
            "489\n",
            "490\n",
            "491\n",
            "492\n",
            "493\n",
            "494\n",
            "495\n",
            "496\n",
            "497\n",
            "498\n",
            "499\n"
          ]
        }
      ]
    },
    {
      "cell_type": "code",
      "metadata": {
        "id": "D6_KGg9w3Rqm",
        "colab": {
          "base_uri": "https://localhost:8080/"
        },
        "outputId": "7fa2f15c-cda5-4da3-80cc-88902b7ac11a"
      },
      "source": [
        "# Recupera el fichero guardado y realiza la suma\n",
        "n2 = sc.textFile('salida').map(lambda a:int(a))\n",
        "print(n2.reduce(lambda v1,v2: v1 + v2))\n",
        "\n",
        "# Prueba este código y mira qué genera?\n",
        "# Borra la salida y cambia las particiones en parallelize ¿Qué sucede? \n",
        "#    (pe c.parallelize(xrange(0,1000),8))\n"
      ],
      "execution_count": null,
      "outputs": [
        {
          "output_type": "stream",
          "name": "stdout",
          "text": [
            "499500\n"
          ]
        }
      ]
    },
    {
      "cell_type": "markdown",
      "metadata": {
        "id": "33FiLTWp6LQ2"
      },
      "source": [
        "## Pregunta TS1.10 Borra la salida y cambia las particiones en parallelize ¿Qué sucede? \n",
        "  (pe c.parallelize(xrange(0,1000),8))\n"
      ]
    },
    {
      "cell_type": "code",
      "metadata": {
        "id": "H4lLsBhy4Yxq",
        "colab": {
          "base_uri": "https://localhost:8080/"
        },
        "outputId": "a1f3b282-47ef-488a-d3f6-2b66cc728beb"
      },
      "source": [
        "%rm -rf salida\n",
        "%ls -la\n"
      ],
      "execution_count": null,
      "outputs": [
        {
          "output_type": "stream",
          "name": "stdout",
          "text": [
            "total 219208\n",
            "drwxr-xr-x  1 root root      4096 Oct  5 11:09 \u001b[0m\u001b[01;34m.\u001b[0m/\n",
            "drwxr-xr-x  1 root root      4096 Oct  5 10:59 \u001b[01;34m..\u001b[0m/\n",
            "drwxr-xr-x  4 root root      4096 Sep 30 17:11 \u001b[01;34m.config\u001b[0m/\n",
            "drwxr-xr-x  1 root root      4096 Sep 30 17:12 \u001b[01;34msample_data\u001b[0m/\n",
            "drwxr-xr-x 13 1000 1000      4096 May 24 05:00 \u001b[01;34mspark-3.1.2-bin-hadoop2.7\u001b[0m/\n",
            "-rw-r--r--  1 root root 224445805 May 24 05:01 spark-3.1.2-bin-hadoop2.7.tgz\n"
          ]
        }
      ]
    },
    {
      "cell_type": "markdown",
      "metadata": {
        "id": "SyfefweJenb8"
      },
      "source": [
        "# El quijote"
      ]
    },
    {
      "cell_type": "markdown",
      "metadata": {
        "id": "xcxH-o_ZQSje"
      },
      "source": [
        "Montar el directorio de trabajo utilizando Google Drive\n",
        "Loading Your Data into Google Colaboratory.\n",
        "1. First of all, Upload your Data to your Google Drive.\n",
        "2. Run the following script in colab shell.\n",
        "3. Copy the authorization code of your account.\n",
        "4. Paste the authorization code into the output shell.\n",
        "5. Congrats! Now your Google Drive is mounted to this location /content/gdrive/MyDrive/\n",
        "\n",
        "\n"
      ]
    },
    {
      "cell_type": "markdown",
      "metadata": {
        "id": "5aS_Xvk2_kSN"
      },
      "source": [
        ""
      ]
    },
    {
      "cell_type": "code",
      "metadata": {
        "id": "Vl0Fq5nChoYj",
        "colab": {
          "base_uri": "https://localhost:8080/"
        },
        "outputId": "9150e35f-c557-4333-cd25-ad87995c9030"
      },
      "source": [
        "from google.colab import drive\n",
        "#drive.flush_and_unmount()\n",
        "drive.mount('/content/gdrive')"
      ],
      "execution_count": null,
      "outputs": [
        {
          "output_type": "stream",
          "name": "stdout",
          "text": [
            "Mounted at /content/gdrive\n"
          ]
        }
      ]
    },
    {
      "cell_type": "code",
      "metadata": {
        "id": "jL-wqZOCZzrL"
      },
      "source": [
        "#%ls /content/gdrive/MyDrive/"
      ],
      "execution_count": null,
      "outputs": []
    },
    {
      "cell_type": "code",
      "metadata": {
        "id": "YpBiHwBjauJk"
      },
      "source": [
        "!cp \"/content/gdrive/My Drive/quijote.txt\" ."
      ],
      "execution_count": null,
      "outputs": []
    },
    {
      "cell_type": "code",
      "metadata": {
        "id": "TmlBII6cbiIt",
        "colab": {
          "base_uri": "https://localhost:8080/"
        },
        "outputId": "33ed3326-952e-4e84-eb37-62b5f5404896"
      },
      "source": [
        "%ls -la"
      ],
      "execution_count": null,
      "outputs": [
        {
          "output_type": "stream",
          "name": "stdout",
          "text": [
            "total 219524\n",
            "drwxr-xr-x  1 root root      4096 Oct  5 11:10 \u001b[0m\u001b[01;34m.\u001b[0m/\n",
            "drwxr-xr-x  1 root root      4096 Oct  5 10:59 \u001b[01;34m..\u001b[0m/\n",
            "drwxr-xr-x  4 root root      4096 Sep 30 17:11 \u001b[01;34m.config\u001b[0m/\n",
            "drwx------  6 root root      4096 Oct  5 11:10 \u001b[01;34mgdrive\u001b[0m/\n",
            "-rw-------  1 root root    317618 Oct  5 11:10 quijote.txt\n",
            "drwxr-xr-x  1 root root      4096 Sep 30 17:12 \u001b[01;34msample_data\u001b[0m/\n",
            "drwxr-xr-x 13 1000 1000      4096 May 24 05:00 \u001b[01;34mspark-3.1.2-bin-hadoop2.7\u001b[0m/\n",
            "-rw-r--r--  1 root root 224445805 May 24 05:01 spark-3.1.2-bin-hadoop2.7.tgz\n"
          ]
        }
      ]
    },
    {
      "cell_type": "code",
      "metadata": {
        "colab": {
          "base_uri": "https://localhost:8080/",
          "height": 37
        },
        "id": "OgqJUkLqb5ZG",
        "outputId": "f2a0bf77-6ea9-4bc6-984f-ba23e530655f"
      },
      "source": [
        "%pwd"
      ],
      "execution_count": null,
      "outputs": [
        {
          "output_type": "execute_result",
          "data": {
            "application/vnd.google.colaboratory.intrinsic+json": {
              "type": "string"
            },
            "text/plain": [
              "'/content'"
            ]
          },
          "metadata": {},
          "execution_count": 63
        }
      ]
    },
    {
      "cell_type": "markdown",
      "metadata": {
        "id": "y9E6_qc-a7GE"
      },
      "source": [
        "# Procesando el QUIJOTE"
      ]
    },
    {
      "cell_type": "code",
      "metadata": {
        "id": "_Li3mX8ebMSi",
        "colab": {
          "base_uri": "https://localhost:8080/"
        },
        "outputId": "c62864a2-78d2-405d-8ccc-e37943248573"
      },
      "source": [
        "quijote = sc.textFile(\"quijote.txt\")\n",
        "quijote.take(10)"
      ],
      "execution_count": null,
      "outputs": [
        {
          "output_type": "execute_result",
          "data": {
            "text/plain": [
              "['EL INGENIOSO HIDALGO DON QUIJOTE DE LA MANCHA',\n",
              " '',\n",
              " 'Miguel de Cervantes Saavedra',\n",
              " '',\n",
              " '     Capítulo primero',\n",
              " '',\n",
              " '     Que trata de la condición y ejercicio del famoso hidalgo D.',\n",
              " 'Quijote de la ',\n",
              " '     Mancha',\n",
              " '']"
            ]
          },
          "metadata": {},
          "execution_count": 64
        }
      ]
    },
    {
      "cell_type": "markdown",
      "metadata": {
        "id": "GDVSZOrYbrEt"
      },
      "source": [
        "Transformaciones"
      ]
    },
    {
      "cell_type": "code",
      "metadata": {
        "id": "ITsCl47JbfM_"
      },
      "source": [
        "charsPerLine = quijote.map(lambda s: len(s))\n",
        "allWords = quijote.flatMap(lambda s: s.split())\n",
        "allWordsNoArticles = allWords.filter(lambda a: a.lower() not in [\"el\", \"la\"])\n",
        "allWordsUnique = allWords.map(lambda s: s.lower()).distinct()\n",
        "sampleWords = allWords.sample(withReplacement=True, fraction=0.2, seed=666)\n",
        "weirdSampling = sampleWords.union(allWordsNoArticles.sample(False, fraction=0.3))\n",
        "# cómo funciona cada transformación"
      ],
      "execution_count": null,
      "outputs": []
    },
    {
      "cell_type": "code",
      "metadata": {
        "id": "4kpZSOS7cAYr",
        "colab": {
          "base_uri": "https://localhost:8080/"
        },
        "outputId": "c35ce254-1fcc-4bdf-c17c-a193e93cb377"
      },
      "source": [
        "allWordsUnique.take(10)"
      ],
      "execution_count": null,
      "outputs": [
        {
          "output_type": "execute_result",
          "data": {
            "text/plain": [
              "['el',\n",
              " 'hidalgo',\n",
              " 'don',\n",
              " 'mancha',\n",
              " 'saavedra',\n",
              " 'que',\n",
              " 'condición',\n",
              " 'y',\n",
              " 'del',\n",
              " 'd.']"
            ]
          },
          "metadata": {},
          "execution_count": 66
        }
      ]
    },
    {
      "cell_type": "markdown",
      "metadata": {
        "id": "PpAuT-AkcRyf"
      },
      "source": [
        "## Pregunta TS2.1 Explica la utilidad de cada transformación y detalle para cada una de ellas si cambia el número de elementos en el RDD resultante. Es decir si el RDD de partida tiene N elementos, y el de salida M elementos, indica si N>M, N=M o N<M."
      ]
    },
    {
      "cell_type": "markdown",
      "metadata": {
        "id": "-0Xj_MR9eVCf"
      },
      "source": [
        "* map\n",
        "* flatmap\n",
        "* filter\n",
        "* distinct\n",
        "* sample\n",
        "* union\n",
        "\n",
        "map --> aplica una determinada funcion (elem que se inserta) para cada k.\n",
        "\n",
        "filter --> T/F si la f dev T devuelve el RDD si no se va fuera. Mapea uno a uno: tam N\n",
        "\n",
        "flatMap --> lista de elementos que tiene que insertar. Para generar un rdd con un tamaño distinto al de la entrada. Palabras por rdd. Te devuelve un K que puede ser mayor, menor o igual a N. Depende de la operacion.\n",
        "\n",
        "sample --> rdd pero aleatorio. Depende de la fraccion. Sin reemplazamiento K <=N, o mayor que K.\n",
        "\n",
        "union --> tamaño de suma de las dos. Es la concatenacion.\n",
        "\n",
        "distinct--> k <= N estrictamente.\n"
      ]
    },
    {
      "cell_type": "code",
      "metadata": {
        "id": "PWJlgOUDcQhc",
        "colab": {
          "base_uri": "https://localhost:8080/"
        },
        "outputId": "1f0d5be0-452e-4991-da56-1548500a9e19"
      },
      "source": [
        "numLines = quijote.count()\n",
        "numChars = charsPerLine.reduce(lambda a,b: a+b) # also charsPerLine.sum()\n",
        "sortedWordsByLength = allWordsNoArticles.takeOrdered(20, key=lambda x: -len(x))\n",
        "numLines, numChars, sortedWordsByLength"
      ],
      "execution_count": null,
      "outputs": [
        {
          "output_type": "execute_result",
          "data": {
            "text/plain": [
              "(5534,\n",
              " 305678,\n",
              " ['procuremos.Levántate,',\n",
              "  'estrechísimamente,',\n",
              "  'Pintiquiniestra,',\n",
              "  'entretenimiento,',\n",
              "  'maravillosamente',\n",
              "  'descansadamente;',\n",
              "  'desenfadadamente',\n",
              "  'quebrantamientos',\n",
              "  'quebrantamiento,',\n",
              "  'alternativamente',\n",
              "  'encantamientos,',\n",
              "  'Placerdemivida,',\n",
              "  'encantamientos;',\n",
              "  'malbaratándolas',\n",
              "  'regocijadamente',\n",
              "  'consentimiento,',\n",
              "  'desaconsejaban,',\n",
              "  'acontecimiento.',\n",
              "  'agradeciéndoles',\n",
              "  'encantamientos,'])"
            ]
          },
          "metadata": {},
          "execution_count": 67
        }
      ]
    },
    {
      "cell_type": "code",
      "metadata": {
        "id": "A33tgNqLePMn",
        "colab": {
          "base_uri": "https://localhost:8080/"
        },
        "outputId": "3e5152e9-8b66-4057-cc97-b452f3d97abb"
      },
      "source": [
        "numLines = quijote.count()\n",
        "numChars = charsPerLine.map(lambda a,b: a+b) # also charsPerLine.sum()\n",
        "sortedWordsByLength = allWordsNoArticles.takeOrdered(20, key=lambda x: -len(x))\n",
        "numLines, numChars, sortedWordsByLength"
      ],
      "execution_count": null,
      "outputs": [
        {
          "output_type": "execute_result",
          "data": {
            "text/plain": [
              "(5534,\n",
              " PythonRDD[151] at RDD at PythonRDD.scala:53,\n",
              " ['procuremos.Levántate,',\n",
              "  'estrechísimamente,',\n",
              "  'Pintiquiniestra,',\n",
              "  'entretenimiento,',\n",
              "  'maravillosamente',\n",
              "  'descansadamente;',\n",
              "  'desenfadadamente',\n",
              "  'quebrantamientos',\n",
              "  'quebrantamiento,',\n",
              "  'alternativamente',\n",
              "  'encantamientos,',\n",
              "  'Placerdemivida,',\n",
              "  'encantamientos;',\n",
              "  'malbaratándolas',\n",
              "  'regocijadamente',\n",
              "  'consentimiento,',\n",
              "  'desaconsejaban,',\n",
              "  'acontecimiento.',\n",
              "  'agradeciéndoles',\n",
              "  'encantamientos,'])"
            ]
          },
          "metadata": {},
          "execution_count": 68
        }
      ]
    },
    {
      "cell_type": "markdown",
      "metadata": {
        "id": "hIpuogySgB4N"
      },
      "source": [
        "## Pregunta TS2.2 Explica el funcionamiento de cada acción anterior \n",
        "\n",
        "Implementa la opción count de otra manera:\n",
        "\n",
        "\n",
        "*   utilizando transformaciones map y reduce\n",
        "*   utilizando solo reduce en caso de que sea posible.\n",
        "\n"
      ]
    },
    {
      "cell_type": "markdown",
      "metadata": {
        "id": "PkXwuhGuhrQD"
      },
      "source": [
        "# Operaciones K-V (Clave Valor)"
      ]
    },
    {
      "cell_type": "code",
      "metadata": {
        "id": "5JAWu58dhpWk"
      },
      "source": [
        "import requests\n",
        "import re\n",
        "allWords = allWords.flatMap(lambda w: re.sub(\"\"\";|:|\\.|,|-|–|\"|'|\\s\"\"\",\" \", w.lower()).split(\" \")).filter(lambda a: len(a)>0)\n",
        "allWords2 = sc.parallelize(requests.get(\"https://gist.githubusercontent.com/jsdario/9d871ed773c81bf217f57d1db2d2503f/raw/585de69b0631c805dabc6280506717943b82ba4a/el_quijote_ii.txt\").iter_lines())\n",
        "allWords2 = allWords2.flatMap(lambda w: re.sub(\"\"\";|:|\\.|,|-|–|\"|'|\\s\"\"\",\" \", w.decode(\"utf8\").lower()).split(\" \")).filter(lambda a: len(a)>0)"
      ],
      "execution_count": null,
      "outputs": []
    },
    {
      "cell_type": "code",
      "metadata": {
        "id": "NCsub2OPjCyD",
        "colab": {
          "base_uri": "https://localhost:8080/"
        },
        "outputId": "598022a4-99b1-4c87-b3c4-9333dbb1bc49"
      },
      "source": [
        "allWords.take(10)"
      ],
      "execution_count": null,
      "outputs": [
        {
          "output_type": "execute_result",
          "data": {
            "text/plain": [
              "['el',\n",
              " 'ingenioso',\n",
              " 'hidalgo',\n",
              " 'don',\n",
              " 'quijote',\n",
              " 'de',\n",
              " 'la',\n",
              " 'mancha',\n",
              " 'miguel',\n",
              " 'de']"
            ]
          },
          "metadata": {},
          "execution_count": 70
        }
      ]
    },
    {
      "cell_type": "code",
      "metadata": {
        "id": "1W2pNxR1jKib",
        "colab": {
          "base_uri": "https://localhost:8080/"
        },
        "outputId": "1e79065d-9664-424e-b401-55eebabce420"
      },
      "source": [
        "allWords2.take(10)"
      ],
      "execution_count": null,
      "outputs": [
        {
          "output_type": "execute_result",
          "data": {
            "text/plain": [
              "['don',\n",
              " 'quijote',\n",
              " 'de',\n",
              " 'la',\n",
              " 'mancha',\n",
              " 'miguel',\n",
              " 'de',\n",
              " 'cervantes',\n",
              " 'saavedra',\n",
              " 'segunda']"
            ]
          },
          "metadata": {},
          "execution_count": 71
        }
      ]
    },
    {
      "cell_type": "code",
      "metadata": {
        "id": "L61OV1NHkBLZ",
        "colab": {
          "base_uri": "https://localhost:8080/"
        },
        "outputId": "26e7ded1-8d54-4c98-eee2-10d4292ebc6b"
      },
      "source": [
        "words = allWords.map(lambda e: (e,1))\n",
        "words2 = allWords2.map(lambda e: (e,1))\n",
        "\n",
        "words.take(10)"
      ],
      "execution_count": null,
      "outputs": [
        {
          "output_type": "execute_result",
          "data": {
            "text/plain": [
              "[('el', 1),\n",
              " ('ingenioso', 1),\n",
              " ('hidalgo', 1),\n",
              " ('don', 1),\n",
              " ('quijote', 1),\n",
              " ('de', 1),\n",
              " ('la', 1),\n",
              " ('mancha', 1),\n",
              " ('miguel', 1),\n",
              " ('de', 1)]"
            ]
          },
          "metadata": {},
          "execution_count": 72
        }
      ]
    },
    {
      "cell_type": "code",
      "metadata": {
        "id": "wqtEo2j9kPuk",
        "colab": {
          "base_uri": "https://localhost:8080/"
        },
        "outputId": "8403bdd1-4cca-4ac7-a041-2a8eb3821958"
      },
      "source": [
        "frequencies = words.reduceByKey(lambda a,b: a+b)\n",
        "frequencies2 = words2.reduceByKey(lambda a,b: a+b)\n",
        "frequencies.takeOrdered(10, key=lambda a: -a[1])"
      ],
      "execution_count": null,
      "outputs": [
        {
          "output_type": "execute_result",
          "data": {
            "text/plain": [
              "[('que', 3032),\n",
              " ('de', 2809),\n",
              " ('y', 2573),\n",
              " ('a', 1426),\n",
              " ('la', 1423),\n",
              " ('el', 1232),\n",
              " ('en', 1155),\n",
              " ('no', 903),\n",
              " ('se', 753),\n",
              " ('los', 696)]"
            ]
          },
          "metadata": {},
          "execution_count": 73
        }
      ]
    },
    {
      "cell_type": "code",
      "metadata": {
        "id": "CtlQosYPk3M7",
        "colab": {
          "base_uri": "https://localhost:8080/"
        },
        "outputId": "3525bcea-3c61-4692-d4c5-369af613aeb3"
      },
      "source": [
        "res = words.groupByKey().takeOrdered(10, key=lambda a: -len(a))\n",
        "res # To see the content, res[i][1].data"
      ],
      "execution_count": null,
      "outputs": [
        {
          "output_type": "execute_result",
          "data": {
            "text/plain": [
              "[('el', <pyspark.resultiterable.ResultIterable at 0x7f4ae2eb1150>),\n",
              " ('hidalgo', <pyspark.resultiterable.ResultIterable at 0x7f4ae2eb1810>),\n",
              " ('don', <pyspark.resultiterable.ResultIterable at 0x7f4ae2eb1350>),\n",
              " ('mancha', <pyspark.resultiterable.ResultIterable at 0x7f4ae2eb17d0>),\n",
              " ('saavedra', <pyspark.resultiterable.ResultIterable at 0x7f4ae2ecee90>),\n",
              " ('que', <pyspark.resultiterable.ResultIterable at 0x7f4ae2c21110>),\n",
              " ('condición', <pyspark.resultiterable.ResultIterable at 0x7f4ae2c21190>),\n",
              " ('y', <pyspark.resultiterable.ResultIterable at 0x7f4ae2c21350>),\n",
              " ('del', <pyspark.resultiterable.ResultIterable at 0x7f4ae2c219d0>),\n",
              " ('d', <pyspark.resultiterable.ResultIterable at 0x7f4ae2c21950>)]"
            ]
          },
          "metadata": {},
          "execution_count": 74
        }
      ]
    },
    {
      "cell_type": "code",
      "metadata": {
        "id": "7nmgk3ZmlFlW",
        "colab": {
          "base_uri": "https://localhost:8080/"
        },
        "outputId": "126482ab-9c4b-4b85-b30a-a1e2146f59ad"
      },
      "source": [
        "joinFreq = frequencies.join(frequencies2)\n",
        "joinFreq.take(10)"
      ],
      "execution_count": null,
      "outputs": [
        {
          "output_type": "execute_result",
          "data": {
            "text/plain": [
              "[('el', (1232, 4394)),\n",
              " ('hidalgo', (14, 42)),\n",
              " ('don', (370, 1606)),\n",
              " ('mancha', (26, 101)),\n",
              " ('saavedra', (1, 1)),\n",
              " ('que', (3032, 10040)),\n",
              " ('y', (2573, 9650)),\n",
              " ('del', (415, 1344)),\n",
              " ('en', (1155, 4223)),\n",
              " ('cuyo', (11, 35))]"
            ]
          },
          "metadata": {},
          "execution_count": 75
        }
      ]
    },
    {
      "cell_type": "code",
      "metadata": {
        "id": "UOY-R88Fl1vq",
        "colab": {
          "base_uri": "https://localhost:8080/"
        },
        "outputId": "a0529097-9335-4e63-c197-57357a931f4d"
      },
      "source": [
        "joinFreq.map(lambda e: (e[0], (e[1][0] - e[1][1])/(e[1][0] + e[1][1]))).takeOrdered(10, lambda v: -v[1]), joinFreq.map(lambda e: (e[0], (e[1][0] - e[1][1])/(e[1][0] + e[1][1]))).takeOrdered(10, lambda v: +v[1])"
      ],
      "execution_count": null,
      "outputs": [
        {
          "output_type": "execute_result",
          "data": {
            "text/plain": [
              "([('pieza', 0.8),\n",
              "  ('corral', 0.8),\n",
              "  ('rodela', 0.7777777777777778),\n",
              "  ('curar', 0.75),\n",
              "  ('valle', 0.75),\n",
              "  ('entierro', 0.75),\n",
              "  ('oh', 0.7142857142857143),\n",
              "  ('licor', 0.7142857142857143),\n",
              "  ('difunto', 0.7142857142857143),\n",
              "  ('pago', 0.6666666666666666)],\n",
              " [('teresa', -0.9767441860465116),\n",
              "  ('roque', -0.96),\n",
              "  ('paje', -0.9565217391304348),\n",
              "  ('duque', -0.9565217391304348),\n",
              "  ('blanca', -0.9565217391304348),\n",
              "  ('gobernador', -0.9503105590062112),\n",
              "  ('diego', -0.9459459459459459),\n",
              "  ('tarde', -0.9428571428571428),\n",
              "  ('mesmo', -0.9381443298969072),\n",
              "  ('letras', -0.9354838709677419)])"
            ]
          },
          "metadata": {},
          "execution_count": 76
        }
      ]
    },
    {
      "cell_type": "markdown",
      "metadata": {
        "id": "Xzt9cj-RmLta"
      },
      "source": [
        "## Pregunta TS2.3 Explica el proposito de cada una de las operaciones anteriores"
      ]
    },
    {
      "cell_type": "markdown",
      "metadata": {
        "id": "I9Hx1bZ2mc-V"
      },
      "source": [
        "## Pregunta TS2.4 ¿Cómo puede implementarse la frecuencia con groupByKey y transformaciones?"
      ]
    },
    {
      "cell_type": "code",
      "metadata": {
        "id": "HiuL6clvl-JS"
      },
      "source": [
        "## pendiente"
      ],
      "execution_count": null,
      "outputs": []
    },
    {
      "cell_type": "markdown",
      "metadata": {
        "id": "BiZwz7sOnBvF"
      },
      "source": [
        "# Optimizaciones\n"
      ]
    },
    {
      "cell_type": "markdown",
      "metadata": {
        "id": "avupEVWQnIL5"
      },
      "source": [
        "## Pregunta TS2.5 ¿Cuál de las dos siguientes celdas es más eficiente? Justifique la respuesta."
      ]
    },
    {
      "cell_type": "code",
      "metadata": {
        "id": "I0_XRWcOndr6",
        "colab": {
          "base_uri": "https://localhost:8080/"
        },
        "outputId": "dd2b4854-a527-4606-f120-e10073455606"
      },
      "source": [
        "joinFreq.map(lambda e: (e[0], (e[1][0] - e[1][1])/(e[1][0] + e[1][1]))).takeOrdered(10, lambda v: -v[1]), joinFreq.map(lambda e: (e[0], (e[1][0] - e[1][1])/(e[1][0] + e[1][1]))).takeOrdered(10, lambda v: +v[1])"
      ],
      "execution_count": null,
      "outputs": [
        {
          "output_type": "execute_result",
          "data": {
            "text/plain": [
              "([('pieza', 0.8),\n",
              "  ('corral', 0.8),\n",
              "  ('rodela', 0.7777777777777778),\n",
              "  ('curar', 0.75),\n",
              "  ('valle', 0.75),\n",
              "  ('entierro', 0.75),\n",
              "  ('oh', 0.7142857142857143),\n",
              "  ('licor', 0.7142857142857143),\n",
              "  ('difunto', 0.7142857142857143),\n",
              "  ('pago', 0.6666666666666666)],\n",
              " [('teresa', -0.9767441860465116),\n",
              "  ('roque', -0.96),\n",
              "  ('paje', -0.9565217391304348),\n",
              "  ('duque', -0.9565217391304348),\n",
              "  ('blanca', -0.9565217391304348),\n",
              "  ('gobernador', -0.9503105590062112),\n",
              "  ('diego', -0.9459459459459459),\n",
              "  ('tarde', -0.9428571428571428),\n",
              "  ('mesmo', -0.9381443298969072),\n",
              "  ('letras', -0.9354838709677419)])"
            ]
          },
          "metadata": {},
          "execution_count": 78
        }
      ]
    },
    {
      "cell_type": "code",
      "metadata": {
        "id": "XKw7IizNnaKA",
        "colab": {
          "base_uri": "https://localhost:8080/"
        },
        "outputId": "a68fc14d-2f5b-4c26-ec2b-7a372eaf304e"
      },
      "source": [
        "result = joinFreq.map(lambda e: (e[0], (e[1][0] - e[1][1])/(e[1][0] + e[1][1])))\n",
        "result.cache()\n",
        "result.takeOrdered(10, lambda v: -v[1]), result.takeOrdered(10, lambda v: +v[1])"
      ],
      "execution_count": null,
      "outputs": [
        {
          "output_type": "execute_result",
          "data": {
            "text/plain": [
              "([('pieza', 0.8),\n",
              "  ('corral', 0.8),\n",
              "  ('rodela', 0.7777777777777778),\n",
              "  ('curar', 0.75),\n",
              "  ('valle', 0.75),\n",
              "  ('entierro', 0.75),\n",
              "  ('oh', 0.7142857142857143),\n",
              "  ('licor', 0.7142857142857143),\n",
              "  ('difunto', 0.7142857142857143),\n",
              "  ('pago', 0.6666666666666666)],\n",
              " [('teresa', -0.9767441860465116),\n",
              "  ('roque', -0.96),\n",
              "  ('paje', -0.9565217391304348),\n",
              "  ('duque', -0.9565217391304348),\n",
              "  ('blanca', -0.9565217391304348),\n",
              "  ('gobernador', -0.9503105590062112),\n",
              "  ('diego', -0.9459459459459459),\n",
              "  ('tarde', -0.9428571428571428),\n",
              "  ('mesmo', -0.9381443298969072),\n",
              "  ('letras', -0.9354838709677419)])"
            ]
          },
          "metadata": {},
          "execution_count": 79
        }
      ]
    },
    {
      "cell_type": "code",
      "metadata": {
        "colab": {
          "base_uri": "https://localhost:8080/"
        },
        "id": "Nq0ME9-NqJ2w",
        "outputId": "c00e7e79-3fdd-4cd8-8534-fcf55dc818dc"
      },
      "source": [
        "result.coalesce(numPartitions=2) # Avoids the data movement, so it tries to balance inside each machine\n",
        "result.repartition(numPartitions=2) # We don't care about data movement, this balance the whole thing to ensure all machines are used"
      ],
      "execution_count": null,
      "outputs": [
        {
          "output_type": "execute_result",
          "data": {
            "text/plain": [
              "MapPartitionsRDD[186] at coalesce at NativeMethodAccessorImpl.java:0"
            ]
          },
          "metadata": {},
          "execution_count": 80
        }
      ]
    },
    {
      "cell_type": "code",
      "metadata": {
        "id": "79DLzM3WqaEF",
        "colab": {
          "base_uri": "https://localhost:8080/"
        },
        "outputId": "4475e7bf-64b3-4c55-e651-de6f886b9fd5"
      },
      "source": [
        "result.take(10)\n",
        "allWords.cache() # allWords RDD must  stay in memory after computation, we made a checkpoint (well, it's a best effort, so must might be too strong)\n",
        "result.take(10)"
      ],
      "execution_count": null,
      "outputs": [
        {
          "output_type": "execute_result",
          "data": {
            "text/plain": [
              "[('el', -0.5620334162815499),\n",
              " ('hidalgo', -0.5),\n",
              " ('don', -0.6255060728744939),\n",
              " ('mancha', -0.5905511811023622),\n",
              " ('saavedra', 0.0),\n",
              " ('que', -0.5361077111383109),\n",
              " ('y', -0.5789904278818621),\n",
              " ('del', -0.5281409891984082),\n",
              " ('en', -0.5704722945332837),\n",
              " ('cuyo', -0.5217391304347826)]"
            ]
          },
          "metadata": {},
          "execution_count": 81
        }
      ]
    },
    {
      "cell_type": "code",
      "metadata": {
        "id": "NmdxjbAAqjIC",
        "colab": {
          "base_uri": "https://localhost:8080/"
        },
        "outputId": "e7c5c73f-6247-4dff-9c53-05e6304b9eb0"
      },
      "source": [
        "from pyspark import StorageLevel\n",
        "# https://spark.apache.org/docs/2.2.0/rdd-programming-guide.html#rdd-persistence\n",
        "allWords2.persist(StorageLevel.MEMORY_AND_DISK) # Now it will be preserved on disk also"
      ],
      "execution_count": null,
      "outputs": [
        {
          "output_type": "execute_result",
          "data": {
            "text/plain": [
              "PythonRDD[190] at RDD at PythonRDD.scala:53"
            ]
          },
          "metadata": {},
          "execution_count": 82
        }
      ]
    },
    {
      "cell_type": "code",
      "metadata": {
        "id": "lPbqq1tYqo5H"
      },
      "source": [
        "!rm -rf palabras_parte2\n",
        "allWords2.saveAsTextFile(\"palabras_parte2\")"
      ],
      "execution_count": null,
      "outputs": []
    },
    {
      "cell_type": "markdown",
      "metadata": {
        "id": "nW3ELXvSqtdn"
      },
      "source": [
        "## Pregunta TS2.6 Antes de guardar el fichero, utilice coalesce con diferente valores ¿Cuál es la diferencia?"
      ]
    },
    {
      "cell_type": "markdown",
      "metadata": {
        "id": "Rrlv7SpGrOvA"
      },
      "source": [
        "Variables Globales"
      ]
    },
    {
      "cell_type": "code",
      "metadata": {
        "id": "QhsyqMMXrVZ9",
        "colab": {
          "base_uri": "https://localhost:8080/"
        },
        "outputId": "324ce62a-86a7-4477-ffcb-c08ecdb5fd60"
      },
      "source": [
        "articles = sc.broadcast([\"el\", \"la\"])\n",
        "articles.value"
      ],
      "execution_count": null,
      "outputs": [
        {
          "output_type": "execute_result",
          "data": {
            "text/plain": [
              "['el', 'la']"
            ]
          },
          "metadata": {},
          "execution_count": 84
        }
      ]
    },
    {
      "cell_type": "code",
      "metadata": {
        "id": "Z51vqUrasDqz",
        "colab": {
          "base_uri": "https://localhost:8080/"
        },
        "outputId": "eda984e4-8bcb-43f3-b676-908228d76b9b"
      },
      "source": [
        "acc = sc.accumulator(0)\n",
        "def incrementar(x):\n",
        "  global acc\n",
        "  acc += x\n",
        "\n",
        "allWords.map(lambda l:1).foreach(incrementar)\n",
        "acc"
      ],
      "execution_count": null,
      "outputs": [
        {
          "output_type": "execute_result",
          "data": {
            "text/plain": [
              "Accumulator<id=0, value=56521>"
            ]
          },
          "metadata": {},
          "execution_count": 85
        }
      ]
    },
    {
      "cell_type": "code",
      "metadata": {
        "id": "N2CkixrL7Ams",
        "colab": {
          "base_uri": "https://localhost:8080/"
        },
        "outputId": "f3650054-368d-4d44-fc50-747d5d7ba1a8"
      },
      "source": [
        "print (rdd.getStorageLevel())\n",
        "rdd = sc.textFile('quijote.txt')\n",
        "%time print (rdd.count())\n",
        "%time print (rdd.count())\n",
        "rdd.cache()\n",
        "%time print (rdd.count())\n",
        "%time print (rdd.count())\n"
      ],
      "execution_count": null,
      "outputs": [
        {
          "output_type": "stream",
          "name": "stdout",
          "text": [
            "Serialized 1x Replicated\n",
            "5534\n",
            "CPU times: user 7.84 ms, sys: 1.64 ms, total: 9.47 ms\n",
            "Wall time: 80.2 ms\n",
            "5534\n",
            "CPU times: user 10 ms, sys: 650 µs, total: 10.7 ms\n",
            "Wall time: 146 ms\n",
            "5534\n",
            "CPU times: user 8.85 ms, sys: 260 µs, total: 9.11 ms\n",
            "Wall time: 143 ms\n",
            "5534\n",
            "CPU times: user 17.5 ms, sys: 86 µs, total: 17.6 ms\n",
            "Wall time: 134 ms\n"
          ]
        }
      ]
    },
    {
      "cell_type": "code",
      "metadata": {
        "id": "bYVHFmzs7Ow3",
        "colab": {
          "base_uri": "https://localhost:8080/"
        },
        "outputId": "e1040387-38d3-4723-df66-0377bd259283"
      },
      "source": [
        "pals_a_eliminar = ['a', 'ante', 'bajo', 'segun', 'que', 'de']\n",
        "\n",
        "def elimPalabras(p):\n",
        "    global pals_a_eliminar\n",
        "    return p not in pals_a_eliminar\n",
        "\n",
        "lineas = sc.textFile('quijote.txt', 8)\n",
        "pals = (lineas.flatMap(lambda linea: linea.lower().split())\n",
        "              .filter(elimPalabras)\n",
        "              .map(lambda pal: (pal, 1))\n",
        "              .reduceByKey(lambda elem1,elem2: elem1 + elem2))\n",
        "\n",
        "print (pals.takeOrdered(15, key=lambda a:-a[1]))"
      ],
      "execution_count": null,
      "outputs": [
        {
          "output_type": "stream",
          "name": "stdout",
          "text": [
            "[('y', 2571), ('la', 1423), ('el', 1224), ('en', 1155), ('no', 880), ('se', 753), ('los', 696), ('con', 621), ('su', 617), ('por', 573), ('le', 534), ('las', 514), ('lo', 508), ('del', 415), ('don', 368)]\n"
          ]
        }
      ]
    },
    {
      "cell_type": "code",
      "metadata": {
        "id": "SBPm64s-7wsO",
        "colab": {
          "base_uri": "https://localhost:8080/"
        },
        "outputId": "fc0f5853-a376-4f1e-c83b-c49711fb07d6"
      },
      "source": [
        "counter = sc.accumulator(0)\n",
        "\n",
        "rdd = sc.textFile('quijote.txt')\n",
        "\n",
        "def increment_counter(x):\n",
        "    global counter\n",
        "    counter += x\n",
        "    \n",
        "rdd.map(lambda l:len(l)).foreach(increment_counter)\n",
        "\n",
        "print (\"Counter value: %d\" % counter.value)"
      ],
      "execution_count": null,
      "outputs": [
        {
          "output_type": "stream",
          "name": "stdout",
          "text": [
            "Counter value: 305678\n"
          ]
        }
      ]
    }
  ]
}