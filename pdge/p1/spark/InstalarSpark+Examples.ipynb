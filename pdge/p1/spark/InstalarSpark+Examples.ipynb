{
  "nbformat": 4,
  "nbformat_minor": 0,
  "metadata": {
    "colab": {
      "name": "InstalarSpark+Examples.ipynb",
      "provenance": []
    },
    "kernelspec": {
      "name": "python3",
      "display_name": "Python 3"
    },
    "language_info": {
      "name": "python"
    }
  },
  "cells": [
    {
      "cell_type": "markdown",
      "metadata": {
        "id": "6aD1ALMdAy6O"
      },
      "source": [
        "# PySpark en Google Colab\n",
        "\n",
        "Instalacion Octubre/2021\n",
        "\n",
        "1.   Instalacion Java\n",
        "2.   Instalacion de Spark\n",
        "3.   Instalar PySpark\n",
        "\n",
        "## De forma General para usar pyspark en Colab (2021) siga los siguientes pasos en una celda en Colab:"
      ]
    },
    {
      "cell_type": "code",
      "metadata": {
        "id": "8JuWZdteAmvv"
      },
      "source": [
        "# instalar Java\n",
        "!apt-get install openjdk-8-jdk-headless -qq > /dev/null\n"
      ],
      "execution_count": 1,
      "outputs": []
    },
    {
      "cell_type": "code",
      "metadata": {
        "id": "SoApfKfpRunp"
      },
      "source": [
        "# Descargar la ultima versión de java ( comprobar que existen los path de descarga)\n",
        "# Download latest release. Update if necessary\n",
        "\n",
        "!wget -q https://downloads.apache.org/spark/spark-3.1.2/spark-3.1.2-bin-hadoop2.7.tgz"
      ],
      "execution_count": 2,
      "outputs": []
    },
    {
      "cell_type": "code",
      "metadata": {
        "id": "PzHJ0bpuN-od",
        "colab": {
          "base_uri": "https://localhost:8080/"
        },
        "outputId": "2be7f49b-640a-4592-b41e-cceedc94c6ad"
      },
      "source": [
        "%ls -la /content/\n",
        "\n"
      ],
      "execution_count": 3,
      "outputs": [
        {
          "output_type": "stream",
          "name": "stdout",
          "text": [
            "total 219204\n",
            "drwxr-xr-x 1 root root      4096 Oct  4 16:23 \u001b[0m\u001b[01;34m.\u001b[0m/\n",
            "drwxr-xr-x 1 root root      4096 Oct  4 16:22 \u001b[01;34m..\u001b[0m/\n",
            "drwxr-xr-x 4 root root      4096 Sep 30 17:11 \u001b[01;34m.config\u001b[0m/\n",
            "drwxr-xr-x 1 root root      4096 Sep 30 17:12 \u001b[01;34msample_data\u001b[0m/\n",
            "-rw-r--r-- 1 root root 224445805 May 24 05:01 spark-3.1.2-bin-hadoop2.7.tgz\n"
          ]
        }
      ]
    },
    {
      "cell_type": "code",
      "metadata": {
        "id": "uXpriDwJLP1I"
      },
      "source": [
        "!tar xf spark-3.1.2-bin-hadoop2.7.tgz"
      ],
      "execution_count": 4,
      "outputs": []
    },
    {
      "cell_type": "code",
      "metadata": {
        "id": "aRYGR8EsycZ1",
        "colab": {
          "base_uri": "https://localhost:8080/"
        },
        "outputId": "130633b9-1cf4-4987-c261-b274f242ed12"
      },
      "source": [
        "%ls -la"
      ],
      "execution_count": 5,
      "outputs": [
        {
          "output_type": "stream",
          "name": "stdout",
          "text": [
            "total 219208\n",
            "drwxr-xr-x  1 root root      4096 Oct  4 16:23 \u001b[0m\u001b[01;34m.\u001b[0m/\n",
            "drwxr-xr-x  1 root root      4096 Oct  4 16:22 \u001b[01;34m..\u001b[0m/\n",
            "drwxr-xr-x  4 root root      4096 Sep 30 17:11 \u001b[01;34m.config\u001b[0m/\n",
            "drwxr-xr-x  1 root root      4096 Sep 30 17:12 \u001b[01;34msample_data\u001b[0m/\n",
            "drwxr-xr-x 13 1000 1000      4096 May 24 05:00 \u001b[01;34mspark-3.1.2-bin-hadoop2.7\u001b[0m/\n",
            "-rw-r--r--  1 root root 224445805 May 24 05:01 spark-3.1.2-bin-hadoop2.7.tgz\n"
          ]
        }
      ]
    },
    {
      "cell_type": "markdown",
      "metadata": {
        "id": "7Qih8Kt1MJla"
      },
      "source": [
        ""
      ]
    },
    {
      "cell_type": "code",
      "metadata": {
        "id": "gKlOUyKuMEr7",
        "colab": {
          "base_uri": "https://localhost:8080/"
        },
        "outputId": "f2c3fd3f-de0a-4a39-ee7d-3fca41467327"
      },
      "source": [
        "# instalar pyspark\n",
        "!pip install -q pyspark"
      ],
      "execution_count": 6,
      "outputs": [
        {
          "output_type": "stream",
          "name": "stdout",
          "text": [
            "\u001b[K     |████████████████████████████████| 212.4 MB 63 kB/s \n",
            "\u001b[K     |████████████████████████████████| 198 kB 45.0 MB/s \n",
            "\u001b[?25h  Building wheel for pyspark (setup.py) ... \u001b[?25l\u001b[?25hdone\n"
          ]
        }
      ]
    },
    {
      "cell_type": "markdown",
      "metadata": {
        "id": "EzkJ4JKkCgno"
      },
      "source": [
        "# Variables de entorno"
      ]
    },
    {
      "cell_type": "code",
      "metadata": {
        "id": "WVEIOATyCYc6"
      },
      "source": [
        "import os # libreria de manejo del sistema operativo\n",
        "os.environ[\"JAVA_HOME\"] = \"/usr/lib/jvm/java-8-openjdk-amd64\"\n",
        "os.environ[\"SPARK_HOME\"] = \"/content/spark-3.1.2-bin-hadoop2.7\""
      ],
      "execution_count": 7,
      "outputs": []
    },
    {
      "cell_type": "markdown",
      "metadata": {
        "id": "9UCH8MwWGA-Q"
      },
      "source": [
        "# Cargar pyspark en el sistema"
      ]
    },
    {
      "cell_type": "code",
      "metadata": {
        "id": "38_3RcUSCiwb",
        "colab": {
          "base_uri": "https://localhost:8080/",
          "height": 216
        },
        "outputId": "d25e8865-3506-4706-9773-733c50dbdbc1"
      },
      "source": [
        "from pyspark.sql import SparkSession\n",
        "\n",
        "APP_NAME = \"PDGE-tutorialSpark1\"\n",
        "SPARK_URL = \"local[*]\"\n",
        "spark = SparkSession.builder.appName(APP_NAME).master(SPARK_URL).getOrCreate()\n",
        "spark"
      ],
      "execution_count": 8,
      "outputs": [
        {
          "output_type": "execute_result",
          "data": {
            "text/html": [
              "\n",
              "            <div>\n",
              "                <p><b>SparkSession - in-memory</b></p>\n",
              "                \n",
              "        <div>\n",
              "            <p><b>SparkContext</b></p>\n",
              "\n",
              "            <p><a href=\"http://d13f3b4e4d8b:4040\">Spark UI</a></p>\n",
              "\n",
              "            <dl>\n",
              "              <dt>Version</dt>\n",
              "                <dd><code>v3.1.2</code></dd>\n",
              "              <dt>Master</dt>\n",
              "                <dd><code>local[*]</code></dd>\n",
              "              <dt>AppName</dt>\n",
              "                <dd><code>PDGE-tutorialSpark1</code></dd>\n",
              "            </dl>\n",
              "        </div>\n",
              "        \n",
              "            </div>\n",
              "        "
            ],
            "text/plain": [
              "<pyspark.sql.session.SparkSession at 0x7f694c8cc550>"
            ]
          },
          "metadata": {},
          "execution_count": 8
        }
      ]
    },
    {
      "cell_type": "markdown",
      "metadata": {
        "id": "TX-3Z9fcy5bB"
      },
      "source": [
        "Pruebas\n"
      ]
    },
    {
      "cell_type": "code",
      "metadata": {
        "colab": {
          "base_uri": "https://localhost:8080/",
          "height": 193
        },
        "id": "zRK16gv0zAnN",
        "outputId": "c3309f31-7f04-46c7-f8d7-b8f3f4e101ae"
      },
      "source": [
        "sc = spark.sparkContext\n",
        "#obtener el contexto de ejecución de Spark del Driver.\n",
        "sc"
      ],
      "execution_count": 9,
      "outputs": [
        {
          "output_type": "execute_result",
          "data": {
            "text/html": [
              "\n",
              "        <div>\n",
              "            <p><b>SparkContext</b></p>\n",
              "\n",
              "            <p><a href=\"http://d13f3b4e4d8b:4040\">Spark UI</a></p>\n",
              "\n",
              "            <dl>\n",
              "              <dt>Version</dt>\n",
              "                <dd><code>v3.1.2</code></dd>\n",
              "              <dt>Master</dt>\n",
              "                <dd><code>local[*]</code></dd>\n",
              "              <dt>AppName</dt>\n",
              "                <dd><code>PDGE-tutorialSpark1</code></dd>\n",
              "            </dl>\n",
              "        </div>\n",
              "        "
            ],
            "text/plain": [
              "<SparkContext master=local[*] appName=PDGE-tutorialSpark1>"
            ]
          },
          "metadata": {},
          "execution_count": 9
        }
      ]
    },
    {
      "cell_type": "code",
      "metadata": {
        "id": "DoAGmb4GY829",
        "colab": {
          "base_uri": "https://localhost:8080/"
        },
        "outputId": "a2599e3f-1fc1-4f6e-d72f-21addd774523"
      },
      "source": [
        "array = sc.parallelize([1,2,3,4,5,6,7,8,9,10], 2)\n",
        "array"
      ],
      "execution_count": 10,
      "outputs": [
        {
          "output_type": "execute_result",
          "data": {
            "text/plain": [
              "ParallelCollectionRDD[0] at readRDDFromFile at PythonRDD.scala:274"
            ]
          },
          "metadata": {},
          "execution_count": 10
        }
      ]
    },
    {
      "cell_type": "code",
      "metadata": {
        "id": "eOLHf13HZ2h1",
        "colab": {
          "base_uri": "https://localhost:8080/"
        },
        "outputId": "a919e6c8-9b96-48ca-8ee9-c79fab3b8ab3"
      },
      "source": [
        "print(array.collect())"
      ],
      "execution_count": 11,
      "outputs": [
        {
          "output_type": "stream",
          "name": "stdout",
          "text": [
            "[1, 2, 3, 4, 5, 6, 7, 8, 9, 10]\n"
          ]
        }
      ]
    },
    {
      "cell_type": "code",
      "metadata": {
        "id": "iuZ5GDGqVwrS",
        "colab": {
          "base_uri": "https://localhost:8080/"
        },
        "outputId": "9bbb7065-dd26-420b-e177-817b826ab693"
      },
      "source": [
        "print(array.count())\n"
      ],
      "execution_count": 12,
      "outputs": [
        {
          "output_type": "stream",
          "name": "stdout",
          "text": [
            "10\n"
          ]
        }
      ]
    },
    {
      "cell_type": "code",
      "metadata": {
        "id": "gy-anBhZ4f0-"
      },
      "source": [
        "num3 = array.map(lambda elemento: 3*elemento)"
      ],
      "execution_count": 13,
      "outputs": []
    },
    {
      "cell_type": "code",
      "metadata": {
        "id": "MKCuCvPI4sgZ",
        "colab": {
          "base_uri": "https://localhost:8080/"
        },
        "outputId": "0854da47-82d3-45a7-c25a-85f10ae511c0"
      },
      "source": [
        "print(num3.collect())"
      ],
      "execution_count": 14,
      "outputs": [
        {
          "output_type": "stream",
          "name": "stdout",
          "text": [
            "[3, 6, 9, 12, 15, 18, 21, 24, 27, 30]\n"
          ]
        }
      ]
    },
    {
      "cell_type": "markdown",
      "metadata": {
        "id": "ogJwPyVjZWcd"
      },
      "source": [
        "# Ejemplos de operaciones con RDDs de Spark"
      ]
    },
    {
      "cell_type": "code",
      "metadata": {
        "id": "h_sTML7yZzuH",
        "colab": {
          "base_uri": "https://localhost:8080/"
        },
        "outputId": "d63d803f-73bb-448a-cc76-93e10b65529c"
      },
      "source": [
        "numeros = sc.parallelize([1,2,3,4,5,6,7,8,9,10],2)\n",
        "\n",
        "print(numeros.reduce(lambda e1,e2: e1+e2))"
      ],
      "execution_count": 15,
      "outputs": [
        {
          "output_type": "stream",
          "name": "stdout",
          "text": [
            "55\n"
          ]
        }
      ]
    },
    {
      "cell_type": "code",
      "metadata": {
        "id": "7PjaW8UhaPoj",
        "colab": {
          "base_uri": "https://localhost:8080/"
        },
        "outputId": "ed66a661-ddfa-43ea-dfab-78c40ccc15af"
      },
      "source": [
        "pnumeros = sc.parallelize([1,2,3,4,5,6,7,8,9,10])\n",
        "\n",
        "rdd = pnumeros.map(lambda e: 2*e)\n",
        "\n",
        "print(rdd.collect())\n"
      ],
      "execution_count": 16,
      "outputs": [
        {
          "output_type": "stream",
          "name": "stdout",
          "text": [
            "[2, 4, 6, 8, 10, 12, 14, 16, 18, 20]\n"
          ]
        }
      ]
    },
    {
      "cell_type": "markdown",
      "metadata": {
        "id": "7EObylHIaZKC"
      },
      "source": [
        "## Pregunta TS1.1 ¿Cómo hacer para obtener una lista de los elementos al cuadrado?"
      ]
    },
    {
      "cell_type": "code",
      "metadata": {
        "id": "320brSCvaj9N",
        "colab": {
          "base_uri": "https://localhost:8080/"
        },
        "outputId": "28dc7ce8-51d4-4eae-a56f-567439b8821d"
      },
      "source": [
        "array = sc.parallelize([1,2,3,4,5,6,7,8,9,10], 2)\n",
        "rdd = pnumeros.map(lambda e: 2*e)\n",
        "print(rdd.collect())"
      ],
      "execution_count": 17,
      "outputs": [
        {
          "output_type": "stream",
          "name": "stdout",
          "text": [
            "[2, 4, 6, 8, 10, 12, 14, 16, 18, 20]\n"
          ]
        }
      ]
    },
    {
      "cell_type": "code",
      "metadata": {
        "id": "IpED25-ga6MX",
        "colab": {
          "base_uri": "https://localhost:8080/"
        },
        "outputId": "94f5a743-8bc8-4869-addc-261742ff4307"
      },
      "source": [
        "numeros = sc.parallelize([1,2,3,4,5,6,7,8,9,10])\n",
        "\n",
        "rdd = numeros.filter(lambda elemento: elemento%2==0)\n",
        "\n",
        "print (rdd.collect())"
      ],
      "execution_count": 18,
      "outputs": [
        {
          "output_type": "stream",
          "name": "stdout",
          "text": [
            "[2, 4, 6, 8, 10]\n"
          ]
        }
      ]
    },
    {
      "cell_type": "markdown",
      "metadata": {
        "id": "2LtU6J3ia8Hw"
      },
      "source": [
        "## Pregunta TS1.2 ¿Cómo filtrar los impares?"
      ]
    },
    {
      "cell_type": "code",
      "metadata": {
        "id": "r5pQG0VDZzkY",
        "colab": {
          "base_uri": "https://localhost:8080/"
        },
        "outputId": "e2cb889b-bacc-4d35-aa20-f0c0585b6a89"
      },
      "source": [
        "rddi = numeros.filter (lambda e: e%2==1)\n",
        "print (rddi.collect())"
      ],
      "execution_count": 19,
      "outputs": [
        {
          "output_type": "stream",
          "name": "stdout",
          "text": [
            "[1, 3, 5, 7, 9]\n"
          ]
        }
      ]
    },
    {
      "cell_type": "markdown",
      "metadata": {
        "id": "qc_udeL9kDXu"
      },
      "source": [
        "#Operaciones con números"
      ]
    },
    {
      "cell_type": "markdown",
      "metadata": {
        "id": "RsbMVChlP5r0"
      },
      "source": [
        "Sumar n numeros"
      ]
    },
    {
      "cell_type": "code",
      "metadata": {
        "id": "ial-4tcjjMUj",
        "colab": {
          "base_uri": "https://localhost:8080/"
        },
        "outputId": "1412c2ca-1c41-4baa-9bc5-e15be6d79856"
      },
      "source": [
        "rddnum=sc.range(1000000)\n",
        "rddnum.reduce(lambda a,b: a+b)"
      ],
      "execution_count": 20,
      "outputs": [
        {
          "output_type": "execute_result",
          "data": {
            "text/plain": [
              "499999500000"
            ]
          },
          "metadata": {},
          "execution_count": 20
        }
      ]
    },
    {
      "cell_type": "code",
      "metadata": {
        "id": "EYsRY4yMoB3C",
        "colab": {
          "base_uri": "https://localhost:8080/"
        },
        "outputId": "4168dea0-a839-434e-df5e-1014888c9bca"
      },
      "source": [
        "numeros = sc.parallelize([1,1,2,2,5])\n",
        "\n",
        "unicos = numeros.distinct()\n",
        "\n",
        "print (unicos.collect())"
      ],
      "execution_count": 21,
      "outputs": [
        {
          "output_type": "stream",
          "name": "stdout",
          "text": [
            "[2, 1, 5]\n"
          ]
        }
      ]
    },
    {
      "cell_type": "code",
      "metadata": {
        "id": "5uRY-KHycVim",
        "colab": {
          "base_uri": "https://localhost:8080/"
        },
        "outputId": "136957a2-20ae-4c6f-81af-fa4a76df5ed8"
      },
      "source": [
        "numeros = sc.parallelize([1,2,3,4,5])\n",
        "\n",
        "rdd = numeros.flatMap(lambda elemento: [elemento, 10*elemento])\n",
        "\n",
        "print (rdd.collect())"
      ],
      "execution_count": 22,
      "outputs": [
        {
          "output_type": "stream",
          "name": "stdout",
          "text": [
            "[1, 10, 2, 20, 3, 30, 4, 40, 5, 50]\n"
          ]
        }
      ]
    },
    {
      "cell_type": "markdown",
      "metadata": {
        "id": "2Iz55urM7Kl3"
      },
      "source": [
        "Muestreo"
      ]
    },
    {
      "cell_type": "code",
      "metadata": {
        "id": "4m70js9d7N8x",
        "colab": {
          "base_uri": "https://localhost:8080/"
        },
        "outputId": "9173a080-6828-4f7c-a1ea-c3d8cff1926e"
      },
      "source": [
        "numeros = sc.parallelize([1,2,3,4,5,6,7,8,9,10])\n",
        "\n",
        "rdd = numeros.sample(True, 1.0)\n",
        "# True = sin reemplazar\n",
        "# 1.0 = fracción de elementos = 100%\n",
        "print (rdd.collect())"
      ],
      "execution_count": 23,
      "outputs": [
        {
          "output_type": "stream",
          "name": "stdout",
          "text": [
            "[2, 2, 6]\n"
          ]
        }
      ]
    },
    {
      "cell_type": "markdown",
      "metadata": {
        "id": "6MlNG4--Pns0"
      },
      "source": [
        "Union "
      ]
    },
    {
      "cell_type": "code",
      "metadata": {
        "id": "Nib7-OKadSEn",
        "colab": {
          "base_uri": "https://localhost:8080/"
        },
        "outputId": "77bbd0bd-7d80-4484-d98d-2edbdce0d178"
      },
      "source": [
        "pares = sc.parallelize([2,4,6,8,10])\n",
        "impares = sc.parallelize([1,3,5,7,9])\n",
        "\n",
        "numeros = pares.union(impares)\n",
        "\n",
        "print (numeros.collect())"
      ],
      "execution_count": 24,
      "outputs": [
        {
          "output_type": "stream",
          "name": "stdout",
          "text": [
            "[2, 4, 6, 8, 10, 1, 3, 5, 7, 9]\n"
          ]
        }
      ]
    },
    {
      "cell_type": "markdown",
      "metadata": {
        "id": "YexhndIY7ikM"
      },
      "source": [
        "reducción\n"
      ]
    },
    {
      "cell_type": "code",
      "metadata": {
        "id": "x3R31PVc7k_L",
        "colab": {
          "base_uri": "https://localhost:8080/"
        },
        "outputId": "be6a6920-06ba-4244-9c59-fb0a69c0532a"
      },
      "source": [
        "numeros = sc.parallelize([1,2,3,4,5])\n",
        "# operación asociativa y conmutativa\n",
        "# orden no está definido\n",
        "print (numeros.reduce(lambda elem1,elem2: elem2+elem1))"
      ],
      "execution_count": 25,
      "outputs": [
        {
          "output_type": "stream",
          "name": "stdout",
          "text": [
            "15\n"
          ]
        }
      ]
    },
    {
      "cell_type": "markdown",
      "metadata": {
        "id": "Z-KQK9fj78uU"
      },
      "source": [
        "## Pregunta TS1.3 ¿Tiene sentido esta operación? ¿Si se repite se obtiene siempre el mismo resultado?"
      ]
    },
    {
      "cell_type": "code",
      "metadata": {
        "id": "Gvr3unXn8NOO",
        "colab": {
          "base_uri": "https://localhost:8080/"
        },
        "outputId": "99693f06-cf60-4aa3-bfe3-33e9d3fed788"
      },
      "source": [
        "#Tiene sentido esta operación?\n",
        "numeros = sc.parallelize([1,2,3,4,5])\n",
        "\n",
        "print (numeros.reduce(lambda elem1,elem2: elem1-elem2))"
      ],
      "execution_count": 26,
      "outputs": [
        {
          "output_type": "stream",
          "name": "stdout",
          "text": [
            "5\n"
          ]
        }
      ]
    },
    {
      "cell_type": "code",
      "metadata": {
        "id": "A6c147To8T4s",
        "colab": {
          "base_uri": "https://localhost:8080/"
        },
        "outputId": "bccda617-355f-4a78-d3cc-c848924b0d25"
      },
      "source": [
        "#Tiene sentido esta operación?\n",
        "numeros = sc.parallelize([1,2,4,3,5])\n",
        "\n",
        "print (numeros.reduce(lambda elem1,elem2: elem1-elem2))"
      ],
      "execution_count": 27,
      "outputs": [
        {
          "output_type": "stream",
          "name": "stdout",
          "text": [
            "3\n"
          ]
        }
      ]
    },
    {
      "cell_type": "markdown",
      "metadata": {
        "id": "c9iVsHyW8lBj"
      },
      "source": [
        "#Acciones"
      ]
    },
    {
      "cell_type": "code",
      "metadata": {
        "id": "vNyMypQj8o__",
        "colab": {
          "base_uri": "https://localhost:8080/"
        },
        "outputId": "12b61a9a-6bda-46e5-ff40-c6a2611aac08"
      },
      "source": [
        "numeros = sc.parallelize([5,3,2,1,4])\n",
        "\n",
        "print (numeros.take(3))\n",
        "#¿Qué sucede si ponemos 30 en vez de 3 elementos?"
      ],
      "execution_count": 28,
      "outputs": [
        {
          "output_type": "stream",
          "name": "stdout",
          "text": [
            "[5, 3, 2]\n"
          ]
        }
      ]
    },
    {
      "cell_type": "code",
      "metadata": {
        "id": "RRuJczUX8kSv",
        "colab": {
          "base_uri": "https://localhost:8080/"
        },
        "outputId": "fb8681e3-a289-4152-c7ca-c4c32983533a"
      },
      "source": [
        "numeros = sc.parallelize([3,2,1,4,5])\n",
        "# \n",
        "print (numeros.takeOrdered(3, lambda elem: -elem))\n",
        "# La función lambda se está utilizando para crear el índice de la lista de ordenación "
      ],
      "execution_count": 29,
      "outputs": [
        {
          "output_type": "stream",
          "name": "stdout",
          "text": [
            "[5, 4, 3]\n"
          ]
        }
      ]
    },
    {
      "cell_type": "markdown",
      "metadata": {
        "id": "ltQB9md2ME1l"
      },
      "source": [
        "## Pregunta TS1.4 ¿Cómo lo ordenarías para que primero aparezcan los impares y luego los pares?"
      ]
    },
    {
      "cell_type": "code",
      "metadata": {
        "id": "BIaKzQy1M98H",
        "colab": {
          "base_uri": "https://localhost:8080/"
        },
        "outputId": "e630ebbb-7040-4d14-9315-e226c10e7d99"
      },
      "source": [
        "#####\n",
        "numeros = sc.parallelize([5,3,2,1,4])\n",
        "rdd = numeros.filter(lambda e: e%2==1).union(numeros.filter(lambda e: e%2==0))\n",
        "rdd.collect()"
      ],
      "execution_count": 30,
      "outputs": [
        {
          "output_type": "execute_result",
          "data": {
            "text/plain": [
              "[5, 3, 1, 2, 4]"
            ]
          },
          "metadata": {},
          "execution_count": 30
        }
      ]
    },
    {
      "cell_type": "code",
      "metadata": {
        "id": "RixVNY9X5LR6"
      },
      "source": [
        "##### no sé si dice ordenados también"
      ],
      "execution_count": 31,
      "outputs": []
    },
    {
      "cell_type": "markdown",
      "metadata": {
        "id": "ctm29gO0ZIbZ"
      },
      "source": [
        "# RDDs con string"
      ]
    },
    {
      "cell_type": "code",
      "metadata": {
        "id": "wzdO64iKaC1q",
        "colab": {
          "base_uri": "https://localhost:8080/"
        },
        "outputId": "44b5bcaf-6f3d-46cb-bb8a-e0f1733b86cb"
      },
      "source": [
        "palabras = sc.parallelize(['HOLA', 'Que', 'TAL', 'Bien'])\n",
        "\n",
        "pal_minus = palabras.map(lambda elemento: elemento.lower())\n",
        "\n",
        "print (pal_minus.collect())"
      ],
      "execution_count": 32,
      "outputs": [
        {
          "output_type": "stream",
          "name": "stdout",
          "text": [
            "['hola', 'que', 'tal', 'bien']\n"
          ]
        }
      ]
    },
    {
      "cell_type": "code",
      "metadata": {
        "id": "_7Pn8FjtakNG",
        "colab": {
          "base_uri": "https://localhost:8080/"
        },
        "outputId": "64eda0da-6c8d-4226-8d86-832a8bb191b8"
      },
      "source": [
        "palabras = sc.parallelize(['HOLA', 'Que', 'TAL', 'Bien'])\n",
        "\n",
        "pal_long = palabras.map(lambda elemento: len(elemento))\n",
        "\n",
        "print (pal_long.collect())"
      ],
      "execution_count": 33,
      "outputs": [
        {
          "output_type": "stream",
          "name": "stdout",
          "text": [
            "[4, 3, 3, 4]\n"
          ]
        }
      ]
    },
    {
      "cell_type": "code",
      "metadata": {
        "id": "rmZwI0MGbAOS",
        "colab": {
          "base_uri": "https://localhost:8080/"
        },
        "outputId": "45540687-77d1-49a3-f562-63af41b4c619"
      },
      "source": [
        "log = sc.parallelize(['E: e21', 'W: w12', 'W: w13', 'E: e45'])\n",
        "\n",
        "errors = log.filter(lambda elemento: elemento[0]=='E')\n",
        "\n",
        "print (errors.collect())"
      ],
      "execution_count": 34,
      "outputs": [
        {
          "output_type": "stream",
          "name": "stdout",
          "text": [
            "['E: e21', 'E: e45']\n"
          ]
        }
      ]
    },
    {
      "cell_type": "code",
      "metadata": {
        "id": "KKDB9UzIcbau",
        "colab": {
          "base_uri": "https://localhost:8080/"
        },
        "outputId": "1d83caa2-3856-4ffa-d4a2-4ac8b0f1e1c4"
      },
      "source": [
        "lineas = sc.parallelize(['', 'a', 'a b', 'a b c'])\n",
        "\n",
        "palabras = lineas.flatMap(lambda elemento: elemento.split())\n",
        "\n",
        "print (palabras.collect())"
      ],
      "execution_count": 35,
      "outputs": [
        {
          "output_type": "stream",
          "name": "stdout",
          "text": [
            "['a', 'a', 'b', 'a', 'b', 'c']\n"
          ]
        }
      ]
    },
    {
      "cell_type": "code",
      "metadata": {
        "id": "ZpM4oMF_cnW4",
        "colab": {
          "base_uri": "https://localhost:8080/"
        },
        "outputId": "5705cb94-b589-4468-e90d-01c5d149cc06"
      },
      "source": [
        "lineas = sc.parallelize(['', 'a', 'a b', 'a b c'])\n",
        "\n",
        "palabras_flat = lineas.flatMap(lambda elemento: elemento.split())\n",
        "palabras_map = lineas.map(lambda elemento: elemento.split())\n",
        "\n",
        "print (palabras_flat.collect())\n",
        "print (palabras_map.collect())\n"
      ],
      "execution_count": 58,
      "outputs": [
        {
          "output_type": "stream",
          "name": "stdout",
          "text": [
            "['a', 'a', 'b', 'a', 'b', 'c']\n",
            "[[], ['a'], ['a', 'b'], ['a', 'b', 'c']]\n"
          ]
        }
      ]
    },
    {
      "cell_type": "markdown",
      "metadata": {
        "id": "saVy72uncpMC"
      },
      "source": [
        "## Pregunta TS1.5 ¿Cuántos elementos tiene cada rdd? ¿Cuál tiene más?\n"
      ]
    },
    {
      "cell_type": "code",
      "metadata": {
        "id": "pfLDcQrV3e7j",
        "colab": {
          "base_uri": "https://localhost:8080/"
        },
        "outputId": "6e1b1a1b-7d73-457d-a65f-184815c36ded"
      },
      "source": [
        "lineas.count()\n",
        "# duda de cual de todos"
      ],
      "execution_count": 60,
      "outputs": [
        {
          "output_type": "execute_result",
          "data": {
            "text/plain": [
              "4"
            ]
          },
          "metadata": {},
          "execution_count": 60
        }
      ]
    },
    {
      "cell_type": "code",
      "metadata": {
        "id": "_bDH0EwE3Kdi",
        "colab": {
          "base_uri": "https://localhost:8080/"
        },
        "outputId": "53464287-6740-4504-852c-252c11e90289"
      },
      "source": [
        "print(palabras.count(),palabras_flat.count(), palabras_map.count())"
      ],
      "execution_count": 64,
      "outputs": [
        {
          "output_type": "stream",
          "name": "stdout",
          "text": [
            "4 6 4\n"
          ]
        }
      ]
    },
    {
      "cell_type": "markdown",
      "metadata": {
        "id": "cDgvc1iU3MA2"
      },
      "source": [
        "## Pregunta TS1.6 ¿De qué tipo son los elementos del rdd palabras_map? ¿Por qué palabras_map tiene el primer elemento vacío?"
      ]
    },
    {
      "cell_type": "code",
      "metadata": {
        "id": "zsa9OFbhc0-i",
        "colab": {
          "base_uri": "https://localhost:8080/"
        },
        "outputId": "123e0a77-c9d1-4949-ec7c-29c7a6b9a00e"
      },
      "source": [
        "palabras_flat.take(1)"
      ],
      "execution_count": 38,
      "outputs": [
        {
          "output_type": "execute_result",
          "data": {
            "text/plain": [
              "['a']"
            ]
          },
          "metadata": {},
          "execution_count": 38
        }
      ]
    },
    {
      "cell_type": "code",
      "metadata": {
        "id": "Gwn33hfO0XoJ",
        "colab": {
          "base_uri": "https://localhost:8080/"
        },
        "outputId": "c3fe93f4-629e-4afd-a9a4-f7ccce68c621"
      },
      "source": [
        "palabras_map\n"
      ],
      "execution_count": 39,
      "outputs": [
        {
          "output_type": "execute_result",
          "data": {
            "text/plain": [
              "PythonRDD[52] at collect at <ipython-input-36-9e9e885b2c3e>:7"
            ]
          },
          "metadata": {},
          "execution_count": 39
        }
      ]
    },
    {
      "cell_type": "markdown",
      "metadata": {
        "id": "1Lv-KrP0dNdE"
      },
      "source": [
        "## Pregunta TS1.7. Prueba la transformación distinct si lo aplicamos a cadenas."
      ]
    },
    {
      "cell_type": "code",
      "metadata": {
        "colab": {
          "base_uri": "https://localhost:8080/"
        },
        "id": "5dwlTkKUPOOF",
        "outputId": "d858139c-8619-48a9-c293-21134c088a0b"
      },
      "source": [
        "log = sc.parallelize(['E: e21', 'I: i11', 'W: w12', 'I: i11', 'W: w13', 'E: e45'])\n",
        "\n",
        "infos = log.distinct()\n",
        "\n",
        "print (infos.collect())"
      ],
      "execution_count": 69,
      "outputs": [
        {
          "output_type": "stream",
          "name": "stdout",
          "text": [
            "['I: i11', 'W: w12', 'W: w13', 'E: e45', 'E: e21']\n"
          ]
        }
      ]
    },
    {
      "cell_type": "code",
      "metadata": {
        "id": "Y2NdOdomdoHP",
        "colab": {
          "base_uri": "https://localhost:8080/"
        },
        "outputId": "79b9ad6e-3fe3-48e4-d86b-cfd1e2fa6f3a"
      },
      "source": [
        "log = sc.parallelize(['E: e21', 'I: i11', 'W: w12', 'I: i11', 'W: w13', 'E: e45'])\n",
        "\n",
        "infos = log.filter(lambda elemento: elemento[0]=='I')\n",
        "errors = log.filter(lambda elemento: elemento[0]=='E')\n",
        "\n",
        "inferr = infos.union(errors)\n",
        "\n",
        "print (inferr.collect())"
      ],
      "execution_count": 40,
      "outputs": [
        {
          "output_type": "stream",
          "name": "stdout",
          "text": [
            "['I: i11', 'I: i11', 'E: e21', 'E: e45']\n"
          ]
        }
      ]
    },
    {
      "cell_type": "markdown",
      "metadata": {
        "id": "mjuin2jgcqCo"
      },
      "source": [
        "## Pregunta TS1.8 ¿Cómo se podría obtener la misma salida pero utilizando una sola transformación y sin realizar la unión?"
      ]
    },
    {
      "cell_type": "code",
      "metadata": {
        "id": "mv4rsT2Fd_1p",
        "colab": {
          "base_uri": "https://localhost:8080/"
        },
        "outputId": "02dcb93e-89c5-4f61-cf3f-26a55c4971f9"
      },
      "source": [
        "numeros = sc.parallelize([1,2,3,4,5])\n",
        "\n",
        "print (numeros.reduce(lambda elem1,elem2: elem2+elem1))"
      ],
      "execution_count": 41,
      "outputs": [
        {
          "output_type": "stream",
          "name": "stdout",
          "text": [
            "15\n"
          ]
        }
      ]
    },
    {
      "cell_type": "code",
      "metadata": {
        "id": "Ej3-MXZDeFmy",
        "colab": {
          "base_uri": "https://localhost:8080/"
        },
        "outputId": "00c114fb-b5cb-488f-93d8-6305b8ea5bfe"
      },
      "source": [
        "#Tiene sentido esta operación?\n",
        "numeros = sc.parallelize([1,2,3,4,5])\n",
        "\n",
        "print (numeros.reduce(lambda elem1,elem2: elem1-elem2))"
      ],
      "execution_count": 42,
      "outputs": [
        {
          "output_type": "stream",
          "name": "stdout",
          "text": [
            "5\n"
          ]
        }
      ]
    },
    {
      "cell_type": "code",
      "metadata": {
        "id": "jgXmpVzveNaW",
        "colab": {
          "base_uri": "https://localhost:8080/"
        },
        "outputId": "c6e6df61-d4aa-4003-ddf8-01b460580d5b"
      },
      "source": [
        "palabras = sc.parallelize(['HOLA', 'Que', 'TAL', 'Bien'])\n",
        "\n",
        "pal_minus = palabras.map(lambda elemento: elemento.lower())\n",
        "\n",
        "print (pal_minus.reduce(lambda elem1,elem2: elem1+\"-\"+elem2))\n",
        "#y esta tiene sentido esta operación?\n",
        "# Qué pasa si ponemos elem2+\"-\"+elem1"
      ],
      "execution_count": 43,
      "outputs": [
        {
          "output_type": "stream",
          "name": "stdout",
          "text": [
            "hola-que-tal-bien\n"
          ]
        }
      ]
    },
    {
      "cell_type": "code",
      "metadata": {
        "id": "1lzjZV5xeVze",
        "colab": {
          "base_uri": "https://localhost:8080/"
        },
        "outputId": "40e84328-06e2-4914-a01e-241b24f603f2"
      },
      "source": [
        "r = sc.parallelize([('A', 1),('C', 4),('A', 1),('B', 1),('B', 4)])\n",
        "rr = r.reduceByKey(lambda v1,v2:v1+v2)\n",
        "print (rr.collect())"
      ],
      "execution_count": 44,
      "outputs": [
        {
          "output_type": "stream",
          "name": "stdout",
          "text": [
            "[('C', 4), ('A', 2), ('B', 5)]\n"
          ]
        }
      ]
    },
    {
      "cell_type": "code",
      "metadata": {
        "id": "EZ3sOeL5ebOw",
        "colab": {
          "base_uri": "https://localhost:8080/"
        },
        "outputId": "b6797773-9a82-42e9-b28d-6ee930ed9451"
      },
      "source": [
        "r = sc.parallelize([('A', 1),('C', 4),('A', 1),('B', 1),('B', 4)])\n",
        "rr1 = r.reduceByKey(lambda v1,v2:v1+v2)\n",
        "print (rr1.collect())\n",
        "rr2 = rr1.reduceByKey(lambda v1,v2:v1)\n",
        "print (rr2.collect())\n"
      ],
      "execution_count": 45,
      "outputs": [
        {
          "output_type": "stream",
          "name": "stdout",
          "text": [
            "[('C', 4), ('A', 2), ('B', 5)]\n",
            "[('C', 4), ('A', 2), ('B', 5)]\n"
          ]
        }
      ]
    },
    {
      "cell_type": "markdown",
      "metadata": {
        "id": "LLPvqqELz-Pt"
      },
      "source": [
        "## Pregunta TS1.9 ¿Cómo explica el funcionamiento de las celdas anteriores?"
      ]
    },
    {
      "cell_type": "code",
      "metadata": {
        "id": "fR2ruD-TeeK2",
        "colab": {
          "base_uri": "https://localhost:8080/"
        },
        "outputId": "bae56533-2195-4da1-bd70-daa130343d4a"
      },
      "source": [
        "r = sc.parallelize([('A', 1),('C', 4),('A', 1),('B', 1),('B', 4)])\n",
        "rr1 = r.reduceByKey(lambda v1,v2:'hola')\n",
        "print (rr1.collect())\n",
        "rr2 = rr1.reduceByKey(lambda v1,v2:'hola')\n",
        "print (rr2.collect())"
      ],
      "execution_count": 46,
      "outputs": [
        {
          "output_type": "stream",
          "name": "stdout",
          "text": [
            "[('C', 4), ('A', 'hola'), ('B', 'hola')]\n",
            "[('C', 4), ('A', 'hola'), ('B', 'hola')]\n"
          ]
        }
      ]
    },
    {
      "cell_type": "code",
      "metadata": {
        "id": "gKbP8VKzeitK",
        "colab": {
          "base_uri": "https://localhost:8080/"
        },
        "outputId": "e074d7af-2c03-4ed0-b75e-87bae6d365eb"
      },
      "source": [
        "r = sc.parallelize([('A', 1),('C', 2),('A', 3),('B', 4),('B', 5)])\n",
        "rr = r.groupByKey()\n",
        "res= rr.collect()\n",
        "for k,v in res:\n",
        "    print (k, list(v))\n",
        "# Que operación realizar al RDD rr para que la operacion sea como un reduceByKey\n",
        "#¿Y simular un group con un reduceByKey y un map?"
      ],
      "execution_count": 47,
      "outputs": [
        {
          "output_type": "stream",
          "name": "stdout",
          "text": [
            "C [2]\n",
            "A [1, 3]\n",
            "B [4, 5]\n"
          ]
        }
      ]
    },
    {
      "cell_type": "code",
      "metadata": {
        "id": "1UBMxjgi19V8",
        "colab": {
          "base_uri": "https://localhost:8080/"
        },
        "outputId": "62446266-c809-4050-aa75-66db8051c092"
      },
      "source": [
        "rdd1 = sc.parallelize([('A',1),('B',2),('C',3)])\n",
        "rdd2 = sc.parallelize([('A',4),('B',5),('C',6)])\n",
        "\n",
        "rddjoin = rdd1.join(rdd2)\n",
        "\n",
        "print (rddjoin.collect())\n",
        "# Prueba a cambiar las claves del rdd1 y rdd2 para ver cuántos elementos se crean"
      ],
      "execution_count": 48,
      "outputs": [
        {
          "output_type": "stream",
          "name": "stdout",
          "text": [
            "[('A', (1, 4)), ('B', (2, 5)), ('C', (3, 6))]\n"
          ]
        }
      ]
    },
    {
      "cell_type": "code",
      "metadata": {
        "id": "XXVC6hoC2Kw-",
        "colab": {
          "base_uri": "https://localhost:8080/"
        },
        "outputId": "c43fc2e2-ba76-433a-dd4e-498416fccd81"
      },
      "source": [
        "rdd1 = sc.parallelize([('A',1),('B',2),('C',3)])\n",
        "rdd2 = sc.parallelize([('A',4),('A',5),('B',6),('D',7)])\n",
        "\n",
        "rddjoin = rdd1.join(rdd2)\n",
        "\n",
        "print (rddjoin.collect())\n",
        "#Modifica join por leftOuterJoin, rightOuterJoin y fullOuterJoin ¿Qué sucede? \n"
      ],
      "execution_count": 49,
      "outputs": [
        {
          "output_type": "stream",
          "name": "stdout",
          "text": [
            "[('A', (1, 4)), ('A', (1, 5)), ('B', (2, 6))]\n"
          ]
        }
      ]
    },
    {
      "cell_type": "code",
      "metadata": {
        "id": "quNvzEdK2gv5",
        "colab": {
          "base_uri": "https://localhost:8080/"
        },
        "outputId": "e2552fb7-a892-43a8-a493-385ecdeb26c6"
      },
      "source": [
        "rdd = sc.parallelize([('A',1),('B',2),('C',3),('A',4),('A',5),('B',6)])\n",
        "\n",
        "res = rdd.sortByKey(False)\n",
        "\n",
        "print (res.collect())"
      ],
      "execution_count": 50,
      "outputs": [
        {
          "output_type": "stream",
          "name": "stdout",
          "text": [
            "[('C', 3), ('B', 2), ('B', 6), ('A', 1), ('A', 4), ('A', 5)]\n"
          ]
        }
      ]
    },
    {
      "cell_type": "markdown",
      "metadata": {
        "id": "zOir6ry549KP"
      },
      "source": [
        "# Utilización de ficheros"
      ]
    },
    {
      "cell_type": "code",
      "metadata": {
        "id": "0HSk78ba3DTv"
      },
      "source": [
        "\n",
        "# Crea una lista de 1000 números y la guarda.\n",
        "# Da error si 'salida' existe, descomenta la linea de borrar en ese caso.\n",
        "%rm -rf salida\n",
        "numeros = sc.parallelize(range(0,1000))\n",
        "numeros.saveAsTextFile('salida')\n"
      ],
      "execution_count": 51,
      "outputs": []
    },
    {
      "cell_type": "code",
      "metadata": {
        "id": "r1oOMj9U3azd",
        "colab": {
          "base_uri": "https://localhost:8080/"
        },
        "outputId": "f312816c-35a7-4ce3-8acd-e25687fde058"
      },
      "source": [
        "ls -la"
      ],
      "execution_count": 52,
      "outputs": [
        {
          "output_type": "stream",
          "name": "stdout",
          "text": [
            "total 219212\n",
            "drwxr-xr-x  1 root root      4096 Oct  4 16:24 \u001b[0m\u001b[01;34m.\u001b[0m/\n",
            "drwxr-xr-x  1 root root      4096 Oct  4 16:22 \u001b[01;34m..\u001b[0m/\n",
            "drwxr-xr-x  4 root root      4096 Sep 30 17:11 \u001b[01;34m.config\u001b[0m/\n",
            "drwxr-xr-x  2 root root      4096 Oct  4 16:24 \u001b[01;34msalida\u001b[0m/\n",
            "drwxr-xr-x  1 root root      4096 Sep 30 17:12 \u001b[01;34msample_data\u001b[0m/\n",
            "drwxr-xr-x 13 1000 1000      4096 May 24 05:00 \u001b[01;34mspark-3.1.2-bin-hadoop2.7\u001b[0m/\n",
            "-rw-r--r--  1 root root 224445805 May 24 05:01 spark-3.1.2-bin-hadoop2.7.tgz\n"
          ]
        }
      ]
    },
    {
      "cell_type": "code",
      "metadata": {
        "id": "y3T8t98g3koT",
        "colab": {
          "base_uri": "https://localhost:8080/"
        },
        "outputId": "0ead1092-215a-4971-b3f1-247e78599a4e"
      },
      "source": [
        "%ls -la salida/*\n"
      ],
      "execution_count": 53,
      "outputs": [
        {
          "output_type": "stream",
          "name": "stdout",
          "text": [
            "-rw-r--r-- 1 root root 1890 Oct  4 16:24 salida/part-00000\n",
            "-rw-r--r-- 1 root root 2000 Oct  4 16:24 salida/part-00001\n",
            "-rw-r--r-- 1 root root    0 Oct  4 16:24 salida/_SUCCESS\n"
          ]
        }
      ]
    },
    {
      "cell_type": "code",
      "metadata": {
        "id": "2yWrIYA83q_c",
        "colab": {
          "base_uri": "https://localhost:8080/"
        },
        "outputId": "8c32feee-a6cc-469b-a118-92105b82c069"
      },
      "source": [
        "%cat salida/part-00000"
      ],
      "execution_count": 54,
      "outputs": [
        {
          "output_type": "stream",
          "name": "stdout",
          "text": [
            "0\n",
            "1\n",
            "2\n",
            "3\n",
            "4\n",
            "5\n",
            "6\n",
            "7\n",
            "8\n",
            "9\n",
            "10\n",
            "11\n",
            "12\n",
            "13\n",
            "14\n",
            "15\n",
            "16\n",
            "17\n",
            "18\n",
            "19\n",
            "20\n",
            "21\n",
            "22\n",
            "23\n",
            "24\n",
            "25\n",
            "26\n",
            "27\n",
            "28\n",
            "29\n",
            "30\n",
            "31\n",
            "32\n",
            "33\n",
            "34\n",
            "35\n",
            "36\n",
            "37\n",
            "38\n",
            "39\n",
            "40\n",
            "41\n",
            "42\n",
            "43\n",
            "44\n",
            "45\n",
            "46\n",
            "47\n",
            "48\n",
            "49\n",
            "50\n",
            "51\n",
            "52\n",
            "53\n",
            "54\n",
            "55\n",
            "56\n",
            "57\n",
            "58\n",
            "59\n",
            "60\n",
            "61\n",
            "62\n",
            "63\n",
            "64\n",
            "65\n",
            "66\n",
            "67\n",
            "68\n",
            "69\n",
            "70\n",
            "71\n",
            "72\n",
            "73\n",
            "74\n",
            "75\n",
            "76\n",
            "77\n",
            "78\n",
            "79\n",
            "80\n",
            "81\n",
            "82\n",
            "83\n",
            "84\n",
            "85\n",
            "86\n",
            "87\n",
            "88\n",
            "89\n",
            "90\n",
            "91\n",
            "92\n",
            "93\n",
            "94\n",
            "95\n",
            "96\n",
            "97\n",
            "98\n",
            "99\n",
            "100\n",
            "101\n",
            "102\n",
            "103\n",
            "104\n",
            "105\n",
            "106\n",
            "107\n",
            "108\n",
            "109\n",
            "110\n",
            "111\n",
            "112\n",
            "113\n",
            "114\n",
            "115\n",
            "116\n",
            "117\n",
            "118\n",
            "119\n",
            "120\n",
            "121\n",
            "122\n",
            "123\n",
            "124\n",
            "125\n",
            "126\n",
            "127\n",
            "128\n",
            "129\n",
            "130\n",
            "131\n",
            "132\n",
            "133\n",
            "134\n",
            "135\n",
            "136\n",
            "137\n",
            "138\n",
            "139\n",
            "140\n",
            "141\n",
            "142\n",
            "143\n",
            "144\n",
            "145\n",
            "146\n",
            "147\n",
            "148\n",
            "149\n",
            "150\n",
            "151\n",
            "152\n",
            "153\n",
            "154\n",
            "155\n",
            "156\n",
            "157\n",
            "158\n",
            "159\n",
            "160\n",
            "161\n",
            "162\n",
            "163\n",
            "164\n",
            "165\n",
            "166\n",
            "167\n",
            "168\n",
            "169\n",
            "170\n",
            "171\n",
            "172\n",
            "173\n",
            "174\n",
            "175\n",
            "176\n",
            "177\n",
            "178\n",
            "179\n",
            "180\n",
            "181\n",
            "182\n",
            "183\n",
            "184\n",
            "185\n",
            "186\n",
            "187\n",
            "188\n",
            "189\n",
            "190\n",
            "191\n",
            "192\n",
            "193\n",
            "194\n",
            "195\n",
            "196\n",
            "197\n",
            "198\n",
            "199\n",
            "200\n",
            "201\n",
            "202\n",
            "203\n",
            "204\n",
            "205\n",
            "206\n",
            "207\n",
            "208\n",
            "209\n",
            "210\n",
            "211\n",
            "212\n",
            "213\n",
            "214\n",
            "215\n",
            "216\n",
            "217\n",
            "218\n",
            "219\n",
            "220\n",
            "221\n",
            "222\n",
            "223\n",
            "224\n",
            "225\n",
            "226\n",
            "227\n",
            "228\n",
            "229\n",
            "230\n",
            "231\n",
            "232\n",
            "233\n",
            "234\n",
            "235\n",
            "236\n",
            "237\n",
            "238\n",
            "239\n",
            "240\n",
            "241\n",
            "242\n",
            "243\n",
            "244\n",
            "245\n",
            "246\n",
            "247\n",
            "248\n",
            "249\n",
            "250\n",
            "251\n",
            "252\n",
            "253\n",
            "254\n",
            "255\n",
            "256\n",
            "257\n",
            "258\n",
            "259\n",
            "260\n",
            "261\n",
            "262\n",
            "263\n",
            "264\n",
            "265\n",
            "266\n",
            "267\n",
            "268\n",
            "269\n",
            "270\n",
            "271\n",
            "272\n",
            "273\n",
            "274\n",
            "275\n",
            "276\n",
            "277\n",
            "278\n",
            "279\n",
            "280\n",
            "281\n",
            "282\n",
            "283\n",
            "284\n",
            "285\n",
            "286\n",
            "287\n",
            "288\n",
            "289\n",
            "290\n",
            "291\n",
            "292\n",
            "293\n",
            "294\n",
            "295\n",
            "296\n",
            "297\n",
            "298\n",
            "299\n",
            "300\n",
            "301\n",
            "302\n",
            "303\n",
            "304\n",
            "305\n",
            "306\n",
            "307\n",
            "308\n",
            "309\n",
            "310\n",
            "311\n",
            "312\n",
            "313\n",
            "314\n",
            "315\n",
            "316\n",
            "317\n",
            "318\n",
            "319\n",
            "320\n",
            "321\n",
            "322\n",
            "323\n",
            "324\n",
            "325\n",
            "326\n",
            "327\n",
            "328\n",
            "329\n",
            "330\n",
            "331\n",
            "332\n",
            "333\n",
            "334\n",
            "335\n",
            "336\n",
            "337\n",
            "338\n",
            "339\n",
            "340\n",
            "341\n",
            "342\n",
            "343\n",
            "344\n",
            "345\n",
            "346\n",
            "347\n",
            "348\n",
            "349\n",
            "350\n",
            "351\n",
            "352\n",
            "353\n",
            "354\n",
            "355\n",
            "356\n",
            "357\n",
            "358\n",
            "359\n",
            "360\n",
            "361\n",
            "362\n",
            "363\n",
            "364\n",
            "365\n",
            "366\n",
            "367\n",
            "368\n",
            "369\n",
            "370\n",
            "371\n",
            "372\n",
            "373\n",
            "374\n",
            "375\n",
            "376\n",
            "377\n",
            "378\n",
            "379\n",
            "380\n",
            "381\n",
            "382\n",
            "383\n",
            "384\n",
            "385\n",
            "386\n",
            "387\n",
            "388\n",
            "389\n",
            "390\n",
            "391\n",
            "392\n",
            "393\n",
            "394\n",
            "395\n",
            "396\n",
            "397\n",
            "398\n",
            "399\n",
            "400\n",
            "401\n",
            "402\n",
            "403\n",
            "404\n",
            "405\n",
            "406\n",
            "407\n",
            "408\n",
            "409\n",
            "410\n",
            "411\n",
            "412\n",
            "413\n",
            "414\n",
            "415\n",
            "416\n",
            "417\n",
            "418\n",
            "419\n",
            "420\n",
            "421\n",
            "422\n",
            "423\n",
            "424\n",
            "425\n",
            "426\n",
            "427\n",
            "428\n",
            "429\n",
            "430\n",
            "431\n",
            "432\n",
            "433\n",
            "434\n",
            "435\n",
            "436\n",
            "437\n",
            "438\n",
            "439\n",
            "440\n",
            "441\n",
            "442\n",
            "443\n",
            "444\n",
            "445\n",
            "446\n",
            "447\n",
            "448\n",
            "449\n",
            "450\n",
            "451\n",
            "452\n",
            "453\n",
            "454\n",
            "455\n",
            "456\n",
            "457\n",
            "458\n",
            "459\n",
            "460\n",
            "461\n",
            "462\n",
            "463\n",
            "464\n",
            "465\n",
            "466\n",
            "467\n",
            "468\n",
            "469\n",
            "470\n",
            "471\n",
            "472\n",
            "473\n",
            "474\n",
            "475\n",
            "476\n",
            "477\n",
            "478\n",
            "479\n",
            "480\n",
            "481\n",
            "482\n",
            "483\n",
            "484\n",
            "485\n",
            "486\n",
            "487\n",
            "488\n",
            "489\n",
            "490\n",
            "491\n",
            "492\n",
            "493\n",
            "494\n",
            "495\n",
            "496\n",
            "497\n",
            "498\n",
            "499\n"
          ]
        }
      ]
    },
    {
      "cell_type": "code",
      "metadata": {
        "id": "D6_KGg9w3Rqm",
        "colab": {
          "base_uri": "https://localhost:8080/"
        },
        "outputId": "2c90e5c7-511f-4215-eb33-66c3a60a3b8b"
      },
      "source": [
        "# Recupera el fichero guardado y realiza la suma\n",
        "n2 = sc.textFile('salida').map(lambda a:int(a))\n",
        "print(n2.reduce(lambda v1,v2: v1 + v2))\n",
        "\n",
        "# Prueba este código y mira qué genera?\n",
        "# Borra la salida y cambia las particiones en parallelize ¿Qué sucede? \n",
        "#    (pe c.parallelize(xrange(0,1000),8))\n"
      ],
      "execution_count": 55,
      "outputs": [
        {
          "output_type": "stream",
          "name": "stdout",
          "text": [
            "499500\n"
          ]
        }
      ]
    },
    {
      "cell_type": "markdown",
      "metadata": {
        "id": "33FiLTWp6LQ2"
      },
      "source": [
        "## Pregunta TS1.10 Borra la salida y cambia las particiones en parallelize ¿Qué sucede? \n",
        "  (pe c.parallelize(xrange(0,1000),8))\n"
      ]
    },
    {
      "cell_type": "code",
      "metadata": {
        "id": "H4lLsBhy4Yxq",
        "colab": {
          "base_uri": "https://localhost:8080/"
        },
        "outputId": "46b530c6-47fe-4a5f-9ed2-1277b967eb2e"
      },
      "source": [
        "%rm -rf salida\n",
        "%ls -la\n"
      ],
      "execution_count": 56,
      "outputs": [
        {
          "output_type": "stream",
          "name": "stdout",
          "text": [
            "total 219208\n",
            "drwxr-xr-x  1 root root      4096 Oct  4 16:24 \u001b[0m\u001b[01;34m.\u001b[0m/\n",
            "drwxr-xr-x  1 root root      4096 Oct  4 16:22 \u001b[01;34m..\u001b[0m/\n",
            "drwxr-xr-x  4 root root      4096 Sep 30 17:11 \u001b[01;34m.config\u001b[0m/\n",
            "drwxr-xr-x  1 root root      4096 Sep 30 17:12 \u001b[01;34msample_data\u001b[0m/\n",
            "drwxr-xr-x 13 1000 1000      4096 May 24 05:00 \u001b[01;34mspark-3.1.2-bin-hadoop2.7\u001b[0m/\n",
            "-rw-r--r--  1 root root 224445805 May 24 05:01 spark-3.1.2-bin-hadoop2.7.tgz\n"
          ]
        }
      ]
    },
    {
      "cell_type": "markdown",
      "metadata": {
        "id": "SyfefweJenb8"
      },
      "source": [
        "# El quijote"
      ]
    },
    {
      "cell_type": "markdown",
      "metadata": {
        "id": "xcxH-o_ZQSje"
      },
      "source": [
        "Montar el directorio de trabajo utilizando Google Drive\n",
        "Loading Your Data into Google Colaboratory.\n",
        "1. First of all, Upload your Data to your Google Drive.\n",
        "2. Run the following script in colab shell.\n",
        "3. Copy the authorization code of your account.\n",
        "4. Paste the authorization code into the output shell.\n",
        "5. Congrats! Now your Google Drive is mounted to this location /content/gdrive/MyDrive/\n",
        "\n",
        "\n"
      ]
    },
    {
      "cell_type": "markdown",
      "metadata": {
        "id": "5aS_Xvk2_kSN"
      },
      "source": [
        ""
      ]
    },
    {
      "cell_type": "code",
      "metadata": {
        "id": "Vl0Fq5nChoYj",
        "colab": {
          "base_uri": "https://localhost:8080/"
        },
        "outputId": "12510aed-fd1e-4481-ef96-771672f13f50"
      },
      "source": [
        "from google.colab import drive\n",
        "#drive.flush_and_unmount()\n",
        "drive.mount('/content/gdrive')"
      ],
      "execution_count": 70,
      "outputs": [
        {
          "output_type": "stream",
          "name": "stdout",
          "text": [
            "Mounted at /content/gdrive\n"
          ]
        }
      ]
    },
    {
      "cell_type": "code",
      "metadata": {
        "id": "jL-wqZOCZzrL"
      },
      "source": [
        "#%ls /content/gdrive/MyDrive/"
      ],
      "execution_count": null,
      "outputs": []
    },
    {
      "cell_type": "code",
      "metadata": {
        "id": "YpBiHwBjauJk"
      },
      "source": [
        "!cp \"/content/gdrive/My Drive/quijote.txt\" ."
      ],
      "execution_count": 71,
      "outputs": []
    },
    {
      "cell_type": "code",
      "metadata": {
        "id": "TmlBII6cbiIt",
        "colab": {
          "base_uri": "https://localhost:8080/"
        },
        "outputId": "7f119a3e-d032-45b7-881f-ee6a026395f4"
      },
      "source": [
        "%ls -la"
      ],
      "execution_count": 72,
      "outputs": [
        {
          "output_type": "stream",
          "name": "stdout",
          "text": [
            "total 219524\n",
            "drwxr-xr-x  1 root root      4096 Oct  4 16:59 \u001b[0m\u001b[01;34m.\u001b[0m/\n",
            "drwxr-xr-x  1 root root      4096 Oct  4 16:22 \u001b[01;34m..\u001b[0m/\n",
            "drwxr-xr-x  4 root root      4096 Sep 30 17:11 \u001b[01;34m.config\u001b[0m/\n",
            "drwx------  6 root root      4096 Oct  4 16:59 \u001b[01;34mgdrive\u001b[0m/\n",
            "-rw-------  1 root root    317618 Oct  4 16:59 quijote.txt\n",
            "drwxr-xr-x  1 root root      4096 Sep 30 17:12 \u001b[01;34msample_data\u001b[0m/\n",
            "drwxr-xr-x 13 1000 1000      4096 May 24 05:00 \u001b[01;34mspark-3.1.2-bin-hadoop2.7\u001b[0m/\n",
            "-rw-r--r--  1 root root 224445805 May 24 05:01 spark-3.1.2-bin-hadoop2.7.tgz\n"
          ]
        }
      ]
    },
    {
      "cell_type": "code",
      "metadata": {
        "colab": {
          "base_uri": "https://localhost:8080/",
          "height": 37
        },
        "id": "OgqJUkLqb5ZG",
        "outputId": "562d06ca-9941-4e48-d1cc-75a33da168c3"
      },
      "source": [
        "%pwd"
      ],
      "execution_count": 73,
      "outputs": [
        {
          "output_type": "execute_result",
          "data": {
            "application/vnd.google.colaboratory.intrinsic+json": {
              "type": "string"
            },
            "text/plain": [
              "'/content'"
            ]
          },
          "metadata": {},
          "execution_count": 73
        }
      ]
    },
    {
      "cell_type": "markdown",
      "metadata": {
        "id": "y9E6_qc-a7GE"
      },
      "source": [
        "# Procesando el QUIJOTE"
      ]
    },
    {
      "cell_type": "code",
      "metadata": {
        "id": "_Li3mX8ebMSi",
        "colab": {
          "base_uri": "https://localhost:8080/"
        },
        "outputId": "354517db-d840-44a5-f1c0-8b591ec79bc9"
      },
      "source": [
        "quijote = sc.textFile(\"quijote.txt\")\n",
        "quijote.take(10)"
      ],
      "execution_count": 74,
      "outputs": [
        {
          "output_type": "execute_result",
          "data": {
            "text/plain": [
              "['EL INGENIOSO HIDALGO DON QUIJOTE DE LA MANCHA',\n",
              " '',\n",
              " 'Miguel de Cervantes Saavedra',\n",
              " '',\n",
              " '     Capítulo primero',\n",
              " '',\n",
              " '     Que trata de la condición y ejercicio del famoso hidalgo D.',\n",
              " 'Quijote de la ',\n",
              " '     Mancha',\n",
              " '']"
            ]
          },
          "metadata": {},
          "execution_count": 74
        }
      ]
    },
    {
      "cell_type": "markdown",
      "metadata": {
        "id": "GDVSZOrYbrEt"
      },
      "source": [
        "Transformaciones"
      ]
    },
    {
      "cell_type": "code",
      "metadata": {
        "id": "ITsCl47JbfM_"
      },
      "source": [
        "charsPerLine = quijote.map(lambda s: len(s))\n",
        "allWords = quijote.flatMap(lambda s: s.split())\n",
        "allWordsNoArticles = allWords.filter(lambda a: a.lower() not in [\"el\", \"la\"])\n",
        "allWordsUnique = allWords.map(lambda s: s.lower()).distinct()\n",
        "sampleWords = allWords.sample(withReplacement=True, fraction=0.2, seed=666)\n",
        "weirdSampling = sampleWords.union(allWordsNoArticles.sample(False, fraction=0.3))\n",
        "# cómo funciona cada transformación"
      ],
      "execution_count": 75,
      "outputs": []
    },
    {
      "cell_type": "code",
      "metadata": {
        "id": "4kpZSOS7cAYr",
        "colab": {
          "base_uri": "https://localhost:8080/"
        },
        "outputId": "0202fa2b-e18a-4af6-9019-4eb4e1650845"
      },
      "source": [
        "allWordsUnique.take(10)"
      ],
      "execution_count": 76,
      "outputs": [
        {
          "output_type": "execute_result",
          "data": {
            "text/plain": [
              "['el',\n",
              " 'hidalgo',\n",
              " 'don',\n",
              " 'mancha',\n",
              " 'saavedra',\n",
              " 'que',\n",
              " 'condición',\n",
              " 'y',\n",
              " 'del',\n",
              " 'd.']"
            ]
          },
          "metadata": {},
          "execution_count": 76
        }
      ]
    },
    {
      "cell_type": "markdown",
      "metadata": {
        "id": "PpAuT-AkcRyf"
      },
      "source": [
        "## Pregunta TS2.1 Explica la utilidad de cada transformación y detalle para cada una de ellas si cambia el número de elementos en el RDD resultante. Es decir si el RDD de partida tiene N elementos, y el de salida M elementos, indica si N>M, N=M o N<M."
      ]
    },
    {
      "cell_type": "markdown",
      "metadata": {
        "id": "-0Xj_MR9eVCf"
      },
      "source": [
        "* map\n",
        "* flatmap\n",
        "* filter\n",
        "* distinct\n",
        "* sample\n",
        "* union\n",
        "\n",
        "map --> aplica una determinada funcion (elem que se inserta) para cada k.\n",
        "\n",
        "filter --> T/F si la f dev T devuelve el RDD si no se va fuera. Mapea uno a uno: tam N\n",
        "\n",
        "flatMap --> lista de elementos que tiene que insertar. Para generar un rdd con un tamaño distinto al de la entrada. Palabras por rdd. Te devuelve un K que puede ser mayor, menor o igual a N. Depende de la operacion.\n",
        "\n",
        "sample --> rdd pero aleatorio. Depende de la fraccion. Sin reemplazamiento K <=N, o mayor que K.\n",
        "\n",
        "union --> tamaño de suma de las dos. Es la concatenacion.\n",
        "\n",
        "distinct--> k <= N estrictamente.\n"
      ]
    },
    {
      "cell_type": "code",
      "metadata": {
        "id": "PWJlgOUDcQhc",
        "colab": {
          "base_uri": "https://localhost:8080/"
        },
        "outputId": "88738e22-abfe-477d-8b5e-3e50ef040ee0"
      },
      "source": [
        "numLines = quijote.count()\n",
        "numChars = charsPerLine.reduce(lambda a,b: a+b) # also charsPerLine.sum()\n",
        "sortedWordsByLength = allWordsNoArticles.takeOrdered(20, key=lambda x: -len(x))\n",
        "numLines, numChars, sortedWordsByLength"
      ],
      "execution_count": 77,
      "outputs": [
        {
          "output_type": "execute_result",
          "data": {
            "text/plain": [
              "(5534,\n",
              " 305678,\n",
              " ['procuremos.Levántate,',\n",
              "  'estrechísimamente,',\n",
              "  'Pintiquiniestra,',\n",
              "  'entretenimiento,',\n",
              "  'maravillosamente',\n",
              "  'descansadamente;',\n",
              "  'desenfadadamente',\n",
              "  'quebrantamientos',\n",
              "  'quebrantamiento,',\n",
              "  'alternativamente',\n",
              "  'encantamientos,',\n",
              "  'Placerdemivida,',\n",
              "  'encantamientos;',\n",
              "  'malbaratándolas',\n",
              "  'regocijadamente',\n",
              "  'consentimiento,',\n",
              "  'desaconsejaban,',\n",
              "  'acontecimiento.',\n",
              "  'agradeciéndoles',\n",
              "  'encantamientos,'])"
            ]
          },
          "metadata": {},
          "execution_count": 77
        }
      ]
    },
    {
      "cell_type": "code",
      "metadata": {
        "id": "A33tgNqLePMn",
        "colab": {
          "base_uri": "https://localhost:8080/"
        },
        "outputId": "53894127-7455-42fa-bb44-1b8f20c84749"
      },
      "source": [
        "numLines = quijote.count()\n",
        "numChars = charsPerLine.map(lambda a,b: a+b) # also charsPerLine.sum()\n",
        "sortedWordsByLength = allWordsNoArticles.takeOrdered(20, key=lambda x: -len(x))\n",
        "numLines, numChars, sortedWordsByLength"
      ],
      "execution_count": 78,
      "outputs": [
        {
          "output_type": "execute_result",
          "data": {
            "text/plain": [
              "(5534,\n",
              " PythonRDD[172] at RDD at PythonRDD.scala:53,\n",
              " ['procuremos.Levántate,',\n",
              "  'estrechísimamente,',\n",
              "  'Pintiquiniestra,',\n",
              "  'entretenimiento,',\n",
              "  'maravillosamente',\n",
              "  'descansadamente;',\n",
              "  'desenfadadamente',\n",
              "  'quebrantamientos',\n",
              "  'quebrantamiento,',\n",
              "  'alternativamente',\n",
              "  'encantamientos,',\n",
              "  'Placerdemivida,',\n",
              "  'encantamientos;',\n",
              "  'malbaratándolas',\n",
              "  'regocijadamente',\n",
              "  'consentimiento,',\n",
              "  'desaconsejaban,',\n",
              "  'acontecimiento.',\n",
              "  'agradeciéndoles',\n",
              "  'encantamientos,'])"
            ]
          },
          "metadata": {},
          "execution_count": 78
        }
      ]
    },
    {
      "cell_type": "markdown",
      "metadata": {
        "id": "hIpuogySgB4N"
      },
      "source": [
        "## Pregunta TS2.2 Explica el funcionamiento de cada acción anterior \n",
        "\n",
        "Implementa la opción count de otra manera:\n",
        "\n",
        "\n",
        "*   utilizando transformaciones map y reduce\n",
        "*   utilizando solo reduce en caso de que sea posible.\n",
        "\n"
      ]
    },
    {
      "cell_type": "markdown",
      "metadata": {
        "id": "PkXwuhGuhrQD"
      },
      "source": [
        "# Operaciones K-V (Clave Valor)"
      ]
    },
    {
      "cell_type": "code",
      "metadata": {
        "id": "5JAWu58dhpWk"
      },
      "source": [
        "import requests\n",
        "import re\n",
        "allWords = allWords.flatMap(lambda w: re.sub(\"\"\";|:|\\.|,|-|–|\"|'|\\s\"\"\",\" \", w.lower()).split(\" \")).filter(lambda a: len(a)>0)\n",
        "allWords2 = sc.parallelize(requests.get(\"https://gist.githubusercontent.com/jsdario/9d871ed773c81bf217f57d1db2d2503f/raw/585de69b0631c805dabc6280506717943b82ba4a/el_quijote_ii.txt\").iter_lines())\n",
        "allWords2 = allWords2.flatMap(lambda w: re.sub(\"\"\";|:|\\.|,|-|–|\"|'|\\s\"\"\",\" \", w.decode(\"utf8\").lower()).split(\" \")).filter(lambda a: len(a)>0)"
      ],
      "execution_count": 79,
      "outputs": []
    },
    {
      "cell_type": "code",
      "metadata": {
        "id": "NCsub2OPjCyD",
        "colab": {
          "base_uri": "https://localhost:8080/"
        },
        "outputId": "d5e3a122-424a-4fcb-a8fd-3c5a8b6ca3c0"
      },
      "source": [
        "allWords.take(10)"
      ],
      "execution_count": 81,
      "outputs": [
        {
          "output_type": "execute_result",
          "data": {
            "text/plain": [
              "['el',\n",
              " 'ingenioso',\n",
              " 'hidalgo',\n",
              " 'don',\n",
              " 'quijote',\n",
              " 'de',\n",
              " 'la',\n",
              " 'mancha',\n",
              " 'miguel',\n",
              " 'de']"
            ]
          },
          "metadata": {},
          "execution_count": 81
        }
      ]
    },
    {
      "cell_type": "code",
      "metadata": {
        "id": "1W2pNxR1jKib",
        "colab": {
          "base_uri": "https://localhost:8080/"
        },
        "outputId": "da9cd282-5339-4ccf-b57d-b0424cb527ba"
      },
      "source": [
        "allWords2.take(10)"
      ],
      "execution_count": 82,
      "outputs": [
        {
          "output_type": "execute_result",
          "data": {
            "text/plain": [
              "['don',\n",
              " 'quijote',\n",
              " 'de',\n",
              " 'la',\n",
              " 'mancha',\n",
              " 'miguel',\n",
              " 'de',\n",
              " 'cervantes',\n",
              " 'saavedra',\n",
              " 'segunda']"
            ]
          },
          "metadata": {},
          "execution_count": 82
        }
      ]
    },
    {
      "cell_type": "code",
      "metadata": {
        "id": "L61OV1NHkBLZ",
        "colab": {
          "base_uri": "https://localhost:8080/"
        },
        "outputId": "ce8c2e4d-3c10-4c47-c576-d2428698304e"
      },
      "source": [
        "words = allWords.map(lambda e: (e,1))\n",
        "words2 = allWords2.map(lambda e: (e,1))\n",
        "\n",
        "words.take(10)"
      ],
      "execution_count": 84,
      "outputs": [
        {
          "output_type": "execute_result",
          "data": {
            "text/plain": [
              "[('el', 1),\n",
              " ('ingenioso', 1),\n",
              " ('hidalgo', 1),\n",
              " ('don', 1),\n",
              " ('quijote', 1),\n",
              " ('de', 1),\n",
              " ('la', 1),\n",
              " ('mancha', 1),\n",
              " ('miguel', 1),\n",
              " ('de', 1)]"
            ]
          },
          "metadata": {},
          "execution_count": 84
        }
      ]
    },
    {
      "cell_type": "code",
      "metadata": {
        "id": "wqtEo2j9kPuk",
        "colab": {
          "base_uri": "https://localhost:8080/"
        },
        "outputId": "fe93f129-b991-4ef4-ae9f-040ed26247ec"
      },
      "source": [
        "frequencies = words.reduceByKey(lambda a,b: a+b)\n",
        "frequencies2 = words2.reduceByKey(lambda a,b: a+b)\n",
        "frequencies.takeOrdered(10, key=lambda a: -a[1])"
      ],
      "execution_count": 85,
      "outputs": [
        {
          "output_type": "execute_result",
          "data": {
            "text/plain": [
              "[('que', 3032),\n",
              " ('de', 2809),\n",
              " ('y', 2573),\n",
              " ('a', 1426),\n",
              " ('la', 1423),\n",
              " ('el', 1232),\n",
              " ('en', 1155),\n",
              " ('no', 903),\n",
              " ('se', 753),\n",
              " ('los', 696)]"
            ]
          },
          "metadata": {},
          "execution_count": 85
        }
      ]
    },
    {
      "cell_type": "code",
      "metadata": {
        "id": "CtlQosYPk3M7",
        "colab": {
          "base_uri": "https://localhost:8080/"
        },
        "outputId": "7757880e-0013-47fa-ce13-5c4184e83baa"
      },
      "source": [
        "res = words.groupByKey().takeOrdered(10, key=lambda a: -len(a))\n",
        "res # To see the content, res[i][1].data"
      ],
      "execution_count": 86,
      "outputs": [
        {
          "output_type": "execute_result",
          "data": {
            "text/plain": [
              "[('el', <pyspark.resultiterable.ResultIterable at 0x7f694120a650>),\n",
              " ('hidalgo', <pyspark.resultiterable.ResultIterable at 0x7f694120a310>),\n",
              " ('don', <pyspark.resultiterable.ResultIterable at 0x7f694120ad90>),\n",
              " ('mancha', <pyspark.resultiterable.ResultIterable at 0x7f6941143150>),\n",
              " ('saavedra', <pyspark.resultiterable.ResultIterable at 0x7f6941143e50>),\n",
              " ('que', <pyspark.resultiterable.ResultIterable at 0x7f6941143b90>),\n",
              " ('condición', <pyspark.resultiterable.ResultIterable at 0x7f69411433d0>),\n",
              " ('y', <pyspark.resultiterable.ResultIterable at 0x7f6941143c90>),\n",
              " ('del', <pyspark.resultiterable.ResultIterable at 0x7f6941143250>),\n",
              " ('d', <pyspark.resultiterable.ResultIterable at 0x7f6941143fd0>)]"
            ]
          },
          "metadata": {},
          "execution_count": 86
        }
      ]
    },
    {
      "cell_type": "code",
      "metadata": {
        "id": "7nmgk3ZmlFlW",
        "colab": {
          "base_uri": "https://localhost:8080/"
        },
        "outputId": "4f29cacf-7ae9-446b-8dbc-cc83346bf4a5"
      },
      "source": [
        "joinFreq = frequencies.join(frequencies2)\n",
        "joinFreq.take(10)"
      ],
      "execution_count": 87,
      "outputs": [
        {
          "output_type": "execute_result",
          "data": {
            "text/plain": [
              "[('el', (1232, 4394)),\n",
              " ('hidalgo', (14, 42)),\n",
              " ('don', (370, 1606)),\n",
              " ('mancha', (26, 101)),\n",
              " ('saavedra', (1, 1)),\n",
              " ('que', (3032, 10040)),\n",
              " ('y', (2573, 9650)),\n",
              " ('del', (415, 1344)),\n",
              " ('en', (1155, 4223)),\n",
              " ('cuyo', (11, 35))]"
            ]
          },
          "metadata": {},
          "execution_count": 87
        }
      ]
    },
    {
      "cell_type": "code",
      "metadata": {
        "id": "UOY-R88Fl1vq",
        "colab": {
          "base_uri": "https://localhost:8080/"
        },
        "outputId": "63d00f6b-632d-4398-b022-1caf79274fbc"
      },
      "source": [
        "joinFreq.map(lambda e: (e[0], (e[1][0] - e[1][1])/(e[1][0] + e[1][1]))).takeOrdered(10, lambda v: -v[1]), joinFreq.map(lambda e: (e[0], (e[1][0] - e[1][1])/(e[1][0] + e[1][1]))).takeOrdered(10, lambda v: +v[1])"
      ],
      "execution_count": 88,
      "outputs": [
        {
          "output_type": "execute_result",
          "data": {
            "text/plain": [
              "([('pieza', 0.8),\n",
              "  ('corral', 0.8),\n",
              "  ('rodela', 0.7777777777777778),\n",
              "  ('curar', 0.75),\n",
              "  ('valle', 0.75),\n",
              "  ('entierro', 0.75),\n",
              "  ('oh', 0.7142857142857143),\n",
              "  ('licor', 0.7142857142857143),\n",
              "  ('difunto', 0.7142857142857143),\n",
              "  ('pago', 0.6666666666666666)],\n",
              " [('teresa', -0.9767441860465116),\n",
              "  ('roque', -0.96),\n",
              "  ('paje', -0.9565217391304348),\n",
              "  ('duque', -0.9565217391304348),\n",
              "  ('blanca', -0.9565217391304348),\n",
              "  ('gobernador', -0.9503105590062112),\n",
              "  ('diego', -0.9459459459459459),\n",
              "  ('tarde', -0.9428571428571428),\n",
              "  ('mesmo', -0.9381443298969072),\n",
              "  ('letras', -0.9354838709677419)])"
            ]
          },
          "metadata": {},
          "execution_count": 88
        }
      ]
    },
    {
      "cell_type": "markdown",
      "metadata": {
        "id": "Xzt9cj-RmLta"
      },
      "source": [
        "## Pregunta TS2.3 Explica el proposito de cada una de las operaciones anteriores"
      ]
    },
    {
      "cell_type": "markdown",
      "metadata": {
        "id": "I9Hx1bZ2mc-V"
      },
      "source": [
        "## Pregunta TS2.4 ¿Cómo puede implementarse la frecuencia con groupByKey y transformaciones?"
      ]
    },
    {
      "cell_type": "code",
      "metadata": {
        "id": "HiuL6clvl-JS"
      },
      "source": [
        "## pendiente"
      ],
      "execution_count": null,
      "outputs": []
    },
    {
      "cell_type": "markdown",
      "metadata": {
        "id": "BiZwz7sOnBvF"
      },
      "source": [
        "# Optimizaciones\n"
      ]
    },
    {
      "cell_type": "markdown",
      "metadata": {
        "id": "avupEVWQnIL5"
      },
      "source": [
        "## Pregunta TS2.5 ¿Cuál de las dos siguientes celdas es más eficiente? Justifique la respuesta."
      ]
    },
    {
      "cell_type": "code",
      "metadata": {
        "id": "I0_XRWcOndr6",
        "colab": {
          "base_uri": "https://localhost:8080/"
        },
        "outputId": "6cc2ff39-bfcf-4589-9e91-dc65e3e4c983"
      },
      "source": [
        "joinFreq.map(lambda e: (e[0], (e[1][0] - e[1][1])/(e[1][0] + e[1][1]))).takeOrdered(10, lambda v: -v[1]), joinFreq.map(lambda e: (e[0], (e[1][0] - e[1][1])/(e[1][0] + e[1][1]))).takeOrdered(10, lambda v: +v[1])"
      ],
      "execution_count": 89,
      "outputs": [
        {
          "output_type": "execute_result",
          "data": {
            "text/plain": [
              "([('pieza', 0.8),\n",
              "  ('corral', 0.8),\n",
              "  ('rodela', 0.7777777777777778),\n",
              "  ('curar', 0.75),\n",
              "  ('valle', 0.75),\n",
              "  ('entierro', 0.75),\n",
              "  ('oh', 0.7142857142857143),\n",
              "  ('licor', 0.7142857142857143),\n",
              "  ('difunto', 0.7142857142857143),\n",
              "  ('pago', 0.6666666666666666)],\n",
              " [('teresa', -0.9767441860465116),\n",
              "  ('roque', -0.96),\n",
              "  ('paje', -0.9565217391304348),\n",
              "  ('duque', -0.9565217391304348),\n",
              "  ('blanca', -0.9565217391304348),\n",
              "  ('gobernador', -0.9503105590062112),\n",
              "  ('diego', -0.9459459459459459),\n",
              "  ('tarde', -0.9428571428571428),\n",
              "  ('mesmo', -0.9381443298969072),\n",
              "  ('letras', -0.9354838709677419)])"
            ]
          },
          "metadata": {},
          "execution_count": 89
        }
      ]
    },
    {
      "cell_type": "code",
      "metadata": {
        "id": "XKw7IizNnaKA",
        "colab": {
          "base_uri": "https://localhost:8080/"
        },
        "outputId": "61d20081-1b9b-4fe6-e6d7-f6b0e297464c"
      },
      "source": [
        "result = joinFreq.map(lambda e: (e[0], (e[1][0] - e[1][1])/(e[1][0] + e[1][1])))\n",
        "result.cache()\n",
        "result.takeOrdered(10, lambda v: -v[1]), result.takeOrdered(10, lambda v: +v[1])"
      ],
      "execution_count": 90,
      "outputs": [
        {
          "output_type": "execute_result",
          "data": {
            "text/plain": [
              "([('pieza', 0.8),\n",
              "  ('corral', 0.8),\n",
              "  ('rodela', 0.7777777777777778),\n",
              "  ('curar', 0.75),\n",
              "  ('valle', 0.75),\n",
              "  ('entierro', 0.75),\n",
              "  ('oh', 0.7142857142857143),\n",
              "  ('licor', 0.7142857142857143),\n",
              "  ('difunto', 0.7142857142857143),\n",
              "  ('pago', 0.6666666666666666)],\n",
              " [('teresa', -0.9767441860465116),\n",
              "  ('roque', -0.96),\n",
              "  ('paje', -0.9565217391304348),\n",
              "  ('duque', -0.9565217391304348),\n",
              "  ('blanca', -0.9565217391304348),\n",
              "  ('gobernador', -0.9503105590062112),\n",
              "  ('diego', -0.9459459459459459),\n",
              "  ('tarde', -0.9428571428571428),\n",
              "  ('mesmo', -0.9381443298969072),\n",
              "  ('letras', -0.9354838709677419)])"
            ]
          },
          "metadata": {},
          "execution_count": 90
        }
      ]
    },
    {
      "cell_type": "code",
      "metadata": {
        "colab": {
          "base_uri": "https://localhost:8080/"
        },
        "id": "Nq0ME9-NqJ2w",
        "outputId": "74054cd2-0884-4fec-a37f-a9f30095d200"
      },
      "source": [
        "result.coalesce(numPartitions=2) # Avoids the data movement, so it tries to balance inside each machine\n",
        "result.repartition(numPartitions=2) # We don't care about data movement, this balance the whole thing to ensure all machines are used"
      ],
      "execution_count": 91,
      "outputs": [
        {
          "output_type": "execute_result",
          "data": {
            "text/plain": [
              "MapPartitionsRDD[209] at coalesce at NativeMethodAccessorImpl.java:0"
            ]
          },
          "metadata": {},
          "execution_count": 91
        }
      ]
    },
    {
      "cell_type": "code",
      "metadata": {
        "id": "79DLzM3WqaEF",
        "colab": {
          "base_uri": "https://localhost:8080/"
        },
        "outputId": "5ba976c5-1fd7-4683-901a-6e2c1ce04343"
      },
      "source": [
        "result.take(10)\n",
        "allWords.cache() # allWords RDD must  stay in memory after computation, we made a checkpoint (well, it's a best effort, so must might be too strong)\n",
        "result.take(10)"
      ],
      "execution_count": 92,
      "outputs": [
        {
          "output_type": "execute_result",
          "data": {
            "text/plain": [
              "[('el', -0.5620334162815499),\n",
              " ('hidalgo', -0.5),\n",
              " ('don', -0.6255060728744939),\n",
              " ('mancha', -0.5905511811023622),\n",
              " ('saavedra', 0.0),\n",
              " ('que', -0.5361077111383109),\n",
              " ('y', -0.5789904278818621),\n",
              " ('del', -0.5281409891984082),\n",
              " ('en', -0.5704722945332837),\n",
              " ('cuyo', -0.5217391304347826)]"
            ]
          },
          "metadata": {},
          "execution_count": 92
        }
      ]
    },
    {
      "cell_type": "code",
      "metadata": {
        "id": "NmdxjbAAqjIC",
        "colab": {
          "base_uri": "https://localhost:8080/"
        },
        "outputId": "bb844abe-2d18-4de2-80f8-700694e0d091"
      },
      "source": [
        "from pyspark import StorageLevel\n",
        "# https://spark.apache.org/docs/2.2.0/rdd-programming-guide.html#rdd-persistence\n",
        "allWords2.persist(StorageLevel.MEMORY_AND_DISK) # Now it will be preserved on disk also"
      ],
      "execution_count": 93,
      "outputs": [
        {
          "output_type": "execute_result",
          "data": {
            "text/plain": [
              "PythonRDD[213] at RDD at PythonRDD.scala:53"
            ]
          },
          "metadata": {},
          "execution_count": 93
        }
      ]
    },
    {
      "cell_type": "code",
      "metadata": {
        "id": "lPbqq1tYqo5H"
      },
      "source": [
        "!rm -rf palabras_parte2\n",
        "allWords2.saveAsTextFile(\"palabras_parte2\")"
      ],
      "execution_count": 94,
      "outputs": []
    },
    {
      "cell_type": "markdown",
      "metadata": {
        "id": "nW3ELXvSqtdn"
      },
      "source": [
        "## Pregunta TS2.6 Antes de guardar el fichero, utilice coalesce con diferente valores ¿Cuál es la diferencia?"
      ]
    },
    {
      "cell_type": "markdown",
      "metadata": {
        "id": "Rrlv7SpGrOvA"
      },
      "source": [
        "Variables Globales"
      ]
    },
    {
      "cell_type": "code",
      "metadata": {
        "id": "QhsyqMMXrVZ9",
        "colab": {
          "base_uri": "https://localhost:8080/"
        },
        "outputId": "bd62f195-1762-47ae-a31b-f3a9929508ee"
      },
      "source": [
        "articles = sc.broadcast([\"el\", \"la\"])\n",
        "articles.value"
      ],
      "execution_count": 95,
      "outputs": [
        {
          "output_type": "execute_result",
          "data": {
            "text/plain": [
              "['el', 'la']"
            ]
          },
          "metadata": {},
          "execution_count": 95
        }
      ]
    },
    {
      "cell_type": "code",
      "metadata": {
        "id": "Z51vqUrasDqz",
        "colab": {
          "base_uri": "https://localhost:8080/"
        },
        "outputId": "24bed34b-cd65-4c87-a2bf-72a8d2990c4e"
      },
      "source": [
        "acc = sc.accumulator(0)\n",
        "def incrementar(x):\n",
        "  global acc\n",
        "  acc += x\n",
        "\n",
        "allWords.map(lambda l:1).foreach(incrementar)\n",
        "acc"
      ],
      "execution_count": 96,
      "outputs": [
        {
          "output_type": "execute_result",
          "data": {
            "text/plain": [
              "Accumulator<id=0, value=56521>"
            ]
          },
          "metadata": {},
          "execution_count": 96
        }
      ]
    },
    {
      "cell_type": "code",
      "metadata": {
        "id": "N2CkixrL7Ams",
        "colab": {
          "base_uri": "https://localhost:8080/"
        },
        "outputId": "59f98b9d-853f-4808-8e28-46dfdca74f86"
      },
      "source": [
        "print (rdd.getStorageLevel())\n",
        "rdd = sc.textFile('quijote.txt')\n",
        "%time print (rdd.count())\n",
        "%time print (rdd.count())\n",
        "rdd.cache()\n",
        "%time print (rdd.count())\n",
        "%time print (rdd.count())\n"
      ],
      "execution_count": 97,
      "outputs": [
        {
          "output_type": "stream",
          "name": "stdout",
          "text": [
            "Serialized 1x Replicated\n",
            "5534\n",
            "CPU times: user 9.81 ms, sys: 25 µs, total: 9.84 ms\n",
            "Wall time: 83.8 ms\n",
            "5534\n",
            "CPU times: user 10.3 ms, sys: 1.15 ms, total: 11.4 ms\n",
            "Wall time: 91.5 ms\n",
            "5534\n",
            "CPU times: user 12 ms, sys: 1.25 ms, total: 13.3 ms\n",
            "Wall time: 202 ms\n",
            "5534\n",
            "CPU times: user 9.04 ms, sys: 1.12 ms, total: 10.2 ms\n",
            "Wall time: 95.9 ms\n"
          ]
        }
      ]
    },
    {
      "cell_type": "code",
      "metadata": {
        "id": "bYVHFmzs7Ow3",
        "colab": {
          "base_uri": "https://localhost:8080/"
        },
        "outputId": "9e321676-4f48-4e6d-9171-9c0de817cda9"
      },
      "source": [
        "pals_a_eliminar = ['a', 'ante', 'bajo', 'segun', 'que', 'de']\n",
        "\n",
        "def elimPalabras(p):\n",
        "    global pals_a_eliminar\n",
        "    return p not in pals_a_eliminar\n",
        "\n",
        "lineas = sc.textFile('quijote.txt', 8)\n",
        "pals = (lineas.flatMap(lambda linea: linea.lower().split())\n",
        "              .filter(elimPalabras)\n",
        "              .map(lambda pal: (pal, 1))\n",
        "              .reduceByKey(lambda elem1,elem2: elem1 + elem2))\n",
        "\n",
        "print (pals.takeOrdered(15, key=lambda a:-a[1]))"
      ],
      "execution_count": 98,
      "outputs": [
        {
          "output_type": "stream",
          "name": "stdout",
          "text": [
            "[('y', 2571), ('la', 1423), ('el', 1224), ('en', 1155), ('no', 880), ('se', 753), ('los', 696), ('con', 621), ('su', 617), ('por', 573), ('le', 534), ('las', 514), ('lo', 508), ('del', 415), ('don', 368)]\n"
          ]
        }
      ]
    },
    {
      "cell_type": "code",
      "metadata": {
        "id": "SBPm64s-7wsO",
        "colab": {
          "base_uri": "https://localhost:8080/"
        },
        "outputId": "174e76e1-b747-4b5e-b102-238b77f9e1c9"
      },
      "source": [
        "counter = sc.accumulator(0)\n",
        "\n",
        "rdd = sc.textFile('quijote.txt')\n",
        "\n",
        "def increment_counter(x):\n",
        "    global counter\n",
        "    counter += x\n",
        "    \n",
        "rdd.map(lambda l:len(l)).foreach(increment_counter)\n",
        "\n",
        "print (\"Counter value: %d\" % counter.value)"
      ],
      "execution_count": 99,
      "outputs": [
        {
          "output_type": "stream",
          "name": "stdout",
          "text": [
            "Counter value: 305678\n"
          ]
        }
      ]
    }
  ]
}