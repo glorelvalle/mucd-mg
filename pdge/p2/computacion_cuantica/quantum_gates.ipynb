{
 "cells": [
  {
   "cell_type": "code",
   "execution_count": 7,
   "id": "83a11139-dfa2-4532-8fd9-6439d8dd0b79",
   "metadata": {},
   "outputs": [
    {
     "name": "stderr",
     "output_type": "stream",
     "text": [
      "ibmqfactory.load_account:WARNING:2021-11-02 13:02:54,227: Credentials are already in use. The existing account in the session will be replaced.\n"
     ]
    }
   ],
   "source": [
    "from qiskit import QuantumCircuit, Aer, IBMQ, execute\n",
    "from qiskit.visualization import plot_histogram, plot_bloch_multivector\n",
    "from qiskit_textbook.tools import array_to_latex\n",
    "\n",
    "import numpy as np\n",
    "%matplotlib inline\n",
    "\n",
    "# Load IBM account\n",
    "provider = IBMQ.load_account()"
   ]
  },
  {
   "cell_type": "markdown",
   "id": "cf683711-bb54-47e2-b314-7e65d9a869a6",
   "metadata": {},
   "source": [
    "## Puertas cuánticas de 1 qubit\n",
    "\n",
    "Se ilustra el comportamiento teórico de las puertas de Pauli X, Y y Z, cuyas matrices se definen como\n",
    "\n",
    "$$X=\\begin{pmatrix} 0 & 1\\\\ 1 & 0 \\end{pmatrix}, \\quad Y=\\begin{pmatrix} 0 & -i\\\\ i & 0 \\end{pmatrix}, \\quad Z=\\begin{pmatrix} 1 & 0\\\\ 0 & -1 \\end{pmatrix}.$$"
   ]
  },
  {
   "cell_type": "markdown",
   "id": "a12840f2-90ea-4512-a8a2-b7b5b6bcc67d",
   "metadata": {},
   "source": [
    "Se crea un circuito de medida con 1 qubit y 1 bit para hacer corresponder los qubits a los bits clásicos 0 y 1. Se añade esta medida a los circuitos creados para cada puerta de Pauli inicializadas en el qubit 0."
   ]
  },
  {
   "cell_type": "code",
   "execution_count": null,
   "id": "2f3daeee-2898-4085-a69f-2492c5242f72",
   "metadata": {},
   "outputs": [],
   "source": [
    "# Let's do a measurement circuit with 1 qubit and 1 bit\n",
    "qc_m = QuantumCircuit(1, 1)\n",
    "qc_m.measure([0], [0])"
   ]
  },
  {
   "cell_type": "code",
   "execution_count": 2,
   "id": "b936cdb5-bac7-4d8d-a0ec-5990c2784ce4",
   "metadata": {},
   "outputs": [
    {
     "name": "stderr",
     "output_type": "stream",
     "text": [
      "/tmp/ipykernel_243/618180347.py:9: DeprecationWarning: The QuantumCircuit.__add__() method is being deprecated.Use the compose() method which is more flexible w.r.t circuit register compatibility.\n",
      "  qcX_m = qcX + qc_m\n",
      "/opt/conda/lib/python3.8/site-packages/qiskit/circuit/quantumcircuit.py:933: DeprecationWarning: The QuantumCircuit.combine() method is being deprecated. Use the compose() method which is more flexible w.r.t circuit register compatibility.\n",
      "  return self.combine(rhs)\n"
     ]
    },
    {
     "data": {
      "image/png": "[encoded data removed]",
      "text/plain": [
       "<Figure size 193.726x144.48 with 1 Axes>"
      ]
     },
     "execution_count": 2,
     "metadata": {},
     "output_type": "execute_result"
    }
   ],
   "source": [
    "# Let's do an X-gate on a |0> qubit\n",
    "qcX = QuantumCircuit(1)\n",
    "qcX.x(0)\n",
    "\n",
    "qcX_m = qcX + qc_m\n",
    "qcX_m.draw('mpl')"
   ]
  },
  {
   "cell_type": "code",
   "execution_count": 3,
   "id": "b8bf7267-13a1-4803-87fd-e2dea2042fd8",
   "metadata": {},
   "outputs": [
    {
     "data": {
      "image/png": "[encoded data removed]",
      "text/plain": [
       "<Figure size 193.726x144.48 with 1 Axes>"
      ]
     },
     "execution_count": 3,
     "metadata": {},
     "output_type": "execute_result"
    }
   ],
   "source": [
    "# Let's do an Y-gate on a |0> qubit\n",
    "qcY = QuantumCircuit(1)\n",
    "qcY.y(0)\n",
    "\n",
    "qcY_m = qcY + qc_m\n",
    "qcY_m.draw('mpl')"
   ]
  },
  {
   "cell_type": "code",
   "execution_count": 4,
   "id": "03b598c9-895d-497b-b67a-e17804b74b16",
   "metadata": {},
   "outputs": [
    {
     "data": {
      "image/png": "[encoded data removed]",
      "text/plain": [
       "<Figure size 193.726x144.48 with 1 Axes>"
      ]
     },
     "execution_count": 4,
     "metadata": {},
     "output_type": "execute_result"
    }
   ],
   "source": [
    "# Let's do an Z-gate on a |0> qubit\n",
    "qcZ = QuantumCircuit(1)\n",
    "qcZ.z(0)\n",
    "\n",
    "qcZ_m = qcZ + qc_m\n",
    "qcZ_m.draw('mpl')"
   ]
  },
  {
   "cell_type": "code",
   "execution_count": 13,
   "id": "19784626-037c-4cf1-a9c1-e252e3600674",
   "metadata": {},
   "outputs": [],
   "source": [
    "# Let's use Aer's qasm_simulator\n",
    "qasm_simulator = Aer.get_backend('qasm_simulator')\n",
    "\n",
    "# Execute the circuits X,Y and Z on the simulator\n",
    "job_X = execute(qcX_m, qasm_simulator, shots=1024)\n",
    "job_Y = execute(qcY_m, qasm_simulator, shots=1024)\n",
    "job_Z = execute(qcZ_m, qasm_simulator, shots=1024)\n",
    "\n",
    "# Grab the results from the job\n",
    "result_X = job_X.result()\n",
    "result_Y = job_Y.result()\n",
    "result_Z = job_Z.result()\n",
    "\n",
    "# Counts the results\n",
    "counts_X = result_X.get_counts(qcX_m)\n",
    "counts_Y = result_Y.get_counts(qcY_m)\n",
    "counts_Z = result_Z.get_counts(qcZ_m)"
   ]
  },
  {
   "cell_type": "markdown",
   "id": "421f29b9-ecab-4d25-9835-b8099aa449ac",
   "metadata": {},
   "source": [
    "Las salidas correspondientes para cada puerta de Pauli deben ser:\n",
    "\n",
    "$$X|0\\rangle=\\begin{pmatrix} 0 & 1\\\\ 1 & 0 \\end{pmatrix}\\begin{pmatrix} 1\\\\ 0\\end{pmatrix} = \\begin{pmatrix}0\\\\ 1\\end{pmatrix}=|1\\rangle.$$\n",
    "\n",
    "$$Y|0\\rangle=\\begin{pmatrix} 0 & -i\\\\ i & 0 \\end{pmatrix}\\begin{pmatrix} 1\\\\ 0\\end{pmatrix} = \\begin{pmatrix}0\\\\ i\\end{pmatrix}=i|1\\rangle.$$\n",
    "\n",
    "$$Z|0\\rangle=\\begin{pmatrix} 1 & 0\\\\ 0 & -1 \\end{pmatrix}\\begin{pmatrix} 1\\\\ 0\\end{pmatrix} = \\begin{pmatrix}1\\\\ 0\\end{pmatrix}=|1\\rangle.$$\n",
    "\n",
    "Es decir, se obtendrá el qubit $|1\\rangle$ en las puertas X, Y y Z con probabilidad $|1|^2=1$, $|i|^2=1$ y $|1|^2=1$ respectivamente. "
   ]
  },
  {
   "cell_type": "code",
   "execution_count": 9,
   "id": "ef14406c-21f2-4cf4-bc6b-c84d9e536c3e",
   "metadata": {},
   "outputs": [
    {
     "data": {
      "image/png": "[encoded data removed]",
      "text/plain": [
       "<Figure size 504x360 with 1 Axes>"
      ]
     },
     "execution_count": 9,
     "metadata": {},
     "output_type": "execute_result"
    }
   ],
   "source": [
    "plot_histogram(counts_X)"
   ]
  },
  {
   "cell_type": "code",
   "execution_count": 11,
   "id": "e4408233-1a23-4985-9e09-79083fe0cf87",
   "metadata": {},
   "outputs": [
    {
     "data": {
      "image/png": "[encoded data removed]",
      "text/plain": [
       "<Figure size 504x360 with 1 Axes>"
      ]
     },
     "execution_count": 11,
     "metadata": {},
     "output_type": "execute_result"
    }
   ],
   "source": [
    "plot_histogram(counts_Y)"
   ]
  },
  {
   "cell_type": "code",
   "execution_count": 12,
   "id": "8473f4ff-8a55-435b-a0ca-9cfd8ca1a0e2",
   "metadata": {},
   "outputs": [
    {
     "data": {
      "image/png": "[encoded data removed]",
      "text/plain": [
       "<Figure size 504x360 with 1 Axes>"
      ]
     },
     "execution_count": 12,
     "metadata": {},
     "output_type": "execute_result"
    }
   ],
   "source": [
    "plot_histogram(counts_Z)"
   ]
  },
  {
   "cell_type": "markdown",
   "id": "feb449d6-2059-437d-be42-155d39336a7d",
   "metadata": {},
   "source": [
    "## Puertas cuánticas de 2 qubits"
   ]
  },
  {
   "cell_type": "code",
   "execution_count": null,
   "id": "c9b47b4b-f337-410e-886d-e0486898d909",
   "metadata": {},
   "outputs": [],
   "source": []
  }
 ],
 "metadata": {
  "kernelspec": {
   "display_name": "Qiskit v0.31.0 (ipykernel)",
   "language": "python",
   "name": "python3"
  },
  "language_info": {
   "codemirror_mode": {
    "name": "ipython",
    "version": 3
   },
   "file_extension": ".py",
   "mimetype": "text/x-python",
   "name": "python",
   "nbconvert_exporter": "python",
   "pygments_lexer": "ipython3",
   "version": "3.8.10"
  },
  "widgets": {
   "application/vnd.jupyter.widget-state+json": {
    "state": {},
    "version_major": 2,
    "version_minor": 0
   }
  }
 },
 "nbformat": 4,
 "nbformat_minor": 5
}
