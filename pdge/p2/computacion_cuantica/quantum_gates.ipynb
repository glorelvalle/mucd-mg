{
 "cells": [
  {
   "cell_type": "code",
   "execution_count": 1,
   "id": "83a11139-dfa2-4532-8fd9-6439d8dd0b79",
   "metadata": {},
   "outputs": [],
   "source": [
    "from qiskit import QuantumCircuit, Aer, IBMQ, execute\n",
    "from qiskit.visualization import plot_histogram, plot_bloch_multivector\n",
    "from qiskit_textbook.tools import array_to_latex\n",
    "\n",
    "import numpy as np\n",
    "%matplotlib inline\n",
    "\n",
    "# Load IBM account\n",
    "provider = IBMQ.load_account()"
   ]
  },
  {
   "cell_type": "markdown",
   "id": "cf683711-bb54-47e2-b314-7e65d9a869a6",
   "metadata": {},
   "source": [
    "## Puertas cuánticas de 1 qubit\n",
    "\n",
    "Se ilustra el comportamiento teórico de las puertas de Pauli X (o puerta NOT), Y y Z, cuyas matrices se definen como\n",
    "\n",
    "$$X=\\begin{pmatrix} 0 & 1\\\\ 1 & 0 \\end{pmatrix}, \\quad Y=\\begin{pmatrix} 0 & -i\\\\ i & 0 \\end{pmatrix}, \\quad Z=\\begin{pmatrix} 1 & 0\\\\ 0 & -1 \\end{pmatrix}.$$"
   ]
  },
  {
   "cell_type": "markdown",
   "id": "a12840f2-90ea-4512-a8a2-b7b5b6bcc67d",
   "metadata": {},
   "source": [
    "Se crea un circuito de medida con 1 qubit y 1 bit para hacer corresponder los qubits a los bits clásicos 0 y 1. Se añade esta medida a los circuitos creados para cada puerta de Pauli inicializadas en el qubit 0."
   ]
  },
  {
   "cell_type": "code",
   "execution_count": 2,
   "id": "2f3daeee-2898-4085-a69f-2492c5242f72",
   "metadata": {},
   "outputs": [
    {
     "data": {
      "text/plain": [
       "<qiskit.circuit.instructionset.InstructionSet at 0x7f6cb4441f70>"
      ]
     },
     "execution_count": 2,
     "metadata": {},
     "output_type": "execute_result"
    }
   ],
   "source": [
    "# Let's do a measurement circuit with 1 qubit and 1 bit\n",
    "qc_m = QuantumCircuit(1, 1)\n",
    "qc_m.measure([0], [0])"
   ]
  },
  {
   "cell_type": "code",
   "execution_count": 3,
   "id": "b936cdb5-bac7-4d8d-a0ec-5990c2784ce4",
   "metadata": {},
   "outputs": [
    {
     "name": "stderr",
     "output_type": "stream",
     "text": [
      "/tmp/ipykernel_38/3712920614.py:5: DeprecationWarning: The QuantumCircuit.__iadd__() method is being deprecated. Use the compose() (potentially with the inplace=True argument) and tensor() methods which are more flexible w.r.t circuit register compatibility.\n",
      "  qcX += qc_m\n",
      "/opt/conda/lib/python3.8/site-packages/qiskit/circuit/quantumcircuit.py:942: DeprecationWarning: The QuantumCircuit.extend() method is being deprecated. Use the compose() (potentially with the inplace=True argument) and tensor() methods which are more flexible w.r.t circuit register compatibility.\n",
      "  return self.extend(rhs)\n"
     ]
    },
    {
     "data": {
      "image/png": "[encoded data removed]",
      "text/plain": [
       "<Figure size 193.726x144.48 with 1 Axes>"
      ]
     },
     "execution_count": 3,
     "metadata": {},
     "output_type": "execute_result"
    }
   ],
   "source": [
    "# Let's do an X-gate on a |0> qubit\n",
    "qcX = QuantumCircuit(1)\n",
    "qcX.x(0)\n",
    "\n",
    "qcX += qc_m\n",
    "qcX.draw('mpl')"
   ]
  },
  {
   "cell_type": "code",
   "execution_count": 4,
   "id": "b8bf7267-13a1-4803-87fd-e2dea2042fd8",
   "metadata": {},
   "outputs": [
    {
     "data": {
      "image/png": "[encoded data removed]",
      "text/plain": [
       "<Figure size 193.726x144.48 with 1 Axes>"
      ]
     },
     "execution_count": 4,
     "metadata": {},
     "output_type": "execute_result"
    }
   ],
   "source": [
    "# Let's do an Y-gate on a |0> qubit\n",
    "qcY = QuantumCircuit(1)\n",
    "qcY.y(0)\n",
    "\n",
    "qcY += qc_m\n",
    "qcY.draw('mpl')"
   ]
  },
  {
   "cell_type": "code",
   "execution_count": 5,
   "id": "03b598c9-895d-497b-b67a-e17804b74b16",
   "metadata": {},
   "outputs": [
    {
     "data": {
      "image/png": "[encoded data removed]",
      "text/plain": [
       "<Figure size 193.726x144.48 with 1 Axes>"
      ]
     },
     "execution_count": 5,
     "metadata": {},
     "output_type": "execute_result"
    }
   ],
   "source": [
    "# Let's do an Z-gate on a |0> qubit\n",
    "qcZ = QuantumCircuit(1)\n",
    "qcZ.z(0)\n",
    "\n",
    "qcZ += qc_m\n",
    "qcZ.draw('mpl')"
   ]
  },
  {
   "cell_type": "code",
   "execution_count": 6,
   "id": "19784626-037c-4cf1-a9c1-e252e3600674",
   "metadata": {},
   "outputs": [],
   "source": [
    "# Let's use Aer's qasm_simulator\n",
    "qasm_simulator = Aer.get_backend('qasm_simulator')\n",
    "\n",
    "# Execute the circuits X,Y and Z on the simulator\n",
    "job_X = execute(qcX, qasm_simulator, shots=1024)\n",
    "job_Y = execute(qcY, qasm_simulator, shots=1024)\n",
    "job_Z = execute(qcZ, qasm_simulator, shots=1024)\n",
    "\n",
    "# Grab the results from the job\n",
    "result_X = job_X.result()\n",
    "result_Y = job_Y.result()\n",
    "result_Z = job_Z.result()\n",
    "\n",
    "# Counts the results\n",
    "counts_X = result_X.get_counts(qcX)\n",
    "counts_Y = result_Y.get_counts(qcY)\n",
    "counts_Z = result_Z.get_counts(qcZ)"
   ]
  },
  {
   "cell_type": "markdown",
   "id": "421f29b9-ecab-4d25-9835-b8099aa449ac",
   "metadata": {},
   "source": [
    "Las salidas correspondientes para cada puerta de Pauli deben ser:\n",
    "\n",
    "$$X|0\\rangle=\\begin{pmatrix} 0 & 1\\\\ 1 & 0 \\end{pmatrix}\\begin{pmatrix} 1\\\\ 0\\end{pmatrix} = \\begin{pmatrix}0\\\\ 1\\end{pmatrix}=|1\\rangle.$$\n",
    "\n",
    "$$Y|0\\rangle=\\begin{pmatrix} 0 & -i\\\\ i & 0 \\end{pmatrix}\\begin{pmatrix} 1\\\\ 0\\end{pmatrix} = \\begin{pmatrix}0\\\\ i\\end{pmatrix}=i|1\\rangle.$$\n",
    "\n",
    "$$Z|0\\rangle=\\begin{pmatrix} 1 & 0\\\\ 0 & -1 \\end{pmatrix}\\begin{pmatrix} 1\\\\ 0\\end{pmatrix} = \\begin{pmatrix}1\\\\ 0\\end{pmatrix}=|1\\rangle.$$\n",
    "\n",
    "Es decir, se obtendrá el qubit $|1\\rangle$ en las puertas X, Y y Z con probabilidad $|1|^2=1$, $|i|^2=1$ y $|1|^2=1$ respectivamente. "
   ]
  },
  {
   "cell_type": "code",
   "execution_count": 9,
   "id": "ef14406c-21f2-4cf4-bc6b-c84d9e536c3e",
   "metadata": {},
   "outputs": [
    {
     "data": {
      "image/png": "[encoded data removed]",
      "text/plain": [
       "<Figure size 504x360 with 1 Axes>"
      ]
     },
     "execution_count": 9,
     "metadata": {},
     "output_type": "execute_result"
    }
   ],
   "source": [
    "plot_histogram(counts_X)"
   ]
  },
  {
   "cell_type": "code",
   "execution_count": 11,
   "id": "e4408233-1a23-4985-9e09-79083fe0cf87",
   "metadata": {},
   "outputs": [
    {
     "data": {
      "image/png": "[encoded data removed]",
      "text/plain": [
       "<Figure size 504x360 with 1 Axes>"
      ]
     },
     "execution_count": 11,
     "metadata": {},
     "output_type": "execute_result"
    }
   ],
   "source": [
    "plot_histogram(counts_Y)"
   ]
  },
  {
   "cell_type": "code",
   "execution_count": 12,
   "id": "8473f4ff-8a55-435b-a0ca-9cfd8ca1a0e2",
   "metadata": {},
   "outputs": [
    {
     "data": {
      "image/png": "[encoded data removed]",
      "text/plain": [
       "<Figure size 504x360 with 1 Axes>"
      ]
     },
     "execution_count": 12,
     "metadata": {},
     "output_type": "execute_result"
    }
   ],
   "source": [
    "plot_histogram(counts_Z)"
   ]
  },
  {
   "cell_type": "markdown",
   "id": "feb449d6-2059-437d-be42-155d39336a7d",
   "metadata": {},
   "source": [
    "## Puertas cuánticas de 2 qubits\n",
    "\n",
    "En este caso se prueba la puerta $C_X$ o CNOT, la cual opera sobre 2 qubits y aplica un NOT al qubit objetivo si el qubit de control toma el valor $|1\\rangle$. En esta puerta consideramos que el qubit de control es $q_0$. \n",
    "\n",
    "La matriz que representa la puerta $C_X$ es\n",
    "\n",
    "$$C_X=\\begin{pmatrix}1 & 0 & 0 & 0\\\\ 0 & 0 & 0 & 1\\\\ 0 & 0 & 1 & 0\\\\ 0 & 1 & 0 & 0\\end{pmatrix}.$$\n",
    "\n",
    "Se realizarán dos simulaciones, una con el qubit de control a $|0\\rangle$ y otra con el qubit de control a $|1\\rangle$, los resultados teóricos son los siguientes:\n",
    "\n",
    "$$C_X|00\\rangle=\\begin{pmatrix}1 & 0 & 0 & 0\\\\ 0 & 1 & 0 & 0\\\\ 0 & 0 & 0 & 1\\\\ 0 & 0 & 1 & 0\\end{pmatrix}\\begin{pmatrix}1\\\\0\\\\0\\\\0\\end{pmatrix}=\\begin{pmatrix}1\\\\0\\\\0\\\\0\\end{pmatrix}=|00\\rangle$$\n",
    "\n",
    "y\n",
    "\n",
    "$$C_X|10\\rangle=\\begin{pmatrix}1 & 0 & 0 & 0\\\\ 0 & 1 & 0 & 0\\\\ 0 & 0 & 0 & 1\\\\ 0 & 0 & 1 & 0\\end{pmatrix}\\begin{pmatrix}0\\\\0\\\\1\\\\0\\end{pmatrix}=\\begin{pmatrix}0\\\\0\\\\0\\\\1\\end{pmatrix}=|11\\rangle.$$\n"
   ]
  },
  {
   "cell_type": "code",
   "execution_count": 10,
   "id": "29c17b34-67ec-4e2f-860b-65045223573f",
   "metadata": {},
   "outputs": [
    {
     "data": {
      "text/plain": [
       "<qiskit.circuit.instructionset.InstructionSet at 0x7f6c401b7eb0>"
      ]
     },
     "execution_count": 10,
     "metadata": {},
     "output_type": "execute_result"
    }
   ],
   "source": [
    "qc_m = QuantumCircuit(2, 2)\n",
    "qc_m.measure([0,1], [0,1])"
   ]
  },
  {
   "cell_type": "code",
   "execution_count": 16,
   "id": "c9b47b4b-f337-410e-886d-e0486898d909",
   "metadata": {},
   "outputs": [
    {
     "data": {
      "image/png": "[encoded data removed]",
      "text/plain": [
       "<Figure size 267.052x204.68 with 1 Axes>"
      ]
     },
     "execution_count": 16,
     "metadata": {},
     "output_type": "execute_result"
    }
   ],
   "source": [
    "qcCX = QuantumCircuit(2)\n",
    "qcCX.cx(0, 1)\n",
    "qcCX += qc_m\n",
    "qcCX.draw('mpl')"
   ]
  },
  {
   "cell_type": "code",
   "execution_count": 17,
   "id": "363a4450-2ecc-4da4-b338-0aa801ac2fa6",
   "metadata": {},
   "outputs": [
    {
     "data": {
      "image/png": "[encoded data removed]",
      "text/plain": [
       "<Figure size 504x360 with 1 Axes>"
      ]
     },
     "execution_count": 17,
     "metadata": {},
     "output_type": "execute_result"
    }
   ],
   "source": [
    "job_CX = execute(qcCX, qasm_simulator, shots=1024)\n",
    "result_CX = job_CX.result()\n",
    "counts_CX = result_CX.get_counts(qcCX)\n",
    "plot_histogram(counts_CX)"
   ]
  },
  {
   "cell_type": "markdown",
   "id": "8f0f7105-44b2-4a49-9812-d51d19abf018",
   "metadata": {},
   "source": [
    "Finalmente, probamos el resultado de la puerta Hadamard del enunciado. "
   ]
  },
  {
   "cell_type": "code",
   "execution_count": null,
   "id": "4d2ab025-6dd6-4b20-986e-b56c383b63bd",
   "metadata": {},
   "outputs": [],
   "source": [
    "qcH = QuantumCircuit(2)\n",
    "qcH.h(0)\n",
    "qcH += qc_m\n",
    "qcH.draw('mpl')"
   ]
  },
  {
   "cell_type": "code",
   "execution_count": null,
   "id": "6b8f0aaa-c63d-4f30-847e-5318fd57c0a2",
   "metadata": {},
   "outputs": [],
   "source": [
    "job_H = execute(qcH, qasm_simulator, shots=1024)\n",
    "result_H = job_H.result()\n",
    "counts_H = result_H.get_counts(qcH)\n",
    "plot_histogram(counts_H)"
   ]
  },
  {
   "cell_type": "code",
   "execution_count": null,
   "id": "a1cdc03c-b3ea-4ee0-b502-73057448e27c",
   "metadata": {},
   "outputs": [],
   "source": []
  }
 ],
 "metadata": {
  "kernelspec": {
   "display_name": "Qiskit v0.31.0 (ipykernel)",
   "language": "python",
   "name": "python3"
  },
  "language_info": {
   "codemirror_mode": {
    "name": "ipython",
    "version": 3
   },
   "file_extension": ".py",
   "mimetype": "text/x-python",
   "name": "python",
   "nbconvert_exporter": "python",
   "pygments_lexer": "ipython3",
   "version": "3.8.10"
  },
  "widgets": {
   "application/vnd.jupyter.widget-state+json": {
    "state": {},
    "version_major": 2,
    "version_minor": 0
   }
  }
 },
 "nbformat": 4,
 "nbformat_minor": 5
}
