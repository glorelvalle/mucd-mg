{
  "nbformat": 4,
  "nbformat_minor": 0,
  "metadata": {
    "colab": {
      "name": "P2CUDA_barrosovalle_preguntas.ipynb",
      "provenance": [],
      "collapsed_sections": [],
      "toc_visible": true
    },
    "kernelspec": {
      "name": "python3",
      "display_name": "Python 3"
    },
    "accelerator": "GPU"
  },
  "cells": [
    {
      "cell_type": "markdown",
      "metadata": {
        "id": "4QJ7YgDshYaK"
      },
      "source": [
        "# Práctica 2: Programación GPU y Computación Cuántica\n",
        "\n",
        "## Parte de CUDA: Preguntas de suma de vectores\n",
        "\n",
        "María Barroso Honrubia\n",
        "\n",
        "Gloria del Valle Cano"
      ]
    },
    {
      "cell_type": "markdown",
      "metadata": {
        "id": "Mg0xg8sShDJN"
      },
      "source": [
        "## Parte 1: Tutorial suma de vectores\n",
        "A continuación se discuten diferentes versiones de un programa que suma los elementos de un vector en CUDA, partiendo de la lógica empleada en el Tutorial proporcionado de CUDA.\n"
      ]
    },
    {
      "cell_type": "markdown",
      "metadata": {
        "id": "J5l-UxqSDUWZ"
      },
      "source": [
        "# Entorno de Ejecución\n",
        "Compilador y GPU"
      ]
    },
    {
      "cell_type": "markdown",
      "metadata": {
        "id": "WE01tzqdC_Mv"
      },
      "source": [
        "Comprobamos la version del compilador cuda y que GPU tenemos disponible"
      ]
    },
    {
      "cell_type": "code",
      "metadata": {
        "id": "UoplIeXOhAkV",
        "colab": {
          "base_uri": "https://localhost:8080/"
        },
        "outputId": "efcacfc7-6eec-4a76-dd25-238775c2cc9b"
      },
      "source": [
        "!nvcc --version\n",
        "!nvidia-smi"
      ],
      "execution_count": 1,
      "outputs": [
        {
          "output_type": "stream",
          "name": "stdout",
          "text": [
            "nvcc: NVIDIA (R) Cuda compiler driver\n",
            "Copyright (c) 2005-2020 NVIDIA Corporation\n",
            "Built on Mon_Oct_12_20:09:46_PDT_2020\n",
            "Cuda compilation tools, release 11.1, V11.1.105\n",
            "Build cuda_11.1.TC455_06.29190527_0\n",
            "Sun Nov  7 13:36:16 2021       \n",
            "+-----------------------------------------------------------------------------+\n",
            "| NVIDIA-SMI 495.44       Driver Version: 460.32.03    CUDA Version: 11.2     |\n",
            "|-------------------------------+----------------------+----------------------+\n",
            "| GPU  Name        Persistence-M| Bus-Id        Disp.A | Volatile Uncorr. ECC |\n",
            "| Fan  Temp  Perf  Pwr:Usage/Cap|         Memory-Usage | GPU-Util  Compute M. |\n",
            "|                               |                      |               MIG M. |\n",
            "|===============================+======================+======================|\n",
            "|   0  Tesla K80           Off  | 00000000:00:04.0 Off |                    0 |\n",
            "| N/A   36C    P8    27W / 149W |      0MiB / 11441MiB |      0%      Default |\n",
            "|                               |                      |                  N/A |\n",
            "+-------------------------------+----------------------+----------------------+\n",
            "                                                                               \n",
            "+-----------------------------------------------------------------------------+\n",
            "| Processes:                                                                  |\n",
            "|  GPU   GI   CI        PID   Type   Process name                  GPU Memory |\n",
            "|        ID   ID                                                   Usage      |\n",
            "|=============================================================================|\n",
            "|  No running processes found                                                 |\n",
            "+-----------------------------------------------------------------------------+\n"
          ]
        }
      ]
    },
    {
      "cell_type": "code",
      "metadata": {
        "colab": {
          "base_uri": "https://localhost:8080/"
        },
        "id": "Z0KWI-TXIkqs",
        "outputId": "56f23247-220a-47ea-b208-3a97aec74e3c"
      },
      "source": [
        "!!nvidia-smi -q -i 0 | grep \"Product Name\""
      ],
      "execution_count": 2,
      "outputs": [
        {
          "output_type": "execute_result",
          "data": {
            "text/plain": [
              "['    Product Name                          : Tesla K80']"
            ]
          },
          "metadata": {},
          "execution_count": 2
        }
      ]
    },
    {
      "cell_type": "markdown",
      "metadata": {
        "id": "zTjP7cFyDv2J"
      },
      "source": [
        "Directorio de trabajo"
      ]
    },
    {
      "cell_type": "code",
      "metadata": {
        "id": "OJm31NuLD0-3",
        "colab": {
          "base_uri": "https://localhost:8080/"
        },
        "outputId": "0c0e9015-6a4e-472d-941d-8623893a4533"
      },
      "source": [
        "!pwd\n",
        "!ls -la ."
      ],
      "execution_count": 3,
      "outputs": [
        {
          "output_type": "stream",
          "name": "stdout",
          "text": [
            "/content\n",
            "total 20\n",
            "drwxr-xr-x 1 root root 4096 Nov  7 11:27 .\n",
            "drwxr-xr-x 1 root root 4096 Nov  7 11:26 ..\n",
            "drwxr-xr-x 4 root root 4096 Nov  1 13:34 .config\n",
            "drwxr-xr-x 1 root root 4096 Nov  1 13:35 sample_data\n",
            "drwxr-xr-x 2 root root 4096 Nov  7 13:17 workcuda\n"
          ]
        }
      ]
    },
    {
      "cell_type": "markdown",
      "metadata": {
        "id": "b0RvgOeVEp2V"
      },
      "source": [
        "Creamos un subditectorio para el trabajo con cuda"
      ]
    },
    {
      "cell_type": "code",
      "metadata": {
        "id": "pvFbkzJeEuSj",
        "colab": {
          "base_uri": "https://localhost:8080/"
        },
        "outputId": "4100c9a6-c45d-4bfb-bb33-a87ad0bdbe7a"
      },
      "source": [
        "!mkdir workcuda\n",
        "!ls -la "
      ],
      "execution_count": 4,
      "outputs": [
        {
          "output_type": "stream",
          "name": "stdout",
          "text": [
            "mkdir: cannot create directory ‘workcuda’: File exists\n",
            "total 20\n",
            "drwxr-xr-x 1 root root 4096 Nov  7 11:27 .\n",
            "drwxr-xr-x 1 root root 4096 Nov  7 11:26 ..\n",
            "drwxr-xr-x 4 root root 4096 Nov  1 13:34 .config\n",
            "drwxr-xr-x 1 root root 4096 Nov  1 13:35 sample_data\n",
            "drwxr-xr-x 2 root root 4096 Nov  7 13:17 workcuda\n"
          ]
        }
      ]
    },
    {
      "cell_type": "markdown",
      "metadata": {
        "id": "vreaPZpqF_NG"
      },
      "source": [
        "# Suma en la CPU\n",
        "Directorio de trabajo /content/workcuda\n"
      ]
    },
    {
      "cell_type": "markdown",
      "metadata": {
        "id": "tlI-_lVqGnKF"
      },
      "source": [
        "Cambiar al directorio de trabjo"
      ]
    },
    {
      "cell_type": "code",
      "metadata": {
        "id": "YjlaVIZ5Gyrb",
        "colab": {
          "base_uri": "https://localhost:8080/"
        },
        "outputId": "03b028ad-b93a-4cc7-82b9-84a481aab27e"
      },
      "source": [
        "%cd /content/workcuda/\n",
        "!ls -la\n",
        "!pwd"
      ],
      "execution_count": 5,
      "outputs": [
        {
          "output_type": "stream",
          "name": "stdout",
          "text": [
            "/content/workcuda\n",
            "total 4928\n",
            "drwxr-xr-x 2 root root   4096 Nov  7 13:17 .\n",
            "drwxr-xr-x 1 root root   4096 Nov  7 11:27 ..\n",
            "-rwxr-xr-x 1 root root 711464 Nov  7 11:27 suma0\n",
            "-rw-r--r-- 1 root root   1090 Nov  7 11:27 suma0.cu\n",
            "-rwxr-xr-x 1 root root 716024 Nov  7 11:28 suma1\n",
            "-rw-r--r-- 1 root root   1369 Nov  7 11:27 suma1.cu\n",
            "-rwxr-xr-x 1 root root 716024 Nov  7 11:28 suma1sinarch\n",
            "-rwxr-xr-x 1 root root 716024 Nov  7 11:28 suma2\n",
            "-rw-r--r-- 1 root root   1380 Nov  7 11:28 suma2.cu\n",
            "-rwxr-xr-x 1 root root 716024 Nov  7 11:32 suma3\n",
            "-rw-r--r-- 1 root root   1375 Nov  7 11:32 suma3.cu\n",
            "-rwxr-xr-x 1 root root 716024 Nov  7 13:17 suma5\n",
            "-rw-r--r-- 1 root root   1684 Nov  7 13:17 suma5.cu\n",
            "-rwxr-xr-x 1 root root 716352 Nov  7 11:57 suma_ex\n",
            "-rw-r--r-- 1 root root   1297 Nov  7 11:57 suma_ex.cu\n",
            "/content/workcuda\n"
          ]
        }
      ]
    },
    {
      "cell_type": "markdown",
      "metadata": {
        "id": "v1HWfoW6HFs1"
      },
      "source": [
        "Escribir en el directorio actual el fichero suma0.cu\n"
      ]
    },
    {
      "cell_type": "code",
      "metadata": {
        "id": "8A4rx7-4HPpu",
        "colab": {
          "base_uri": "https://localhost:8080/"
        },
        "outputId": "22da72c2-b958-45a0-c1ef-5091b7465c6e"
      },
      "source": [
        "%%writefile suma0.cu\n",
        "\n",
        "#include <iostream>\n",
        "#include <math.h>\n",
        "\n",
        "#include <time.h>\n",
        "#include <sys/time.h>\n",
        "\n",
        "void add(int n, float *x, float *y) {\n",
        "    \n",
        "    for (int i =0; i < n; i++ ){\n",
        "        y[i]=x[i]+y[i];\n",
        "    }\n",
        "}\n",
        "\n",
        "\n",
        "int main(void) {\n",
        "    \n",
        "    int N = 1 <<20;  // N = 2^20 = 1024*1024= 1.048.576\n",
        "    struct timeval tv;\n",
        "\t  unsigned long long start;\n",
        "\n",
        "    float *x = new float[N];\n",
        "    float *y = new float[N]; \n",
        "    \n",
        "    for (int i =0; i < N; i++ ){\n",
        "        x[i]= 1.0f;\n",
        "        y[i]= 2.0f;\n",
        "    }\n",
        "    gettimeofday(&tv, NULL); \n",
        "    start=tv.tv_sec*1000000+tv.tv_usec;\n",
        "   \n",
        "    add(N, x, y);\n",
        "  \n",
        "    gettimeofday(&tv, NULL); \n",
        "\t  printf(\"Tiempo del cálculo : %lf ms\\n\", (tv.tv_sec*1000000+tv.tv_usec - start)/1000.0);\n",
        "  \n",
        "   float maxError = 0.0f;\n",
        "   int contError = 0;\n",
        "   \n",
        "   for (int i=0; i <N; i++){\n",
        "       maxError=fmax(maxError,fabs(y[i]-3.0f));\n",
        "       if (y[i] != 3.0) contError++; \n",
        "   }\n",
        "   std::cout << \"suma de \" << N << \" Elementos\" << std::endl;\n",
        "   std::cout << \"Número de Errores: \" <<contError << std::endl;\n",
        "   std::cout << \"Max error: \" <<maxError << std::endl;\n",
        "\n",
        "   \n",
        "   delete [] x;\n",
        "   delete [] y;\n",
        "   return 0;\n",
        "}"
      ],
      "execution_count": 6,
      "outputs": [
        {
          "output_type": "stream",
          "name": "stdout",
          "text": [
            "Overwriting suma0.cu\n"
          ]
        }
      ]
    },
    {
      "cell_type": "markdown",
      "metadata": {
        "id": "HuPPmwavIOFA"
      },
      "source": [
        "Comprobamos el fichero que se ha escrito"
      ]
    },
    {
      "cell_type": "code",
      "metadata": {
        "id": "RwYeCGzQIXkx",
        "colab": {
          "base_uri": "https://localhost:8080/"
        },
        "outputId": "f2d450a0-a6f2-4ba2-ca2a-327508788784"
      },
      "source": [
        "!ls -la"
      ],
      "execution_count": 7,
      "outputs": [
        {
          "output_type": "stream",
          "name": "stdout",
          "text": [
            "total 4928\n",
            "drwxr-xr-x 2 root root   4096 Nov  7 13:17 .\n",
            "drwxr-xr-x 1 root root   4096 Nov  7 11:27 ..\n",
            "-rwxr-xr-x 1 root root 711464 Nov  7 11:27 suma0\n",
            "-rw-r--r-- 1 root root   1090 Nov  7 13:36 suma0.cu\n",
            "-rwxr-xr-x 1 root root 716024 Nov  7 11:28 suma1\n",
            "-rw-r--r-- 1 root root   1369 Nov  7 11:27 suma1.cu\n",
            "-rwxr-xr-x 1 root root 716024 Nov  7 11:28 suma1sinarch\n",
            "-rwxr-xr-x 1 root root 716024 Nov  7 11:28 suma2\n",
            "-rw-r--r-- 1 root root   1380 Nov  7 11:28 suma2.cu\n",
            "-rwxr-xr-x 1 root root 716024 Nov  7 11:32 suma3\n",
            "-rw-r--r-- 1 root root   1375 Nov  7 11:32 suma3.cu\n",
            "-rwxr-xr-x 1 root root 716024 Nov  7 13:17 suma5\n",
            "-rw-r--r-- 1 root root   1684 Nov  7 13:17 suma5.cu\n",
            "-rwxr-xr-x 1 root root 716352 Nov  7 11:57 suma_ex\n",
            "-rw-r--r-- 1 root root   1297 Nov  7 11:57 suma_ex.cu\n"
          ]
        }
      ]
    },
    {
      "cell_type": "markdown",
      "metadata": {
        "id": "2SyXSbmnIv0M"
      },
      "source": [
        "Compilamos el archivo suma0.cu"
      ]
    },
    {
      "cell_type": "code",
      "metadata": {
        "id": "7zYIG87OI3ml",
        "colab": {
          "base_uri": "https://localhost:8080/"
        },
        "outputId": "5237ec5a-2618-49c7-f22d-f276a74aa363"
      },
      "source": [
        "!/usr/local/cuda/bin/nvcc -arch=sm_35 -rdc=true suma0.cu -o suma0 -lcudadevrt"
      ],
      "execution_count": 8,
      "outputs": [
        {
          "output_type": "stream",
          "name": "stdout",
          "text": [
            "nvcc warning : The 'compute_35', 'compute_37', 'compute_50', 'sm_35', 'sm_37' and 'sm_50' architectures are deprecated, and may be removed in a future release (Use -Wno-deprecated-gpu-targets to suppress warning).\n"
          ]
        }
      ]
    },
    {
      "cell_type": "code",
      "metadata": {
        "id": "EdK140EvJEIG",
        "colab": {
          "base_uri": "https://localhost:8080/"
        },
        "outputId": "ade02414-53cb-46a6-de46-a0c432ecb1d7"
      },
      "source": [
        "!ls"
      ],
      "execution_count": 9,
      "outputs": [
        {
          "output_type": "stream",
          "name": "stdout",
          "text": [
            "suma0\t  suma1     suma1sinarch  suma2.cu  suma3.cu  suma5.cu\tsuma_ex.cu\n",
            "suma0.cu  suma1.cu  suma2\t  suma3     suma5     suma_ex\n"
          ]
        }
      ]
    },
    {
      "cell_type": "markdown",
      "metadata": {
        "id": "WS4zH1EFJMG1"
      },
      "source": [
        "Corremos el fichero ejecutable"
      ]
    },
    {
      "cell_type": "code",
      "metadata": {
        "id": "17UsypZDJWjH",
        "colab": {
          "base_uri": "https://localhost:8080/"
        },
        "outputId": "3fb798c6-0784-441c-adb7-c4d28db7be0e"
      },
      "source": [
        "!./suma0"
      ],
      "execution_count": 10,
      "outputs": [
        {
          "output_type": "stream",
          "name": "stdout",
          "text": [
            "Tiempo del cálculo : 4.125000 ms\n",
            "suma de 1048576 Elementos\n",
            "Número de Errores: 0\n",
            "Max error: 0\n"
          ]
        }
      ]
    },
    {
      "cell_type": "markdown",
      "metadata": {
        "id": "t3DoN3xp-a5n"
      },
      "source": [
        "En el código realizado para CPU se puede ver que se invierten unos 4 ms en sumar todos los elementos, sin errores."
      ]
    },
    {
      "cell_type": "markdown",
      "metadata": {
        "id": "emXuYnmEJi8c"
      },
      "source": [
        "# Suma en la GPU con un solo thread (serie)"
      ]
    },
    {
      "cell_type": "markdown",
      "metadata": {
        "id": "bsezodqfLF9j"
      },
      "source": [
        "Escribir en el directorio actual el fichero suma1.cu\n"
      ]
    },
    {
      "cell_type": "code",
      "metadata": {
        "id": "7f42S3DELF9l",
        "colab": {
          "base_uri": "https://localhost:8080/"
        },
        "outputId": "f020c3da-c7bc-4eee-800d-dbc3d6b1b164"
      },
      "source": [
        "%%writefile suma1.cu\n",
        "\n",
        "#include <iostream>\n",
        "#include <math.h>\n",
        "\n",
        "#include <time.h>\n",
        "#include <sys/time.h>\n",
        "\n",
        "__global__ void add(int n, float *x, float *y) {\n",
        "    \n",
        "    for (int i =0; i < n; i++ ){\n",
        "        y[i]=x[i]+y[i];\n",
        "    }\n",
        "}\n",
        "\n",
        "\n",
        "int main(void) {\n",
        "    \n",
        "    int N = 1 <<20;  // N = 2^20 = 1024*1024= 1.048.576\n",
        "    struct timeval tv;\n",
        "\t  unsigned long long start;\n",
        "    float *x; // = new float[N];\n",
        "    float *y; // = new float[N]; \n",
        "\n",
        "    cudaMallocManaged(&x, N*sizeof(float));\n",
        "    cudaMallocManaged(&y, N*sizeof(float));\n",
        "    \n",
        "    for (int i =0; i < N; i++ ){\n",
        "        x[i]= 1.0f;\n",
        "        y[i]= 2.0f;\n",
        "    }\n",
        "\n",
        "    gettimeofday(&tv, NULL); \n",
        "    start=tv.tv_sec*1000000+tv.tv_usec;\n",
        "   \n",
        "    add<<<1,1>>>(N, x, y);\n",
        "  \n",
        "    gettimeofday(&tv, NULL); \n",
        "\t  printf(\"Tiempo del cálculo : %lf ms\\n\", (tv.tv_sec*1000000+tv.tv_usec - start)/1000.0);\n",
        "  \n",
        "   cudaDeviceSynchronize();\n",
        "    gettimeofday(&tv, NULL); \n",
        "\t  printf(\"Tiempo con el synchronize  : %lf ms\\n\", (tv.tv_sec*1000000+tv.tv_usec - start)/1000.0);\n",
        "  \n",
        "   float maxError = 0.0f;\n",
        "   int contError = 0;\n",
        "   \n",
        "   for (int i=0; i <N; i++){\n",
        "       maxError=fmax(maxError,fabs(y[i]-3.0f));\n",
        "       if (y[i] != 3.0) contError++; \n",
        "   }\n",
        "   std::cout << \"suma de \" << N << \" Elementos\" << std::endl;\n",
        "   std::cout << \"Número de Errores: \" <<contError << std::endl;\n",
        "   std::cout << \"Max error: \" <<maxError << std::endl;\n",
        "\n",
        "   cudaFree (x);\n",
        "   cudaFree (y);\n",
        "   \n",
        "   return 0;\n",
        "}"
      ],
      "execution_count": 11,
      "outputs": [
        {
          "output_type": "stream",
          "name": "stdout",
          "text": [
            "Overwriting suma1.cu\n"
          ]
        }
      ]
    },
    {
      "cell_type": "markdown",
      "metadata": {
        "id": "s5_1F1X2M1tP"
      },
      "source": [
        "Compilamos el archivo suma1.cu"
      ]
    },
    {
      "cell_type": "code",
      "metadata": {
        "colab": {
          "base_uri": "https://localhost:8080/"
        },
        "id": "zQmb_dmeDfFy",
        "outputId": "0efb0d3a-557b-44ee-8c53-9b6321e035f8"
      },
      "source": [
        "!ls -la"
      ],
      "execution_count": 12,
      "outputs": [
        {
          "output_type": "stream",
          "name": "stdout",
          "text": [
            "total 4928\n",
            "drwxr-xr-x 2 root root   4096 Nov  7 13:36 .\n",
            "drwxr-xr-x 1 root root   4096 Nov  7 11:27 ..\n",
            "-rwxr-xr-x 1 root root 711464 Nov  7 13:36 suma0\n",
            "-rw-r--r-- 1 root root   1090 Nov  7 13:36 suma0.cu\n",
            "-rwxr-xr-x 1 root root 716024 Nov  7 11:28 suma1\n",
            "-rw-r--r-- 1 root root   1369 Nov  7 13:36 suma1.cu\n",
            "-rwxr-xr-x 1 root root 716024 Nov  7 11:28 suma1sinarch\n",
            "-rwxr-xr-x 1 root root 716024 Nov  7 11:28 suma2\n",
            "-rw-r--r-- 1 root root   1380 Nov  7 11:28 suma2.cu\n",
            "-rwxr-xr-x 1 root root 716024 Nov  7 11:32 suma3\n",
            "-rw-r--r-- 1 root root   1375 Nov  7 11:32 suma3.cu\n",
            "-rwxr-xr-x 1 root root 716024 Nov  7 13:17 suma5\n",
            "-rw-r--r-- 1 root root   1684 Nov  7 13:17 suma5.cu\n",
            "-rwxr-xr-x 1 root root 716352 Nov  7 11:57 suma_ex\n",
            "-rw-r--r-- 1 root root   1297 Nov  7 11:57 suma_ex.cu\n"
          ]
        }
      ]
    },
    {
      "cell_type": "code",
      "metadata": {
        "id": "GNag5MzZNCn0",
        "colab": {
          "base_uri": "https://localhost:8080/"
        },
        "outputId": "b9548739-4861-4d87-f607-c0ba393df538"
      },
      "source": [
        "!/usr/local/cuda/bin/nvcc -arch=sm_35 -rdc=true suma1.cu -o suma1 -lcudadevrt"
      ],
      "execution_count": 13,
      "outputs": [
        {
          "output_type": "stream",
          "name": "stdout",
          "text": [
            "nvcc warning : The 'compute_35', 'compute_37', 'compute_50', 'sm_35', 'sm_37' and 'sm_50' architectures are deprecated, and may be removed in a future release (Use -Wno-deprecated-gpu-targets to suppress warning).\n"
          ]
        }
      ]
    },
    {
      "cell_type": "code",
      "metadata": {
        "id": "6iUYakngaG-z"
      },
      "source": [
        "!/usr/local/cuda/bin/nvcc -rdc=true suma1.cu -o suma1sinarch -lcudadevrt"
      ],
      "execution_count": 14,
      "outputs": []
    },
    {
      "cell_type": "code",
      "metadata": {
        "id": "9rv2-cv_M2T1",
        "colab": {
          "base_uri": "https://localhost:8080/"
        },
        "outputId": "3b5c96da-9617-4d21-f632-1d7f44226ca6"
      },
      "source": [
        "!ls"
      ],
      "execution_count": 15,
      "outputs": [
        {
          "output_type": "stream",
          "name": "stdout",
          "text": [
            "suma0\t  suma1     suma1sinarch  suma2.cu  suma3.cu  suma5.cu\tsuma_ex.cu\n",
            "suma0.cu  suma1.cu  suma2\t  suma3     suma5     suma_ex\n"
          ]
        }
      ]
    },
    {
      "cell_type": "markdown",
      "metadata": {
        "id": "CkhdRO6NM2T5"
      },
      "source": [
        "Corremos el fichero ejecutable compilado sin flag -arch (Modelo de computación de la GPU)"
      ]
    },
    {
      "cell_type": "code",
      "metadata": {
        "id": "Kx04T2vAaRML",
        "colab": {
          "base_uri": "https://localhost:8080/"
        },
        "outputId": "6926a1cc-d433-45be-ce8d-c78f312ccdbc"
      },
      "source": [
        "!./suma1sinarch"
      ],
      "execution_count": 16,
      "outputs": [
        {
          "output_type": "stream",
          "name": "stdout",
          "text": [
            "Tiempo del cálculo : 0.016000 ms\n",
            "Tiempo con el synchronize  : 0.049000 ms\n",
            "suma de 1048576 Elementos\n",
            "Número de Errores: 1048576\n",
            "Max error: 1\n"
          ]
        }
      ]
    },
    {
      "cell_type": "markdown",
      "metadata": {
        "id": "6Knf_zZkEFgg"
      },
      "source": [
        "No está funcionando correctamente. "
      ]
    },
    {
      "cell_type": "markdown",
      "metadata": {
        "id": "Ld1bEfvJEULj"
      },
      "source": [
        "Ejecutamos el compilado con flag -arch (Modelo de computación de la GPU)"
      ]
    },
    {
      "cell_type": "code",
      "metadata": {
        "id": "cFPGdn_ZNIJL",
        "colab": {
          "base_uri": "https://localhost:8080/"
        },
        "outputId": "22cdbae4-71ff-44f3-cf73-b023e4895b85"
      },
      "source": [
        "!./suma1"
      ],
      "execution_count": 17,
      "outputs": [
        {
          "output_type": "stream",
          "name": "stdout",
          "text": [
            "Tiempo del cálculo : 1.482000 ms\n",
            "Tiempo con el synchronize  : 405.960000 ms\n",
            "suma de 1048576 Elementos\n",
            "Número de Errores: 0\n",
            "Max error: 0\n"
          ]
        }
      ]
    },
    {
      "cell_type": "markdown",
      "metadata": {
        "id": "gYqbgwF2Ey2E"
      },
      "source": [
        "# P1 ¿Qué característica del modelo de computación esta siendo necesaria? \n",
        "\n",
        "Para poder compilar correctamente CUDA es necesario especificar la arquitectura SM (NVIDIA GPU) y su versión.\n",
        "\n",
        "Nota: la arquitectura Kepler de sm_37 ya no estará soportada por CUDA 11 (la versión que utilizamos). De todas maneras aún está disponible por lo que preferimos no cambiarla porque estamos utilizando Tesla K80.\n",
        "\n",
        "Más información sobre este flag: [ver aquí](https://arnon.dk/matching-sm-architectures-arch-and-gencode-for-various-nvidia-cards)."
      ]
    },
    {
      "cell_type": "markdown",
      "metadata": {
        "id": "E2mP2xx_NRwG"
      },
      "source": [
        "Hacemos el profile de ejecución"
      ]
    },
    {
      "cell_type": "code",
      "metadata": {
        "id": "Qh2wbWvMNVq1",
        "colab": {
          "base_uri": "https://localhost:8080/"
        },
        "outputId": "b11ef625-972d-4a45-908e-377f1f558380"
      },
      "source": [
        "!nvprof ./suma1"
      ],
      "execution_count": 18,
      "outputs": [
        {
          "output_type": "stream",
          "name": "stdout",
          "text": [
            "==2761== NVPROF is profiling process 2761, command: ./suma1\n",
            "==2761== Warning: Auto boost enabled on device 0. Profiling results may be inconsistent.\n",
            "Tiempo del cálculo : 1.279000 ms\n",
            "Tiempo con el synchronize  : 333.028000 ms\n",
            "suma de 1048576 Elementos\n",
            "Número de Errores: 0\n",
            "Max error: 0\n",
            "==2761== Profiling application: ./suma1\n",
            "==2761== Profiling result:\n",
            "            Type  Time(%)      Time     Calls       Avg       Min       Max  Name\n",
            " GPU activities:  100.00%  331.70ms         1  331.70ms  331.70ms  331.70ms  add(int, float*, float*)\n",
            "      API calls:   60.89%  331.73ms         1  331.73ms  331.73ms  331.73ms  cudaDeviceSynchronize\n",
            "                   38.57%  210.12ms         2  105.06ms  704.56us  209.41ms  cudaMallocManaged\n",
            "                    0.23%  1.2669ms         1  1.2669ms  1.2669ms  1.2669ms  cudaLaunchKernel\n",
            "                    0.16%  868.56us         2  434.28us  402.61us  465.95us  cudaFree\n",
            "                    0.10%  568.88us         1  568.88us  568.88us  568.88us  cuDeviceTotalMem\n",
            "                    0.03%  172.45us       101  1.7070us     155ns  70.742us  cuDeviceGetAttribute\n",
            "                    0.01%  29.903us         1  29.903us  29.903us  29.903us  cuDeviceGetName\n",
            "                    0.00%  5.5280us         1  5.5280us  5.5280us  5.5280us  cuDeviceGetPCIBusId\n",
            "                    0.00%  2.1660us         3     722ns     226ns  1.1240us  cuDeviceGetCount\n",
            "                    0.00%  1.5740us         2     787ns     454ns  1.1200us  cuDeviceGet\n",
            "                    0.00%     287ns         1     287ns     287ns     287ns  cuDeviceGetUuid\n",
            "\n",
            "==2761== Unified Memory profiling result:\n",
            "Device \"Tesla K80 (0)\"\n",
            "   Count  Avg Size  Min Size  Max Size  Total Size  Total Time  Name\n",
            "       6  1.3333MB  128.00KB  2.0000MB  8.000000MB  997.9740us  Host To Device\n",
            "      84  146.29KB  4.0000KB  0.9961MB  12.00000MB  1.467604ms  Device To Host\n",
            "Total CPU Page faults: 42\n"
          ]
        }
      ]
    },
    {
      "cell_type": "markdown",
      "metadata": {
        "id": "Dwbiv0LGNd2c"
      },
      "source": [
        "# P2 ¿La suma ha tardado más  o menos que en la CPU? Justifique como está funcionando.\n",
        "\n",
        "Vemos que el resultado es correcto, pero estamos haciendo un mal uso de la GPU al no estar haciendo ninguna división. Por consiguiente esto puede afectar al tiempo de ejecución, que se puede ver fácilmente con el $\\texttt{profiler}$, ya que se ejecuta en GPU pero en serie. En concreto, la suma $\\texttt{add}$ está tardando muchísimo más que en CPU, 400 ms más."
      ]
    },
    {
      "cell_type": "markdown",
      "metadata": {
        "id": "bZRK8kdhN50m"
      },
      "source": [
        "# Suma en la GPU con mas threads <<<1,256>>. Paralelismo sin aprovechar y posible Data Race"
      ]
    },
    {
      "cell_type": "markdown",
      "metadata": {
        "id": "JYi1KesMF8Pk"
      },
      "source": [
        "NOTA: Con este ejercicio se pretende comprobar un funcionamiento no deseado"
      ]
    },
    {
      "cell_type": "markdown",
      "metadata": {
        "id": "Pe60qyQGN50o"
      },
      "source": [
        "Escribir en el directorio actual el fichero suma2.cu\n"
      ]
    },
    {
      "cell_type": "code",
      "metadata": {
        "id": "x7MhFhQFN50p",
        "colab": {
          "base_uri": "https://localhost:8080/"
        },
        "outputId": "1c4f1cb0-fc0a-443c-c892-e425abf37240"
      },
      "source": [
        "%%writefile suma2.cu\n",
        "\n",
        "#include <iostream>\n",
        "#include <math.h>\n",
        "#include <time.h>\n",
        "#include <sys/time.h>\n",
        "\n",
        "__global__ void add(int n, float *x, float *y) {\n",
        "    \n",
        "    for (int i =0; i < n; i++ ){\n",
        "        y[i]=x[i]+y[i];\n",
        "    }\n",
        "}\n",
        "\n",
        "\n",
        "int main(void) {\n",
        "    \n",
        "    int N = 1 <<20;  // N = 2^20 = 1024*1024= 1.048.576\n",
        "    struct timeval tv;\n",
        "\t  unsigned long long start;\n",
        "    float *x; // = new float[N];\n",
        "    float *y; // = new float[N]; \n",
        "\n",
        "    cudaMallocManaged(&x, N*sizeof(float));\n",
        "    cudaMallocManaged(&y, N*sizeof(float));\n",
        "    \n",
        "    for (int i =0; i < N; i++ ){\n",
        "        x[i]= 1.0f;\n",
        "        y[i]= 2.0f;\n",
        "    }\n",
        "\n",
        "    gettimeofday(&tv, NULL); \n",
        "    start=tv.tv_sec*1000000+tv.tv_usec;\n",
        "   \n",
        "    add<<<1,256>>>(N, x, y);\n",
        "  \n",
        "    gettimeofday(&tv, NULL); \n",
        "\t  printf(\"Tiempo del cálculo suma2 : %lf ms\\n\", (tv.tv_sec*1000000+tv.tv_usec - start)/1000.0);\n",
        "  \n",
        "   cudaDeviceSynchronize();\n",
        "    gettimeofday(&tv, NULL); \n",
        "\t  printf(\"Tiempo con el synchronize  : %lf ms\\n\", (tv.tv_sec*1000000+tv.tv_usec - start)/1000.0);\n",
        "\n",
        "\n",
        "   float maxError = 0.0f;\n",
        "   int contError = 0;\n",
        "   \n",
        "   for (int i=0; i <N; i++){\n",
        "       maxError=fmax(maxError,fabs(y[i]-3.0f));\n",
        "       if (y[i] != 3.0) contError++; \n",
        "   }\n",
        "   std::cout << \"Suma de \" << N << \" elementos\" << std::endl;\n",
        "   std::cout << \"Número de errores: \" <<contError << std::endl;\n",
        "   std::cout << \"Max error: \" <<maxError << std::endl;\n",
        "  \n",
        " \n",
        "\n",
        "   cudaFree (x);\n",
        "   cudaFree (y);\n",
        "   \n",
        "   return 0;\n",
        "}"
      ],
      "execution_count": 19,
      "outputs": [
        {
          "output_type": "stream",
          "name": "stdout",
          "text": [
            "Overwriting suma2.cu\n"
          ]
        }
      ]
    },
    {
      "cell_type": "code",
      "metadata": {
        "colab": {
          "base_uri": "https://localhost:8080/"
        },
        "id": "dQm-GJFTGzVE",
        "outputId": "e43ce1a9-2aa0-4df7-c64d-e41c6af4e80d"
      },
      "source": [
        "%ls"
      ],
      "execution_count": 20,
      "outputs": [
        {
          "output_type": "stream",
          "name": "stdout",
          "text": [
            "\u001b[0m\u001b[01;32msuma0\u001b[0m*    \u001b[01;32msuma1\u001b[0m*    \u001b[01;32msuma1sinarch\u001b[0m*  suma2.cu  suma3.cu  suma5.cu  suma_ex.cu\n",
            "suma0.cu  suma1.cu  \u001b[01;32msuma2\u001b[0m*         \u001b[01;32msuma3\u001b[0m*    \u001b[01;32msuma5\u001b[0m*    \u001b[01;32msuma_ex\u001b[0m*\n"
          ]
        }
      ]
    },
    {
      "cell_type": "markdown",
      "metadata": {
        "id": "nrP6cUd_N50t"
      },
      "source": [
        "Compilamos el archivo suma2.cu"
      ]
    },
    {
      "cell_type": "code",
      "metadata": {
        "id": "FRMbGzPHN50u",
        "colab": {
          "base_uri": "https://localhost:8080/"
        },
        "outputId": "cff55230-43ce-4436-929c-9a65e594f7e9"
      },
      "source": [
        "!/usr/local/cuda/bin/nvcc -arch=sm_37 -rdc=true suma2.cu -o suma2 -lcudadevrt"
      ],
      "execution_count": 21,
      "outputs": [
        {
          "output_type": "stream",
          "name": "stdout",
          "text": [
            "nvcc warning : The 'compute_35', 'compute_37', 'compute_50', 'sm_35', 'sm_37' and 'sm_50' architectures are deprecated, and may be removed in a future release (Use -Wno-deprecated-gpu-targets to suppress warning).\n"
          ]
        }
      ]
    },
    {
      "cell_type": "code",
      "metadata": {
        "id": "waZ15QNtN50w",
        "colab": {
          "base_uri": "https://localhost:8080/"
        },
        "outputId": "d45a15f7-fd2e-4184-caa5-4656bccc0add"
      },
      "source": [
        "!ls"
      ],
      "execution_count": 22,
      "outputs": [
        {
          "output_type": "stream",
          "name": "stdout",
          "text": [
            "suma0\t  suma1     suma1sinarch  suma2.cu  suma3.cu  suma5.cu\tsuma_ex.cu\n",
            "suma0.cu  suma1.cu  suma2\t  suma3     suma5     suma_ex\n"
          ]
        }
      ]
    },
    {
      "cell_type": "markdown",
      "metadata": {
        "id": "j-FCel6ON50y"
      },
      "source": [
        "Corremos el fichero ejecutable"
      ]
    },
    {
      "cell_type": "code",
      "metadata": {
        "id": "oPSq7s4cN50z",
        "colab": {
          "base_uri": "https://localhost:8080/"
        },
        "outputId": "bbc444cf-32f5-442f-d418-7468732e4015"
      },
      "source": [
        "!./suma2"
      ],
      "execution_count": 23,
      "outputs": [
        {
          "output_type": "stream",
          "name": "stdout",
          "text": [
            "Tiempo del cálculo suma2 : 1.097000 ms\n",
            "Tiempo con el synchronize  : 295.664000 ms\n",
            "Suma de 1048576 elementos\n",
            "Número de errores: 0\n",
            "Max error: 0\n"
          ]
        }
      ]
    },
    {
      "cell_type": "markdown",
      "metadata": {
        "id": "_D-ddWHZN501"
      },
      "source": [
        "Hacemos el profile de ejecución"
      ]
    },
    {
      "cell_type": "code",
      "metadata": {
        "id": "1jdvyZjzN501",
        "colab": {
          "base_uri": "https://localhost:8080/"
        },
        "outputId": "cf639f2c-8605-4efc-dff3-ed450b8f4a96"
      },
      "source": [
        "!nvprof ./suma2"
      ],
      "execution_count": 24,
      "outputs": [
        {
          "output_type": "stream",
          "name": "stdout",
          "text": [
            "==2810== NVPROF is profiling process 2810, command: ./suma2\n",
            "==2810== Warning: Auto boost enabled on device 0. Profiling results may be inconsistent.\n",
            "Tiempo del cálculo suma2 : 1.186000 ms\n",
            "Tiempo con el synchronize  : 287.317000 ms\n",
            "Suma de 1048576 elementos\n",
            "Número de errores: 0\n",
            "Max error: 0\n",
            "==2810== Profiling application: ./suma2\n",
            "==2810== Profiling result:\n",
            "            Type  Time(%)      Time     Calls       Avg       Min       Max  Name\n",
            " GPU activities:  100.00%  286.10ms         1  286.10ms  286.10ms  286.10ms  add(int, float*, float*)\n",
            "      API calls:   55.13%  286.10ms         1  286.10ms  286.10ms  286.10ms  cudaDeviceSynchronize\n",
            "                   44.35%  230.19ms         2  115.10ms  616.20us  229.57ms  cudaMallocManaged\n",
            "                    0.23%  1.1714ms         1  1.1714ms  1.1714ms  1.1714ms  cudaLaunchKernel\n",
            "                    0.16%  835.53us         2  417.76us  405.56us  429.97us  cudaFree\n",
            "                    0.09%  488.44us         1  488.44us  488.44us  488.44us  cuDeviceTotalMem\n",
            "                    0.03%  168.08us       101  1.6640us     161ns  69.127us  cuDeviceGetAttribute\n",
            "                    0.01%  30.917us         1  30.917us  30.917us  30.917us  cuDeviceGetName\n",
            "                    0.00%  9.9430us         1  9.9430us  9.9430us  9.9430us  cuDeviceGetPCIBusId\n",
            "                    0.00%  2.4940us         3     831ns     339ns  1.2490us  cuDeviceGetCount\n",
            "                    0.00%  1.7780us         2     889ns     458ns  1.3200us  cuDeviceGet\n",
            "                    0.00%     300ns         1     300ns     300ns     300ns  cuDeviceGetUuid\n",
            "\n",
            "==2810== Unified Memory profiling result:\n",
            "Device \"Tesla K80 (0)\"\n",
            "   Count  Avg Size  Min Size  Max Size  Total Size  Total Time  Name\n",
            "       6  1.3333MB  128.00KB  2.0000MB  8.000000MB  857.4310us  Host To Device\n",
            "      84  146.29KB  4.0000KB  0.9961MB  12.00000MB  1.255473ms  Device To Host\n",
            "Total CPU Page faults: 42\n"
          ]
        }
      ]
    },
    {
      "cell_type": "markdown",
      "metadata": {
        "id": "tPeOg_2DN503"
      },
      "source": [
        "#P3 ¿La suma ha funcionado? ¿ Ha tardado más o menos que en el caso anterior? Justifique como está funcionando.\n",
        "\n",
        "Pensando que al paralelizar el código se debería obtener un resultado bastante mejor, tarda prácticamente 300 ms. Esto es porque por cada thread se realizan 256 sumas, por lo que no aprovecha considerablemente el paralelismo.\n",
        "\n",
        "# Explique si podrían generarse situaciones de funcionamiento incorrecto.\n",
        "\n",
        "En este caso el acceso a memoria global se realiza por cada thread, por lo que al modificar el valor correspondiente del vector se pueden producir errores si un thread llega antes que otro (data race). Por lo que si ejecutamos este problema varias veces es posible que obtengamos errores. Tal vez se pueda observar mejor con un número mayor de threads."
      ]
    },
    {
      "cell_type": "markdown",
      "metadata": {
        "id": "R520eYI-OVtf"
      },
      "source": [
        "# Suma en la GPU con mas threads <<<256,1>> sin paralelismo y Data Race"
      ]
    },
    {
      "cell_type": "markdown",
      "metadata": {
        "id": "3z9LXM-7HrZn"
      },
      "source": [
        "NOTA: Con este ejercicio se pretende comprobar un funcionamiento no deseado"
      ]
    },
    {
      "cell_type": "markdown",
      "metadata": {
        "id": "tRqrEeOPOVth"
      },
      "source": [
        "Escribir en el directorio actual el fichero suma3.cu\n"
      ]
    },
    {
      "cell_type": "code",
      "metadata": {
        "id": "Wu5CukLFOVti",
        "colab": {
          "base_uri": "https://localhost:8080/"
        },
        "outputId": "5f827321-3902-4bba-a594-dcf681ebbc04"
      },
      "source": [
        "%%writefile suma3.cu\n",
        "\n",
        "#include <iostream>\n",
        "#include <math.h>\n",
        "#include <time.h>\n",
        "#include <sys/time.h>\n",
        "\n",
        "\n",
        "__global__ void add(int n, float *x, float *y) {\n",
        "    \n",
        "    for (int i =0; i < n; i++ ){\n",
        "        y[i]=x[i]+y[i];\n",
        "    }\n",
        "}\n",
        "\n",
        "\n",
        "int main(void) {\n",
        "    \n",
        "    int N = 1 <<20;  // N = 2^20 = 1024*1024= 1.048.576\n",
        "    struct timeval tv;\n",
        "\t  unsigned long long start;\n",
        "    float *x; // = new float[N];\n",
        "    float *y; // = new float[N]; \n",
        "\n",
        "    cudaMallocManaged(&x, N*sizeof(float));\n",
        "    cudaMallocManaged(&y, N*sizeof(float));\n",
        "    \n",
        "    for (int i =0; i < N; i++ ){\n",
        "        x[i]= 1.0f;\n",
        "        y[i]= 2.0f;\n",
        "    }\n",
        "\n",
        "    gettimeofday(&tv, NULL); \n",
        "    start=tv.tv_sec*1000000+tv.tv_usec;\n",
        "   \n",
        "    add<<<256,1>>>(N, x, y);\n",
        "  \n",
        "    gettimeofday(&tv, NULL); \n",
        "\t  printf(\"Tiempo del cálculo suma3 : %lf ms\\n\", (tv.tv_sec*1000000+tv.tv_usec - start)/1000.0);\n",
        "  \n",
        "   cudaDeviceSynchronize();\n",
        "    gettimeofday(&tv, NULL); \n",
        "\t  printf(\"Tiempo con el synchronize  : %lf ms\\n\", (tv.tv_sec*1000000+tv.tv_usec - start)/1000.0);\n",
        "\n",
        "   float maxError = 0.0f;\n",
        "   int contError = 0;\n",
        "   \n",
        "   for (int i=0; i <N; i++){\n",
        "       maxError=fmax(maxError,fabs(y[i]-3.0f));\n",
        "       if (y[i] != 3.0) contError++; \n",
        "   }\n",
        "   std::cout << \"suma de \" << N << \" Elementos\" << std::endl;\n",
        "   std::cout << \"Número de Errores: \" <<contError << std::endl;\n",
        "   std::cout << \"Max error: \" <<maxError << std::endl;\n",
        "\n",
        "   cudaFree (x);\n",
        "   cudaFree (y);\n",
        "   \n",
        "   return 0;\n",
        "}"
      ],
      "execution_count": 25,
      "outputs": [
        {
          "output_type": "stream",
          "name": "stdout",
          "text": [
            "Overwriting suma3.cu\n"
          ]
        }
      ]
    },
    {
      "cell_type": "code",
      "metadata": {
        "id": "URu0umz2IyHj",
        "colab": {
          "base_uri": "https://localhost:8080/"
        },
        "outputId": "f1e7204b-a1d5-436f-febf-cbd0e748f945"
      },
      "source": [
        "!ls"
      ],
      "execution_count": 26,
      "outputs": [
        {
          "output_type": "stream",
          "name": "stdout",
          "text": [
            "suma0\t  suma1     suma1sinarch  suma2.cu  suma3.cu  suma5.cu\tsuma_ex.cu\n",
            "suma0.cu  suma1.cu  suma2\t  suma3     suma5     suma_ex\n"
          ]
        }
      ]
    },
    {
      "cell_type": "markdown",
      "metadata": {
        "id": "4nDiEvslOVtl"
      },
      "source": [
        "Compilamos el archivo suma3.cu"
      ]
    },
    {
      "cell_type": "code",
      "metadata": {
        "id": "T2BRS0PuOVtn",
        "colab": {
          "base_uri": "https://localhost:8080/"
        },
        "outputId": "95cdd9f6-cb5d-4f4c-ebc9-0d6d12d71bb7"
      },
      "source": [
        "!/usr/local/cuda/bin/nvcc -arch=sm_37 -rdc=true suma3.cu -o suma3 -lcudadevrt"
      ],
      "execution_count": 27,
      "outputs": [
        {
          "output_type": "stream",
          "name": "stdout",
          "text": [
            "nvcc warning : The 'compute_35', 'compute_37', 'compute_50', 'sm_35', 'sm_37' and 'sm_50' architectures are deprecated, and may be removed in a future release (Use -Wno-deprecated-gpu-targets to suppress warning).\n"
          ]
        }
      ]
    },
    {
      "cell_type": "code",
      "metadata": {
        "id": "MAX7HJ2oOVtp",
        "colab": {
          "base_uri": "https://localhost:8080/"
        },
        "outputId": "68f14d3f-9a61-443a-8186-937580f5e78e"
      },
      "source": [
        "!ls"
      ],
      "execution_count": 28,
      "outputs": [
        {
          "output_type": "stream",
          "name": "stdout",
          "text": [
            "suma0\t  suma1     suma1sinarch  suma2.cu  suma3.cu  suma5.cu\tsuma_ex.cu\n",
            "suma0.cu  suma1.cu  suma2\t  suma3     suma5     suma_ex\n"
          ]
        }
      ]
    },
    {
      "cell_type": "markdown",
      "metadata": {
        "id": "jUBE3QQKOVts"
      },
      "source": [
        "Corremos el fichero ejecutable"
      ]
    },
    {
      "cell_type": "code",
      "metadata": {
        "id": "mg_fqxfkOVts",
        "colab": {
          "base_uri": "https://localhost:8080/"
        },
        "outputId": "38412a4d-f0cd-4e20-e482-234f86033056"
      },
      "source": [
        "!./suma3"
      ],
      "execution_count": 29,
      "outputs": [
        {
          "output_type": "stream",
          "name": "stdout",
          "text": [
            "Tiempo del cálculo suma3 : 1.063000 ms\n",
            "Tiempo con el synchronize  : 653.004000 ms\n",
            "suma de 1048576 Elementos\n",
            "Número de Errores: 1048576\n",
            "Max error: 214\n"
          ]
        }
      ]
    },
    {
      "cell_type": "markdown",
      "metadata": {
        "id": "YmGBWUqTI7Ct"
      },
      "source": [
        "Ejecutamos varias veces"
      ]
    },
    {
      "cell_type": "code",
      "metadata": {
        "id": "jwBp51QmgcuY",
        "colab": {
          "base_uri": "https://localhost:8080/"
        },
        "outputId": "6c7ba843-c984-471c-cdab-6a17c3973160"
      },
      "source": [
        "!./suma3"
      ],
      "execution_count": 30,
      "outputs": [
        {
          "output_type": "stream",
          "name": "stdout",
          "text": [
            "Tiempo del cálculo suma3 : 0.995000 ms\n",
            "Tiempo con el synchronize  : 638.655000 ms\n",
            "suma de 1048576 Elementos\n",
            "Número de Errores: 1048576\n",
            "Max error: 216\n"
          ]
        }
      ]
    },
    {
      "cell_type": "code",
      "metadata": {
        "id": "eDjzxmqKgiC0",
        "colab": {
          "base_uri": "https://localhost:8080/"
        },
        "outputId": "05e70b4e-66fb-47fb-d3fd-25840058ddac"
      },
      "source": [
        "!./suma3"
      ],
      "execution_count": 31,
      "outputs": [
        {
          "output_type": "stream",
          "name": "stdout",
          "text": [
            "Tiempo del cálculo suma3 : 1.105000 ms\n",
            "Tiempo con el synchronize  : 634.338000 ms\n",
            "suma de 1048576 Elementos\n",
            "Número de Errores: 1048576\n",
            "Max error: 216\n"
          ]
        }
      ]
    },
    {
      "cell_type": "markdown",
      "metadata": {
        "id": "6mtB0pIDOVtu"
      },
      "source": [
        "Hacemos el profile de ejecución"
      ]
    },
    {
      "cell_type": "code",
      "metadata": {
        "id": "2K_SwhK5OVtu",
        "colab": {
          "base_uri": "https://localhost:8080/"
        },
        "outputId": "b8f7a880-c803-4718-94e0-2ef66366972c"
      },
      "source": [
        "!nvprof ./suma3"
      ],
      "execution_count": 32,
      "outputs": [
        {
          "output_type": "stream",
          "name": "stdout",
          "text": [
            "==2865== NVPROF is profiling process 2865, command: ./suma3\n",
            "==2865== Warning: Auto boost enabled on device 0. Profiling results may be inconsistent.\n",
            "Tiempo del cálculo suma3 : 1.184000 ms\n",
            "Tiempo con el synchronize  : 635.070000 ms\n",
            "suma de 1048576 Elementos\n",
            "Número de Errores: 1048576\n",
            "Max error: 223\n",
            "==2865== Profiling application: ./suma3\n",
            "==2865== Profiling result:\n",
            "            Type  Time(%)      Time     Calls       Avg       Min       Max  Name\n",
            " GPU activities:  100.00%  633.84ms         1  633.84ms  633.84ms  633.84ms  add(int, float*, float*)\n",
            "      API calls:   73.44%  633.86ms         1  633.86ms  633.86ms  633.86ms  cudaDeviceSynchronize\n",
            "                   26.24%  226.44ms         2  113.22ms  566.61us  225.88ms  cudaMallocManaged\n",
            "                    0.14%  1.1712ms         1  1.1712ms  1.1712ms  1.1712ms  cudaLaunchKernel\n",
            "                    0.11%  933.92us         2  466.96us  459.38us  474.54us  cudaFree\n",
            "                    0.05%  459.36us         1  459.36us  459.36us  459.36us  cuDeviceTotalMem\n",
            "                    0.02%  175.57us       101  1.7380us     160ns  77.128us  cuDeviceGetAttribute\n",
            "                    0.00%  22.825us         1  22.825us  22.825us  22.825us  cuDeviceGetName\n",
            "                    0.00%  5.1840us         1  5.1840us  5.1840us  5.1840us  cuDeviceGetPCIBusId\n",
            "                    0.00%  2.0050us         3     668ns     192ns  1.0370us  cuDeviceGetCount\n",
            "                    0.00%  1.2310us         2     615ns     302ns     929ns  cuDeviceGet\n",
            "                    0.00%     380ns         1     380ns     380ns     380ns  cuDeviceGetUuid\n",
            "\n",
            "==2865== Unified Memory profiling result:\n",
            "Device \"Tesla K80 (0)\"\n",
            "   Count  Avg Size  Min Size  Max Size  Total Size  Total Time  Name\n",
            "       6  1.3333MB  128.00KB  2.0000MB  8.000000MB  772.7910us  Host To Device\n",
            "      84  146.29KB  4.0000KB  0.9961MB  12.00000MB  1.245842ms  Device To Host\n",
            "Total CPU Page faults: 42\n"
          ]
        }
      ]
    },
    {
      "cell_type": "markdown",
      "metadata": {
        "id": "581_6XfWOVty"
      },
      "source": [
        "#P5 La suma ha tardado más tiempo y con errores ¿Qué está pasando?\n",
        "Al haber solo un thread por bloque solo se ejecuta un warp por bloque. Esto no está realizando un aprovechamiento de CUDA y por tanto no maximiza el aprovechamiento de la GPU, por lo que no solo tarda mucho más sino que además se generan muchos más errores, lo cual explicamos en la siguiente pregunta.\n"
      ]
    },
    {
      "cell_type": "markdown",
      "metadata": {
        "id": "DF9UNzpg5bLS"
      },
      "source": [
        "# P6 Compare con el tiempo de ejecución de un solo Thread y con la ejecución en CPU.¿Que puede deducir de estos comportamientos?\n",
        "Este caso es diferente al anterior porque solo se ejecuta un thread dentro de cada bloque y al no haber ningún recurso o lógica que los sincronice y estar separados la condición de carrera es inevitable. El número de errores es una cuestión que es bastante aleatoria en cada ejecución.\n",
        "\n",
        "#¿Se puede seguir optimizando?\n",
        "Sí, si realizamos un uso adecuado de threads y bloques como en los siguientes ejemplos."
      ]
    },
    {
      "cell_type": "markdown",
      "metadata": {
        "id": "BI9dZY3ZM-b-"
      },
      "source": [
        "# P7 Realice el paralelismo correspondiente a la Suma en la GPU con paralelismo <<<256,1>> y estudie el comportamiento de los tiempos de ejecución.\n",
        "\n",
        "Para este caso modificamos el código de la función de suma y separamos las diferentes posibilidades para que no existan conflictos de escritura."
      ]
    },
    {
      "cell_type": "code",
      "metadata": {
        "colab": {
          "base_uri": "https://localhost:8080/"
        },
        "id": "a-aK9pfHOjpN",
        "outputId": "122d031e-0964-4dcc-e13f-189292af12fe"
      },
      "source": [
        "%%writefile suma_ex.cu\n",
        "\n",
        "#define N (1<<20)\n",
        "#define THREADS 256\n",
        "#define BLOCKS 1\n",
        "\n",
        "#include <iostream>\n",
        "#include <math.h>\n",
        "\n",
        "__global__ void add(int n, float *x, float *y) {\n",
        "  int i = blockIdx.x * blockDim.x + threadIdx.x;\n",
        "  if (i < n)\n",
        "    y[i] = x[i] + y[i];\n",
        "}\n",
        "\n",
        "__global__ void add_thx(int n, float *x, float *y) {\n",
        "  for (int i = threadIdx.x; i < n; i += blockDim.x)\n",
        "    y[i] = x[i] + y[i];\n",
        "}\n",
        "\n",
        "__global__ void add_bl(int n, float *x, float *y) {\n",
        "  for (int i = blockIdx.x; i < n; i += gridDim.x)\n",
        "    y[i] = x[i] + y[i];\n",
        "}\n",
        "\n",
        "int main(void) {\n",
        "  float *x; \n",
        "  float *y;\n",
        "\n",
        "  cudaMallocManaged(&x, N*sizeof(float));\n",
        "  cudaMallocManaged(&y, N*sizeof(float));\n",
        "  \n",
        "  for (int i =0; i < N; i++ ){\n",
        "    x[i]= 1.0f;\n",
        "    y[i]= 2.0f;\n",
        "  }\n",
        "\n",
        "#if BLOCKS > 0 && THREADS == 1\n",
        "  add_bl<<<BLOCKS,THREADS>>>(N, x, y);\n",
        "#elif BLOCKS == 1 && THREADS > 0\n",
        "  add_thx<<<BLOCKS,THREADS>>>(N, x, y);\n",
        "#else\n",
        "  add<<<BLOCKS,THREADS>>>(N, x, y);\n",
        "#endif\n",
        "\n",
        "  cudaDeviceSynchronize();\n",
        "\n",
        "  float maxError = 0.0f;\n",
        "  int contError = 0;\n",
        "  for (int i=0; i <N; i++){\n",
        "    maxError=fmax(maxError,fabs(y[i]-3.0f));\n",
        "    if (y[i] != 3.0) contError++;\n",
        "  }\n",
        "\n",
        "  std::cout << \"Suma de \" << N << \" elementos\" << std::endl;\n",
        "  std::cout << \"Número de Errores: \" <<contError << std::endl;\n",
        "  std::cout << \"Max error: \" <<maxError << std::endl;\n",
        "\n",
        "  cudaFree (x);\n",
        "  cudaFree (y);\n",
        "  return 0;\n",
        "}"
      ],
      "execution_count": 33,
      "outputs": [
        {
          "output_type": "stream",
          "name": "stdout",
          "text": [
            "Overwriting suma_ex.cu\n"
          ]
        }
      ]
    },
    {
      "cell_type": "code",
      "metadata": {
        "colab": {
          "base_uri": "https://localhost:8080/"
        },
        "id": "0T49B3ZPO-gH",
        "outputId": "cbdc862f-2617-40fa-8d03-040e7f579f26"
      },
      "source": [
        "!/usr/local/cuda/bin/nvcc -arch=sm_35 -rdc=true suma_ex.cu -o suma_ex -lcudadevrt"
      ],
      "execution_count": 34,
      "outputs": [
        {
          "output_type": "stream",
          "name": "stdout",
          "text": [
            "nvcc warning : The 'compute_35', 'compute_37', 'compute_50', 'sm_35', 'sm_37' and 'sm_50' architectures are deprecated, and may be removed in a future release (Use -Wno-deprecated-gpu-targets to suppress warning).\n"
          ]
        }
      ]
    },
    {
      "cell_type": "code",
      "metadata": {
        "colab": {
          "base_uri": "https://localhost:8080/"
        },
        "id": "2elGrMO6PGSa",
        "outputId": "2fd33f20-d3f0-4df0-9d89-e9654b6c4b0e"
      },
      "source": [
        "!nvprof ./suma_ex"
      ],
      "execution_count": 35,
      "outputs": [
        {
          "output_type": "stream",
          "name": "stdout",
          "text": [
            "==2909== NVPROF is profiling process 2909, command: ./suma_ex\n",
            "==2909== Warning: Auto boost enabled on device 0. Profiling results may be inconsistent.\n",
            "Suma de 1048576 elementos\n",
            "Número de Errores: 0\n",
            "Max error: 0\n",
            "==2909== Profiling application: ./suma_ex\n",
            "==2909== Profiling result:\n",
            "            Type  Time(%)      Time     Calls       Avg       Min       Max  Name\n",
            " GPU activities:  100.00%  1.9760ms         1  1.9760ms  1.9760ms  1.9760ms  add_thx(int, float*, float*)\n",
            "      API calls:   97.83%  209.94ms         2  104.97ms  552.18us  209.39ms  cudaMallocManaged\n",
            "                    0.93%  1.9882ms         1  1.9882ms  1.9882ms  1.9882ms  cudaDeviceSynchronize\n",
            "                    0.50%  1.0741ms         1  1.0741ms  1.0741ms  1.0741ms  cudaLaunchKernel\n",
            "                    0.37%  801.42us         2  400.71us  389.05us  412.37us  cudaFree\n",
            "                    0.28%  594.49us         1  594.49us  594.49us  594.49us  cuDeviceTotalMem\n",
            "                    0.08%  171.65us       101  1.6990us     156ns  70.183us  cuDeviceGetAttribute\n",
            "                    0.01%  23.560us         1  23.560us  23.560us  23.560us  cuDeviceGetName\n",
            "                    0.00%  7.1800us         1  7.1800us  7.1800us  7.1800us  cuDeviceGetPCIBusId\n",
            "                    0.00%  1.7180us         3     572ns     205ns     842ns  cuDeviceGetCount\n",
            "                    0.00%  1.2470us         2     623ns     221ns  1.0260us  cuDeviceGet\n",
            "                    0.00%     332ns         1     332ns     332ns     332ns  cuDeviceGetUuid\n",
            "\n",
            "==2909== Unified Memory profiling result:\n",
            "Device \"Tesla K80 (0)\"\n",
            "   Count  Avg Size  Min Size  Max Size  Total Size  Total Time  Name\n",
            "       6  1.3333MB  128.00KB  2.0000MB  8.000000MB  754.3950us  Host To Device\n",
            "      84  146.29KB  4.0000KB  0.9961MB  12.00000MB  1.249717ms  Device To Host\n",
            "Total CPU Page faults: 42\n"
          ]
        }
      ]
    },
    {
      "cell_type": "markdown",
      "metadata": {
        "id": "7MzeDtDZP1ZM"
      },
      "source": [
        "De esta manera vemos que utilizando 256 threads/ 1 bloque se aprovecha bastante mejor el uso de la GPU y no se producen errores.\n",
        "\n",
        "Probamos ahora a ejecutar el caso de 256 bloques / 1 thread:"
      ]
    },
    {
      "cell_type": "code",
      "metadata": {
        "colab": {
          "base_uri": "https://localhost:8080/"
        },
        "id": "3soQX0sNQY0K",
        "outputId": "5dbf799d-88b1-4a6c-d0d6-4b2cdb6dccb1"
      },
      "source": [
        "!sed -i '/#define THREADS/c\\#define THREADS 1' suma_ex.cu\n",
        "!sed -i '/#define BLOCKS/c\\#define BLOCKS 256' suma_ex.cu\n",
        "!/usr/local/cuda/bin/nvcc -arch=sm_35 -rdc=true suma_ex.cu -o suma_ex -lcudadevrt\n",
        "!nvprof ./suma_ex"
      ],
      "execution_count": 36,
      "outputs": [
        {
          "output_type": "stream",
          "name": "stdout",
          "text": [
            "nvcc warning : The 'compute_35', 'compute_37', 'compute_50', 'sm_35', 'sm_37' and 'sm_50' architectures are deprecated, and may be removed in a future release (Use -Wno-deprecated-gpu-targets to suppress warning).\n",
            "==2955== NVPROF is profiling process 2955, command: ./suma_ex\n",
            "==2955== Warning: Auto boost enabled on device 0. Profiling results may be inconsistent.\n",
            "Suma de 1048576 elementos\n",
            "Número de Errores: 0\n",
            "Max error: 0\n",
            "==2955== Profiling application: ./suma_ex\n",
            "==2955== Profiling result:\n",
            "            Type  Time(%)      Time     Calls       Avg       Min       Max  Name\n",
            " GPU activities:  100.00%  5.2988ms         1  5.2988ms  5.2988ms  5.2988ms  add_bl(int, float*, float*)\n",
            "      API calls:   96.18%  216.52ms         2  108.26ms  763.36us  215.76ms  cudaMallocManaged\n",
            "                    2.36%  5.3133ms         1  5.3133ms  5.3133ms  5.3133ms  cudaDeviceSynchronize\n",
            "                    0.66%  1.4946ms         1  1.4946ms  1.4946ms  1.4946ms  cudaLaunchKernel\n",
            "                    0.46%  1.0353ms         2  517.66us  458.04us  577.28us  cudaFree\n",
            "                    0.24%  529.88us         1  529.88us  529.88us  529.88us  cuDeviceTotalMem\n",
            "                    0.08%  178.07us       101  1.7630us     161ns  72.512us  cuDeviceGetAttribute\n",
            "                    0.01%  23.743us         1  23.743us  23.743us  23.743us  cuDeviceGetName\n",
            "                    0.01%  17.055us         3  5.6850us     950ns  15.088us  cuDeviceGetCount\n",
            "                    0.00%  5.5600us         1  5.5600us  5.5600us  5.5600us  cuDeviceGetPCIBusId\n",
            "                    0.00%  1.4580us         2     729ns     372ns  1.0860us  cuDeviceGet\n",
            "                    0.00%     333ns         1     333ns     333ns     333ns  cuDeviceGetUuid\n",
            "\n",
            "==2955== Unified Memory profiling result:\n",
            "Device \"Tesla K80 (0)\"\n",
            "   Count  Avg Size  Min Size  Max Size  Total Size  Total Time  Name\n",
            "       6  1.3333MB  128.00KB  2.0000MB  8.000000MB  1.196822ms  Host To Device\n",
            "      84  146.29KB  4.0000KB  0.9961MB  12.00000MB  1.867569ms  Device To Host\n",
            "Total CPU Page faults: 42\n"
          ]
        }
      ]
    },
    {
      "cell_type": "markdown",
      "metadata": {
        "id": "xzNwHAiuQx8y"
      },
      "source": [
        "De la misma manera se soluciona el problema del data race y se reduce considerablemente el tiempo de cómputo."
      ]
    },
    {
      "cell_type": "markdown",
      "metadata": {
        "id": "5HJUj4mX9i3m"
      },
      "source": [
        "# Suma en la GPU con paralelismo de bloques\n",
        "\n",
        "---\n",
        "\n"
      ]
    },
    {
      "cell_type": "markdown",
      "metadata": {
        "id": "GpTeIrLu-lzb"
      },
      "source": [
        "https://developer.nvidia.com/blog/even-easier-introduction-cuda/"
      ]
    },
    {
      "cell_type": "markdown",
      "metadata": {
        "id": "FkFocA3N9i3o"
      },
      "source": [
        "Escribir en el directorio actual el fichero suma5.cu\n"
      ]
    },
    {
      "cell_type": "code",
      "metadata": {
        "id": "tWIz31tA9i3o",
        "colab": {
          "base_uri": "https://localhost:8080/"
        },
        "outputId": "1d51c2f4-b6c9-4182-f555-7b6e7b62b36b"
      },
      "source": [
        "%%writefile suma5.cu\n",
        "\n",
        "#define THREADS 256\n",
        "\n",
        "#define TAM 1\n",
        "\n",
        "#include <iostream>\n",
        "#include <math.h>\n",
        "#include <time.h>\n",
        "#include <sys/time.h>\n",
        "\n",
        "__global__\n",
        "void add(int n, float *x, float *y)\n",
        "{\n",
        "  int index = blockIdx.x * blockDim.x + threadIdx.x;\n",
        "  int stride = blockDim.x * gridDim.x;\n",
        "  for (int i = index; i < n; i += stride)\n",
        "    y[i] = x[i] + y[i];\n",
        "}\n",
        "\n",
        "int main(void) {\n",
        "    \n",
        "    int N = TAM <<20;  // N = 2^20 = 1024*1024= 1.048.576\n",
        "    struct timeval tv;\n",
        "\t  unsigned long long start;\n",
        "    float *x; // = new float[N];\n",
        "    float *y; // = new float[N]; \n",
        "\n",
        "  // Allocate Unified Memory -- accessible from CPU or GPU\n",
        "    cudaMallocManaged(&x, N*sizeof(float));\n",
        "    cudaMallocManaged(&y, N*sizeof(float));\n",
        "    \n",
        "    for (int i =0; i < N; i++ ){\n",
        "        x[i]= 1.0f;\n",
        "        y[i]= 2.0f;\n",
        "    }\n",
        "\n",
        "    int blockSize = THREADS;\n",
        "    int numBlocks = (N + blockSize - 1) / blockSize;\n",
        "    \n",
        "    gettimeofday(&tv, NULL); \n",
        "    start=tv.tv_sec*1000000+tv.tv_usec;\n",
        "   \n",
        "   add<<<numBlocks, blockSize>>>(N, x, y);\n",
        "  \n",
        "    gettimeofday(&tv, NULL); \n",
        "\t  printf(\"Tiempo del cálculo suma 5 : %lf ms\\n\", (tv.tv_sec*1000000+tv.tv_usec - start)/1000.0);\n",
        "  \n",
        "   cudaDeviceSynchronize();\n",
        "    gettimeofday(&tv, NULL); \n",
        "\t  printf(\"Tiempo con el synchronize  : %lf ms\\n\", (tv.tv_sec*1000000+tv.tv_usec - start)/1000.0);\n",
        "\n",
        "   float maxError = 0.0f;\n",
        "   int contError = 0;\n",
        "   \n",
        "   for (int i=0; i <N; i++){\n",
        "       maxError=fmax(maxError,fabs(y[i]-3.0f));\n",
        "       if (y[i] != 3.0) contError++; \n",
        "   }\n",
        "   std::cout << \"Suma de \" << N << \" elementos\" << std::endl;\n",
        "   std::cout << \"Número de errores: \" <<contError << std::endl;\n",
        "   std::cout << \"Max error: \" <<maxError << std::endl;\n",
        "  \n",
        " \n",
        "  // Free memory\n",
        "   cudaFree (x);\n",
        "   cudaFree (y);\n",
        "   \n",
        "   return 0;\n",
        "}"
      ],
      "execution_count": 37,
      "outputs": [
        {
          "output_type": "stream",
          "name": "stdout",
          "text": [
            "Overwriting suma5.cu\n"
          ]
        }
      ]
    },
    {
      "cell_type": "markdown",
      "metadata": {
        "id": "WgJHW6iWA1u4"
      },
      "source": [
        "Para entender los bloques y threads por bloque\n",
        "![image.png](data:image/png;base64,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)"
      ]
    },
    {
      "cell_type": "markdown",
      "metadata": {
        "id": "dP2TOMcgBObh"
      },
      "source": [
        "update the kernel code to take into account the entire grid of thread blocks. CUDA provides gridDim.x, which contains the number of blocks in the grid, and blockIdx.x, which contains the index of the current thread block in the grid. Figure 1 illustrates the the approach to indexing into an array (one-dimensional) in CUDA using blockDim.x, gridDim.x, and threadIdx.x. The idea is that each thread gets its index by computing the offset to the beginning of its block (the block index times the block size: blockIdx.x * blockDim.x) and adding the thread’s index within the block (threadIdx.x). The code blockIdx.x * blockDim.x + threadIdx.x is idiomatic CUDA."
      ]
    },
    {
      "cell_type": "markdown",
      "metadata": {
        "id": "vocijn2w9i3t"
      },
      "source": [
        "Compilamos el archivo suma5.cu"
      ]
    },
    {
      "cell_type": "code",
      "metadata": {
        "id": "pyCH-8Hi9i3u",
        "colab": {
          "base_uri": "https://localhost:8080/"
        },
        "outputId": "7a1dd90c-0ce1-4bbb-c42e-20d14ad4f9c0"
      },
      "source": [
        "!/usr/local/cuda/bin/nvcc -arch=sm_37 -rdc=true suma5.cu -o suma5 -lcudadevrt"
      ],
      "execution_count": 38,
      "outputs": [
        {
          "output_type": "stream",
          "name": "stdout",
          "text": [
            "nvcc warning : The 'compute_35', 'compute_37', 'compute_50', 'sm_35', 'sm_37' and 'sm_50' architectures are deprecated, and may be removed in a future release (Use -Wno-deprecated-gpu-targets to suppress warning).\n"
          ]
        }
      ]
    },
    {
      "cell_type": "code",
      "metadata": {
        "id": "XEA3FXIk9i3w",
        "colab": {
          "base_uri": "https://localhost:8080/"
        },
        "outputId": "7bef9296-89ed-4e8c-80f7-3b5c04e6f501"
      },
      "source": [
        "!ls"
      ],
      "execution_count": 39,
      "outputs": [
        {
          "output_type": "stream",
          "name": "stdout",
          "text": [
            "suma0\t  suma1     suma1sinarch  suma2.cu  suma3.cu  suma5.cu\tsuma_ex.cu\n",
            "suma0.cu  suma1.cu  suma2\t  suma3     suma5     suma_ex\n"
          ]
        }
      ]
    },
    {
      "cell_type": "markdown",
      "metadata": {
        "id": "hZYGdwe_9i3z"
      },
      "source": [
        "Corremos el fichero ejecutable"
      ]
    },
    {
      "cell_type": "code",
      "metadata": {
        "id": "osP4-9FQ9i30",
        "colab": {
          "base_uri": "https://localhost:8080/"
        },
        "outputId": "e862c032-ba1d-44ed-c146-f1ad9b479bd8"
      },
      "source": [
        "!./suma5"
      ],
      "execution_count": 40,
      "outputs": [
        {
          "output_type": "stream",
          "name": "stdout",
          "text": [
            "Tiempo del cálculo suma 5 : 1.454000 ms\n",
            "Tiempo con el synchronize  : 1.574000 ms\n",
            "Suma de 1048576 elementos\n",
            "Número de errores: 0\n",
            "Max error: 0\n"
          ]
        }
      ]
    },
    {
      "cell_type": "markdown",
      "metadata": {
        "id": "MxlvHWUx9i32"
      },
      "source": [
        "Hacemos el profile de ejecución"
      ]
    },
    {
      "cell_type": "code",
      "metadata": {
        "id": "jmqKE2p99i32",
        "colab": {
          "base_uri": "https://localhost:8080/"
        },
        "outputId": "62638cef-bf2f-4537-f5b5-df246772ffe8"
      },
      "source": [
        "!nvprof ./suma5"
      ],
      "execution_count": 41,
      "outputs": [
        {
          "output_type": "stream",
          "name": "stdout",
          "text": [
            "==3003== NVPROF is profiling process 3003, command: ./suma5\n",
            "==3003== Warning: Auto boost enabled on device 0. Profiling results may be inconsistent.\n",
            "Tiempo del cálculo suma 5 : 1.601000 ms\n",
            "Tiempo con el synchronize  : 1.717000 ms\n",
            "Suma de 1048576 elementos\n",
            "Número de errores: 0\n",
            "Max error: 0\n",
            "==3003== Profiling application: ./suma5\n",
            "==3003== Profiling result:\n",
            "            Type  Time(%)      Time     Calls       Avg       Min       Max  Name\n",
            " GPU activities:  100.00%  102.88us         1  102.88us  102.88us  102.88us  add(int, float*, float*)\n",
            "      API calls:   98.31%  202.53ms         2  101.27ms  778.39us  201.75ms  cudaMallocManaged\n",
            "                    0.77%  1.5939ms         1  1.5939ms  1.5939ms  1.5939ms  cudaLaunchKernel\n",
            "                    0.53%  1.0825ms         2  541.24us  481.81us  600.66us  cudaFree\n",
            "                    0.23%  473.82us         1  473.82us  473.82us  473.82us  cuDeviceTotalMem\n",
            "                    0.10%  202.64us       101  2.0060us     163ns  96.677us  cuDeviceGetAttribute\n",
            "                    0.04%  91.929us         1  91.929us  91.929us  91.929us  cudaDeviceSynchronize\n",
            "                    0.01%  22.355us         1  22.355us  22.355us  22.355us  cuDeviceGetName\n",
            "                    0.00%  6.2840us         1  6.2840us  6.2840us  6.2840us  cuDeviceGetPCIBusId\n",
            "                    0.00%  1.9410us         3     647ns     193ns  1.1820us  cuDeviceGetCount\n",
            "                    0.00%  1.4200us         2     710ns     238ns  1.1820us  cuDeviceGet\n",
            "                    0.00%     380ns         1     380ns     380ns     380ns  cuDeviceGetUuid\n",
            "\n",
            "==3003== Unified Memory profiling result:\n",
            "Device \"Tesla K80 (0)\"\n",
            "   Count  Avg Size  Min Size  Max Size  Total Size  Total Time  Name\n",
            "       6  1.3333MB  128.00KB  2.0000MB  8.000000MB  1.263223ms  Host To Device\n",
            "      84  146.29KB  4.0000KB  0.9961MB  12.00000MB  1.879510ms  Device To Host\n",
            "Total CPU Page faults: 42\n"
          ]
        }
      ]
    },
    {
      "cell_type": "markdown",
      "metadata": {
        "id": "0kUmHAEl9i34"
      },
      "source": [
        "#P8 Compare con el tiempo de ejecución con el resto de ejemplos anteriores.¿Que puede deducir de estos comportamientos?\n",
        "\n",
        "En este caso se aprovecha considerablemente los recursos de CUDA utilizando un número de bloques ajustado al número de threads preestablecido. Además, en la función $add$ se utiliza una estrategia genérica para sumar vectores sin depender ni del propio tamaño del vector ni del tamaño del grid, por lo que se ajusta en cada operación de suma."
      ]
    },
    {
      "cell_type": "markdown",
      "metadata": {
        "id": "8kIYiodVADVl"
      },
      "source": [
        "# P9 Pruebe el último ejercicio con más threads por bloque"
      ]
    },
    {
      "cell_type": "code",
      "metadata": {
        "colab": {
          "base_uri": "https://localhost:8080/"
        },
        "id": "84AHX7jUWQXa",
        "outputId": "10d38784-a76c-46c7-a428-e3cccad20880"
      },
      "source": [
        "!sed -i '/#define THREADS/c\\#define THREADS 512' suma5.cu\n",
        "!/usr/local/cuda/bin/nvcc -arch=sm_35 -rdc=true suma5.cu -o suma5 -lcudadevrt\n",
        "!nvprof ./suma5"
      ],
      "execution_count": 42,
      "outputs": [
        {
          "output_type": "stream",
          "name": "stdout",
          "text": [
            "nvcc warning : The 'compute_35', 'compute_37', 'compute_50', 'sm_35', 'sm_37' and 'sm_50' architectures are deprecated, and may be removed in a future release (Use -Wno-deprecated-gpu-targets to suppress warning).\n",
            "==3048== NVPROF is profiling process 3048, command: ./suma5\n",
            "==3048== Warning: Auto boost enabled on device 0. Profiling results may be inconsistent.\n",
            "Tiempo del cálculo suma 5 : 1.618000 ms\n",
            "Tiempo con el synchronize  : 1.737000 ms\n",
            "Suma de 1048576 elementos\n",
            "Número de errores: 0\n",
            "Max error: 0\n",
            "==3048== Profiling application: ./suma5\n",
            "==3048== Profiling result:\n",
            "            Type  Time(%)      Time     Calls       Avg       Min       Max  Name\n",
            " GPU activities:  100.00%  105.38us         1  105.38us  105.38us  105.38us  add(int, float*, float*)\n",
            "      API calls:   98.53%  236.79ms         2  118.40ms  785.77us  236.01ms  cudaMallocManaged\n",
            "                    0.67%  1.6038ms         1  1.6038ms  1.6038ms  1.6038ms  cudaLaunchKernel\n",
            "                    0.45%  1.0726ms         2  536.31us  508.98us  563.65us  cudaFree\n",
            "                    0.22%  537.34us         1  537.34us  537.34us  537.34us  cuDeviceTotalMem\n",
            "                    0.07%  172.27us       101  1.7050us     147ns  69.080us  cuDeviceGetAttribute\n",
            "                    0.04%  94.138us         1  94.138us  94.138us  94.138us  cudaDeviceSynchronize\n",
            "                    0.02%  40.680us         1  40.680us  40.680us  40.680us  cuDeviceGetName\n",
            "                    0.00%  5.4080us         1  5.4080us  5.4080us  5.4080us  cuDeviceGetPCIBusId\n",
            "                    0.00%  2.2960us         3     765ns     246ns  1.1770us  cuDeviceGetCount\n",
            "                    0.00%  1.6710us         2     835ns     420ns  1.2510us  cuDeviceGet\n",
            "                    0.00%     284ns         1     284ns     284ns     284ns  cuDeviceGetUuid\n",
            "\n",
            "==3048== Unified Memory profiling result:\n",
            "Device \"Tesla K80 (0)\"\n",
            "   Count  Avg Size  Min Size  Max Size  Total Size  Total Time  Name\n",
            "       6  1.3333MB  128.00KB  2.0000MB  8.000000MB  1.226326ms  Host To Device\n",
            "      84  146.29KB  4.0000KB  0.9961MB  12.00000MB  1.870258ms  Device To Host\n",
            "Total CPU Page faults: 42\n"
          ]
        }
      ]
    },
    {
      "cell_type": "code",
      "metadata": {
        "colab": {
          "base_uri": "https://localhost:8080/"
        },
        "id": "okkbRC0ybGbh",
        "outputId": "0cf3f886-26d5-4988-936e-909a687ea8bb"
      },
      "source": [
        "!sed -i '/#define THREADS/c\\#define THREADS 1024' suma5.cu\n",
        "!/usr/local/cuda/bin/nvcc -arch=sm_35 -rdc=true suma5.cu -o suma5 -lcudadevrt\n",
        "!nvprof ./suma5"
      ],
      "execution_count": 43,
      "outputs": [
        {
          "output_type": "stream",
          "name": "stdout",
          "text": [
            "nvcc warning : The 'compute_35', 'compute_37', 'compute_50', 'sm_35', 'sm_37' and 'sm_50' architectures are deprecated, and may be removed in a future release (Use -Wno-deprecated-gpu-targets to suppress warning).\n",
            "==3093== NVPROF is profiling process 3093, command: ./suma5\n",
            "==3093== Warning: Auto boost enabled on device 0. Profiling results may be inconsistent.\n",
            "Tiempo del cálculo suma 5 : 1.543000 ms\n",
            "Tiempo con el synchronize  : 1.669000 ms\n",
            "Suma de 1048576 elementos\n",
            "Número de errores: 0\n",
            "Max error: 0\n",
            "==3093== Profiling application: ./suma5\n",
            "==3093== Profiling result:\n",
            "            Type  Time(%)      Time     Calls       Avg       Min       Max  Name\n",
            " GPU activities:  100.00%  107.74us         1  107.74us  107.74us  107.74us  add(int, float*, float*)\n",
            "      API calls:   98.39%  213.36ms         2  106.68ms  790.55us  212.57ms  cudaMallocManaged\n",
            "                    0.71%  1.5353ms         1  1.5353ms  1.5353ms  1.5353ms  cudaLaunchKernel\n",
            "                    0.51%  1.1076ms         2  553.82us  505.73us  601.90us  cudaFree\n",
            "                    0.23%  492.01us         1  492.01us  492.01us  492.01us  cuDeviceTotalMem\n",
            "                    0.09%  196.78us       101  1.9480us     174ns  84.439us  cuDeviceGetAttribute\n",
            "                    0.05%  103.36us         1  103.36us  103.36us  103.36us  cudaDeviceSynchronize\n",
            "                    0.02%  35.885us         1  35.885us  35.885us  35.885us  cuDeviceGetName\n",
            "                    0.00%  5.3540us         1  5.3540us  5.3540us  5.3540us  cuDeviceGetPCIBusId\n",
            "                    0.00%  2.3080us         3     769ns     244ns  1.1760us  cuDeviceGetCount\n",
            "                    0.00%  1.7590us         2     879ns     490ns  1.2690us  cuDeviceGet\n",
            "                    0.00%     391ns         1     391ns     391ns     391ns  cuDeviceGetUuid\n",
            "\n",
            "==3093== Unified Memory profiling result:\n",
            "Device \"Tesla K80 (0)\"\n",
            "   Count  Avg Size  Min Size  Max Size  Total Size  Total Time  Name\n",
            "       6  1.3333MB  128.00KB  2.0000MB  8.000000MB  1.176568ms  Host To Device\n",
            "      84  146.29KB  4.0000KB  0.9961MB  12.00000MB  1.875697ms  Device To Host\n",
            "Total CPU Page faults: 42\n"
          ]
        }
      ]
    },
    {
      "cell_type": "markdown",
      "metadata": {
        "id": "UVTMIDIsjX2x"
      },
      "source": [
        "Vemos que aprovecha bastante bien los recursos de la GPU pero que para este ejemplo no parece tan eficiente utilizar tantos hilos."
      ]
    },
    {
      "cell_type": "markdown",
      "metadata": {
        "id": "HXOeiNFcALJG"
      },
      "source": [
        "# P10 Pruebe el último ejercicio variando N para tamaños que no sean múltiplos del número de threads por bloque que se esté usando."
      ]
    },
    {
      "cell_type": "code",
      "metadata": {
        "colab": {
          "base_uri": "https://localhost:8080/"
        },
        "id": "U9PIbgn9bYte",
        "outputId": "a9b68bb6-15a6-47db-efbb-e0f57ff8ba9b"
      },
      "source": [
        "!sed -i '/#define THREADS/c\\#define THREADS 517' suma5.cu\n",
        "!sed -i '/#define TAM/c\\#define TAM 77' suma5.cu\n",
        "!/usr/local/cuda/bin/nvcc -arch=sm_35 -rdc=true suma5.cu -o suma5 -lcudadevrt\n",
        "!nvprof ./suma5"
      ],
      "execution_count": 44,
      "outputs": [
        {
          "output_type": "stream",
          "name": "stdout",
          "text": [
            "nvcc warning : The 'compute_35', 'compute_37', 'compute_50', 'sm_35', 'sm_37' and 'sm_50' architectures are deprecated, and may be removed in a future release (Use -Wno-deprecated-gpu-targets to suppress warning).\n",
            "==3139== NVPROF is profiling process 3139, command: ./suma5\n",
            "==3139== Warning: Auto boost enabled on device 0. Profiling results may be inconsistent.\n",
            "Tiempo del cálculo suma 5 : 93.402000 ms\n",
            "Tiempo con el synchronize  : 102.174000 ms\n",
            "Suma de 80740352 elementos\n",
            "Número de errores: 0\n",
            "Max error: 0\n",
            "==3139== Profiling application: ./suma5\n",
            "==3139== Profiling result:\n",
            "            Type  Time(%)      Time     Calls       Avg       Min       Max  Name\n",
            " GPU activities:  100.00%  8.7503ms         1  8.7503ms  8.7503ms  8.7503ms  add(int, float*, float*)\n",
            "      API calls:   61.29%  317.31ms         2  158.66ms  49.134ms  268.18ms  cudaMallocManaged\n",
            "                   18.84%  97.557ms         2  48.779ms  45.765ms  51.792ms  cudaFree\n",
            "                   18.04%  93.379ms         1  93.379ms  93.379ms  93.379ms  cudaLaunchKernel\n",
            "                    1.69%  8.7365ms         1  8.7365ms  8.7365ms  8.7365ms  cudaDeviceSynchronize\n",
            "                    0.09%  489.57us         1  489.57us  489.57us  489.57us  cuDeviceTotalMem\n",
            "                    0.04%  184.96us       101  1.8310us     148ns  77.419us  cuDeviceGetAttribute\n",
            "                    0.01%  26.108us         1  26.108us  26.108us  26.108us  cuDeviceGetName\n",
            "                    0.00%  4.9480us         1  4.9480us  4.9480us  4.9480us  cuDeviceGetPCIBusId\n",
            "                    0.00%  2.0050us         3     668ns     239ns  1.0070us  cuDeviceGetCount\n",
            "                    0.00%  1.5400us         2     770ns     280ns  1.2600us  cuDeviceGet\n",
            "                    0.00%     319ns         1     319ns     319ns     319ns  cuDeviceGetUuid\n",
            "\n",
            "==3139== Unified Memory profiling result:\n",
            "Device \"Tesla K80 (0)\"\n",
            "   Count  Avg Size  Min Size  Max Size  Total Size  Total Time  Name\n",
            "     310  1.9871MB  128.00KB  2.0000MB  616.0000MB  91.69831ms  Host To Device\n",
            "    5556  170.30KB  4.0000KB  0.9961MB  924.0000MB  142.7950ms  Device To Host\n",
            "Total CPU Page faults: 2778\n"
          ]
        }
      ]
    },
    {
      "cell_type": "markdown",
      "metadata": {
        "id": "iQwhcUwHjOHE"
      },
      "source": [
        "Se sigue sin tener errores pero con un tiempo de ejecución bastante mayor."
      ]
    }
  ]
}