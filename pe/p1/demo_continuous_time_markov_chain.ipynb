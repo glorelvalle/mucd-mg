{
 "cells": [
  {
   "cell_type": "code",
   "execution_count": 1,
   "metadata": {},
   "outputs": [],
   "source": [
    "import numpy as np\n",
    "from numpy import linalg as LA"
   ]
  },
  {
   "cell_type": "code",
   "execution_count": 2,
   "metadata": {},
   "outputs": [
    {
     "name": "stdout",
     "output_type": "stream",
     "text": [
      "[[0.     0.5    0.5   ]\n",
      " [0.     0.3333 0.6667]\n",
      " [0.5    0.     0.5   ]]\n"
     ]
    }
   ],
   "source": [
    "# Transition matrix of the jump process\n",
    "\n",
    "P = np.array([[0, 1.0/2.0, 1.0/2.0], [0, 1.0/3.0, 2.0/3.0], [1.0/2.0, 0.0, 1.0/2.0]])\n",
    "print(np.around(P,4))"
   ]
  },
  {
   "cell_type": "code",
   "execution_count": 3,
   "metadata": {},
   "outputs": [
    {
     "name": "stdout",
     "output_type": "stream",
     "text": [
      "Eigenvalues (numpy)\n",
      "[ 1.    +0.j     -0.0833+0.2764j -0.0833-0.2764j]\n",
      "\n",
      "Eigenvectors (numpy)\n",
      "[[-0.424 -0.j     -0.6547-0.j     -0.6547+0.j    ]\n",
      " [-0.318 -0.j      0.5455-0.3619j  0.5455+0.3619j]\n",
      " [-0.848 -0.j      0.1091+0.3619j  0.1091-0.3619j]]\n",
      "\n",
      "Consistency check\n",
      "[1.-0.j 1.-0.j 1.-0.j]\n",
      "[-0.0833+0.2764j -0.0833+0.2764j -0.0833+0.2764j]\n",
      "[-0.0833-0.2764j -0.0833-0.2764j -0.0833-0.2764j]\n"
     ]
    }
   ],
   "source": [
    "# Matrix of left eigenvectors of P  by rows \n",
    "#  = (Matrix of right eigenvectors of P.H by columns).H\n",
    "#\n",
    "# Note: If the matrix is Hermitian (P = P.H), \n",
    "#       the eigenvalues are real.\n",
    "#\n",
    "# Note: For real-values matrices P.H = P.T\n",
    "#       but they can have complex eigenvalues and eigenvectors\n",
    "#\n",
    "np_eigenvalues, np_left_eigenvectors = LA.eig(P.conj().T)\n",
    "np_left_eigenvectors = np_left_eigenvectors.conj()\n",
    "\n",
    "print('Eigenvalues (numpy)')\n",
    "print(np.around(np_eigenvalues, 4))\n",
    "\n",
    "print('\\nEigenvectors (numpy)')\n",
    "print(np.around(np_left_eigenvectors, 4))\n",
    "\n",
    "# Check that the columns of this matrix are the left eigenvectors\n",
    "\n",
    "print('\\nConsistency check')\n",
    "for i in range(len(np_eigenvalues)):\n",
    "   print(np.around((np_left_eigenvectors[:, i].conj().T @ P) / \\\n",
    "                    np_left_eigenvectors[:, i].conj().T, 4)) "
   ]
  },
  {
   "cell_type": "code",
   "execution_count": 4,
   "metadata": {},
   "outputs": [
    {
     "name": "stdout",
     "output_type": "stream",
     "text": [
      "Eigenvalues (scipy)\n",
      "[ 1.    +0.j     -0.0833+0.2764j -0.0833-0.2764j]\n",
      "\n",
      "Eigenvectors (scipy)\n",
      "[[ 0.424 +0.j     -0.5455-0.3619j -0.5455+0.3619j]\n",
      " [ 0.318 +0.j      0.6547+0.j      0.6547-0.j    ]\n",
      " [ 0.848 +0.j     -0.1091+0.3619j -0.1091-0.3619j]]\n",
      "\n",
      "Consistency check\n",
      "[1.+0.j 1.+0.j 1.+0.j]\n",
      "[-0.0833+0.2764j -0.0833+0.2764j -0.0833+0.2764j]\n",
      "[-0.0833-0.2764j -0.0833-0.2764j -0.0833-0.2764j]\n"
     ]
    }
   ],
   "source": [
    "# Alternatively used the scipy function for left eigenvectos\n",
    "from scipy.linalg import eig\n",
    "sp_eigenvalues, sp_left_eigenvectors, sp_right_eigenvectors = \\\n",
    "   eig(P, left=True)\n",
    "#\n",
    "# The definition of the left eigenvectors can be found in\n",
    "# https://docs.scipy.org/doc/scipy/reference/generated/scipy.linalg.eig.html\n",
    "#\n",
    "print('Eigenvalues (scipy)')\n",
    "print(np.around(sp_eigenvalues, 4))\n",
    "\n",
    "print('\\nEigenvectors (scipy)')\n",
    "print(np.around(sp_left_eigenvectors, 4))\n",
    "\n",
    "# Check that the columns of this matrix are the left eigenvectors\n",
    "\n",
    "print('\\nConsistency check')\n",
    "for i in range(len(sp_eigenvalues)):\n",
    "   print(np.around((sp_left_eigenvectors[:, i].conj().T @ P) / \\\n",
    "                    sp_left_eigenvectors[:, i].conj().T, 4)) "
   ]
  },
  {
   "cell_type": "code",
   "execution_count": 5,
   "metadata": {},
   "outputs": [
    {
     "name": "stdout",
     "output_type": "stream",
     "text": [
      "[[ 0.918 +0.j    -0.    -0.j    -0.    +0.j   ]\n",
      " [-0.    +0.j     0.5693+0.515j  0.    -0.j   ]\n",
      " [-0.    -0.j     0.    +0.j     0.5693-0.515j]]\n"
     ]
    }
   ],
   "source": [
    "# Orthogonality relations  \n",
    "print(np.around(sp_left_eigenvectors.conj().T \\\n",
    "                @ sp_right_eigenvectors, 4))"
   ]
  },
  {
   "cell_type": "code",
   "execution_count": 6,
   "metadata": {},
   "outputs": [
    {
     "name": "stdout",
     "output_type": "stream",
     "text": [
      "Left eigenvectors (numpy)\n",
      "[[-0.424 -0.j     -0.6547-0.j     -0.6547+0.j    ]\n",
      " [-0.318 -0.j      0.5455-0.3619j  0.5455+0.3619j]\n",
      " [-0.848 -0.j      0.1091+0.3619j  0.1091-0.3619j]]\n",
      "\n",
      "Left eigenvectors (scipy)\n",
      "[[ 0.424 +0.j     -0.5455-0.3619j -0.5455+0.3619j]\n",
      " [ 0.318 +0.j      0.6547+0.j      0.6547-0.j    ]\n",
      " [ 0.848 +0.j     -0.1091+0.3619j -0.1091-0.3619j]]\n"
     ]
    }
   ],
   "source": [
    "# Left eigenvectors\n",
    "\n",
    "print('Left eigenvectors (numpy)')\n",
    "print(np.around(np_left_eigenvectors, 4))\n",
    "\n",
    "print('\\nLeft eigenvectors (scipy)')\n",
    "print(np.around(sp_left_eigenvectors, 4)) "
   ]
  },
  {
   "cell_type": "code",
   "execution_count": 7,
   "metadata": {},
   "outputs": [
    {
     "name": "stdout",
     "output_type": "stream",
     "text": [
      "[-1.+0.j -1.+0.j -1.+0.j]\n",
      "[0.8333-0.5528j 0.8333-0.5528j 0.8333-0.5528j]\n",
      "[0.8333+0.5528j 0.8333+0.5528j 0.8333+0.5528j]\n"
     ]
    }
   ],
   "source": [
    "# Check normalization\n",
    "\n",
    "for i in range(len(np_eigenvalues)):\n",
    "    print(np.around(np_left_eigenvectors[:, i]  \\\n",
    "                    / sp_left_eigenvectors[:, i], 4))"
   ]
  },
  {
   "cell_type": "code",
   "execution_count": 8,
   "metadata": {},
   "outputs": [
    {
     "name": "stdout",
     "output_type": "stream",
     "text": [
      "Absolute value of eigenvalues\n",
      "[1.     0.2887 0.2887]\n",
      "\n",
      "Left eigenvector corresponding the maximum eigenvalue in absolute value\n",
      "[-0.424 -0.318 -0.848]\n"
     ]
    }
   ],
   "source": [
    "# Eigenvector with maximum abs(eigenvalue) (equal to 1)\n",
    "\n",
    "print('Absolute value of eigenvalues')\n",
    "print(np.around(np.abs(np_eigenvalues), 4))\n",
    "\n",
    "print('\\nLeft eigenvector corresponding the maximum eigenvalue in absolute value')\n",
    "idx = np.argmax(np.abs(np_eigenvalues))\n",
    "np_left_eigenvector_max_eigenvalue = np.real(np_left_eigenvectors[:,idx])\n",
    "print(np.around(np_left_eigenvector_max_eigenvalue, 4))"
   ]
  },
  {
   "cell_type": "code",
   "execution_count": 9,
   "metadata": {},
   "outputs": [
    {
     "name": "stdout",
     "output_type": "stream",
     "text": [
      "Stationary distribution\n",
      "[0.2667 0.2    0.5333]\n"
     ]
    }
   ],
   "source": [
    "# Normalize to obtain the stationary distribution\n",
    "\n",
    "print('Stationary distribution')\n",
    "stationary_distribution = np_left_eigenvector_max_eigenvalue \\\n",
    "                          / np.sum(np_left_eigenvector_max_eigenvalue)\n",
    "print(np.around(stationary_distribution, 4))"
   ]
  },
  {
   "cell_type": "code",
   "execution_count": 10,
   "metadata": {},
   "outputs": [
    {
     "name": "stdout",
     "output_type": "stream",
     "text": [
      "Consistency check\n",
      "[0.2667 0.2    0.5333]\n"
     ]
    }
   ],
   "source": [
    "# Check result\n",
    "\n",
    "print('Consistency check')\n",
    "print(np.around([4.0 / 15.0, 1.0 / 5.0, 8.0 / 15.0], 4))"
   ]
  },
  {
   "cell_type": "code",
   "execution_count": null,
   "metadata": {},
   "outputs": [],
   "source": []
  }
 ],
 "metadata": {
  "kernelspec": {
   "display_name": "Python 3 (ipykernel)",
   "language": "python",
   "name": "python3"
  },
  "language_info": {
   "codemirror_mode": {
    "name": "ipython",
    "version": 3
   },
   "file_extension": ".py",
   "mimetype": "text/x-python",
   "name": "python",
   "nbconvert_exporter": "python",
   "pygments_lexer": "ipython3",
   "version": "3.8.10"
  }
 },
 "nbformat": 4,
 "nbformat_minor": 4
}
