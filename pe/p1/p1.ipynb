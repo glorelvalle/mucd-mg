{
 "cells": [
  {
   "cell_type": "markdown",
   "id": "fc5526f5",
   "metadata": {},
   "source": [
    "<div style=\"font-weight: bold;\" align=\"center\">\n",
    "    <div style=\"font-size: xx-large\">Procesos estocásticos</div><br>\n",
    "    <div style=\"font-size: x-large;\">Entrega 1</div><br>\n",
    "    <div style=\"font-size: large\">María Barroso Honrubia</div><br></div><hr>\n",
    "</div>"
   ]
  },
  {
   "cell_type": "code",
   "execution_count": 2,
   "id": "c2cbe485",
   "metadata": {},
   "outputs": [],
   "source": [
    "import arrival_process_simulation as arrival\n",
    "import numpy as np\n",
    "import matplotlib.pyplot as plt\n",
    "from scipy import stats, integrate, special"
   ]
  },
  {
   "cell_type": "markdown",
   "id": "16b2e041",
   "metadata": {},
   "source": [
    "---\n",
    "\n",
    "### Ejercicio 1\n",
    "\n",
    "*Se pide*\n",
    "- *Demostrar que $P(N(t)=n)=\\frac{1}{n!}\\lambda^nt^ne^{-\\lambda t}$*.\n",
    "- *Simular un proceso de Poisson de parámetro $\\lambda=10$ para $t=2$ y calcular la distribución empírica de $P(N(t)=n)$ para validar el resultado anterior.*\n",
    "\n",
    "---\n",
    "\n",
    "Para ello, vamos a comenzar desarrollando $P[N(t+\\Delta t)=n]$ como una suma de las diferentes probabilidades de los sucesos posibles. Es decir:\n",
    "- Hay $n$ sucesos al tiempo $t$ y a tiempo $t+\\Delta$ no hay ningún suceso.\n",
    "- Hay $n-1$ sucesos a tiempo $t$ y a tiemo $t+\\Delta$ hay un suceso.\n",
    "- ...\n",
    "- No hay ningún suceso a tiempo $t$ y hay $n$ sucesos al tiempo $t+\\Delta$.\n",
    "\n",
    "Para simplificar la notación, vamos a considerar $P_{t;n}=P[N(t)=n]$ y $P_{\\Delta t;n}=P[\\Delta N(t)=n]$.\n",
    "\n",
    "$$P_{t+\\Delta t;n}= \\sum_{i=0}^n P_{t;n-i}P_{\\Delta t;i} = \n",
    "P_{t;n}P_{\\Delta t;0} + P_{t;n-1}P_{\\Delta t;1} + \\sum_{i=2}^{n}P_{t;n-i}P_{\\Delta t;i}\n",
    "$$\n",
    "\n",
    "Como $P_{\\Delta t;0}=1-\\lambda\\Delta t + o(\\Delta t)$, $P_{\\Delta t;1}=\\lambda\\Delta t + o(\\Delta t)$ y $P_{\\Delta t;n\\geq2} = o(\\Delta t)$, la anterior expresión resulta en\n",
    "\n",
    "$$P_{t+\\Delta t;n}=P_{t;n}(1-\\lambda t) + P_{t;n-1}\\lambda t + o(\\Delta t)$$,\n",
    "\n",
    "que puede reescribirse como:\n",
    "\n",
    "$$P_{t+\\Delta t;n}-P_{t;n}= -\\lambda\\Delta t P_{t;n} + P_{t;n-1}\\lambda\\Delta t + o(\\Delta t)$$\n",
    "\n",
    "Tomando el límite $\\Delta t \\to 0^+$, cada sumando tiende a 0 y puede utilizarse el límite $\\Delta t \\to 0$, obteniéndose la ecuación diferencial:\n",
    "\n",
    "$$\n",
    "\\frac{d}{dt}P_{t;n} =  \\lambda(-P_{t;n} + P_{t;n-1})\n",
    "$$\n",
    "\n",
    "Puede comprobarse que $\\frac{1}{n!} \\lambda^n t^n e^{-\\lambda t}$ es solución de la EDO, esto es, que su derivada respecto a $t$ coincide con la anterior expresión y que se cumple la condición inicial $P_{0;0}=1$.\n",
    "\n",
    "$$\\begin{aligned}\n",
    "\\frac{d}{dt} \\left(\\frac{1}{n!} \\lambda^n t^n e^{-\\lambda t}\\right) &= \\frac{\\lambda^n}{n!} \\left(n t^{n-1}e^{-\\lambda t} - \\lambda t^ne^{-\\lambda t}\\right) \\\\\n",
    "&= \\frac{1}{(n-1)!} \\lambda^n t^{n-1} e^{-\\lambda t} - \\frac{1}{n!} \\lambda^{n+1} t^n e^{-\\lambda t} \\\\\n",
    "&= \\lambda \\left(\\frac{1}{(n-1)!} \\lambda^{n-1} t^{n-1} e^{-\\lambda t} - \\frac{1}{n!} \\lambda^n t^n e^{-\\lambda t}\\right) \\\\\n",
    "&= \\lambda\\left( P_{n-1} - P_n \\right) \\\\\n",
    "\\\\\n",
    "\\frac{1}{n!} \\lambda^n t^n e^{-\\lambda t} &= 1 \\mbox{ para $n=t=0$}\n",
    "\\end{aligned}$$\n",
    "\n",
    "\n",
    "A continuación, resolveremos la EDO utilizando inducción, pero antes conviene introducir el factor $e^\\lambda t$ en la expresión:\n",
    "\n",
    "$$\n",
    "\\frac{d}{dt}\\left(e^{\\lambda t}P_{t;n}\\right) =  \\lambda e^{\\lambda t} P_{t;n} + e^{\\lambda t}\\frac{d}{dt}P_{t;n} = \\lambda e^{\\lambda t} P_{t;n} +e^{\\lambda t}\\lambda\\left(-P_{t;n} + P_{t;n-1}\\right) = \\lambda P_{t;n-1} e^{\\lambda t}\n",
    "$$\n",
    "\n",
    "Para $n=0$, podemos resolverla facilmente utilizando que $P_{t;0}=e^{-\\lambda t}$ (prueba en el enunciado del ejercicio)\n",
    "\n",
    "$$\n",
    "\\frac{d}{dt}\\left(e^{\\lambda t}P_{t;0}\\right) = \\frac{d}{dt}\\left(e^{\\lambda t}e^{-\\lambda t}\\right) = 0\n",
    "$$\n",
    "\n",
    "Para $n=1$\n",
    "$$\n",
    "\\frac{d}{dt}\\left(e^{\\lambda t}P_{t;1}\\right) = \\lambda P_{t;0} e^{\\lambda t} = \\lambda e^{-\\lambda t} e^{\\lambda t} = \\lambda \\implies e^{\\lambda t}P_{t;1} = \\int_0^t \\lambda d\\tau= \\lambda t\n",
    "$$\n",
    "\n",
    "Para $n=2$\n",
    "$$\n",
    "\\frac{d}{dt}\\left(e^{\\lambda t}P_{t;2}\\right) = \\lambda e^{\\lambda t} P_{t;1}  = \\lambda^2 t \\implies e^{\\lambda t}P_{t;2} = \\int_0^t \\lambda^2 \\tau d\\tau = \\frac{1}{2}\\lambda\\tau\n",
    "$$\n",
    "\n",
    "Utilizando inducción, se demuestra que:\n",
    "\n",
    "$$\\begin{aligned}\n",
    "e^{\\lambda t}P_{t;n}&=\\frac{1}{n!}\\lambda^nt^n\\\\\n",
    "P_{t;n}&=\\frac{1}{n!}\\lambda^nt^ne^{-\\lambda t}\n",
    "\\end{aligned}$$\n",
    "\n",
    "En segundo lugar, vamos a realizar una simulación del proceso de Poisson, y se comparará con la distribución teórica."
   ]
  },
  {
   "cell_type": "code",
   "execution_count": 11,
   "id": "dfb7f2ed",
   "metadata": {},
   "outputs": [],
   "source": [
    "# Parameters of the Poisson process\n",
    "lambda_rate = 10\n",
    "t0, t1 = 0.0, 2.0\n",
    "M = 50000\n",
    "T = 41\n",
    "\n",
    "# Simulated distribution\n",
    "arrival_times = arrival.simulate_poisson(t0, t1, lambda_rate, M)\n",
    "N = np.array([len(a) for a in arrival_times])\n",
    "pmf_est = np.bincount(N, minlength=T)/M\n",
    "\n",
    "# Theoretical distribucion\n",
    "X = np.arange(T)\n",
    "pmf_theo = (lambda_rate*t1)**X * np.exp(-lambda_rate*t1) / special.factorial(X)"
   ]
  },
  {
   "cell_type": "code",
   "execution_count": 12,
   "id": "742e6bc5",
   "metadata": {},
   "outputs": [
    {
     "data": {
      "image/png": "[encoded data removed]",
      "text/plain": [
       "<Figure size 1080x576 with 1 Axes>"
      ]
     },
     "metadata": {
      "needs_background": "light"
     },
     "output_type": "display_data"
    }
   ],
   "source": [
    "width = 0.35\n",
    "plt.figure(figsize=(15,8))\n",
    "plt.bar(X-width, pmf_theo,width=width, label='Theoretical',align='center')\n",
    "plt.bar(X, pmf_est,color='r',width=width, label='Simulation',align='center')\n",
    "plt.xlabel('n events')\n",
    "plt.ylabel('P(N(2)=n)')\n",
    "plt.legend()\n",
    "plt.show()"
   ]
  },
  {
   "cell_type": "markdown",
   "id": "dee28ac9",
   "metadata": {},
   "source": [
    "---\n",
    "### Ejercicio 2\n",
    "\n",
    "*Se pide simular un proceso de Poisson de parámetro $\\lambda=5$ y mostrar que las distribuciones empíricas del primer, segundo, quinto y décimo evento siguen la distribución teórica Erlang*\n",
    "$$f_{S_n}(t)=\\frac{\\lambda^n t^{n-1} e^{-\\lambda t}}{(n-1)!}$$\n",
    "\n",
    "---"
   ]
  },
  {
   "cell_type": "code",
   "execution_count": 8,
   "id": "15e1fd62",
   "metadata": {},
   "outputs": [],
   "source": [
    "# Parameters of the Poisson process\n",
    "lambda_rate = 5.0\n",
    "N = np.array([1, 2, 5, 10])\n",
    "t0 = 0.0\n",
    "t1 = 6.0\n",
    "M = 50000\n",
    "\n",
    "# Simulación\n",
    "arrival_times = arrival.simulate_poisson(t0, t1, lambda_rate, M)\n",
    "arrival_n = [[a[n-1] for a in arrival_times] for n in N]\n",
    "\n",
    "# Densidad teórica (Erlang)\n",
    "def erlang(t, n, lambda_rate):\n",
    "    return lambda_rate**n * t**(n-1)* np.exp(-lambda_rate*t) / special.factorial(n-1)\n",
    "\n",
    "ts = np.linspace(0, t1, 100)\n",
    "f_sn = [erlang(ts, n, lambda_rate) for n in N]"
   ]
  },
  {
   "cell_type": "code",
   "execution_count": 13,
   "id": "cf65db22",
   "metadata": {},
   "outputs": [
    {
     "data": {
      "image/png": "[encoded data removed]",
      "text/plain": [
       "<Figure size 1152x720 with 4 Axes>"
      ]
     },
     "metadata": {
      "needs_background": "light"
     },
     "output_type": "display_data"
    }
   ],
   "source": [
    "fig, axs = plt.subplots(2,2, figsize=(16, 10))\n",
    "axs = axs.flatten()\n",
    "for i in range(4):\n",
    "    axs[i].hist(arrival_n[i], density=True, bins=50, label = 'Simulation', alpha=0.5)\n",
    "    axs[i].plot(ts, f_sn[i],'r', label = 'Erlang')\n",
    "    axs[i].set_xlabel(f's_{N[i]}')\n",
    "    axs[i].set_ylabel(f'pdf(s_{N[i]})')\n",
    "    axs[i].set_title(f'Density of {N[i]} arrival')\n",
    "    axs[i].legend()"
   ]
  },
  {
   "cell_type": "markdown",
   "id": "24c645c4",
   "metadata": {},
   "source": [
    "---\n",
    "\n",
    "### Ejercicio 3\n",
    "\n",
    "*Sea $\\{N(t);t\\geq 0\\}$ un proceso de Poisson de razón $\\lambda$. Se pide demostrar que la distribución de los tiempo entre llegadas $\\{0<S_1<S_2<...<S_n\\}$ condicionada a $N(t)=n$ coincide con la distribución del estadístico de orden de $n$ variables aleatorias i.i.d $U[0,t]$*\n",
    "$$f_{\\{S_{i}\\}_{i=1}^n|N(t)}(\\{s_i\\}_{i=1}^n|n)=f_{\\{U_{(i)}\\}_{i=1}^n}=\\frac{n!}{t^n}$$\n",
    "\n",
    "---\n",
    "\n",
    "Para ello, en primer lugar se va a utilizar el teorema de Bayes para calcular la densidad\n",
    "\n",
    "$$\n",
    "f_{\\{S_{i}\\}_{i=1}^{n+1}|N(t)}(\\{s_i\\}_{i=1}^{n+1}|n) = \\frac{f_{\\{S_{i}\\}_{i=1}^{n+1}}(\\{s_i\\}_{i=1}^{n+1})f_{N(t)|\\{S_i\\}_{i=1}^{n+1}}(n|\\{s_i\\}_{i=1}^{n+1})}{f_{N(t)}(n)}\n",
    "$$\n",
    "\n",
    "Antes de desarollar las probabilidades de arriba, conviene darse cuenta de que $N(t)=n\\Longleftrightarrow\ts_n\\leq t < s_{n+1}$, ya que\n",
    "\n",
    "$$ f_{N(t)|\\{S_i\\}_{i=1}^{n+1}}(n|\\{s_i\\}_{i=1}^{n+1}) =  \\begin{cases}\n",
    "1  & s_n\\leq t <s_{n+1} \\\\\n",
    " 0 & \\text{fotherwise}\n",
    "\\end{cases}$$\n",
    "\n",
    "Por tanto, solo nos ocuparemos del caso $s_n\\leq t < s_{n+1}$.\n",
    "\n",
    "Ademas, $f_{\\{S_{i}\\}}$ sigue una distribución exponencial de parámetro $\\lambda$ con $S_i$ i.i.d, luego, la expresión anterior resultado de aplicar Bayes resulta en\n",
    "\n",
    "$$\\begin{aligned}\n",
    "f_{\\{S_{i}\\}_{i=1}^{n+1}|N(t)}(\\{s_i\\}_{i=1}^{n+1}|n) &= \\frac{f_{\\{S_{i}\\}_{i=1}^{n+1}}(\\{s_i\\}_{i=1}^{n+1})}{f_{N(t)}(n)}\\\\\n",
    "&=\\frac{\\lambda^{n+1}e^{\\lambda s_{n+1}}}{\\lambda^n t^n e^{-\\lambda t}/n!} \\\\\n",
    "&= \\frac{\\lambda e^{-\\lambda(s_{n+1}-t)}n!}{t^n}\n",
    "\\end{aligned}$$\n",
    "\n",
    "\n",
    "Por otro lado, $f_{\\{S_{i}\\}_{i=1}^{n+1}|N(t)}$ puede reescribirse como\n",
    "\n",
    "$$f_{\\{S_{i}\\}_{i=1}^{n+1}|N(t)}(\\{s_i\\}_{i=1}^{n+1}|n) = f_{S_{n+1}|\\{S_i\\}_{i=1}^n,N(t)}(s_{n+1}|\\{s_i\\}_{i=1}^n,n)f_{\\{S_i\\}_{i=1}^n|N(t)}(\\{s_i\\}_{i=1}^n|n)$$\n",
    "\n",
    "Y utilizando la propiedad de que los tiempos entre llegadas son un proceso sin memoria, para $s_{n+1}>t$, se tiene que\n",
    "\n",
    "$$f_{S_{n+1}|\\{S_i\\}_{i=1}^n,N(t)}(s_{n+1}|\\{s_i\\}_{i=1}^n,n) = f_{S_{n+1}|N(t)}(s_{n+1}|n)$$\n",
    "\n",
    "Utilizando esta propiedad y despejando $f_{\\{S_i\\}_{i=1}^n|N(t)}$ de la expresión, finalmente se prueba que\n",
    "\n",
    "$$\\begin{aligned}\n",
    "f_{\\{S_i\\}_{i=1}^n|N(t)}(\\{s_i\\}_{i=1}^n|n) &= \\frac{f_{\\{S_{i}\\}_{i=1}^{n+1}|N(t)}(\\{s_i\\}_{i=1}^{n+1}|n)}{f_{S_{n+1}|N(t)}(s_{n+1}|n)}\\\\\n",
    "&=\\frac{\\lambda e^{-\\lambda(s_{n+1}-t)}n!/t^n}{\\lambda e^{-\\lambda(s_{n+1}-t)}} \\\\ &= \\frac{n!}{t^n}\n",
    "\\end{aligned}$$\n",
    "\n"
   ]
  },
  {
   "cell_type": "markdown",
   "id": "5aee1b9c",
   "metadata": {},
   "source": [
    "---\n",
    "\n",
    "### Ejercicio 4\n",
    "\n",
    "*Sea $N_1\\sim \\mbox{Poisson}(\\lambda_1=0.02)$ y $N_2\\sim\\mbox{Poisson}(\\lambda_1=0.03)$. Sea $N=N_1+N_2\\sim\\mbox{Poisson}(\\lambda)$ y considerádose $t\\in[0,90]$, se pide calcular teóricamente y mediante simulación:*\n",
    "\n",
    "1. $P(N(90)=0)$\n",
    "2. $P(N(90)\\geq 2)$\n",
    "3. $P(N_1(90)=1, N_2(90)=2)$\n",
    "4. $P(N_1(90)=N_2(90))$\n",
    "5. $P(S_1^{(N_2)}<S_1^{(N_1)})$, donde $S_1^{N_2}$ representa el tiempo del primer suceso del proceso $N_2$ y $S_1^{N_1}$ representa el tiempo del primer suceso del proceso $N_1$.\n",
    "\n",
    "---\n",
    "\n",
    "\n",
    "En primer lugar vamos a calcular el parámetro $\\lambda$ de la suma de las dos v.a. de Poisson, que es igual a la suma de los parámetros de cada v.a. Es decir,  $$N=N_1+N_2\\sim\\mbox{Poisson}(\\lambda=\\lambda_1+\\lambda_2=0.01)$$ \n",
    "\n",
    "Teóricamente,\n",
    "- $P(N(90)=0)= e^{-90\\lambda} \\sim 0.011108$.\n",
    "\n",
    "- $P(N(90)\\geq 2)= 1-P(N(90)=1)-P(N(90)=0)= 1 - 90\\lambda e^{-90\\lambda}-P(N(90)=0) \\sim 0.9389$.\n",
    "\n",
    "- $P(N_1(90)=1, N_2(90)=2)=P(N_1(90)=1)P(N_2(90)=2) = 90\\lambda_1 e^{-90\\lambda_1}\\frac{90\\lambda_2 e^{-90\\lambda_2}}{2!} \\sim 0.07288$.\n",
    "\n",
    "- $N'=N_1-N_2\\sim \\mbox{Skellam}(\\lambda_1,\\lambda_2)$, cuya pmf es $$P(N'(t)=n)=e^{-t(\\lambda_1+\\lambda_2)}\\frac{\\lambda_1}{\\lambda_2}^nI_n(2t\\sqrt{\\lambda_1\\lambda_2})$$ donde $I_n$ es la función de Bessel modificada. Por tanto, \n",
    "$$P(N_1(90)=N_2(90)) = P(N_1(90)-N_2(90)=0) = P(N'(90)=0) = e^{-90(\\lambda_1+\\lambda_2)}I_0(180\\sqrt{\\lambda_1\\lambda_2}) \\sim 0.5933$$\n",
    "\n",
    "- $P(S_1^{(N_2)}<S_1^{(N_1)})=\\int_{0}^{90}P(S_1^{(N_1)}>t|f_{S^{N_2}}(t))f_{S^{N_2}}(t)dt = \\int_{0}^{90}P(S_1^{(N_1)}>t)f_{S^{N_2}}(t)dt = \\int_{0}^{90}e^{-\\lambda_1 t}\\lambda_2e^{-\\lambda_2 t}dt \\sim 0.5933$\n",
    "\n",
    "A continuación procedemos a realizar las distintas simulaciones y a contrastar los resultados con los valores teóricos."
   ]
  },
  {
   "cell_type": "code",
   "execution_count": 14,
   "id": "7743d668",
   "metadata": {},
   "outputs": [],
   "source": [
    "# Parameters of the Poisson process\n",
    "t0 = 0.0\n",
    "t1 = 90.0\n",
    "lambda_rate_1 = 0.02\n",
    "lambda_rate_2 = 0.03\n",
    "lambda_rate = lambda_rate_1 + lambda_rate_2\n",
    "M = 50000"
   ]
  },
  {
   "cell_type": "code",
   "execution_count": 15,
   "id": "62a872cb",
   "metadata": {},
   "outputs": [],
   "source": [
    "# Simulation arrival times N1 y N2\n",
    "arrival_times_1 = arrival.simulate_poisson(t0, t1, lambda_rate_1, M)\n",
    "arrival_times_2 = arrival.simulate_poisson(t0, t1, lambda_rate_2, M)\n",
    "\n",
    "# Get N1, N2 y N=N1+N2\n",
    "N1 = np.array([len(a) for a in arrival_times_1])\n",
    "N2 = np.array([len(a) for a in arrival_times_2])\n",
    "N = N1+N2"
   ]
  },
  {
   "cell_type": "code",
   "execution_count": 16,
   "id": "69c28d07",
   "metadata": {},
   "outputs": [
    {
     "name": "stdout",
     "output_type": "stream",
     "text": [
      "Estimated: P(N(90)=0) = 0.0120\n",
      "Theoretical: P(N(90)=0) = 0.0111\n"
     ]
    }
   ],
   "source": [
    "# P(N(90)=0)\n",
    "p0_est = sum(N==0)/M\n",
    "print(f'Estimated: P(N(90)=0) = {p0_est:.4f}')\n",
    "\n",
    "p0_theo = stats.poisson.pmf(0.0, lambda_rate*t1)\n",
    "print(f'Theoretical: P(N(90)=0) = {p0_theo:.4f}')"
   ]
  },
  {
   "cell_type": "code",
   "execution_count": 17,
   "id": "6716dc41",
   "metadata": {},
   "outputs": [
    {
     "name": "stdout",
     "output_type": "stream",
     "text": [
      "Estimated: P(N(90)>=2) = 0.9386\n",
      "Theoretical: P(N(90)>=2) = 0.9389\n"
     ]
    }
   ],
   "source": [
    "# P(N(90)>=2)\n",
    "p2_est = sum(N>=2)/M\n",
    "print(f'Estimated: P(N(90)>=2) = {p2_est:.4f}')\n",
    "\n",
    "p2_theo = 1-stats.poisson.cdf(1.0, lambda_rate*t1)\n",
    "print(f'Theoretical: P(N(90)>=2) = {p2_theo:.4f}')"
   ]
  },
  {
   "cell_type": "code",
   "execution_count": 18,
   "id": "6a1d9916",
   "metadata": {},
   "outputs": [
    {
     "name": "stdout",
     "output_type": "stream",
     "text": [
      "Estimated: P(N1(90)=1,N2(90)=2) = 0.0710\n",
      "Theoretical: P(N1(90)=1,N2(90)=2) = 0.0729\n"
     ]
    }
   ],
   "source": [
    "# P(N1(90)=1,N2(90)=2)\n",
    "p_est = sum((N1==1) & (N2==2))/M\n",
    "print(f'Estimated: P(N1(90)=1,N2(90)=2) = {p_est:.4f}')\n",
    "\n",
    "p_theo = stats.poisson.pmf(1.0, lambda_rate_1*t1)*stats.poisson.pmf(2.0, lambda_rate_2*t1)\n",
    "print(f'Theoretical: P(N1(90)=1,N2(90)=2) = {p_theo:.4f}')"
   ]
  },
  {
   "cell_type": "code",
   "execution_count": 19,
   "id": "4bdff874",
   "metadata": {},
   "outputs": [
    {
     "name": "stdout",
     "output_type": "stream",
     "text": [
      "Estimated: P(N1(90)=N2(90)) = 0.1787\n",
      "Theoretical: P(N1(90)=N2(90)) = 0.1793\n"
     ]
    }
   ],
   "source": [
    "# P(N1(90)=N2(90))\n",
    "p_est = sum(N1==N2)/M\n",
    "print(f'Estimated: P(N1(90)=N2(90)) = {p_est:.4f}')\n",
    "\n",
    "p_theo = np.exp(-t1*lambda_rate)*special.iv(0, 2*t1*np.sqrt(lambda_rate_1*lambda_rate_2))\n",
    "print(f'Theoretical: P(N1(90)=N2(90)) = {p_theo:.4f}')"
   ]
  },
  {
   "cell_type": "code",
   "execution_count": 20,
   "id": "c630f52a",
   "metadata": {},
   "outputs": [
    {
     "name": "stdout",
     "output_type": "stream",
     "text": [
      "Estimated: P(S2>S1) = 0.5915\n",
      "Theoretical: P(S2>S1) = 0.5933\n"
     ]
    }
   ],
   "source": [
    "#P(S_1^(N_2)<S_1^(N_1))\n",
    "p_est = 0\n",
    "for m in range(M):\n",
    "    if N2[m]>0 and (N1[m]==0 or arrival_times_2[m][0]<arrival_times_1[m][0]):\n",
    "        p_est +=1\n",
    "p_est /= M\n",
    "print(f'Estimated: P(S2>S1) = {p_est:.4f}')\n",
    "\n",
    "p_theo = integrate.quad(lambda t: lambda_rate_2*np.exp(-lambda_rate*t), t0, t1)[0] # analytically solvable\n",
    "print(f'Theoretical: P(S2>S1) = {p_theo:.4f}')"
   ]
  },
  {
   "cell_type": "markdown",
   "id": "ef54f22d",
   "metadata": {},
   "source": [
    "# Ejercicio 5\n",
    "Considerar el proceso $X(t) = Z\\sqrt{t}$ para $t≥0$ con el mismo valor de $Z$ para todo $t$.\n",
    "\n",
    "**a)** Ver que la distribución del proceso en tiempo $t$ es el mismo que el de un proceso de Wiener: $X(t) \\sim N(0 \\sqrt(t))$.\n",
    "\n",
    "Como $Z \\sim N(0,1)$, en un tiempo fijo $\\bar t$, $X( \\bar t)$ seguirá la distribución $Z\\sqrt{\\bar t}$, por tanto, $X(t) \\sim N(0 \\sqrt(t))$, por lo que es un proceso de Wiener."
   ]
  },
  {
   "cell_type": "code",
   "execution_count": null,
   "id": "a311f506",
   "metadata": {},
   "outputs": [],
   "source": [
    "## simulacion"
   ]
  },
  {
   "cell_type": "markdown",
   "id": "6f402fa9",
   "metadata": {},
   "source": [
    "**b)** ¿Cuál es la propiedad matemática que nos permite probar que no se trata de un proceso Browniano?\n",
    "\n",
    "$X(t)$ no es un proceso de Wiener debido a la dependencia de los incrementos. Sea $x(t)$ la trayectoria del proceso $X(t)$ y $z$ un valor extraído de una variable aleatoria gaussiana, $x(t) = z\\sqrt{t}, \\;\\;\\; \\forall t ≥ 0$. Por tanto, si consideramos que $t_1 < t_2 < t_3 < t_4$, entonces $X(t_2)-X(t_1) = z(\\sqrt{t_2} - \\sqrt{t_1})$ y $X(t_4)-X(t_3) = z(\\sqrt{t_4} - \\sqrt{t_3})$ y no hay independencia entre ellos, ya que $X(t_4)-X(t_3) = X(t_2)-X(t_1)$ si $\\sqrt{t_1} + \\sqrt{t_3} = \\sqrt{t_2} + \\sqrt{t_4}$."
   ]
  },
  {
   "cell_type": "code",
   "execution_count": null,
   "id": "6b515c0a",
   "metadata": {},
   "outputs": [],
   "source": []
  }
 ],
 "metadata": {
  "kernelspec": {
   "display_name": "Python 3 (ipykernel)",
   "language": "python",
   "name": "python3"
  },
  "language_info": {
   "codemirror_mode": {
    "name": "ipython",
    "version": 3
   },
   "file_extension": ".py",
   "mimetype": "text/x-python",
   "name": "python",
   "nbconvert_exporter": "python",
   "pygments_lexer": "ipython3",
   "version": "3.9.7"
  }
 },
 "nbformat": 4,
 "nbformat_minor": 5
}
